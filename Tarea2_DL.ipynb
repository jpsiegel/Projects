{
  "nbformat": 4,
  "nbformat_minor": 0,
  "metadata": {
    "colab": {
      "name": "Tarea2_DL.ipynb",
      "provenance": [],
      "collapsed_sections": [],
      "toc_visible": true,
      "include_colab_link": true
    },
    "kernelspec": {
      "name": "python3",
      "display_name": "Python 3"
    },
    "language_info": {
      "name": "python"
    },
    "accelerator": "GPU"
  },
  "cells": [
    {
      "cell_type": "markdown",
      "metadata": {
        "id": "view-in-github",
        "colab_type": "text"
      },
      "source": [
        "<a href=\"https://colab.research.google.com/github/jpsiegel/Projects/blob/master/Tarea2_DL.ipynb\" target=\"_parent\"><img src=\"https://colab.research.google.com/assets/colab-badge.svg\" alt=\"Open In Colab\"/></a>"
      ]
    },
    {
      "cell_type": "markdown",
      "metadata": {
        "id": "qa3fduSBx5NE"
      },
      "source": [
        "#Tarea 2 Jan P. Siegel - Deep Learning"
      ]
    },
    {
      "cell_type": "code",
      "metadata": {
        "id": "Mspk4ICBxny2"
      },
      "source": [
        "!ln -sf /opt/bin/nvidia-smi /usr/bin/nvidia-smi\n",
        "!pip install gputil\n",
        "!pip install psutil\n",
        "!pip install humanize\n",
        "\n",
        "import psutil\n",
        "import humanize\n",
        "import os\n",
        "import GPUtil as GPU"
      ],
      "execution_count": null,
      "outputs": []
    },
    {
      "cell_type": "code",
      "metadata": {
        "colab": {
          "base_uri": "https://localhost:8080/"
        },
        "id": "2063EAySx_qJ",
        "outputId": "83a2e7b0-4c74-45d9-b201-764829f5ff5e"
      },
      "source": [
        "GPUs = GPU.getGPUs()\n",
        "gpu = GPUs[0]  # Only one GPU on Colab and not guaranteed\n",
        "\n",
        "def printm():\n",
        "  process = psutil.Process(os.getpid())\n",
        "  print(\"RAM Free: \" + humanize.naturalsize(psutil.virtual_memory().available), \" | Used: \" + humanize.naturalsize(process.memory_info().rss))\n",
        "  print(\"VRAM Free: {0:.0f}MB | Used: {1:.0f}MB | Util {2:3.0f}% Total {3:.0f}MB\".format(gpu.memoryFree, gpu.memoryUsed, gpu.memoryUtil*100, gpu.memoryTotal))\n",
        "\n",
        "printm()"
      ],
      "execution_count": 2,
      "outputs": [
        {
          "output_type": "stream",
          "text": [
            "RAM Free: 12.6 GB  | Used: 117.9 MB\n",
            "VRAM Free: 15109MB | Used: 0MB | Util   0% Total 15109MB\n"
          ],
          "name": "stdout"
        }
      ]
    },
    {
      "cell_type": "code",
      "metadata": {
        "colab": {
          "base_uri": "https://localhost:8080/"
        },
        "id": "iEL4bQbtBW23",
        "outputId": "7f058b3b-eeb8-4e9b-bbc5-be10a62d04d0"
      },
      "source": [
        "from google.colab import drive\n",
        "drive.mount('/content/drive')\n",
        "my_dir = \"/content/drive/MyDrive/DL/T2/\""
      ],
      "execution_count": 3,
      "outputs": [
        {
          "output_type": "stream",
          "text": [
            "Drive already mounted at /content/drive; to attempt to forcibly remount, call drive.mount(\"/content/drive\", force_remount=True).\n"
          ],
          "name": "stdout"
        }
      ]
    },
    {
      "cell_type": "markdown",
      "metadata": {
        "id": "6xZ2AEIqG00P"
      },
      "source": [
        "##Parte 1\n"
      ]
    },
    {
      "cell_type": "markdown",
      "metadata": {
        "id": "ROI-NQNKzp8r"
      },
      "source": [
        "###Actividad 1"
      ]
    },
    {
      "cell_type": "code",
      "metadata": {
        "id": "J-ZdjbzuIY-i"
      },
      "source": [
        "#deal with tensors\n",
        "import torch   \n",
        "\n",
        "#handling text data\n",
        "from torchtext.legacy import data\n",
        "\n",
        "#Reproducing same results\n",
        "SEED = 2023\n",
        "\n",
        "#Torch\n",
        "torch.manual_seed(SEED)\n",
        "\n",
        "#Cuda algorithms\n",
        "torch.backends.cudnn.deterministic = True  "
      ],
      "execution_count": null,
      "outputs": []
    },
    {
      "cell_type": "code",
      "metadata": {
        "id": "ufaf_fNBIn1C"
      },
      "source": [
        "TEXT = data.Field(tokenize='spacy', batch_first=True, include_lengths=True)\n",
        "LABEL = data.LabelField(dtype = torch.float, batch_first=True)\n",
        "\n",
        "fields = [('text',TEXT), ('label', LABEL)]\n",
        "\n",
        "#loading custom dataset\n",
        "training_data = data.TabularDataset(path = \"/content/drive/MyDrive/DL/T2/SMSSpamCollection.csv\", format='csv', fields=fields, skip_header=True)"
      ],
      "execution_count": null,
      "outputs": []
    },
    {
      "cell_type": "code",
      "metadata": {
        "colab": {
          "base_uri": "https://localhost:8080/"
        },
        "id": "X47Pow-lRBp0",
        "outputId": "b5a784a3-461d-495d-ae76-8de483b2d1da"
      },
      "source": [
        "# print preprocessed text sample\n",
        "print(vars(training_data.examples[0]))"
      ],
      "execution_count": null,
      "outputs": [
        {
          "output_type": "stream",
          "text": [
            "{'text': ['Go', 'until', 'jurong', 'point', ',', 'crazy', '..', 'Available', 'only', 'in', 'bugis', 'n', 'great', 'world', 'la', 'e', 'buffet', '...', 'Cine', 'there', 'got', 'amore', 'wat', '...'], 'label': '0'}\n"
          ],
          "name": "stdout"
        }
      ]
    },
    {
      "cell_type": "code",
      "metadata": {
        "colab": {
          "base_uri": "https://localhost:8080/"
        },
        "id": "rL4znI0KRR0k",
        "outputId": "cf312467-92e0-42c4-8a9a-5594aebf595d"
      },
      "source": [
        "import random\n",
        "train_data, valid_data, test_data = training_data.split(split_ratio=[70, 10, 20], random_state = random.seed(1334))\n",
        "print(\"Train Data:\", len(train_data))\n",
        "print(\"Validation Data:\", len(valid_data))\n",
        "print(\"Test Data:\", len(test_data))"
      ],
      "execution_count": null,
      "outputs": [
        {
          "output_type": "stream",
          "text": [
            "Train Data: 3866\n",
            "Validation Data: 1105\n",
            "Test Data: 552\n"
          ],
          "name": "stdout"
        }
      ]
    },
    {
      "cell_type": "code",
      "metadata": {
        "id": "Si23136ERoQk"
      },
      "source": [
        "#initialize GloVe embeddings\n",
        "TEXT.build_vocab(train_data,min_freq=5, vectors = \"glove.6B.100d\")  \n",
        "LABEL.build_vocab(train_data)\n",
        "\n",
        "#No. of unique tokens in text\n",
        "print(\"Size of TEXT vocabulary:\",len(TEXT.vocab))\n",
        "\n",
        "#No. of unique tokens in label\n",
        "print(\"Size of LABEL vocabulary:\",len(LABEL.vocab))\n",
        "\n",
        "#Commonly used words\n",
        "print(TEXT.vocab.freqs.most_common(10))  \n",
        "\n",
        "#Word dictionary\n",
        "print(TEXT.vocab.stoi)   "
      ],
      "execution_count": null,
      "outputs": []
    },
    {
      "cell_type": "code",
      "metadata": {
        "id": "ElbnYTgLSunc"
      },
      "source": [
        "#check whether cuda is available\n",
        "device = torch.device('cuda' if torch.cuda.is_available() else 'cpu')  \n",
        "device = \"cpu\"\n",
        "#set batch size\n",
        "BATCH_SIZE = 8\n",
        "\n",
        "#Load an iterator\n",
        "train_iterator, valid_iterator, test_iterator = data.BucketIterator.splits(\n",
        "    (train_data, valid_data, test_data), \n",
        "    batch_size = BATCH_SIZE,\n",
        "    sort_key = lambda x: len(x.text),\n",
        "    sort_within_batch=True,\n",
        "    device = device)"
      ],
      "execution_count": null,
      "outputs": []
    },
    {
      "cell_type": "markdown",
      "metadata": {
        "id": "ZRl0lV4GejSO"
      },
      "source": [
        "La idea de implementar un embedding para las palabras es poder pasar de datos en texto a tensores vectoriales numéricos, esto permite expresar las palabras en un formato que les añada riqueza en su descripción semántica (haciendo que palabras similares tengan valores cercanos) y además las haga consumibles por un modelo de aprendizaje automático.\n",
        "\n",
        "En particular, GloVe no captura solamente las características estadísticas locales como Word2Vec, sino también las (Glo)bales para crear el (Ve)ctor deseado. Para lograr esto,  toma en cuenta relaciones semánticas locales, pero también deriva relaciones semánticas a partir de una matriz de co-ocurrencia, donde se indica qué tan probable es que una palabra aparezca en el contexto de otra. La gracia de GloVe es que puede expresar esta relación en un vector limpiamente con escasa pérdida de información."
      ]
    },
    {
      "cell_type": "markdown",
      "metadata": {
        "id": "6ZLQivWf4XHd"
      },
      "source": [
        "###Actividad 2"
      ]
    },
    {
      "cell_type": "code",
      "metadata": {
        "id": "9C5xjf0yTPQt"
      },
      "source": [
        "import torch.nn as nn\n",
        "\n",
        "class classifier(nn.Module):\n",
        "    \n",
        "    #define all the layers used in model\n",
        "    def __init__(self, vocab_size, embedding_dim, hidden_dim, output_dim, n_layers, \n",
        "                 bidirectional, dropout):\n",
        "        self.bidirectional = bidirectional\n",
        "        #Constructor\n",
        "        super().__init__()          \n",
        "        \n",
        "        # embedding layer (GloVe)\n",
        "        self.embedding = nn.Embedding(vocab_size, embedding_dim)\n",
        "        \n",
        "        # rnn layer\n",
        "        self.rnn = nn.RNN(embedding_dim, \n",
        "                           hidden_dim, \n",
        "                           num_layers=n_layers, \n",
        "                           bidirectional=bidirectional, \n",
        "                           dropout=dropout,\n",
        "                           batch_first=True)\n",
        "        \n",
        "        # dense layer 1\n",
        "        if self.bidirectional:\n",
        "          self.fc = nn.Linear(hidden_dim * 2, output_dim)\n",
        "        else:\n",
        "          self.fc = nn.Linear(hidden_dim, 60)\n",
        "        \n",
        "        # dense layer 2\n",
        "        self.act_intermediate = nn.ReLU()\n",
        "        self.fc2 = nn.Linear(60, output_dim)\n",
        "        \n",
        "        # activation function\n",
        "        # sigmoidal porque softmax da peores resultados\n",
        "        self.act = nn.Sigmoid()\n",
        "\n",
        "    def forward(self, text, text_lengths):\n",
        "        \n",
        "        #text = [batch size,sent_length]\n",
        "        embedded = self.embedding(text)\n",
        "        #embedded = [batch size, sent_len, emb dim]\n",
        "      \n",
        "        #packed sequence\n",
        "        packed_embedded = nn.utils.rnn.pack_padded_sequence(embedded, text_lengths,batch_first=True)\n",
        "        \n",
        "        #packed_output, (hidden, cell) = self.lstm(packed_embedded)\n",
        "        packed_output, hidden = self.rnn(packed_embedded)\n",
        "        #hidden = [batch size, num layers * num directions,hid dim]\n",
        "        #cell = [batch size, num layers * num directions,hid dim]\n",
        "        \n",
        "        if self.bidirectional:\n",
        "          #concat the final forward and backward hidden state\n",
        "          hidden = torch.cat((hidden[-2,:,:], hidden[-1,:,:]), dim = 1)\n",
        "                \n",
        "        #hidden = [batch size, hid dim * num directions]\n",
        "        dense_outputs = self.fc(hidden)\n",
        "        activated_outputs = self.act_intermediate(dense_outputs)\n",
        "        dense_outputs2 = self.fc2(activated_outputs)\n",
        "        #Final activation function\n",
        "        outputs = self.act(dense_outputs2)\n",
        "        \n",
        "        return outputs"
      ],
      "execution_count": null,
      "outputs": []
    },
    {
      "cell_type": "code",
      "metadata": {
        "id": "H6wnquh-TVjN"
      },
      "source": [
        "#define hyperparameters\n",
        "size_of_vocab = len(TEXT.vocab)\n",
        "embedding_dim = 100\n",
        "num_hidden_nodes = 80\n",
        "num_output_nodes = 1\n",
        "num_layers = 1\n",
        "bidirection = False\n",
        "dropout = 0\n",
        "\n",
        "#instantiate the model\n",
        "model = classifier(size_of_vocab, embedding_dim, num_hidden_nodes, num_output_nodes, num_layers, \n",
        "                   bidirectional = bidirection, dropout = dropout)"
      ],
      "execution_count": null,
      "outputs": []
    },
    {
      "cell_type": "code",
      "metadata": {
        "colab": {
          "base_uri": "https://localhost:8080/"
        },
        "id": "MsATQG_dTev1",
        "outputId": "4bc6e6a4-0c8d-47eb-e69c-3bd7aad69983"
      },
      "source": [
        "#architecture\n",
        "print(model)\n",
        "\n",
        "#No. of trianable parameters\n",
        "def count_parameters(model):\n",
        "    return sum(p.numel() for p in model.parameters() if p.requires_grad)\n",
        "    \n",
        "print(f'The model has {count_parameters(model):,} trainable parameters')\n",
        "\n",
        "#Initialize the pretrained embedding\n",
        "pretrained_embeddings = TEXT.vocab.vectors\n",
        "model.embedding.weight.data.copy_(pretrained_embeddings)\n",
        "\n",
        "print(pretrained_embeddings.shape)"
      ],
      "execution_count": null,
      "outputs": [
        {
          "output_type": "stream",
          "text": [
            "classifier(\n",
            "  (embedding): Embedding(1629, 100)\n",
            "  (rnn): RNN(100, 80, batch_first=True)\n",
            "  (fc): Linear(in_features=80, out_features=60, bias=True)\n",
            "  (act_intermediate): ReLU()\n",
            "  (fc2): Linear(in_features=60, out_features=1, bias=True)\n",
            "  (act): Sigmoid()\n",
            ")\n",
            "The model has 182,381 trainable parameters\n",
            "torch.Size([1629, 100])\n"
          ],
          "name": "stdout"
        }
      ]
    },
    {
      "cell_type": "markdown",
      "metadata": {
        "id": "rCYKabwqDasq"
      },
      "source": [
        "El número de parámetros depende indirectamente del dataset utilizado, si usamos un dataset de texto muy grande y complejo, necesitaremos más dimensiones para obtener un buen embedding, lo que ser reflejará en la cantidad de parámetros de Wxh. Sin embargo, si se mantienen las dimensiones del embedding, la cantidad de parámetros no se verá afectada al cambiar de dataset.\n",
        "\n",
        "Entonces, podemos ver que se puede reducir la cantidad de parámetros de la red cambiando el embedding usado, por ejemplo si usamos GloVe con 50d (en vez de 100d), tendremos un tensor de 50 dimensiones para capturar las features de cada palabra, en vez de 100 dimensiones para cada palabra. Esto reducirá la cantidad de parámetros entrenables en W_xh, todo lo anterior sin alterar la dimensionalidad de la capa oculta h_t.\n"
      ]
    },
    {
      "cell_type": "code",
      "metadata": {
        "colab": {
          "base_uri": "https://localhost:8080/"
        },
        "id": "xGPs3bOV0ILT",
        "outputId": "1a28e4c5-7326-4485-c9cf-f803bb4c49fb"
      },
      "source": [
        "#define hyperparameters\n",
        "size_of_vocab = len(TEXT.vocab)\n",
        "embedding_dim = 100\n",
        "num_hidden_nodes = 120\n",
        "num_output_nodes = 1\n",
        "num_layers = 1\n",
        "bidirection = False\n",
        "dropout = 0\n",
        "\n",
        "#instantiate the new model\n",
        "new_model = classifier(size_of_vocab, embedding_dim, num_hidden_nodes, num_output_nodes, num_layers, \n",
        "                   bidirectional = bidirection, dropout = dropout)\n",
        "print(new_model)\n",
        "print(f'The new model has {count_parameters(new_model):,} trainable parameters')"
      ],
      "execution_count": null,
      "outputs": [
        {
          "output_type": "stream",
          "text": [
            "classifier(\n",
            "  (embedding): Embedding(1629, 100)\n",
            "  (rnn): RNN(100, 120, batch_first=True)\n",
            "  (fc): Linear(in_features=120, out_features=60, bias=True)\n",
            "  (act_intermediate): ReLU()\n",
            "  (fc2): Linear(in_features=60, out_features=1, bias=True)\n",
            "  (act): Sigmoid()\n",
            ")\n",
            "The new model has 196,861 trainable parameters\n"
          ],
          "name": "stdout"
        }
      ]
    },
    {
      "cell_type": "markdown",
      "metadata": {
        "id": "SbJ8lzE00LJz"
      },
      "source": [
        "\n",
        "Al pasar de 80 a 120 en la dimension de la capa oculta h_t, vemos que la cantidad de parámetros pasa de 182.381 a 196.861, es decir, un aumento de 14.480 parámetros lo que es explicable teniendo en cuenta que un aumento en h_t implica incrementar la cantidad de parámetros para todas las transformaciones del modelo, es decir, para W_hx, W_hh y W_yh. Esto sin duda tiene considerables implicancias en el tamaño paramétrico del modelo."
      ]
    },
    {
      "cell_type": "markdown",
      "metadata": {
        "id": "PovXsINayrXr"
      },
      "source": [
        "###Actividad 3"
      ]
    },
    {
      "cell_type": "code",
      "metadata": {
        "id": "zYtTULlqTnzV"
      },
      "source": [
        "import torch.optim as optim\n",
        "\n",
        "#define optimizer and loss\n",
        "optimizer = optim.Adam(model.parameters())\n",
        "criterion = nn.BCELoss()\n",
        "\n",
        "#define metric\n",
        "def binary_accuracy(preds, y):\n",
        "    #round predictions to the closest integer\n",
        "    rounded_preds = torch.round(preds)\n",
        "    \n",
        "    correct = (rounded_preds == y).float() \n",
        "    acc = correct.sum() / len(correct)\n",
        "    return acc\n",
        "    \n",
        "#push to cuda if available\n",
        "print(\"curent device:\", device)\n",
        "model = model.to(device)\n",
        "criterion = criterion.to(device)"
      ],
      "execution_count": null,
      "outputs": []
    },
    {
      "cell_type": "code",
      "metadata": {
        "id": "kKqXlyQlT3xV"
      },
      "source": [
        "def train(model, iterator, optimizer, criterion):\n",
        "    \n",
        "    #initialize every epoch \n",
        "    epoch_loss = 0\n",
        "    epoch_acc = 0\n",
        "    \n",
        "    #set the model in training phase\n",
        "    model.train()  \n",
        "    \n",
        "    for batch in iterator:\n",
        "        \n",
        "        #resets the gradients after every batch\n",
        "        optimizer.zero_grad()   \n",
        "        \n",
        "        #retrieve text and no. of words\n",
        "        text, text_lengths = batch.text   \n",
        "        \n",
        "        #convert to 1D tensor\n",
        "        predictions = model(text, text_lengths).squeeze()  \n",
        "        \n",
        "        #compute the loss\n",
        "        loss = criterion(predictions, batch.label)        \n",
        "        \n",
        "        #compute the binary accuracy\n",
        "        acc = binary_accuracy(predictions, batch.label)   \n",
        "        \n",
        "        #backpropage the loss and compute the gradients\n",
        "        loss.backward()       \n",
        "        \n",
        "        #update the weights\n",
        "        optimizer.step()      \n",
        "        \n",
        "        #loss and accuracy\n",
        "        epoch_loss += loss.item()  \n",
        "        epoch_acc += acc.item()    \n",
        "        \n",
        "    return epoch_loss / len(iterator), epoch_acc / len(iterator)"
      ],
      "execution_count": null,
      "outputs": []
    },
    {
      "cell_type": "code",
      "metadata": {
        "id": "Yoevj1w5UB0V"
      },
      "source": [
        "def evaluate(model, iterator, criterion):\n",
        "    \n",
        "    #initialize every epoch\n",
        "    epoch_loss = 0\n",
        "    epoch_acc = 0\n",
        "\n",
        "    #deactivating dropout layers\n",
        "    model.eval()\n",
        "    \n",
        "    #deactivates autograd\n",
        "    with torch.no_grad():\n",
        "    \n",
        "        for batch in iterator:\n",
        "            try:\n",
        "              #retrieve text and no. of words\n",
        "              text, text_lengths = batch.text\n",
        "              \n",
        "              #convert to 1d tensor\n",
        "              predictions = model(text, text_lengths).squeeze()\n",
        "              \n",
        "              #compute loss and accuracy\n",
        "              loss = criterion(predictions, batch.label)\n",
        "              acc = binary_accuracy(predictions, batch.label)\n",
        "              \n",
        "              #keep track of loss and accuracy\n",
        "              epoch_loss += loss.item()\n",
        "              epoch_acc += acc.item()\n",
        "            except Exception:\n",
        "              pass\n",
        "        \n",
        "    return epoch_loss / len(iterator), epoch_acc / len(iterator)"
      ],
      "execution_count": null,
      "outputs": []
    },
    {
      "cell_type": "code",
      "metadata": {
        "colab": {
          "base_uri": "https://localhost:8080/"
        },
        "id": "ta9Ja0ARUFVF",
        "outputId": "e21316e5-60cf-48d6-fd00-279c38b8b522"
      },
      "source": [
        "N_EPOCHS = 10\n",
        "best_valid_loss = float('inf')\n",
        "\n",
        "val_acc_hist = []\n",
        "train_acc_hist = []\n",
        "val_loss_hist = []\n",
        "train_loss_hist = []\n",
        "for epoch in range(N_EPOCHS):\n",
        "     \n",
        "    #train the model\n",
        "    train_loss, train_acc = train(model, train_iterator, optimizer, criterion)\n",
        "    train_loss_hist.append(train_loss)\n",
        "    train_acc_hist.append(train_acc)\n",
        "    \n",
        "    #evaluate the model\n",
        "    valid_loss, valid_acc = evaluate(model, valid_iterator, criterion)\n",
        "    val_loss_hist.append(valid_loss)\n",
        "    val_acc_hist.append(valid_acc)\n",
        "    \n",
        "    #save the best model\n",
        "    if valid_loss < best_valid_loss:\n",
        "        best_valid_loss = valid_loss\n",
        "        #torch.save(model.state_dict(), 'saved_weights.pt')\n",
        "\n",
        "    print(\"Epoch:\", epoch + 1)\n",
        "    print(f'\\tTrain Loss: {train_loss:.3f} | Train Acc: {train_acc*100:.2f}%')\n",
        "    print(f'\\tVal. Loss: {valid_loss:.3f} |  Val. Acc: {valid_acc*100:.2f}%')"
      ],
      "execution_count": null,
      "outputs": [
        {
          "output_type": "stream",
          "text": [
            "Epoch: 1\n",
            "\tTrain Loss: 0.240 | Train Acc: 91.61%\n",
            "\tVal. Loss: 0.117 |  Val. Acc: 96.88%\n",
            "Epoch: 2\n",
            "\tTrain Loss: 0.099 | Train Acc: 97.16%\n",
            "\tVal. Loss: 0.102 |  Val. Acc: 96.51%\n",
            "Epoch: 3\n",
            "\tTrain Loss: 0.090 | Train Acc: 97.52%\n",
            "\tVal. Loss: 0.071 |  Val. Acc: 97.72%\n",
            "Epoch: 4\n",
            "\tTrain Loss: 0.054 | Train Acc: 98.73%\n",
            "\tVal. Loss: 0.070 |  Val. Acc: 97.60%\n",
            "Epoch: 5\n",
            "\tTrain Loss: 0.044 | Train Acc: 98.92%\n",
            "\tVal. Loss: 0.066 |  Val. Acc: 98.08%\n",
            "Epoch: 6\n",
            "\tTrain Loss: 0.037 | Train Acc: 99.12%\n",
            "\tVal. Loss: 0.094 |  Val. Acc: 97.12%\n",
            "Epoch: 7\n",
            "\tTrain Loss: 0.032 | Train Acc: 99.33%\n",
            "\tVal. Loss: 0.103 |  Val. Acc: 97.24%\n",
            "Epoch: 8\n",
            "\tTrain Loss: 0.032 | Train Acc: 99.20%\n",
            "\tVal. Loss: 0.066 |  Val. Acc: 98.02%\n",
            "Epoch: 9\n",
            "\tTrain Loss: 0.022 | Train Acc: 99.48%\n",
            "\tVal. Loss: 0.078 |  Val. Acc: 96.69%\n",
            "Epoch: 10\n",
            "\tTrain Loss: 0.033 | Train Acc: 99.33%\n",
            "\tVal. Loss: 0.081 |  Val. Acc: 98.08%\n"
          ],
          "name": "stdout"
        }
      ]
    },
    {
      "cell_type": "code",
      "metadata": {
        "colab": {
          "base_uri": "https://localhost:8080/",
          "height": 573
        },
        "id": "mQBYpFaErEvS",
        "outputId": "b58a4b1d-b9d5-4591-889c-b3ae413625fe"
      },
      "source": [
        "# Plot Results\n",
        "import matplotlib.pyplot as plt\n",
        "import numpy as np\n",
        "\n",
        "val_acc_history = [h*100 for h in val_acc_hist]\n",
        "train_acc_history = [h*100 for h in train_acc_hist]\n",
        "\n",
        "plt.title(\"RNN: Accuracy vs. Epochs\")\n",
        "plt.xlabel(\"Epochs\")\n",
        "plt.ylabel(\"Accuracy (%)\")\n",
        "plt.plot(range(1,N_EPOCHS+1), val_acc_history, label=\"Validation\", color=\"purple\", linewidth=2)\n",
        "plt.plot(range(1,N_EPOCHS+1), train_acc_history, label=\"Training\", color=\"lightblue\", linewidth=2)\n",
        "plt.ylim((90,100))\n",
        "plt.xticks(np.arange(0, N_EPOCHS, 1))\n",
        "plt.legend()\n",
        "plt.show()\n",
        "\n",
        "val_loss_history = [h for h in val_loss_hist]\n",
        "train_loss_history = [h for h in train_loss_hist]\n",
        "\n",
        "plt.title(\"RNN: Loss vs. Epochs\")\n",
        "plt.xlabel(\"Epochs\")\n",
        "plt.ylabel(\"Loss\")\n",
        "plt.plot(range(1,N_EPOCHS+1), val_loss_history, label=\"Validation\", color=\"purple\", linewidth=2)\n",
        "plt.plot(range(1,N_EPOCHS+1), train_loss_history, label=\"Training\", color=\"lightblue\", linewidth=2)\n",
        "plt.ylim((0.0,0.5))\n",
        "plt.xticks(np.arange(0, N_EPOCHS, 1))\n",
        "plt.legend()\n",
        "plt.show()"
      ],
      "execution_count": null,
      "outputs": [
        {
          "output_type": "display_data",
          "data": {
            "image/png": "[encoded data removed]",
            "text/plain": [
              "<Figure size 432x288 with 1 Axes>"
            ]
          },
          "metadata": {
            "tags": [],
            "needs_background": "light"
          }
        },
        {
          "output_type": "display_data",
          "data": {
            "image/png": "[encoded data removed]",
            "text/plain": [
              "<Figure size 432x288 with 1 Axes>"
            ]
          },
          "metadata": {
            "tags": [],
            "needs_background": "light"
          }
        }
      ]
    },
    {
      "cell_type": "markdown",
      "metadata": {
        "id": "Ml36kg2kyAR7"
      },
      "source": [
        "Podemos ver mediante los gráficos, que la configuración actual demuestra un rendimiento sobre el 98% para el set de entrenamiento y de validación, sin embargo, la pérdida del test de validación sube después de la época 5, mientras que la del test de entrenamiento sigue bajando, lo que indica un caso de overfitting."
      ]
    },
    {
      "cell_type": "code",
      "metadata": {
        "colab": {
          "base_uri": "https://localhost:8080/"
        },
        "id": "2Bst01O7vbpr",
        "outputId": "a76f1b78-505c-4a2d-f85c-97adcf63d552"
      },
      "source": [
        "_, test_accuracy = evaluate(model, test_iterator, criterion)\n",
        "print(\"Accuracy in Test set was: \", round(test_accuracy*100,2), \"%\")"
      ],
      "execution_count": null,
      "outputs": [
        {
          "output_type": "stream",
          "text": [
            "Accuracy in Test set was:  97.64 %\n"
          ],
          "name": "stdout"
        }
      ]
    },
    {
      "cell_type": "markdown",
      "metadata": {
        "id": "-0YdooHg13Z0"
      },
      "source": [
        "De todas formas, vemos un rendimiento para el set de test de 97.64% , menos de un punto porcentual por debajo del test de validación, lo que demuestra que de todas formas se logró un alto poder de generalización para predecir si los mensajes de texto del dataset corresponden a *spamm* o no."
      ]
    },
    {
      "cell_type": "markdown",
      "metadata": {
        "id": "Zz3nMDI85Wut"
      },
      "source": [
        "###Actividad 4"
      ]
    },
    {
      "cell_type": "code",
      "metadata": {
        "id": "_ovWn8kW5Y01"
      },
      "source": [
        "import torch.nn as nn\n",
        "\n",
        "class classifier2(nn.Module):\n",
        "    \n",
        "    #define all the layers used in model\n",
        "    def __init__(self, vocab_size, embedding_dim, hidden_dim, output_dim, n_layers, \n",
        "                 bidirectional, dropout):\n",
        "        self.bidirectional = bidirectional\n",
        "        \n",
        "        #Constructor\n",
        "        super().__init__()          \n",
        "        \n",
        "        #embedding layer\n",
        "        self.embedding = nn.Embedding(vocab_size, embedding_dim)\n",
        "        \n",
        "        #lstm layer\n",
        "        self.lstm = nn.LSTM(embedding_dim, \n",
        "                           hidden_dim, \n",
        "                           num_layers=n_layers, \n",
        "                           bidirectional=bidirectional, \n",
        "                           dropout=dropout,\n",
        "                           batch_first=True)\n",
        "        \n",
        "        #dense layer\n",
        "        if self.bidirectional:\n",
        "          self.fc = nn.Linear(hidden_dim * 2, 30)\n",
        "        else:\n",
        "          self.fc = nn.Linear(hidden_dim, 60)\n",
        "\n",
        "        self.act0 = nn.ReLU(inplace=True)\n",
        "        self.fc2 = nn.Linear(30, output_dim)\n",
        "        \n",
        "        #activation function\n",
        "        self.act1 = nn.Sigmoid()\n",
        "        \n",
        "    def forward(self, text, text_lengths):\n",
        "        \n",
        "        #text = [batch size,sent_length]\n",
        "        embedded = self.embedding(text)\n",
        "        #embedded = [batch size, sent_len, emb dim]\n",
        "      \n",
        "        #packed sequence\n",
        "        packed_embedded = nn.utils.rnn.pack_padded_sequence(embedded, text_lengths,batch_first=True)\n",
        "        \n",
        "        packed_output, (hidden, cell) = self.lstm(packed_embedded)\n",
        "        #hidden = [batch size, num layers * num directions,hid dim]\n",
        "        #cell = [batch size, num layers * num directions,hid dim]\n",
        "        \n",
        "        if self.bidirectional:\n",
        "          #concat the final forward and backward hidden state\n",
        "          hidden = torch.cat((hidden[-2,:,:], hidden[-1,:,:]), dim = 1)\n",
        "                \n",
        "        #hidden = [batch size, hid dim * num directions]\n",
        "        x = self.fc(hidden)\n",
        "        x = self.act0(x)\n",
        "        x = self.fc2(x)\n",
        "        #Final activation function\n",
        "        outputs=self.act1(x)\n",
        "        \n",
        "        return outputs"
      ],
      "execution_count": null,
      "outputs": []
    },
    {
      "cell_type": "code",
      "metadata": {
        "colab": {
          "base_uri": "https://localhost:8080/"
        },
        "id": "mtVPICu855zE",
        "outputId": "f981c541-a37f-4e2a-90e2-75b3c2826b70"
      },
      "source": [
        "#define hyperparameters\n",
        "size_of_vocab = len(TEXT.vocab)\n",
        "embedding_dim = 100\n",
        "num_hidden_nodes = 80\n",
        "num_output_nodes = 1\n",
        "num_layers = 1\n",
        "bidirection = False\n",
        "dropout = 0\n",
        "\n",
        "#instantiate the lstm model\n",
        "lstm_model = classifier2(size_of_vocab, embedding_dim, num_hidden_nodes, num_output_nodes, num_layers, \n",
        "                   bidirectional=bidirection, dropout=dropout)\n",
        "#architecture\n",
        "print(lstm_model)\n",
        "\n",
        "#No. of trianable parameters\n",
        "def count_parameters(model):\n",
        "    return sum(p.numel() for p in model.parameters() if p.requires_grad)\n",
        "    \n",
        "print(f'The model has {count_parameters(lstm_model):,} trainable parameters')\n",
        "\n",
        "#Initialize the pretrained embedding\n",
        "pretrained_embeddings = TEXT.vocab.vectors\n",
        "lstm_model.embedding.weight.data.copy_(pretrained_embeddings)"
      ],
      "execution_count": null,
      "outputs": [
        {
          "output_type": "stream",
          "text": [
            "classifier2(\n",
            "  (embedding): Embedding(1629, 100)\n",
            "  (lstm): LSTM(100, 80, batch_first=True)\n",
            "  (fc): Linear(in_features=80, out_features=60, bias=True)\n",
            "  (act0): ReLU(inplace=True)\n",
            "  (fc2): Linear(in_features=60, out_features=1, bias=True)\n",
            "  (act1): Sigmoid()\n",
            ")\n",
            "The model has 226,061 trainable parameters\n"
          ],
          "name": "stdout"
        },
        {
          "output_type": "execute_result",
          "data": {
            "text/plain": [
              "tensor([[ 0.0000,  0.0000,  0.0000,  ...,  0.0000,  0.0000,  0.0000],\n",
              "        [ 0.0000,  0.0000,  0.0000,  ...,  0.0000,  0.0000,  0.0000],\n",
              "        [-0.3398,  0.2094,  0.4635,  ..., -0.2339,  0.4730, -0.0288],\n",
              "        ...,\n",
              "        [ 0.3196, -0.0119,  0.0098,  ..., -0.0504,  0.2983,  1.3323],\n",
              "        [ 0.5492,  0.1545, -0.6830,  ..., -1.2155,  0.5693,  1.0440],\n",
              "        [-0.2009, -0.1691, -0.3587,  ..., -0.3249, -0.3411,  0.2473]])"
            ]
          },
          "metadata": {
            "tags": []
          },
          "execution_count": 31
        }
      ]
    },
    {
      "cell_type": "code",
      "metadata": {
        "colab": {
          "base_uri": "https://localhost:8080/"
        },
        "id": "TDAU6_B75y0F",
        "outputId": "0bf8dfd1-c588-4481-d950-31dbdc60ea33"
      },
      "source": [
        "N_EPOCHS = 10\n",
        "best_valid_loss = float('inf')\n",
        "\n",
        "#define optimizer and loss\n",
        "optimizer = optim.Adam(lstm_model.parameters())\n",
        "criterion = nn.BCELoss()\n",
        "\n",
        "val_acc_hist = []\n",
        "train_acc_hist = []\n",
        "val_loss_hist = []\n",
        "train_loss_hist = []\n",
        "for epoch in range(N_EPOCHS):\n",
        "     \n",
        "    #train the lstm_model\n",
        "    train_loss, train_acc = train(lstm_model, train_iterator, optimizer, criterion)\n",
        "    train_loss_hist.append(train_loss)\n",
        "    train_acc_hist.append(train_acc)\n",
        "    \n",
        "    #evaluate the lstm_model\n",
        "    valid_loss, valid_acc = evaluate(lstm_model, valid_iterator, criterion)\n",
        "    val_loss_hist.append(valid_loss)\n",
        "    val_acc_hist.append(valid_acc)\n",
        "\n",
        "    print(\"Epoch:\", epoch + 1)\n",
        "    print(f'\\tTrain Loss: {train_loss:.3f} | Train Acc: {train_acc*100:.2f}%')\n",
        "    print(f'\\tVal. Loss: {valid_loss:.3f} |  Val. Acc: {valid_acc*100:.2f}%')"
      ],
      "execution_count": null,
      "outputs": [
        {
          "output_type": "stream",
          "text": [
            "Epoch: 1\n",
            "\tTrain Loss: 0.184 | Train Acc: 93.49%\n",
            "\tVal. Loss: 0.123 |  Val. Acc: 96.22%\n",
            "Epoch: 2\n",
            "\tTrain Loss: 0.064 | Train Acc: 98.04%\n",
            "\tVal. Loss: 0.055 |  Val. Acc: 97.66%\n",
            "Epoch: 3\n",
            "\tTrain Loss: 0.036 | Train Acc: 99.12%\n",
            "\tVal. Loss: 0.051 |  Val. Acc: 97.93%\n",
            "Epoch: 4\n",
            "\tTrain Loss: 0.031 | Train Acc: 99.10%\n",
            "\tVal. Loss: 0.053 |  Val. Acc: 97.93%\n",
            "Epoch: 5\n",
            "\tTrain Loss: 0.025 | Train Acc: 99.20%\n",
            "\tVal. Loss: 0.042 |  Val. Acc: 98.11%\n",
            "Epoch: 6\n",
            "\tTrain Loss: 0.013 | Train Acc: 99.69%\n",
            "\tVal. Loss: 0.045 |  Val. Acc: 98.11%\n",
            "Epoch: 7\n",
            "\tTrain Loss: 0.020 | Train Acc: 99.54%\n",
            "\tVal. Loss: 0.057 |  Val. Acc: 97.75%\n",
            "Epoch: 8\n",
            "\tTrain Loss: 0.012 | Train Acc: 99.72%\n",
            "\tVal. Loss: 0.056 |  Val. Acc: 97.84%\n",
            "Epoch: 9\n",
            "\tTrain Loss: 0.005 | Train Acc: 99.87%\n",
            "\tVal. Loss: 0.058 |  Val. Acc: 97.75%\n",
            "Epoch: 10\n",
            "\tTrain Loss: 0.003 | Train Acc: 99.90%\n",
            "\tVal. Loss: 0.066 |  Val. Acc: 98.02%\n"
          ],
          "name": "stdout"
        }
      ]
    },
    {
      "cell_type": "code",
      "metadata": {
        "colab": {
          "base_uri": "https://localhost:8080/",
          "height": 573
        },
        "id": "uP_MYrfAFoio",
        "outputId": "33a0af59-19ab-4b1f-cc96-42b84caf1054"
      },
      "source": [
        "# Plot Results\n",
        "import matplotlib.pyplot as plt\n",
        "import numpy as np\n",
        "\n",
        "val_acc_history = [h*100 for h in val_acc_hist]\n",
        "train_acc_history = [h*100 for h in train_acc_hist]\n",
        "\n",
        "plt.title(\"RNN: Accuracy vs. Epochs\")\n",
        "plt.xlabel(\"Epochs\")\n",
        "plt.ylabel(\"Accuracy (%)\")\n",
        "plt.plot(range(1,N_EPOCHS+1), val_acc_history, label=\"Validation\", color=\"purple\", linewidth=2)\n",
        "plt.plot(range(1,N_EPOCHS+1), train_acc_history, label=\"Training\", color=\"lightblue\", linewidth=2)\n",
        "plt.ylim((90,100))\n",
        "plt.xticks(np.arange(0, N_EPOCHS, 1))\n",
        "plt.legend()\n",
        "plt.show()\n",
        "\n",
        "val_loss_history = [h for h in val_loss_hist]\n",
        "train_loss_history = [h for h in train_loss_hist]\n",
        "\n",
        "plt.title(\"RNN: Loss vs. Epochs\")\n",
        "plt.xlabel(\"Epochs\")\n",
        "plt.ylabel(\"Loss\")\n",
        "plt.plot(range(1,N_EPOCHS+1), val_loss_history, label=\"Validation\", color=\"purple\", linewidth=2)\n",
        "plt.plot(range(1,N_EPOCHS+1), train_loss_history, label=\"Training\", color=\"lightblue\", linewidth=2)\n",
        "plt.ylim((0.0,0.5))\n",
        "plt.xticks(np.arange(0, N_EPOCHS, 1))\n",
        "plt.legend()\n",
        "plt.show()"
      ],
      "execution_count": null,
      "outputs": [
        {
          "output_type": "display_data",
          "data": {
            "image/png": "[encoded data removed]",
            "text/plain": [
              "<Figure size 432x288 with 1 Axes>"
            ]
          },
          "metadata": {
            "tags": [],
            "needs_background": "light"
          }
        },
        {
          "output_type": "display_data",
          "data": {
            "image/png": "[encoded data removed]",
            "text/plain": [
              "<Figure size 432x288 with 1 Axes>"
            ]
          },
          "metadata": {
            "tags": [],
            "needs_background": "light"
          }
        }
      ]
    },
    {
      "cell_type": "code",
      "metadata": {
        "colab": {
          "base_uri": "https://localhost:8080/"
        },
        "id": "afRy2qsl6n91",
        "outputId": "e5ccb681-d05a-4184-9ec7-1e1bfbd430b0"
      },
      "source": [
        "_, test_accuracy = evaluate(lstm_model, test_iterator, criterion)\n",
        "print(\"Accuracy in Test set was: \", round(test_accuracy*100,2), \"%\")"
      ],
      "execution_count": null,
      "outputs": [
        {
          "output_type": "stream",
          "text": [
            "Accuracy in Test set was:  98.19 %\n"
          ],
          "name": "stdout"
        }
      ]
    },
    {
      "cell_type": "markdown",
      "metadata": {
        "id": "CU04xq-TG1Jf"
      },
      "source": [
        "Al pasar a un modelo LSTM, el cual incorpora células de memoria para mantener de forma más robusta información tanto antigua como reciente, podemos observar un leve incremento en la precisión sobre el set de test, un 1% de mejoría respecto a la red recurrente tradicional para este set de datos particulares.\n",
        "Esto podría explicarse porque las últimas palabras de los SMS efectivamente tienen suficiente información para determinar su clase (terminan con frecuencia en un precio o un numero al cual llamar), si bien mantener al tanto las palabras iniciales aporta información, no es crucial para esta tarea en particular.\n",
        "Si bien vemos un aumento en el rendimiento, el modelo también es más pesado en su cantidad de parámetros, al necesitar algunos para mantener memoria de largo plazo. El LSTM usa 226 mil parámetros, un 24% más comparado con su RNN homóloga de 182 mil parámetros, lo cual por su puesto tambien se refleja en el tiempo de entrenamiento."
      ]
    },
    {
      "cell_type": "markdown",
      "metadata": {
        "id": "PksSYPvHARDe"
      },
      "source": [
        "###Actividad 5"
      ]
    },
    {
      "cell_type": "code",
      "metadata": {
        "id": "FsfnjAURJrfQ"
      },
      "source": [
        "def train2(model, iterator, optimizer, criterion):\n",
        "    \n",
        "    #initialize every epoch \n",
        "    epoch_loss = 0\n",
        "    epoch_acc = 0\n",
        "    \n",
        "    #set the model in training phase\n",
        "    model.train()  \n",
        "    \n",
        "    for batch in iterator:\n",
        "        \n",
        "        #resets the gradients after every batch\n",
        "        optimizer.zero_grad()   \n",
        "        \n",
        "        #retrieve text and no. of words\n",
        "        text, text_lengths = batch.text   \n",
        "        \n",
        "        #convert to 1D tensor\n",
        "        predictions = model(text, text_lengths).squeeze()  \n",
        "        \n",
        "        #compute the loss\n",
        "        loss = criterion(predictions, batch.label)        \n",
        "        \n",
        "        #compute the binary accuracy\n",
        "        acc = binary_accuracy(predictions, batch.label)   \n",
        "        \n",
        "        #backpropage the loss and compute the gradients\n",
        "        loss.backward()       \n",
        "        \n",
        "        #update the weights\n",
        "        optimizer.step()      \n",
        "        \n",
        "        #loss and accuracy\n",
        "        epoch_loss += loss.item()  \n",
        "        epoch_acc += acc.item()    \n",
        "        \n",
        "    return epoch_loss / len(iterator), epoch_acc / len(iterator)"
      ],
      "execution_count": null,
      "outputs": []
    },
    {
      "cell_type": "code",
      "metadata": {
        "colab": {
          "base_uri": "https://localhost:8080/"
        },
        "id": "nbDNGzfBAQqe",
        "outputId": "4edead5a-ebb7-4c66-d168-322efb8fcafb"
      },
      "source": [
        "#define hyperparameters\n",
        "size_of_vocab = len(TEXT.vocab)\n",
        "embedding_dim = 100\n",
        "num_hidden_nodes = 80\n",
        "num_output_nodes = 1\n",
        "num_layers = 2\n",
        "bidirection = False # set bidirection\n",
        "dropout = 0\n",
        "\n",
        "#instantiate the lstm model\n",
        "deep_lstm = classifier2(size_of_vocab, embedding_dim, num_hidden_nodes, num_output_nodes, num_layers, \n",
        "                   bidirectional = bidirection, dropout = dropout)\n",
        "print(deep_lstm)\n",
        "\n",
        "#No. of trianable parameters\n",
        "def count_parameters(model):\n",
        "    return sum(p.numel() for p in model.parameters() if p.requires_grad)\n",
        "    \n",
        "print(f'The model has {count_parameters(deep_lstm):,} trainable parameters')\n",
        "\n",
        "#Initialize the pretrained embedding\n",
        "pretrained_embeddings = TEXT.vocab.vectors\n",
        "deep_lstm.embedding.weight.data.copy_(pretrained_embeddings)"
      ],
      "execution_count": null,
      "outputs": [
        {
          "output_type": "stream",
          "text": [
            "classifier2(\n",
            "  (embedding): Embedding(1629, 100)\n",
            "  (lstm): LSTM(100, 80, num_layers=2, batch_first=True)\n",
            "  (fc): Linear(in_features=80, out_features=60, bias=True)\n",
            "  (act0): ReLU(inplace=True)\n",
            "  (fc2): Linear(in_features=60, out_features=1, bias=True)\n",
            "  (act1): Sigmoid()\n",
            ")\n",
            "The model has 277,901 trainable parameters\n"
          ],
          "name": "stdout"
        },
        {
          "output_type": "execute_result",
          "data": {
            "text/plain": [
              "tensor([[ 0.0000,  0.0000,  0.0000,  ...,  0.0000,  0.0000,  0.0000],\n",
              "        [ 0.0000,  0.0000,  0.0000,  ...,  0.0000,  0.0000,  0.0000],\n",
              "        [-0.3398,  0.2094,  0.4635,  ..., -0.2339,  0.4730, -0.0288],\n",
              "        ...,\n",
              "        [ 0.3196, -0.0119,  0.0098,  ..., -0.0504,  0.2983,  1.3323],\n",
              "        [ 0.5492,  0.1545, -0.6830,  ..., -1.2155,  0.5693,  1.0440],\n",
              "        [-0.2009, -0.1691, -0.3587,  ..., -0.3249, -0.3411,  0.2473]])"
            ]
          },
          "metadata": {
            "tags": []
          },
          "execution_count": 45
        }
      ]
    },
    {
      "cell_type": "code",
      "metadata": {
        "colab": {
          "base_uri": "https://localhost:8080/"
        },
        "id": "eCL4tzYWJFq4",
        "outputId": "02ae3699-c718-4213-8e8d-99400eb4c9e4"
      },
      "source": [
        "N_EPOCHS = 10\n",
        "best_valid_loss = float('inf')\n",
        "\n",
        "#define optimizer and loss\n",
        "optimizer = optim.Adam(deep_lstm.parameters())\n",
        "criterion = nn.BCELoss()\n",
        "\n",
        "val_acc_hist = []\n",
        "train_acc_hist = []\n",
        "val_loss_hist = []\n",
        "train_loss_hist = []\n",
        "for epoch in range(N_EPOCHS):\n",
        "     \n",
        "    #train the deep_lstm\n",
        "    train_loss, train_acc = train2(deep_lstm, train_iterator, optimizer, criterion)\n",
        "    train_loss_hist.append(train_loss)\n",
        "    train_acc_hist.append(train_acc)\n",
        "    \n",
        "    #evaluate the deep_lstm\n",
        "    valid_loss, valid_acc = evaluate(deep_lstm, valid_iterator, criterion)\n",
        "    val_loss_hist.append(valid_loss)\n",
        "    val_acc_hist.append(valid_acc)\n",
        "\n",
        "    print(\"Epoch:\", epoch + 1)\n",
        "    print(f'\\tTrain Loss: {train_loss:.3f} | Train Acc: {train_acc*100:.2f}%')\n",
        "    print(f'\\tVal. Loss: {valid_loss:.3f} |  Val. Acc: {valid_acc*100:.2f}%')"
      ],
      "execution_count": null,
      "outputs": [
        {
          "output_type": "stream",
          "text": [
            "Epoch: 1\n",
            "\tTrain Loss: 0.177 | Train Acc: 93.60%\n",
            "\tVal. Loss: 0.108 |  Val. Acc: 96.67%\n",
            "Epoch: 2\n",
            "\tTrain Loss: 0.057 | Train Acc: 98.50%\n",
            "\tVal. Loss: 0.062 |  Val. Acc: 97.57%\n",
            "Epoch: 3\n",
            "\tTrain Loss: 0.039 | Train Acc: 98.99%\n",
            "\tVal. Loss: 0.042 |  Val. Acc: 98.02%\n",
            "Epoch: 4\n",
            "\tTrain Loss: 0.023 | Train Acc: 99.46%\n",
            "\tVal. Loss: 0.045 |  Val. Acc: 97.93%\n",
            "Epoch: 5\n",
            "\tTrain Loss: 0.027 | Train Acc: 99.35%\n",
            "\tVal. Loss: 0.056 |  Val. Acc: 96.94%\n",
            "Epoch: 6\n",
            "\tTrain Loss: 0.022 | Train Acc: 99.43%\n",
            "\tVal. Loss: 0.044 |  Val. Acc: 98.02%\n",
            "Epoch: 7\n",
            "\tTrain Loss: 0.017 | Train Acc: 99.51%\n",
            "\tVal. Loss: 0.045 |  Val. Acc: 98.20%\n",
            "Epoch: 8\n",
            "\tTrain Loss: 0.013 | Train Acc: 99.61%\n",
            "\tVal. Loss: 0.046 |  Val. Acc: 97.93%\n",
            "Epoch: 9\n",
            "\tTrain Loss: 0.004 | Train Acc: 99.90%\n",
            "\tVal. Loss: 0.056 |  Val. Acc: 98.02%\n",
            "Epoch: 10\n",
            "\tTrain Loss: 0.003 | Train Acc: 99.90%\n",
            "\tVal. Loss: 0.056 |  Val. Acc: 98.11%\n"
          ],
          "name": "stdout"
        }
      ]
    },
    {
      "cell_type": "markdown",
      "metadata": {
        "id": "0ooXskGjSlEq"
      },
      "source": [
        "Para el LSTM con 2 capas, hay tres aspectos que llaman la atención. En primer lugar, hay un notorio aumento en la cantidad de parámetros, llegando a 277 mil. Esto da paso al segundo aspecto, que es la velocidad de convergencia del entrenamiento, si bien es considerablemente más lento que los otros modelos (dado el aumento de parámetros), el modelo necesita algunas pocas épocas para mostrar resultados robustos. Finalmente, cabe destacar que no se ve una clara mejoría en la precisión del modelo, probablemente porque la tarea de clasificar mensajes de texto es suficientemente simple como para que baste una capa oculta para modelarlo con la complejidad necesaria."
      ]
    },
    {
      "cell_type": "code",
      "metadata": {
        "id": "_z-rWGji4Aya"
      },
      "source": [
        "#GloVe embeddings with 50 dims instead of 100\n",
        "TEXT.build_vocab(train_data,min_freq=5, vectors = \"glove.6B.50d\")  # changed to 50\n",
        "LABEL.build_vocab(train_data)\n",
        "\n",
        "#No. of unique tokens in text\n",
        "print(\"Size of TEXT vocabulary:\",len(TEXT.vocab))\n",
        "\n",
        "#No. of unique tokens in label\n",
        "print(\"Size of LABEL vocabulary:\",len(LABEL.vocab))\n",
        "\n",
        "#Commonly used words\n",
        "print(TEXT.vocab.freqs.most_common(10))  \n",
        "\n",
        "#Word dictionary\n",
        "print(TEXT.vocab.stoi)   "
      ],
      "execution_count": null,
      "outputs": []
    },
    {
      "cell_type": "code",
      "metadata": {
        "colab": {
          "base_uri": "https://localhost:8080/"
        },
        "id": "C0MpI7mfSkAK",
        "outputId": "bdbc8fc8-9ffc-40fb-997e-8ff05d86e87e"
      },
      "source": [
        "#define hyperparameters\n",
        "size_of_vocab = len(TEXT.vocab)\n",
        "embedding_dim = 50\n",
        "num_hidden_nodes = 80\n",
        "num_output_nodes = 1\n",
        "num_layers = 1\n",
        "bidirection = True # set bidirection\n",
        "dropout = 0\n",
        "\n",
        "#instantiate the lstm model\n",
        "bi_rnn = classifier2(size_of_vocab, embedding_dim, num_hidden_nodes, num_output_nodes, num_layers, \n",
        "                   bidirectional = bidirection, dropout = dropout)\n",
        "print(bi_rnn)\n",
        "\n",
        "#No. of trianable parameters\n",
        "def count_parameters(model):\n",
        "    return sum(p.numel() for p in model.parameters() if p.requires_grad)\n",
        "    \n",
        "print(f'The model has {count_parameters(bi_rnn):,} trainable parameters')\n",
        "\n",
        "#Initialize the pretrained embedding\n",
        "pretrained_embeddings = TEXT.vocab.vectors\n",
        "bi_rnn.embedding.weight.data.copy_(pretrained_embeddings)"
      ],
      "execution_count": null,
      "outputs": [
        {
          "output_type": "stream",
          "text": [
            "classifier2(\n",
            "  (embedding): Embedding(1629, 50)\n",
            "  (lstm): LSTM(50, 80, batch_first=True, bidirectional=True)\n",
            "  (fc): Linear(in_features=160, out_features=30, bias=True)\n",
            "  (act0): ReLU(inplace=True)\n",
            "  (fc2): Linear(in_features=30, out_features=1, bias=True)\n",
            "  (act1): Sigmoid()\n",
            ")\n",
            "The model has 170,791 trainable parameters\n"
          ],
          "name": "stdout"
        },
        {
          "output_type": "execute_result",
          "data": {
            "text/plain": [
              "tensor([[ 0.0000,  0.0000,  0.0000,  ...,  0.0000,  0.0000,  0.0000],\n",
              "        [ 0.0000,  0.0000,  0.0000,  ...,  0.0000,  0.0000,  0.0000],\n",
              "        [ 0.1516,  0.3018, -0.1676,  ..., -0.3565,  0.0164,  0.1022],\n",
              "        ...,\n",
              "        [ 1.4680, -0.6181,  1.5910,  ...,  0.1525,  0.3721,  0.5773],\n",
              "        [-0.2304, -0.0052, -1.4649,  ..., -1.1053, -0.7462,  0.2862],\n",
              "        [ 0.0239, -0.3738, -0.1698,  ...,  0.0891,  0.3344, -0.4427]])"
            ]
          },
          "metadata": {
            "tags": []
          },
          "execution_count": 63
        }
      ]
    },
    {
      "cell_type": "markdown",
      "metadata": {
        "id": "yzxxG58l4SvC"
      },
      "source": [
        "Finalmente para este último modelo tenemos un embedding de GloVe con 50 dimensiones (en vez de 100), una red recurrente bidireccional de 1 capa oculta, con un cambio en la dimension de su capa linear (de 60 a 30 dimensiones)."
      ]
    },
    {
      "cell_type": "code",
      "metadata": {
        "colab": {
          "base_uri": "https://localhost:8080/"
        },
        "id": "Qn7sFaCjT-ub",
        "outputId": "ff2be47a-dee2-4a0f-e685-64f9983d074f"
      },
      "source": [
        "N_EPOCHS = 10\n",
        "best_valid_loss = float('inf')\n",
        "\n",
        "#define optimizer and loss\n",
        "optimizer = optim.Adam(bi_rnn.parameters())\n",
        "criterion = nn.BCELoss()\n",
        "\n",
        "val_acc_hist = []\n",
        "train_acc_hist = []\n",
        "val_loss_hist = []\n",
        "train_loss_hist = []\n",
        "for epoch in range(N_EPOCHS):\n",
        "     \n",
        "    #train the bi_rnn\n",
        "    train_loss, train_acc = train2(bi_rnn, train_iterator, optimizer, criterion)\n",
        "    train_loss_hist.append(train_loss)\n",
        "    train_acc_hist.append(train_acc)\n",
        "    \n",
        "    #evaluate the bi_rnn\n",
        "    valid_loss, valid_acc = evaluate(bi_rnn, valid_iterator, criterion)\n",
        "    val_loss_hist.append(valid_loss)\n",
        "    val_acc_hist.append(valid_acc)\n",
        "\n",
        "    print(\"Epoch:\", epoch + 1)\n",
        "    print(f'\\tTrain Loss: {train_loss:.3f} | Train Acc: {train_acc*100:.2f}%')\n",
        "    print(f'\\tVal. Loss: {valid_loss:.3f} |  Val. Acc: {valid_acc*100:.2f}%')"
      ],
      "execution_count": null,
      "outputs": [
        {
          "output_type": "stream",
          "text": [
            "Epoch: 1\n",
            "\tTrain Loss: 0.185 | Train Acc: 93.16%\n",
            "\tVal. Loss: 0.103 |  Val. Acc: 95.59%\n",
            "Epoch: 2\n",
            "\tTrain Loss: 0.085 | Train Acc: 97.34%\n",
            "\tVal. Loss: 0.079 |  Val. Acc: 96.85%\n",
            "Epoch: 3\n",
            "\tTrain Loss: 0.057 | Train Acc: 98.19%\n",
            "\tVal. Loss: 0.063 |  Val. Acc: 97.12%\n",
            "Epoch: 4\n",
            "\tTrain Loss: 0.033 | Train Acc: 99.12%\n",
            "\tVal. Loss: 0.052 |  Val. Acc: 97.66%\n",
            "Epoch: 5\n",
            "\tTrain Loss: 0.030 | Train Acc: 99.23%\n",
            "\tVal. Loss: 0.049 |  Val. Acc: 97.93%\n",
            "Epoch: 6\n",
            "\tTrain Loss: 0.017 | Train Acc: 99.59%\n",
            "\tVal. Loss: 0.047 |  Val. Acc: 98.02%\n",
            "Epoch: 7\n",
            "\tTrain Loss: 0.013 | Train Acc: 99.61%\n",
            "\tVal. Loss: 0.052 |  Val. Acc: 97.93%\n",
            "Epoch: 8\n",
            "\tTrain Loss: 0.012 | Train Acc: 99.64%\n",
            "\tVal. Loss: 0.051 |  Val. Acc: 98.20%\n",
            "Epoch: 9\n",
            "\tTrain Loss: 0.013 | Train Acc: 99.69%\n",
            "\tVal. Loss: 0.041 |  Val. Acc: 98.38%\n",
            "Epoch: 10\n",
            "\tTrain Loss: 0.005 | Train Acc: 99.87%\n",
            "\tVal. Loss: 0.056 |  Val. Acc: 98.02%\n"
          ],
          "name": "stdout"
        }
      ]
    },
    {
      "cell_type": "code",
      "metadata": {
        "colab": {
          "base_uri": "https://localhost:8080/",
          "height": 573
        },
        "id": "7UlxW7Fn6eNz",
        "outputId": "333b448d-15a3-4c6e-f69a-33ae3a60927d"
      },
      "source": [
        "# Plot Results\n",
        "import matplotlib.pyplot as plt\n",
        "import numpy as np\n",
        "\n",
        "val_acc_history = [h*100 for h in val_acc_hist]\n",
        "train_acc_history = [h*100 for h in train_acc_hist]\n",
        "\n",
        "plt.title(\"RNN: Accuracy vs. Epochs\")\n",
        "plt.xlabel(\"Epochs\")\n",
        "plt.ylabel(\"Accuracy (%)\")\n",
        "plt.plot(range(0,N_EPOCHS), val_acc_history, label=\"Validation\", color=\"purple\", linewidth=2)\n",
        "plt.plot(range(0,N_EPOCHS), train_acc_history, label=\"Training\", color=\"lightblue\", linewidth=2)\n",
        "plt.ylim((90,100))\n",
        "plt.xticks(np.arange(0, N_EPOCHS, 1))\n",
        "plt.legend()\n",
        "plt.show()\n",
        "\n",
        "val_loss_history = [h for h in val_loss_hist]\n",
        "train_loss_history = [h for h in train_loss_hist]\n",
        "\n",
        "plt.title(\"RNN: Loss vs. Epochs\")\n",
        "plt.xlabel(\"Epochs\")\n",
        "plt.ylabel(\"Loss\")\n",
        "plt.plot(range(0,N_EPOCHS), val_loss_history, label=\"Validation\", color=\"purple\", linewidth=2)\n",
        "plt.plot(range(0,N_EPOCHS), train_loss_history, label=\"Training\", color=\"lightblue\", linewidth=2)\n",
        "plt.ylim((0.0,0.3))\n",
        "plt.xticks(np.arange(0, N_EPOCHS, 1))\n",
        "plt.legend()\n",
        "plt.show()"
      ],
      "execution_count": null,
      "outputs": [
        {
          "output_type": "display_data",
          "data": {
            "image/png": "[encoded data removed]",
            "text/plain": [
              "<Figure size 432x288 with 1 Axes>"
            ]
          },
          "metadata": {
            "tags": [],
            "needs_background": "light"
          }
        },
        {
          "output_type": "display_data",
          "data": {
            "image/png": "[encoded data removed]",
            "text/plain": [
              "<Figure size 432x288 with 1 Axes>"
            ]
          },
          "metadata": {
            "tags": [],
            "needs_background": "light"
          }
        }
      ]
    },
    {
      "cell_type": "code",
      "metadata": {
        "colab": {
          "base_uri": "https://localhost:8080/"
        },
        "id": "iHJAKSJNV7fr",
        "outputId": "8d55527a-daca-4b4e-ace4-8aee0c9260ef"
      },
      "source": [
        "_, test_accuracy = evaluate(bi_rnn, test_iterator, criterion)\n",
        "print(\"Accuracy in Test set was: \", round(test_accuracy*100,2), \"%\")"
      ],
      "execution_count": null,
      "outputs": [
        {
          "output_type": "stream",
          "text": [
            "Accuracy in Test set was:  98.19 %\n"
          ],
          "name": "stdout"
        }
      ]
    },
    {
      "cell_type": "markdown",
      "metadata": {
        "id": "L8-Z4xwV7g8T"
      },
      "source": [
        "Este último modelo presenta muy buenos resultados, llegando a una pérdida casi 0 en el set de test, y un 98% de precisión en set de validacion y de test. Si bien el número de parámetros disminuyó considerablemente (por la reducción de dimensiones a la mitad en el embedding), el tiempo de entrenamiento no fue menor a otros modelos, sin duda debido a la bidireccion, teniendo que pasar cada secuencia dos veces por la red.\n"
      ]
    },
    {
      "cell_type": "markdown",
      "metadata": {
        "id": "fftbs6XQIX2d"
      },
      "source": [
        "##Parte 2"
      ]
    },
    {
      "cell_type": "markdown",
      "metadata": {
        "id": "hNaAUkgxig8u"
      },
      "source": [
        "###Actividad 6 y 7"
      ]
    },
    {
      "cell_type": "code",
      "metadata": {
        "id": "3tUPnlHuJ3nO"
      },
      "source": [
        "# config.py\n",
        "\n",
        "class PathConfig:\n",
        "    ROOT_DIR = my_dir\n",
        "    DATA_DIR = ROOT_DIR + \"data/\"\n",
        "    CACHE_DIR = ROOT_DIR + \"cache/\"\n",
        "    MODEL_PATH = ROOT_DIR + \"model/\"\n",
        "\n",
        "    SICK_FILE = DATA_DIR + \"SICK.txt\"\n",
        "    W2V_FILE = DATA_DIR + \"GoogleNews-vectors-negative300.bin.gz\"\n",
        "\n",
        "    RAW_SICK_CACHE = CACHE_DIR + \"SICK.raw.cache\"\n",
        "    RAW_KES_CACHE = CACHE_DIR + \"KES.raw.cache\"\n",
        "    SICK_CACHE = CACHE_DIR + \"SICK.cache\"\n",
        "    KES_CACHE = CACHE_DIR + \"KES.cache\"\n",
        "\n",
        "class NetworkConfig:\n",
        "    EMBEDDING_DIM = 300\n",
        "    HIDDEN_SIZE = 50\n",
        "    BATCH_SIZE = 64\n",
        "    EPOCH = 50"
      ],
      "execution_count": 4,
      "outputs": []
    },
    {
      "cell_type": "code",
      "metadata": {
        "id": "Iei-FqO3KMTW"
      },
      "source": [
        "# utils.common \n",
        "\n",
        "import sys\n",
        "\n",
        "class ProgressBar:\n",
        "    def __init__(self, total, headline, bar_length=100):\n",
        "        self.total = total\n",
        "        self.bar_length = bar_length\n",
        "\n",
        "        print(headline)\n",
        "\n",
        "    def refresh(self, progress):\n",
        "        percent = progress / self.total\n",
        "\n",
        "        hashes = '#' * int(percent * self.bar_length)\n",
        "        spaces = ' ' * (self.bar_length - len(hashes))\n",
        "\n",
        "        sys.stdout.write(\"\\r|%s[%.2f%%]%s| %s/%d\" %\n",
        "                         (hashes, percent * 100, spaces, str(progress).rjust(len(str(self.total))), self.total))\n",
        "        sys.stdout.flush()\n",
        "\n",
        "    def finish(self, report):\n",
        "        print(\"\\n%s (total: %d)\\n\" % (report, self.total))"
      ],
      "execution_count": 5,
      "outputs": []
    },
    {
      "cell_type": "code",
      "metadata": {
        "id": "yV_U4ZeNIbaW"
      },
      "source": [
        "# utils.data\n",
        "\n",
        "import abc\n",
        "import re\n",
        "import random\n",
        "import numpy\n",
        "import os\n",
        "import pickle\n",
        "\n",
        "from functools import reduce\n",
        "from nltk.corpus import stopwords\n",
        "import nltk\n",
        "nltk.download('stopwords')\n",
        "\n",
        "#from config import PathConfig, NetworkConfig\n",
        "#from utils.common import ProgressBar\n",
        "#from utils.db import Db\n",
        "\n",
        "import warnings\n",
        "warnings.filterwarnings(action=\"ignore\", category=UserWarning, module=\"gensim\")\n",
        "from gensim.models import KeyedVectors\n",
        "\n",
        "\n",
        "class Data(metaclass=abc.ABCMeta):\n",
        "    __data__ = {\"train\": [[], []],\n",
        "                \"test\": [[], []],\n",
        "                \"validation\": [[], []],\n",
        "                \"max_seq_len\": 0,\n",
        "                \"embeddings\": numpy.zeros(0)}\n",
        "\n",
        "    @staticmethod\n",
        "    def __text__cleaning__(text):\n",
        "        text = str(text).lower()\n",
        "        text = re.sub(r\"[!@#$%^&*()\\-_+=\\[{\\]};:'\\\",<.>/?\\\\|~]\", \" \", text)\n",
        "        text = re.sub(r\"\\d+\", \" \", text)\n",
        "        text = re.sub(r\"[\\n\\r\\t]\", \" \", text)\n",
        "        text = re.sub(r\"\\ss\\s\", \" \", text)\n",
        "        text = re.sub(r\"\\sre\\s\", \" \", text)\n",
        "        text = re.sub(r\"\\sve\\s\", \" \", text)\n",
        "        text = re.sub(r\"\\sd\\s\", \" \", text)\n",
        "        text = re.sub(r\"\\sll\\s\", \" \", text)\n",
        "        text = re.sub(r\"\\sm\\s\", \" \", text)\n",
        "        text = re.sub(r\"\\st\\s\", \" \", text)\n",
        "\n",
        "        return text.strip()\n",
        "\n",
        "    @classmethod\n",
        "    def __load__cache__(cls, cache_path):\n",
        "        if not os.path.exists(cache_path):\n",
        "            return False\n",
        "\n",
        "        with open(cache_path, \"rb\") as cache_file:\n",
        "            cls.__data__ = pickle.load(cache_file)\n",
        "\n",
        "        return True\n",
        "\n",
        "    @classmethod\n",
        "    def __cache__(cls, cache_path):\n",
        "        with open(cache_path, \"wb\") as cache_file:\n",
        "            print(\"Caching into %s...\" % cache_path)\n",
        "            pickle.dump(cls.__data__, cache_file)\n",
        "            print(\"Cached.\\n\")\n",
        "\n",
        "    @classmethod\n",
        "    def __generate__(cls):\n",
        "        print(\"Loading word2vec from '%s'...\" % PathConfig.W2V_FILE)\n",
        "        word2vec = KeyedVectors.load_word2vec_format(PathConfig.W2V_FILE, binary=True)\n",
        "        print(\"Word2vec has been loaded.\\n\")\n",
        "\n",
        "        stops = set(stopwords.words(\"english\"))\n",
        "        vocabulary = dict()\n",
        "        inverse_vocabulary = [\"<UNKNOWN>\"]\n",
        "        max_seq_len = 0\n",
        "\n",
        "        bar = ProgressBar(len(cls.__data__[\"train\"][1]) +\n",
        "                          len(cls.__data__[\"test\"][1]) +\n",
        "                          len(cls.__data__[\"validation\"][1]),\n",
        "                          \"Generating numeric inputs...\")\n",
        "        progress = 0\n",
        "\n",
        "        for set_name in \"train\", \"test\", \"validation\":\n",
        "            raw_X = cls.__data__[set_name][0]\n",
        "            Y = cls.__data__[set_name][1]\n",
        "\n",
        "            X = []\n",
        "            for pair in raw_X:\n",
        "                numerated_pair = []\n",
        "                for sentence in pair:\n",
        "                    numerated_sentence = []\n",
        "                    word_list = sentence.split(\" \")\n",
        "                    for word in word_list:\n",
        "                        if word in stops and word not in word2vec:\n",
        "                            continue\n",
        "\n",
        "                        if word not in vocabulary:\n",
        "                            vocabulary[word] = len(inverse_vocabulary)\n",
        "                            numerated_sentence.append(vocabulary[word])\n",
        "                            inverse_vocabulary.append(word)\n",
        "                        else:\n",
        "                            numerated_sentence.append(vocabulary[word])\n",
        "                    numerated_pair.append(numerated_sentence)\n",
        "\n",
        "                    if len(numerated_sentence) > max_seq_len:\n",
        "                        max_seq_len = len(numerated_sentence)\n",
        "\n",
        "                progress += 1\n",
        "                bar.refresh(progress)\n",
        "\n",
        "                X.append(numerated_pair)\n",
        "\n",
        "            cls.__data__[set_name] = [X, Y]\n",
        "            cls.__data__[\"max_seq_len\"] = max_seq_len\n",
        "\n",
        "        bar.finish(\"Numeric inputs has been generated.\")\n",
        "\n",
        "        bar = ProgressBar(len(vocabulary), \"Generating word embeddings...\")\n",
        "        progress = 0\n",
        "\n",
        "        embeddings = 1 * numpy.random.randn(len(vocabulary) + 1, NetworkConfig.EMBEDDING_DIM)\n",
        "        for word, index in vocabulary.items():\n",
        "            progress += 1\n",
        "            bar.refresh(progress)\n",
        "            if word in word2vec:\n",
        "                embeddings[index] = word2vec[word]\n",
        "        embeddings[0] = 0\n",
        "        cls.__data__[\"embeddings\"] = embeddings\n",
        "\n",
        "        bar.finish(\"Word embeddings has been generated.\")\n",
        "\n",
        "    @abc.abstractmethod\n",
        "    def load(self):\n",
        "        return self\n",
        "\n",
        "    @abc.abstractmethod\n",
        "    def generate(self):\n",
        "        return None\n",
        "\n",
        "    @staticmethod\n",
        "    def batches(data):\n",
        "        X, Y = data[0], data[1]\n",
        "        for i in range(0, len(X), NetworkConfig.BATCH_SIZE):\n",
        "            remaining = len(X) - i\n",
        "            if remaining < NetworkConfig.BATCH_SIZE:\n",
        "                X_supplement = [[[0], [0]] for _ in range(NetworkConfig.BATCH_SIZE - remaining)]\n",
        "                Y_supplement = [1.0 for _ in range(NetworkConfig.BATCH_SIZE - remaining)]\n",
        "                batch = [X[i:] + X_supplement, Y[i:] + Y_supplement]\n",
        "            else:\n",
        "                batch = [X[i: i + NetworkConfig.BATCH_SIZE], Y[i: i + NetworkConfig.BATCH_SIZE]]\n",
        "            yield batch\n",
        "\n",
        "\n",
        "class SICK(Data):\n",
        "    @classmethod\n",
        "    def load(cls):\n",
        "        if cls.__load__cache__(PathConfig.RAW_SICK_CACHE):\n",
        "            print(\"Raw SICK data cache has been loaded from %s\\n\" % PathConfig.RAW_SICK_CACHE)\n",
        "            return cls\n",
        "\n",
        "        with open(PathConfig.SICK_FILE, \"r\", encoding=\"utf-8\") as SICK_file:\n",
        "            lines = SICK_file.readlines()\n",
        "            bar = ProgressBar(len(lines) - 1, \"Loading raw SICK data...\")\n",
        "            progress = 0\n",
        "\n",
        "            for line in lines[1:]:\n",
        "                elements = line.split(\"\\t\")\n",
        "                sentence_A, sentence_B, relatedness_score = \\\n",
        "                    cls.__text__cleaning__(elements[1]), cls.__text__cleaning__(elements[2]), float(elements[4])\n",
        "                chance = random.randint(0,100)\n",
        "                #SemEval_set = \"validation\" if elements[11].strip() == \"TRIAL\" else elements[11].strip().lower()\n",
        "                if chance <= 70:\n",
        "                  SemEval_set = \"train\"\n",
        "                elif 90 >= chance > 70:\n",
        "                  SemEval_set = \"validation\"\n",
        "                elif chance > 90:\n",
        "                  SemEval_set = \"test\"\n",
        "\n",
        "                cls.__data__[SemEval_set][0].append((sentence_A, sentence_B))\n",
        "                cls.__data__[SemEval_set][1].append(relatedness_score / 5)\n",
        "\n",
        "                progress += 1\n",
        "                bar.refresh(progress)\n",
        "\n",
        "        bar.finish(\"Raw SICK data has been loaded.\")\n",
        "        cls.__cache__(PathConfig.RAW_SICK_CACHE)\n",
        "\n",
        "        return cls\n",
        "\n",
        "    @classmethod\n",
        "    def generate(cls):\n",
        "        if cls.__load__cache__(PathConfig.SICK_CACHE):\n",
        "            print(\"Numeric SICK inputs cache has been loaded from %s\\n\" % PathConfig.SICK_CACHE)\n",
        "            return cls.__data__\n",
        "\n",
        "        cls.__generate__()\n",
        "        cls.__cache__(PathConfig.SICK_CACHE)\n",
        "\n",
        "        return cls.__data__\n"
      ],
      "execution_count": null,
      "outputs": []
    },
    {
      "cell_type": "code",
      "metadata": {
        "id": "Q6u9vzjcLakH"
      },
      "source": [
        "# network.py\n",
        "\n",
        "import torch\n",
        "import copy\n",
        "import time\n",
        "import numpy\n",
        "\n",
        "from enum import Enum\n",
        "from math import ceil\n",
        "#from config import PathConfig, NetworkConfig\n",
        "#from utils.data import Data\n",
        "#from utils.common import ProgressBar\n",
        "\n",
        "\n",
        "class MaLSTM(torch.nn.Module):\n",
        "    @staticmethod\n",
        "    def exponent_neg_manhattan_distance(left, right):\n",
        "        pairwise_distance = torch.nn.PairwiseDistance(p=1).cuda()\n",
        "        return torch.exp(-pairwise_distance(left, right)).cuda()\n",
        "\n",
        "    def __init__(self, max_seq_len, embeddings):\n",
        "        super(MaLSTM, self).__init__()\n",
        "\n",
        "        self.max_seq_len = max_seq_len\n",
        "\n",
        "        self.embedding_layer = torch.nn.Embedding(len(embeddings), NetworkConfig.EMBEDDING_DIM).cuda()\n",
        "        self.embedding_layer.weight.data.copy_(torch.from_numpy(embeddings))\n",
        "        self.embedding_layer.weight.requires_grad = False\n",
        "\n",
        "        self.left_hidden_layer = torch.nn.LSTM(input_size=NetworkConfig.EMBEDDING_DIM,\n",
        "                                               hidden_size=NetworkConfig.HIDDEN_SIZE).cuda()\n",
        "        self.right_hidden_layer = torch.nn.LSTM(input_size=NetworkConfig.EMBEDDING_DIM,\n",
        "                                                hidden_size=NetworkConfig.HIDDEN_SIZE).cuda()\n",
        "\n",
        "    def padding_input(self, rand_len_inputs):\n",
        "        padded = []\n",
        "        for rand_len_input in rand_len_inputs:\n",
        "            padding_len = self.max_seq_len - len(rand_len_input)\n",
        "            padding = [0 for _ in range(padding_len)]\n",
        "            padded.append(padding + rand_len_input)\n",
        "        return torch.LongTensor(padded).cuda()\n",
        "\n",
        "    def forward(self, X_batch):\n",
        "        left_input = [X_batch[i][0] for i in range(NetworkConfig.BATCH_SIZE)]\n",
        "        right_input = [X_batch[i][1] for i in range(NetworkConfig.BATCH_SIZE)]\n",
        "\n",
        "        encoded_left_input = self.embedding_layer(self.padding_input(left_input))\n",
        "        encoded_right_input = self.embedding_layer(self.padding_input(right_input))\n",
        "\n",
        "        _, (left_h, _) = self.left_hidden_layer(encoded_left_input.view(self.max_seq_len,\n",
        "                                                                        NetworkConfig.BATCH_SIZE,\n",
        "                                                                        NetworkConfig.EMBEDDING_DIM))\n",
        "        _, (right_h, _) = self.right_hidden_layer(encoded_right_input.view(self.max_seq_len,\n",
        "                                                                           NetworkConfig.BATCH_SIZE,\n",
        "                                                                           NetworkConfig.EMBEDDING_DIM))\n",
        "        #print(\"Left hidden:\")\n",
        "        #print(\"Shape\", left_h.shape)\n",
        "        #print(\"type\", type(left_h))\n",
        "        #print(\"Shape 0\", left_h[0].shape)\n",
        "        #print(\"type 0\", type(left_h[0]))\n",
        "        return MaLSTM.exponent_neg_manhattan_distance(left_h[0], right_h[0])\n",
        "\n",
        "\n",
        "class Network:\n",
        "    class Phase(Enum):\n",
        "        TRAIN = 1\n",
        "        TRIAL = 2\n",
        "\n",
        "        def __str__(self):\n",
        "            if self is Network.Phase.TRAIN:\n",
        "                return \"train\"\n",
        "            else:\n",
        "                return \"validation\"\n",
        "\n",
        "    def __init__(self, model, loss_function, optimizer, data, lr_scheduler=None):\n",
        "        self.model = model\n",
        "        self.loss_function = loss_function\n",
        "        self.optimizer = optimizer\n",
        "        self.data = data\n",
        "        self.lr_scheduler = lr_scheduler\n",
        "\n",
        "    @staticmethod\n",
        "    def exp_lr_scheduler(optimizer, epoch, init_lr=0.1, decay_every=8):\n",
        "        lr = init_lr * (0.1 ** (epoch // decay_every))\n",
        "\n",
        "        if epoch % decay_every == 0:\n",
        "            print(\"Learning rate has been set to %f\" % lr)\n",
        "\n",
        "        for param_group in optimizer.param_groups:\n",
        "            param_group[\"lr\"] = lr\n",
        "\n",
        "        return optimizer\n",
        "\n",
        "    def optimize(self, save_name=None):\n",
        "        best_model = self.model\n",
        "        min_loss = float(\"inf\")\n",
        "\n",
        "        total = 0\n",
        "        for phase in Network.Phase:\n",
        "            total += NetworkConfig.EPOCH * \\\n",
        "                     ceil(len(self.data[str(phase)][0]) / NetworkConfig.BATCH_SIZE) * NetworkConfig.BATCH_SIZE\n",
        "        bar = ProgressBar(total, \"Training model...\")\n",
        "        progress = 0\n",
        "\n",
        "        val_acc_hist = []\n",
        "        train_acc_hist = []\n",
        "        val_loss_hist = []\n",
        "        train_loss_hist = []\n",
        "        for epoch in range(NetworkConfig.EPOCH):\n",
        "            for phase in Network.Phase:\n",
        "                if phase is Network.Phase.TRAIN:\n",
        "                    if self.lr_scheduler:\n",
        "                        self.model = self.lr_scheduler(self.model, NetworkConfig.EPOCH)\n",
        "                    self.model.train()\n",
        "                else:\n",
        "                    self.model.eval()\n",
        "\n",
        "                running_loss = 0.0\n",
        "                total = ceil(len(self.data[str(phase)][0]) / NetworkConfig.BATCH_SIZE) * NetworkConfig.BATCH_SIZE\n",
        "                correct_count = 0\n",
        "\n",
        "                for batch in Data.batches(self.data[str(phase)]):\n",
        "                    self.optimizer.zero_grad()\n",
        "\n",
        "                    X, Y = batch[0], torch.Tensor(batch[1]).cuda()\n",
        "                    #print(\"Datos:\", type(X), X[0], X)\n",
        "                    output = self.model(X) # aca seria output1, output2 = self.model(X)\n",
        "                    #print(\"Output:\", output.shape, output[0], output)\n",
        "                    #print(\"Targets:\", Y.shape, Y[0], Y)\n",
        "                    loss = self.loss_function(output, Y)\n",
        "                    #print(\"Loss:\", type(loss), loss)\n",
        "\n",
        "                    output = numpy.round(output.cpu().detach().numpy() * 5)\n",
        "                    Y = numpy.round(numpy.array(Y.cpu()) * 5)\n",
        "                    correct_count += numpy.sum(output == Y)\n",
        "\n",
        "                    if phase is Network.Phase.TRAIN:\n",
        "                        loss.backward()\n",
        "                        self.optimizer.step()\n",
        "\n",
        "                    progress += NetworkConfig.BATCH_SIZE\n",
        "                    bar.refresh(progress)\n",
        "\n",
        "                    running_loss += loss.data.cpu().numpy()\n",
        "                    #correct_count += numpy.sum(output == Y)\n",
        "\n",
        "                epoch_loss = running_loss / len(self.data[str(phase)])\n",
        "                epoch_acc = correct_count / total\n",
        "                if phase is Network.Phase.TRAIN:\n",
        "                  train_loss_hist.append(epoch_loss)\n",
        "                  train_acc_hist.append(epoch_acc)\n",
        "                if phase is Network.Phase.TRIAL:\n",
        "                  val_loss_hist.append(epoch_loss)\n",
        "                  val_acc_hist.append(epoch_acc)\n",
        "\n",
        "                if phase is Network.Phase.TRIAL and epoch_loss < min_loss:\n",
        "                    best_model = copy.deepcopy(self.model)\n",
        "                    min_loss = epoch_loss\n",
        "\n",
        "        bar.finish(\"Model has been optimized in %d epochs with %f as its minimal loss.\"\n",
        "                   % (NetworkConfig.EPOCH, min_loss))\n",
        "\n",
        "        if save_name is None:\n",
        "            save_name = time.strftime(\"%Y%m%d_%H%M%S\")\n",
        "        save_path = \"%s%s.mdl\" % (PathConfig.MODEL_PATH, save_name)\n",
        "        print(\"[SKIPPED] Saving model into %s...\" % save_path)\n",
        "        #torch.save(best_model, save_path)\n",
        "        #print(\"Saved.\\n\")\n",
        "\n",
        "        self.model = best_model\n",
        "\n",
        "        return val_acc_hist, train_acc_hist, val_loss_hist, train_loss_hist\n",
        "\n",
        "    def evaluate(self, save_name=None):\n",
        "        if save_name is None:\n",
        "            model = self.model.cuda()\n",
        "        else:\n",
        "            save_path = \"%s%s.mdl\" % (PathConfig.MODEL_PATH, save_name)\n",
        "            print(\"Loading model from %s...\" % save_path)\n",
        "            model = torch.load(save_path).cuda()\n",
        "            print(\"Loaded.\\n\")\n",
        "\n",
        "        total = ceil(len(self.data[\"test\"][0]) / NetworkConfig.BATCH_SIZE) * NetworkConfig.BATCH_SIZE\n",
        "        correct_count = 0\n",
        "\n",
        "        bar = ProgressBar(total, \"Testing model...\")\n",
        "        progress = 0\n",
        "\n",
        "        for batch in Data.batches(self.data[\"test\"]):\n",
        "            X, Y = batch[0], batch[1]\n",
        "            output = model(X)\n",
        "\n",
        "            output = numpy.array(output.cpu().detach().numpy()) * 5 #numpy.round(output.cpu().detach().numpy() * 5)\n",
        "            Y = numpy.array(Y) * 5 #numpy.round(numpy.array(Y) * 5)\n",
        "            #print(type(output), output)\n",
        "            #print(type(Y), Y)\n",
        "            for i in range(len(output)):\n",
        "              if Y[i]*0.8 <= output[i] <= Y[i]*1.2 :\n",
        "                correct_count += 1\n",
        "            #correct_count += numpy.sum(output == Y)\n",
        "\n",
        "            progress += NetworkConfig.BATCH_SIZE\n",
        "            bar.refresh(progress)\n",
        "\n",
        "        bar.finish(\"Accuracy: %f\" % (correct_count / total))"
      ],
      "execution_count": 7,
      "outputs": []
    },
    {
      "cell_type": "code",
      "metadata": {
        "colab": {
          "base_uri": "https://localhost:8080/"
        },
        "id": "e9GCqfzwSl8Q",
        "outputId": "456789f0-bf92-47e1-bab3-546a29bffd67"
      },
      "source": [
        "# load SICK dataset and Word2Vec embedding\n",
        "sick = SICK.load().generate()\n",
        "print(\"Data:\", sick[\"train\"][0][:2]) # lista de listas con dos elementos, correspondientes a pares frase con sus palabras pasadas a indices\n",
        "print(\"labels\", sick[\"train\"][1][:2]) # labels correspondientes, numero del 0 al 1, (escalado desde 0 a 5) representa el % de similitud semántica\n",
        "print(\"Training data: \", len(sick[\"train\"][0]))\n",
        "print(\"Validation data: \", len(sick[\"validation\"][0]))\n",
        "print(\"Test data: \", len(sick[\"test\"][0]))\n"
      ],
      "execution_count": 8,
      "outputs": [
        {
          "output_type": "stream",
          "text": [
            "Raw SICK data cache has been loaded from /content/drive/MyDrive/DL/T2/cache/SICK.raw.cache\n",
            "\n",
            "Numeric SICK inputs cache has been loaded from /content/drive/MyDrive/DL/T2/cache/SICK.cache\n",
            "\n",
            "Data: [[[1, 2, 3, 4, 5, 6, 7, 8, 3, 9, 10, 11, 5, 6, 12], [1, 13, 3, 4, 5, 14, 15, 16, 10, 3, 11, 5, 6, 12]], [[6, 17, 18, 19, 4, 20, 6, 10, 3, 21, 22], [6, 13, 19, 4, 20, 23, 10, 24, 25]]]\n",
            "labels [0.64, 0.9400000000000001]\n",
            "Training data:  6885\n",
            "Validation data:  2006\n",
            "Test data:  949\n"
          ],
          "name": "stdout"
        }
      ]
    },
    {
      "cell_type": "markdown",
      "metadata": {
        "id": "qJ6bj-U8V3vp"
      },
      "source": [
        "El dataset de SICK, contiene un total de 9.927 entradas que corresponden a pares de frases rotuladas. Cada par de frases tiene un label que indica qué tan relacionadas están ambas oraciones en su significado, mediante un número continuo del 1 al 5. Este número fue obtenido mediante el promedio de puntuaciones de relación indicadas por 10 personas diferentes para cada par de frases. SICK contiene más rótulos (por ejemplo, estableciendo si las oraciones son contradictorias, neutrales, o concordantes), sin embargo estos no son utilizados para entrenar esta red siamesa.\n",
        "\n",
        "Además, Mueller et al. expanden el dataset empleando Data Augmentation, logrando duplicar aproximadamente la cantidad de datos originales al agregar 10.022 entradas adicionales. Esto se obtiene reemplazando palabras aleatorias con alguno de sus sinónimos presentes en WordNet. Para el entrenamiento, usan 70% de los datos, dejando un 30% para validar sus resultados."
      ]
    },
    {
      "cell_type": "code",
      "metadata": {
        "id": "pLPSkIdAMcgv",
        "colab": {
          "base_uri": "https://localhost:8080/"
        },
        "outputId": "be38d0ee-b137-4b74-9d9c-0cd11fa3978a"
      },
      "source": [
        "# instance model\n",
        "import torch\n",
        "\n",
        "model = MaLSTM(sick[\"max_seq_len\"], sick[\"embeddings\"])\n",
        "print(model)\n",
        "\n",
        "def num_trainable_parameters(model):\n",
        "  return sum(p.numel() for p in model.parameters() if p.requires_grad)\n",
        "\n",
        "print(\"The model has {} parameters\".format(num_trainable_parameters(model)))\n",
        "\n",
        "loss_function = torch.nn.MSELoss().cuda()\n",
        "optimizer = torch.optim.Adadelta(model.parameters())\n",
        "network = Network(model, loss_function, optimizer, sick)"
      ],
      "execution_count": 9,
      "outputs": [
        {
          "output_type": "stream",
          "text": [
            "MaLSTM(\n",
            "  (embedding_layer): Embedding(2305, 300)\n",
            "  (left_hidden_layer): LSTM(300, 50)\n",
            "  (right_hidden_layer): LSTM(300, 50)\n",
            ")\n",
            "The model has 140800 parameters\n"
          ],
          "name": "stdout"
        }
      ]
    },
    {
      "cell_type": "code",
      "metadata": {
        "colab": {
          "base_uri": "https://localhost:8080/"
        },
        "id": "byBgbBdJd9my",
        "outputId": "06b19841-3569-49eb-9393-53a6c55ac4db"
      },
      "source": [
        "#Train model\n",
        "\n",
        "val_acc_hist, train_acc_hist, val_loss_hist, train_loss_hist = network.optimize()"
      ],
      "execution_count": 82,
      "outputs": [
        {
          "output_type": "stream",
          "text": [
            "Training model...\n",
            "|####################################################################################################[100.00%]| 448000/448000\n",
            "Model has been optimized in 50 epochs with 1.207320 as its minimal loss. (total: 448000)\n",
            "\n",
            "[SKIPPED] Saving model into /content/drive/MyDrive/DL/T2/model/20210607_235823.mdl...\n"
          ],
          "name": "stdout"
        }
      ]
    },
    {
      "cell_type": "code",
      "metadata": {
        "colab": {
          "base_uri": "https://localhost:8080/"
        },
        "id": "zpQX-6VJtFFr",
        "outputId": "a8c98706-53d0-45de-ec95-dbc764fe3039"
      },
      "source": [
        "#Test model\n",
        "\n",
        "network.evaluate()"
      ],
      "execution_count": 83,
      "outputs": [
        {
          "output_type": "stream",
          "text": [
            "Testing model...\n",
            "|####################################################################################################[100.00%]| 960/960\n",
            "Accuracy: 0.244792 (total: 960)\n",
            "\n"
          ],
          "name": "stdout"
        }
      ]
    },
    {
      "cell_type": "code",
      "metadata": {
        "colab": {
          "base_uri": "https://localhost:8080/",
          "height": 573
        },
        "id": "q7RRA4U7escL",
        "outputId": "dd7e1873-441f-4380-abac-705402514dcc"
      },
      "source": [
        "# Plot Results\n",
        "import matplotlib.pyplot as plt\n",
        "import numpy as np\n",
        "\n",
        "val_acc_history = [h*100 for h in val_acc_hist]\n",
        "train_acc_history = [h*100 for h in train_acc_hist]\n",
        "\n",
        "plt.title(\"Siamese LSTM: Accuracy vs. Epochs\")\n",
        "plt.xlabel(\"Epochs\")\n",
        "plt.ylabel(\"Accuracy (%)\")\n",
        "plt.plot(range(1,NetworkConfig.EPOCH+1), val_acc_history, label=\"Validation\", color=\"red\", linewidth=2)\n",
        "plt.plot(range(1,NetworkConfig.EPOCH+1), train_acc_history, label=\"Training\", color=\"orange\", linewidth=2)\n",
        "plt.ylim((0,100))\n",
        "plt.xticks(np.arange(0, NetworkConfig.EPOCH, 5))\n",
        "plt.legend()\n",
        "plt.show()\n",
        "\n",
        "val_loss_history = [h for h in val_loss_hist]\n",
        "train_loss_history = [h for h in train_loss_hist]\n",
        "\n",
        "plt.title(\"Siamese LSTM: Loss vs. Epochs\")\n",
        "plt.xlabel(\"Epochs\")\n",
        "plt.ylabel(\"Loss\")\n",
        "plt.plot(range(1,NetworkConfig.EPOCH+1), val_loss_history, label=\"Validation\", color=\"red\", linewidth=2)\n",
        "plt.plot(range(1,NetworkConfig.EPOCH+1), train_loss_history, label=\"Training\", color=\"orange\", linewidth=2)\n",
        "plt.ylim((0,10))\n",
        "plt.xticks(np.arange(0, NetworkConfig.EPOCH, 5))\n",
        "plt.legend()\n",
        "plt.show()"
      ],
      "execution_count": 84,
      "outputs": [
        {
          "output_type": "display_data",
          "data": {
            "image/png": "[encoded data removed]",
            "text/plain": [
              "<Figure size 432x288 with 1 Axes>"
            ]
          },
          "metadata": {
            "tags": [],
            "needs_background": "light"
          }
        },
        {
          "output_type": "display_data",
          "data": {
            "image/png": "[encoded data removed]",
            "text/plain": [
              "<Figure size 432x288 with 1 Axes>"
            ]
          },
          "metadata": {
            "tags": [],
            "needs_background": "light"
          }
        }
      ]
    },
    {
      "cell_type": "markdown",
      "metadata": {
        "id": "eeFYOMAJceVD"
      },
      "source": [
        "El modelo resultante cuenta con 140.800 parámetros, lo que es una cantidad menor a la utilizada en modelos anteriores, principalmente porque solo cuenta con una capa sin bidireccionalidad ni capas lineares densas. El embedding proveniente de Word2Vec genera la pirmera capa, la cual entrega un encoding de 300 dimensiones. Este tensor entra tanto al LSTM izquierdo, como al derecho, los cuales se encuentran con sus pesos atados y producen un output para la funcion de pérdida.\n",
        "\n",
        "Para este caso, la métrica de pérdida es Error cuadrático medio (MSELoss), con lo que alcanzamos un 1.2 de pérdida aprox. y una precisión cercana al 24%, esta métrica de rendimiento es debatible puesto que al calcularla se toman en cuenta solo los resultados iguales al número esperado, sin embargo fallando por un rango aceptable, el resultado sigue siendo útil. Podemos intuir de cualquier forma, que la red está aprendiendo de memoria los ejemplos, dado que su rendimiento en el set de test esta muy por sobre su rendimiento en validación o test.\n",
        "\n",
        "En la siguiente sección se construye una función de pérdida personalizada para probarla con el modelo\n"
      ]
    },
    {
      "cell_type": "code",
      "metadata": {
        "id": "mosjdU1j72Hn"
      },
      "source": [
        "# network.py\n",
        "\n",
        "import torch\n",
        "import copy\n",
        "import time\n",
        "import numpy\n",
        "\n",
        "from enum import Enum\n",
        "from math import ceil\n",
        "#from config import PathConfig, NetworkConfig\n",
        "#from utils.data import Data\n",
        "#from utils.common import ProgressBar\n",
        "\n",
        "\n",
        "class MaLSTM2(torch.nn.Module):\n",
        "    @staticmethod\n",
        "    def exponent_neg_manhattan_distance(left, right):\n",
        "        pairwise_distance = torch.nn.PairwiseDistance(p=1).cuda()\n",
        "        return torch.exp(-pairwise_distance(left, right)).cuda()\n",
        "\n",
        "    def __init__(self, max_seq_len, embeddings):\n",
        "        super(MaLSTM2, self).__init__()\n",
        "\n",
        "        self.max_seq_len = max_seq_len\n",
        "\n",
        "        self.embedding_layer = torch.nn.Embedding(len(embeddings), NetworkConfig.EMBEDDING_DIM).cuda()\n",
        "        self.embedding_layer.weight.data.copy_(torch.from_numpy(embeddings))\n",
        "        self.embedding_layer.weight.requires_grad = False\n",
        "\n",
        "        self.left_hidden_layer = torch.nn.LSTM(input_size=NetworkConfig.EMBEDDING_DIM,\n",
        "                                               hidden_size=NetworkConfig.HIDDEN_SIZE).cuda()\n",
        "        self.right_hidden_layer = torch.nn.LSTM(input_size=NetworkConfig.EMBEDDING_DIM,\n",
        "                                                hidden_size=NetworkConfig.HIDDEN_SIZE).cuda()\n",
        "\n",
        "    def padding_input(self, rand_len_inputs):\n",
        "        padded = []\n",
        "        for rand_len_input in rand_len_inputs:\n",
        "            padding_len = self.max_seq_len - len(rand_len_input)\n",
        "            padding = [0 for _ in range(padding_len)]\n",
        "            padded.append(padding + rand_len_input)\n",
        "        return torch.LongTensor(padded).cuda()\n",
        "\n",
        "    def forward(self, X_batch):\n",
        "        left_input = [X_batch[i][0] for i in range(NetworkConfig.BATCH_SIZE)]\n",
        "        right_input = [X_batch[i][1] for i in range(NetworkConfig.BATCH_SIZE)]\n",
        "\n",
        "        encoded_left_input = self.embedding_layer(self.padding_input(left_input))\n",
        "        encoded_right_input = self.embedding_layer(self.padding_input(right_input))\n",
        "\n",
        "        _, (left_h, _) = self.left_hidden_layer(encoded_left_input.view(self.max_seq_len,\n",
        "                                                                        NetworkConfig.BATCH_SIZE,\n",
        "                                                                        NetworkConfig.EMBEDDING_DIM))\n",
        "        _, (right_h, _) = self.right_hidden_layer(encoded_right_input.view(self.max_seq_len,\n",
        "                                                                           NetworkConfig.BATCH_SIZE,\n",
        "                                                                           NetworkConfig.EMBEDDING_DIM))\n",
        "        #print(\"Left hidden:\")\n",
        "        #print(\"Shape\", left_h.shape)\n",
        "        #print(\"type\", type(left_h))\n",
        "        #print(\"Shape 0\", left_h[0].shape)\n",
        "        #print(\"type 0\", type(left_h[0]))\n",
        "        return left_h[0], right_h[0]\n",
        "\n",
        "\n",
        "class Network:\n",
        "    class Phase(Enum):\n",
        "        TRAIN = 1\n",
        "        TRIAL = 2\n",
        "\n",
        "        def __str__(self):\n",
        "            if self is Network.Phase.TRAIN:\n",
        "                return \"train\"\n",
        "            else:\n",
        "                return \"validation\"\n",
        "\n",
        "    def __init__(self, model, loss_function, optimizer, data, lr_scheduler=None):\n",
        "        self.model = model\n",
        "        self.loss_function = loss_function\n",
        "        self.optimizer = optimizer\n",
        "        self.data = data\n",
        "        self.lr_scheduler = lr_scheduler\n",
        "\n",
        "    @staticmethod\n",
        "    def exp_lr_scheduler(optimizer, epoch, init_lr=0.01, decay_every=8):\n",
        "        lr = init_lr * (0.1 ** (epoch // decay_every))\n",
        "\n",
        "        if epoch % decay_every == 0:\n",
        "            print(\"Learning rate has been set to %f\" % lr)\n",
        "\n",
        "        for param_group in optimizer.param_groups:\n",
        "            param_group[\"lr\"] = lr\n",
        "\n",
        "        return optimizer\n",
        "\n",
        "    def optimize(self, save_name=None):\n",
        "        best_model = self.model\n",
        "        min_loss = float(\"inf\")\n",
        "\n",
        "        total = 0\n",
        "        for phase in Network.Phase:\n",
        "            total += NetworkConfig.EPOCH * \\\n",
        "                     ceil(len(self.data[str(phase)][0]) / NetworkConfig.BATCH_SIZE) * NetworkConfig.BATCH_SIZE\n",
        "        bar = ProgressBar(total, \"Training model...\")\n",
        "        progress = 0\n",
        "\n",
        "        val_acc_hist = []\n",
        "        train_acc_hist = []\n",
        "        val_loss_hist = []\n",
        "        train_loss_hist = []\n",
        "        for epoch in range(NetworkConfig.EPOCH):\n",
        "            for phase in Network.Phase:\n",
        "                if phase is Network.Phase.TRAIN:\n",
        "                    if self.lr_scheduler:\n",
        "                        self.model = self.lr_scheduler(self.model, NetworkConfig.EPOCH)\n",
        "                    self.model.train()\n",
        "                else:\n",
        "                    self.model.eval()\n",
        "\n",
        "                running_loss = 0.0\n",
        "                total = ceil(len(self.data[str(phase)][0]) / NetworkConfig.BATCH_SIZE) * NetworkConfig.BATCH_SIZE\n",
        "                correct_count = 0\n",
        "\n",
        "                for batch in Data.batches(self.data[str(phase)]):\n",
        "                    self.optimizer.zero_grad()\n",
        "\n",
        "                    X, Y = batch[0], torch.Tensor(batch[1]).cuda()\n",
        "                    #print(\"Datos:\", type(X), X[0], X)\n",
        "                    output_left, output_right = self.model(X)\n",
        "                    #print(\"Output:\", output.shape, output[0], output)\n",
        "                    #print(\"Targets:\", Y.shape, Y[0], Y)\n",
        "                    loss = self.loss_function(output_left, output_right, Y)\n",
        "                    #print(\"Loss:\", type(loss), loss)\n",
        "\n",
        "                    output = self.model.exponent_neg_manhattan_distance(output_left, output_right)\n",
        "                    output = numpy.round(output.cpu().detach().numpy() * 5)\n",
        "                    Y = numpy.round(numpy.array(Y.cpu()) * 5)\n",
        "                    correct_count += numpy.sum(output == Y)\n",
        "\n",
        "                    if phase is Network.Phase.TRAIN:\n",
        "                        loss.backward()\n",
        "                        self.optimizer.step()\n",
        "\n",
        "                    progress += NetworkConfig.BATCH_SIZE\n",
        "                    bar.refresh(progress)\n",
        "\n",
        "                    running_loss += loss#.data.cpu().numpy()\n",
        "                    correct_count += numpy.sum(output == Y)\n",
        "\n",
        "                epoch_loss = running_loss # / len(self.data[str(phase)])\n",
        "                #print(\"EP Loss: \", epoch, epoch_loss)\n",
        "                epoch_acc = correct_count / total\n",
        "                if phase is Network.Phase.TRAIN:\n",
        "                  train_loss_hist.append(epoch_loss)\n",
        "                  train_acc_hist.append(epoch_acc)\n",
        "                if phase is Network.Phase.TRIAL:\n",
        "                  val_loss_hist.append(epoch_loss)\n",
        "                  val_acc_hist.append(epoch_acc)\n",
        "\n",
        "                if phase is Network.Phase.TRIAL and epoch_loss < min_loss:\n",
        "                    best_model = copy.deepcopy(self.model)\n",
        "                    min_loss = epoch_loss\n",
        "\n",
        "        bar.finish(\"Model has been optimized in %d epochs with %f as its minimal loss.\"\n",
        "                   % (NetworkConfig.EPOCH, min_loss))\n",
        "\n",
        "        if save_name is None:\n",
        "            save_name = time.strftime(\"%Y%m%d_%H%M%S\")\n",
        "        save_path = \"%s%s.mdl\" % (PathConfig.MODEL_PATH, save_name)\n",
        "        print(\"[SKIPPED] Saving model into %s...\" % save_path)\n",
        "        #torch.save(best_model, save_path)\n",
        "        #print(\"Saved.\\n\")\n",
        "\n",
        "        self.model = best_model\n",
        "\n",
        "        return val_acc_hist, train_acc_hist, val_loss_hist, train_loss_hist\n",
        "\n",
        "    def evaluate(self, save_name=None):\n",
        "        if save_name is None:\n",
        "            model = self.model.cuda()\n",
        "        else:\n",
        "            save_path = \"%s%s.mdl\" % (PathConfig.MODEL_PATH, save_name)\n",
        "            print(\"Loading model from %s...\" % save_path)\n",
        "            model = torch.load(save_path).cuda()\n",
        "            print(\"Loaded.\\n\")\n",
        "\n",
        "        total = ceil(len(self.data[\"test\"][0]) / NetworkConfig.BATCH_SIZE) * NetworkConfig.BATCH_SIZE\n",
        "        correct_count = 0\n",
        "\n",
        "        bar = ProgressBar(total, \"Testing model...\")\n",
        "        progress = 0\n",
        "\n",
        "        for batch in Data.batches(self.data[\"test\"]):\n",
        "            X, Y = batch[0], batch[1]\n",
        "            output_left, output_right = model(X)\n",
        "            output = self.model.exponent_neg_manhattan_distance(output_left, output_right)\n",
        "\n",
        "            output = numpy.array(output.cpu().detach().numpy()) * 5 #numpy.round(output.cpu().detach().numpy() * 5)\n",
        "            Y = numpy.array(Y) * 5 #numpy.round(numpy.array(Y) * 5)\n",
        "            #print(type(output), output)\n",
        "            #print(type(Y), Y)\n",
        "            for i in range(len(output)):\n",
        "              if Y[i]*0.8 <= output[i] <= Y[i]*1.2 :\n",
        "                correct_count += 1\n",
        "            #correct_count += numpy.sum(output == Y)\n",
        "\n",
        "            progress += NetworkConfig.BATCH_SIZE\n",
        "            bar.refresh(progress)\n",
        "\n",
        "        bar.finish(\"Accuracy: %f\" % (correct_count / total))"
      ],
      "execution_count": 11,
      "outputs": []
    },
    {
      "cell_type": "code",
      "metadata": {
        "id": "w4Olz9fd26V-"
      },
      "source": [
        "import torch\n",
        "\n",
        "# Define loss fn\n",
        "\n",
        "class PairwiseRankingLoss(torch.nn.Module):\n",
        "  \"\"\" Custom Pairwise Ranking Loss function\"\"\"\n",
        "  def __init__(self):\n",
        "    super(PairwiseRankingLoss, self).__init__()\n",
        "\n",
        "  def forward(self, f1, f2, Y):\n",
        "    \"\"\"\n",
        "    f1 and f2 are batches of vectors (64x50) \n",
        "    corresponding to LSTM output of left and right side.\n",
        "    Y is a batch of scalar labels (64x1)\n",
        "    \"\"\"\n",
        "    M = 0.001 # desired distance between similar elements\n",
        "    norm_calculator = torch.nn.PairwiseDistance().cuda()\n",
        "    vector_distance = norm_calculator(f1, f2) # tensor with shape 64x1\n",
        "    Y_copy = Y\n",
        "\n",
        "    # since relatedness values are discrete and not binary,\n",
        "    # values are extremed, but formula still works for values not equal to 0 or 1\n",
        "    # the idea is that a percentage of each metric is added\n",
        "    Y_copy[Y_copy >= 0.8] = 1\n",
        "    Y_copy[Y_copy < 0.2] = 0\n",
        "    batch_loss = Y_copy * vector_distance + (1-Y_copy) * torch.maximum(torch.zeros(64).cuda(), M - vector_distance)\n",
        "    scalar_loss = torch.mean(batch_loss)\n",
        "    return scalar_loss"
      ],
      "execution_count": 12,
      "outputs": []
    },
    {
      "cell_type": "code",
      "metadata": {
        "colab": {
          "base_uri": "https://localhost:8080/"
        },
        "id": "wjCQz9m86PfG",
        "outputId": "76ee09d6-1d5e-442d-9b97-bb3f7ac946e2"
      },
      "source": [
        "# instance custom loss model\n",
        "import torch\n",
        "\n",
        "pwr_model = MaLSTM2(sick[\"max_seq_len\"], sick[\"embeddings\"])\n",
        "print(pwr_model)\n",
        "\n",
        "def num_trainable_parameters(model):\n",
        "  return sum(p.numel() for p in model.parameters() if p.requires_grad)\n",
        "\n",
        "print(\"The model has {} parameters\".format(num_trainable_parameters(pwr_model)))\n",
        "\n",
        "new_loss_function = PairwiseRankingLoss() # NEW LOSS FUNC\n",
        "optimizer = torch.optim.Adadelta(pwr_model.parameters())\n",
        "network3 = Network(pwr_model, new_loss_function, optimizer, sick)"
      ],
      "execution_count": 13,
      "outputs": [
        {
          "output_type": "stream",
          "text": [
            "MaLSTM2(\n",
            "  (embedding_layer): Embedding(2305, 300)\n",
            "  (left_hidden_layer): LSTM(300, 50)\n",
            "  (right_hidden_layer): LSTM(300, 50)\n",
            ")\n",
            "The model has 140800 parameters\n"
          ],
          "name": "stdout"
        }
      ]
    },
    {
      "cell_type": "code",
      "metadata": {
        "colab": {
          "base_uri": "https://localhost:8080/"
        },
        "id": "N_39F03T6ySG",
        "outputId": "23f3826d-752c-4e26-ceb5-919c0159bd8d"
      },
      "source": [
        "#Train new model\n",
        "\n",
        "val_acc_hist1, train_acc_hist1, val_loss_hist1, train_loss_hist1 = network3.optimize()"
      ],
      "execution_count": 14,
      "outputs": [
        {
          "output_type": "stream",
          "text": [
            "Training model...\n",
            "|####################################################################################################[100.00%]| 448000/448000\n",
            "Model has been optimized in 50 epochs with 0.161309 as its minimal loss. (total: 448000)\n",
            "\n",
            "[SKIPPED] Saving model into /content/drive/MyDrive/DL/T2/model/20210608_024826.mdl...\n"
          ],
          "name": "stdout"
        }
      ]
    },
    {
      "cell_type": "code",
      "metadata": {
        "colab": {
          "base_uri": "https://localhost:8080/",
          "height": 573
        },
        "id": "fJHjJffjHqE5",
        "outputId": "19a9cdcd-b4e6-44cd-c696-614bec74b527"
      },
      "source": [
        "# Plot Results\n",
        "import matplotlib.pyplot as plt\n",
        "import numpy as np\n",
        "\n",
        "val_acc_history = [h*100 for h in val_acc_hist1]\n",
        "train_acc_history = [h*100 for h in train_acc_hist1]\n",
        "\n",
        "plt.title(\"PWRL Siamese LSTM: Accuracy vs. Epochs\")\n",
        "plt.xlabel(\"Epochs\")\n",
        "plt.ylabel(\"Accuracy (%)\")\n",
        "plt.plot(range(1,NetworkConfig.EPOCH+1), val_acc_history, label=\"Validation\", color=\"red\", linewidth=2)\n",
        "plt.plot(range(1,NetworkConfig.EPOCH+1), train_acc_history, label=\"Training\", color=\"orange\", linewidth=2)\n",
        "plt.ylim((0,100))\n",
        "plt.xticks(np.arange(0, NetworkConfig.EPOCH, 5))\n",
        "plt.legend()\n",
        "plt.show()\n",
        "\n",
        "val_loss_history = [h for h in val_loss_hist1]\n",
        "train_loss_history = [h for h in train_loss_hist1]\n",
        "\n",
        "plt.title(\"PWRL Siamese LSTM: Loss vs. Epochs\")\n",
        "plt.xlabel(\"Epochs\")\n",
        "plt.ylabel(\"Loss\")\n",
        "plt.plot(range(1,NetworkConfig.EPOCH+1), val_loss_history, label=\"Validation\", color=\"red\", linewidth=2)\n",
        "plt.plot(range(1,NetworkConfig.EPOCH+1), train_loss_history, label=\"Training\", color=\"orange\", linewidth=2)\n",
        "plt.ylim((0,5))\n",
        "plt.xticks(np.arange(0, NetworkConfig.EPOCH, 5))\n",
        "plt.legend()\n",
        "plt.show()"
      ],
      "execution_count": 15,
      "outputs": [
        {
          "output_type": "display_data",
          "data": {
            "image/png": "[encoded data removed]",
            "text/plain": [
              "<Figure size 432x288 with 1 Axes>"
            ]
          },
          "metadata": {
            "tags": [],
            "needs_background": "light"
          }
        },
        {
          "output_type": "display_data",
          "data": {
            "image/png": "[encoded data removed]",
            "text/plain": [
              "<Figure size 432x288 with 1 Axes>"
            ]
          },
          "metadata": {
            "tags": [],
            "needs_background": "light"
          }
        }
      ]
    },
    {
      "cell_type": "code",
      "metadata": {
        "colab": {
          "base_uri": "https://localhost:8080/"
        },
        "id": "2IEdD4aac2_l",
        "outputId": "921ac38a-9311-4a80-8927-dae8499f0241"
      },
      "source": [
        "#Test model\n",
        "\n",
        "network3.evaluate()"
      ],
      "execution_count": 16,
      "outputs": [
        {
          "output_type": "stream",
          "text": [
            "Testing model...\n",
            "|####################################################################################################[100.00%]| 960/960\n",
            "Accuracy: 0.369792 (total: 960)\n",
            "\n"
          ],
          "name": "stdout"
        }
      ]
    },
    {
      "cell_type": "markdown",
      "metadata": {
        "id": "M6AxD7q8hgtO"
      },
      "source": [
        "Al implementar la nueva función de pérdida personalizada: Pairwise Ranking Loss, podemos ver que el modelo mejora su rendimiento al presentar una pérdida cercana a 0.16 al final de su entrenamiento, y 13 puntos porcentuales de mejoría en su precisión al enfrentarse al set de test. Con esto podemos evidenciar lo importante que es una correcta métrica de evaluación para un modelo de aprendizaje profundo."
      ]
    },
    {
      "cell_type": "markdown",
      "metadata": {
        "id": "EsQ3BaLwPLFm"
      },
      "source": [
        "##Referencias\n",
        "1. *Kaggle GloVe distribution*. Disponible en: https://www.kaggle.com/anindya2906/glove6b\n",
        "\n",
        "2. *AnalyticsVidhya*. Disponible en: https://www.analyticsvidhya.com/blog/2020/01/first-text-classification-in-pytorch/\n",
        "\n",
        "3. *Pytorch RNN tutorial*. Disponible en: https://pytorch.org/tutorials/intermediate/char_rnn_classification_tutorial.html\n",
        "\n",
        "4. *J. Mueller, A. Thyagarajan.  Siamese Recurrent Architectures for Learning Sentence Similarity. In AAAI-16, 2016.*\n",
        "\n",
        "6. *Guideline on Siamese LSTM implementation using PyTorch*. Disponible en: https://github.com/buxcon/siamese_lstm/\n",
        "\n",
        "5. *Pytorch Official Documentation*. Disponible en: https://pytorch.org/docs/stable/index.html"
      ]
    }
  ]
}