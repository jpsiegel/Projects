{
  "nbformat": 4,
  "nbformat_minor": 0,
  "metadata": {
    "colab": {
      "name": "NewTarea2-DL.ipynb",
      "provenance": [],
      "collapsed_sections": [],
      "authorship_tag": "ABX9TyPMzoW0mzxCMby30ZWMpRwN",
      "include_colab_link": true
    },
    "kernelspec": {
      "name": "python3",
      "display_name": "Python 3"
    },
    "language_info": {
      "name": "python"
    },
    "accelerator": "GPU"
  },
  "cells": [
    {
      "cell_type": "markdown",
      "metadata": {
        "id": "view-in-github",
        "colab_type": "text"
      },
      "source": [
        "<a href=\"https://colab.research.google.com/github/jpsiegel/Projects/blob/master/Tarea2_DL.ipynb\" target=\"_parent\"><img src=\"https://colab.research.google.com/assets/colab-badge.svg\" alt=\"Open In Colab\"/></a>"
      ]
    },
    {
      "cell_type": "markdown",
      "metadata": {
        "id": "qa3fduSBx5NE"
      },
      "source": [
        "#Tarea 2 Jan P. Siegel - Deep Learning"
      ]
    },
    {
      "cell_type": "code",
      "metadata": {
        "colab": {
          "base_uri": "https://localhost:8080/"
        },
        "id": "Mspk4ICBxny2",
        "outputId": "bd37dfa3-144b-41a6-fa1f-a5acda05fb5d"
      },
      "source": [
        "!ln -sf /opt/bin/nvidia-smi /usr/bin/nvidia-smi\n",
        "!pip install gputil\n",
        "!pip install psutil\n",
        "!pip install humanize\n",
        "\n",
        "import psutil\n",
        "import humanize\n",
        "import os\n",
        "import GPUtil as GPU"
      ],
      "execution_count": 274,
      "outputs": [
        {
          "output_type": "stream",
          "text": [
            "Collecting gputil\n",
            "  Using cached https://files.pythonhosted.org/packages/ed/0e/5c61eedde9f6c87713e89d794f01e378cfd9565847d4576fa627d758c554/GPUtil-1.4.0.tar.gz\n",
            "Building wheels for collected packages: gputil\n",
            "  Building wheel for gputil (setup.py) ... \u001b[?25l\u001b[?25hdone\n",
            "  Created wheel for gputil: filename=GPUtil-1.4.0-cp37-none-any.whl size=7411 sha256=7989fc34f4d9de3875df323c8b5bcd82d84d68c13b9b02cda83394738a3354df\n",
            "  Stored in directory: /root/.cache/pip/wheels/3d/77/07/80562de4bb0786e5ea186911a2c831fdd0018bda69beab71fd\n",
            "Successfully built gputil\n",
            "Installing collected packages: gputil\n",
            "Successfully installed gputil-1.4.0\n",
            "Requirement already satisfied: psutil in /usr/local/lib/python3.7/dist-packages (5.4.8)\n",
            "Requirement already satisfied: humanize in /usr/local/lib/python3.7/dist-packages (0.5.1)\n"
          ],
          "name": "stdout"
        }
      ]
    },
    {
      "cell_type": "code",
      "metadata": {
        "colab": {
          "base_uri": "https://localhost:8080/"
        },
        "id": "2063EAySx_qJ",
        "outputId": "05171989-72bd-4341-910a-b5a126c91aec"
      },
      "source": [
        "GPUs = GPU.getGPUs()\n",
        "gpu = GPUs[0]  # Only one GPU on Colab and not guaranteed\n",
        "\n",
        "def printm():\n",
        "  process = psutil.Process(os.getpid())\n",
        "  print(\"RAM Free: \" + humanize.naturalsize(psutil.virtual_memory().available), \" | Used: \" + humanize.naturalsize(process.memory_info().rss))\n",
        "  print(\"VRAM Free: {0:.0f}MB | Used: {1:.0f}MB | Util {2:3.0f}% Total {3:.0f}MB\".format(gpu.memoryFree, gpu.memoryUsed, gpu.memoryUtil*100, gpu.memoryTotal))\n",
        "\n",
        "printm()"
      ],
      "execution_count": 275,
      "outputs": [
        {
          "output_type": "stream",
          "text": [
            "RAM Free: 11.3 GB  | Used: 4.1 GB\n",
            "VRAM Free: 14041MB | Used: 1068MB | Util   7% Total 15109MB\n"
          ],
          "name": "stdout"
        }
      ]
    },
    {
      "cell_type": "markdown",
      "metadata": {
        "id": "6xZ2AEIqG00P"
      },
      "source": [
        "##Parte 1\n"
      ]
    },
    {
      "cell_type": "markdown",
      "metadata": {
        "id": "ROI-NQNKzp8r"
      },
      "source": [
        "###Actividad 1"
      ]
    },
    {
      "cell_type": "code",
      "metadata": {
        "id": "J-ZdjbzuIY-i"
      },
      "source": [
        "#deal with tensors\n",
        "import torch   \n",
        "\n",
        "#handling text data\n",
        "from torchtext.legacy import data\n",
        "\n",
        "#Reproducing same results\n",
        "SEED = 2023\n",
        "\n",
        "#Torch\n",
        "torch.manual_seed(SEED)\n",
        "\n",
        "#Cuda algorithms\n",
        "torch.backends.cudnn.deterministic = True  "
      ],
      "execution_count": 3,
      "outputs": []
    },
    {
      "cell_type": "code",
      "metadata": {
        "colab": {
          "base_uri": "https://localhost:8080/"
        },
        "id": "iEL4bQbtBW23",
        "outputId": "3db64753-93f7-45e8-c352-45c2961a6041"
      },
      "source": [
        "from google.colab import drive\n",
        "drive.mount('/content/drive')"
      ],
      "execution_count": 4,
      "outputs": [
        {
          "output_type": "stream",
          "text": [
            "Mounted at /content/drive\n"
          ],
          "name": "stdout"
        }
      ]
    },
    {
      "cell_type": "code",
      "metadata": {
        "id": "ufaf_fNBIn1C"
      },
      "source": [
        "TEXT = data.Field(tokenize='spacy', batch_first=True, include_lengths=True)\n",
        "LABEL = data.LabelField(dtype = torch.float, batch_first=True)\n",
        "\n",
        "fields = [('text',TEXT), ('label', LABEL)]\n",
        "\n",
        "#loading custom dataset\n",
        "training_data = data.TabularDataset(path = \"/content/drive/MyDrive/DL/T2/SMSSpamCollection.csv\", format='csv', fields=fields, skip_header=True)"
      ],
      "execution_count": 5,
      "outputs": []
    },
    {
      "cell_type": "code",
      "metadata": {
        "colab": {
          "base_uri": "https://localhost:8080/"
        },
        "id": "X47Pow-lRBp0",
        "outputId": "b5a784a3-461d-495d-ae76-8de483b2d1da"
      },
      "source": [
        "# print preprocessed text sample\n",
        "print(vars(training_data.examples[0]))"
      ],
      "execution_count": 6,
      "outputs": [
        {
          "output_type": "stream",
          "text": [
            "{'text': ['Go', 'until', 'jurong', 'point', ',', 'crazy', '..', 'Available', 'only', 'in', 'bugis', 'n', 'great', 'world', 'la', 'e', 'buffet', '...', 'Cine', 'there', 'got', 'amore', 'wat', '...'], 'label': '0'}\n"
          ],
          "name": "stdout"
        }
      ]
    },
    {
      "cell_type": "code",
      "metadata": {
        "colab": {
          "base_uri": "https://localhost:8080/"
        },
        "id": "rL4znI0KRR0k",
        "outputId": "7b75375a-05f9-48e0-abcc-aeb2f39ef30d"
      },
      "source": [
        "import random\n",
        "train_data, valid_data, test_data = training_data.split(split_ratio=[70, 10, 20], random_state = random.seed(1334))\n",
        "print(\"Train Data:\", len(train_data))\n",
        "print(\"Validation Data:\", len(valid_data))\n",
        "print(\"Test Data:\", len(test_data))"
      ],
      "execution_count": 8,
      "outputs": [
        {
          "output_type": "stream",
          "text": [
            "Train Data: 3866\n",
            "Validation Data: 1105\n",
            "Test Data: 552\n"
          ],
          "name": "stdout"
        }
      ]
    },
    {
      "cell_type": "code",
      "metadata": {
        "colab": {
          "base_uri": "https://localhost:8080/"
        },
        "id": "Si23136ERoQk",
        "outputId": "426ead54-6f97-4ca6-d237-083ed1a63e13"
      },
      "source": [
        "#initialize GloVe embeddings\n",
        "TEXT.build_vocab(train_data,min_freq=5, vectors = \"glove.6B.100d\")  \n",
        "LABEL.build_vocab(train_data)\n",
        "\n",
        "#No. of unique tokens in text\n",
        "print(\"Size of TEXT vocabulary:\",len(TEXT.vocab))\n",
        "\n",
        "#No. of unique tokens in label\n",
        "print(\"Size of LABEL vocabulary:\",len(LABEL.vocab))\n",
        "\n",
        "#Commonly used words\n",
        "print(TEXT.vocab.freqs.most_common(10))  \n",
        "\n",
        "#Word dictionary\n",
        "print(TEXT.vocab.stoi)   "
      ],
      "execution_count": 9,
      "outputs": [
        {
          "output_type": "stream",
          "text": [
            ".vector_cache/glove.6B.zip: 862MB [02:39, 5.39MB/s]                           \n",
            " 99%|█████████▉| 397819/400000 [00:17<00:00, 23218.94it/s]"
          ],
          "name": "stderr"
        },
        {
          "output_type": "stream",
          "text": [
            "Size of TEXT vocabulary: 1629\n",
            "Size of LABEL vocabulary: 2\n",
            "[('.', 3382), ('to', 1469), ('I', 1404), ('you', 1305), (',', 1242), ('?', 1042), ('a', 908), ('!', 904), ('the', 825), ('...', 814)]\n",
            "defaultdict(<bound method Vocab._default_unk_index of <torchtext.vocab.Vocab object at 0x7f80dff6e0d0>>, {'<unk>': 0, '<pad>': 1, '.': 2, 'to': 3, 'I': 4, 'you': 5, ',': 6, '?': 7, 'a': 8, '!': 9, 'the': 10, '...': 11, 'i': 12, 'in': 13, 'and': 14, 'is': 15, 'me': 16, 'u': 17, '..': 18, 'for': 19, 'my': 20, 'it': 21, 'your': 22, 'of': 23, 'have': 24, 'that': 25, '&': 26, \"'s\": 27, 'on': 28, '2': 29, 'do': 30, 'are': 31, ' ': 32, 'call': 33, ';': 34, 'now': 35, ':': 36, \"'m\": 37, 'not': 38, 'with': 39, 'be': 40, 'at': 41, 'or': 42, 'will': 43, 'U': 44, \"n't\": 45, 'get': 46, 'nt': 47, 'can': 48, '*': 49, 'so': 50, 'You': 51, ')': 52, 'but': 53, 'ur': 54, 'up': 55, '£': 56, '-': 57, '4': 58, 'know': 59, 'we': 60, 'go': 61, 'like': 62, 'lt;#&gt': 63, 'from': 64, '\"': 65, 'all': 66, 'out': 67, 'when': 68, 'if': 69, 'just': 70, '/': 71, 'this': 72, \"'ll\": 73, 'got': 74, 'come': 75, 'am': 76, 'was': 77, 'there': 78, 'time': 79, 'No': 80, 'he': 81, 'Do': 82, 'day': 83, 'only': 84, 'How': 85, 'want': 86, 'then': 87, 'lor': 88, 'about': 89, 'home': 90, 'what': 91, 'Ok': 92, 'one': 93, 'send': 94, 'good': 95, 'Call': 96, 'going': 97, 'no': 98, 'back': 99, 'how': 100, 'love': 101, 'as': 102, 'by': 103, 'n': 104, 'our': 105, 'need': 106, 'did': 107, 'still': 108, 'We': 109, 'later': 110, 'But': 111, 'text': 112, 'da': 113, 'If': 114, 'What': 115, 'her': 116, 'see': 117, 'phone': 118, 'FREE': 119, 'some': 120, 'ok': 121, \"'\": 122, 'It': 123, 'think': 124, 'has': 125, 'today': 126, 'Just': 127, 'week': 128, 'been': 129, 'r': 130, 'its': 131, 'mobile': 132, 'So': 133, 'free': 134, 'him': 135, 'Sorry': 136, 'My': 137, 'The': 138, 'any': 139, 'here': 140, 'take': 141, 'tell': 142, 'ü': 143, 'ca': 144, 'great': 145, 'amp': 146, 'd': 147, '+': 148, 'Hey': 149, 'ask': 150, 'give': 151, 'too': 152, 'an': 153, 'tomorrow': 154, 'A': 155, 'Your': 156, 'night': 157, 'right': 158, 'txt': 159, 'who': 160, 'Have': 161, 'they': 162, '1': 163, 'message': 164, 'much': 165, 'she': 166, 'Can': 167, 'already': 168, 'new': 169, 'number': 170, \"'ve\": 171, 'Hi': 172, 'msg': 173, 'reply': 174, 'way': 175, 'work': 176, 'That': 177, 'claim': 178, 'e': 179, 'make': 180, 'more': 181, 'Oh': 182, 'say': 183, 'doing': 184, 'had': 185, 's': 186, 'And': 187, 'm': 188, 'This': 189, 'Txt': 190, '3': 191, 'Pls': 192, '(': 193, 'Are': 194, 'contact': 195, 'them': 196, 'where': 197, 'would': 198, \"'re\": 199, 'To': 200, 'said': 201, 'life': 202, 'should': 203, 'very': 204, 'meet': 205, 'Good': 206, 'K': 207, 'find': 208, 'really': 209, 'prize': 210, 'Please': 211, 'care': 212, 'every': 213, 'let': 214, 'na': 215, 'wat': 216, 'after': 217, 'morning': 218, 'stop': 219, 'Yes': 220, 'per': 221, 'us': 222, 'well': 223, '150p': 224, 'Its': 225, 'cash': 226, 'dear': 227, 'pick': 228, 'sent': 229, 'thing': 230, 'tonight': 231, 'before': 232, 'feel': 233, 'miss': 234, 'Happy': 235, 'He': 236, 'Lol': 237, 'STOP': 238, 'money': 239, 'something': 240, 'wan': 241, 'Dear': 242, 'Ur': 243, 'always': 244, 'down': 245, 'place': 246, ':)': 247, 'NOW': 248, 'She': 249, 'around': 250, 'gon': 251, 'min': 252, 'over': 253, 'please': 254, 'told': 255, 'Hope': 256, 'cos': 257, 'hope': 258, 'keep': 259, 'last': 260, 'lunch': 261, 'next': 262, 'pls': 263, 'could': 264, 'things': 265, 'Not': 266, 'Then': 267, 'Where': 268, 'YOU': 269, 'Yeah': 270, 'again': 271, 'also': 272, 'buy': 273, 'dun': 274, 'sleep': 275, 'wo': 276, 'Did': 277, 'anything': 278, 'coming': 279, 'getting': 280, 'many': 281, 'other': 282, 'soon': 283, 'were': 284, 'When': 285, 'b': 286, 'his': 287, 'leave': 288, 'off': 289, 'service': 290, 'Free': 291, 'Is': 292, 'babe': 293, 'class': 294, 'friend': 295, 'friends': 296, 'happy': 297, 'which': 298, 'Ü': 299, 'Thanks': 300, 'c': 301, 'having': 302, 'sure': 303, 'wait': 304, 'went': 305, '16': 306, '18': 307, '5': 308, 'Haha': 309, 'Nokia': 310, 'Well': 311, 'Yup': 312, 'car': 313, 'customer': 314, 'days': 315, 'someone': 316, 'use': 317, 'waiting': 318, 'yet': 319, '500': 320, '6': 321, 'Or': 322, 'R': 323, 'Text': 324, 'does': 325, 'why': 326, 'won': 327, 'For': 328, 'In': 329, 'sorry': 330, 'wish': 331, '1st': 332, 'Hello': 333, 'Reply': 334, 'awarded': 335, 'being': 336, 'draw': 337, 'even': 338, 'first': 339, 'lar': 340, 'liao': 341, 'mind': 342, 'people': 343, 'special': 344, 'try': 345, 'trying': 346, '....': 347, '100': 348, '1000': 349, 'fine': 350, 'finish': 351, 'guys': 352, 'heart': 353, 'meeting': 354, 'ready': 355, 'word': 356, 'x': 357, 'ya': 358, 'As': 359, 'big': 360, 'dinner': 361, 'help': 362, 'late': 363, 'live': 364, 'year': 365, 'URGENT': 366, 'hi': 367, 'house': 368, 'job': 369, 'mins': 370, 'nice': 371, 'play': 372, '9': 373, 'Get': 374, 'Gud': 375, 'New': 376, 'Now': 377, 'better': 378, 'bit': 379, 'early': 380, 'end': 381, 'month': 382, 'problem': 383, 'same': 384, 'shows': 385, 'smile': 386, 'than': 387, 'Wat': 388, 'Will': 389, 'done': 390, 'enough': 391, 'few': 392, 'into': 393, 'kiss': 394, 'long': 395, 'might': 396, 'oh': 397, 'stuff': 398, 'win': 399, 'C': 400, 'Send': 401, 'asked': 402, 'away': 403, 'best': 404, 'eat': 405, 'lot': 406, 'may': 407, 'never': 408, 'plan': 409, 'receive': 410, 'room': 411, 'talk': 412, 'thought': 413, 'without': 414, 'All': 415, 'Mobile': 416, 'PO': 417, 'See': 418, 'another': 419, 'because': 420, 'boy': 421, 'details': 422, 'hear': 423, 'leh': 424, 'line': 425, 'minutes': 426, 'shit': 427, 'tone': 428, 'called': 429, 'chance': 430, 'dat': 431, 'easy': 432, 'forgot': 433, 'half': 434, 'landline': 435, 'left': 436, 'man': 437, 'pm': 438, 'put': 439, 'rate': 440, 'start': 441, 'thk': 442, 'weekend': 443, 'yeah': 444, 'Claim': 445, 'ME': 446, 'Why': 447, 'bus': 448, 'fun': 449, 'k': 450, 'latest': 451, 'name': 452, 'pay': 453, 'selected': 454, 'til': 455, 'watch': 456, '150ppm': 457, '7': 458, 'Aight': 459, 'SMS': 460, 'T&C': 461, 'Tell': 462, 'ah': 463, 'birthday': 464, 'chat': 465, 'girl': 466, 'goes': 467, 'guess': 468, 'little': 469, 'office': 470, 'online': 471, 'princess': 472, 'reach': 473, 'remember': 474, 'says': 475, 'stay': 476, 'sweet': 477, 'tmr': 478, 'wk': 479, '1.50': 480, '2nd': 481, ':-)': 482, 'CALL': 483, 'Cos': 484, 'Day': 485, 'There': 486, 'Today': 487, 'UR': 488, 'abt': 489, 'bed': 490, 'between': 491, 'drive': 492, 'gift': 493, 'hour': 494, 'looking': 495, 'most': 496, 'pa': 497, 'part': 498, 'person': 499, 'real': 500, 'run': 501, 'those': 502, 'though': 503, 'u.': 504, 'video': 505, 'wanted': 506, 'while': 507, 'wif': 508, 'working': 509, 'Got': 510, 'Had': 511, 'IS': 512, 'Take': 513, 'UK': 514, 'able': 515, 'account': 516, 'award': 517, 'baby': 518, 'calls': 519, 'check': 520, 'cool': 521, 'den': 522, 'else': 523, 'entry': 524, 'ill': 525, 'look': 526, 'noe': 527, 'once': 528, 'quite': 529, 'saying': 530, 'sexy': 531, 'shopping': 532, 'since': 533, 'town': 534, 'wanna': 535, 'wants': 536, 'watching': 537, 'world': 538, '$': 539, '150': 540, '800': 541, 'Am': 542, 'Any': 543, 'Enjoy': 544, 'God': 545, 'Orange': 546, 'Prize': 547, 'THE': 548, 'Xmas': 549, 'Yo': 550, 'actually': 551, 'apply': 552, 'attempt': 553, 'bad': 554, 'came': 555, 'collect': 556, 'collection': 557, 'ever': 558, 'family': 559, 'guaranteed': 560, 'guy': 561, 'join': 562, 'lei': 563, 'made': 564, 'mail': 565, 'messages': 566, 'movie': 567, 'saw': 568, 'texts': 569, 'thanks': 570, 'tot': 571, 'two': 572, 'walk': 573, 'wid': 574, 'worry': 575, 'yours': 576, '10': 577, '2000': 578, '5000': 579, '8': 580, 'Box': 581, 'GUARANTEED': 582, 'Great': 583, 'IN': 584, 'MY': 585, 'Thanx': 586, 'WON': 587, 'Was': 588, 'book': 589, 'camera': 590, 'comes': 591, 'dreams': 592, 'driving': 593, 'everything': 594, 'forget': 595, 'haf': 596, 'holiday': 597, 'hurt': 598, 'important': 599, 'minute': 600, 'network': 601, 'oso': 602, 'show': 603, 'taking': 604, 'thinking': 605, 'true': 606, 'until': 607, 'v': 608, 'words': 609, 'y': 610, \"'d\": 611, '350': 612, '8007': 613, '>': 614, 'At': 615, 'Ca': 616, 'Expires': 617, 'LOVE': 618, 'Love': 619, 'Only': 620, 'T': 621, 'They': 622, 'V': 623, 'Valid': 624, 'WIN': 625, 'YES': 626, 'alone': 627, 'bored': 628, 'bring': 629, 'calling': 630, 'colour': 631, 'dad': 632, 'dis': 633, 'evening': 634, 'face': 635, 'finished': 636, 'goin': 637, 'hair': 638, 'happen': 639, 'hav': 640, 'jus': 641, 'makes': 642, 'mean': 643, 'means': 644, 'national': 645, 'nite': 646, 'pain': 647, 'set': 648, 'speak': 649, 'test': 650, 'times': 651, 'trip': 652, 'wake': 653, 'years': 654, '12hrs': 655, '750': 656, '86688': 657, 'AT': 658, 'Code': 659, 'Even': 660, 'Identifier': 661, 'May': 662, 'Me': 663, 'NEW': 664, 'Okie': 665, 'T&Cs': 666, 'WITH': 667, 'aft': 668, 'afternoon': 669, 'angry': 670, 'answer': 671, 'believe': 672, 'cause': 673, 'cost': 674, 'either': 675, 'fast': 676, 'food': 677, 'hours': 678, 'juz': 679, 'leaving': 680, 'lt;DECIMAL&gt': 681, 'making': 682, 'missed': 683, 'missing': 684, 'mom': 685, 'old': 686, 'open': 687, 'plz': 688, 'pounds': 689, 'pretty': 690, 'question': 691, 're': 692, 'sat': 693, 'sea': 694, 'shall': 695, 'sister': 696, 'till': 697, 'tried': 698, 'vouchers': 699, 'weekly': 700, 'wit': 701, 'within': 702, 'worth': 703, '10p': 704, ':-(': 705, 'Account': 706, 'After': 707, 'Bonus': 708, 'Camera': 709, 'Congratulations': 710, 'Dunno': 711, 'I.ll': 712, 'Msg': 713, 'Nothing': 714, 'ON': 715, 'Our': 716, 'PRIVATE': 717, 'SAE': 718, 'Should': 719, 'Sir': 720, 'Statement': 721, 'Todays': 722, 'UP': 723, 'Urgent': 724, 'Which': 725, 'Ya': 726, 'brother': 727, 'change': 728, 'chikku': 729, 'content': 730, 'de': 731, 'delivery': 732, 'enjoy': 733, 'frm': 734, 'fuck': 735, 'full': 736, 'grins': 737, 'hand': 738, 'happened': 739, 'head': 740, 'hot': 741, 'light': 742, 'listen': 743, 'luv': 744, 'mob': 745, 'must': 746, 'offer': 747, 'order': 748, 'phones': 749, 'points': 750, 'price': 751, 'probably': 752, 'ringtone': 753, 'sad': 754, 'sch': 755, 'school': 756, 'semester': 757, 'sis': 758, 'story': 759, 'takes': 760, 'telling': 761, 'took': 762, 'tv': 763, 'type': 764, 'unsubscribe': 765, 'whatever': 766, 'wonderful': 767, 'yesterday': 768, 'yo': 769, 'yourself': 770, \"''\": 771, '250': 772, '=': 773, 'Anything': 774, 'CHAT': 775, 'Come': 776, 'From': 777, 'Going': 778, 'Guess': 779, 'HAVE': 780, 'Holiday': 781, 'IM': 782, 'Jus': 783, 'Last': 784, 'Offer': 785, 'Still': 786, 'Thank': 787, 'U.': 788, 'Update': 789, 'Wish': 790, 'address': 791, 'ass': 792, 'await': 793, 'boytoy': 794, 'code': 795, 'company': 796, 'crazy': 797, 'date': 798, 'dating': 799, 'drop': 800, 'email': 801, 'far': 802, 'feeling': 803, 'fri': 804, 'game': 805, 'games': 806, 'gd': 807, 'god': 808, 'gud': 809, 'happiness': 810, 'hard': 811, 'lesson': 812, 'lose': 813, 'loving': 814, 'mates': 815, 'meant': 816, 'news': 817, 'outside': 818, 'paper': 819, 'rite': 820, 'search': 821, 'shop': 822, 'sir': 823, 'sms': 824, 'smth': 825, 'started': 826, 'these': 827, 'together': 828, 'top': 829, 'visit': 830, 'wil': 831, 'www': 832, 'xxx': 833, '…': 834, '87066': 835, 'B': 836, 'BSLVYL': 837, 'BT': 838, 'Babe': 839, 'Congrats': 840, 'Double': 841, 'G': 842, 'GO': 843, 'Hee': 844, 'Ltd': 845, 'MobileUpd8': 846, 'Motorola': 847, 'NOKIA': 848, 'OF': 849, 'Okay': 850, 'Quiz': 851, 'SavaMob': 852, 'Sounds': 853, 'Speak': 854, 'THIS': 855, 'Ugh': 856, 'WAS': 857, 'Wait': 858, 'XXX': 859, 'Y': 860, 'ago': 861, 'alright': 862, 'anyone': 863, 'anytime': 864, 'both': 865, 'break': 866, 'busy': 867, 'charge': 868, 'close': 869, 'college': 870, 'computer': 871, 'confirm': 872, 'course': 873, 'download': 874, 'drink': 875, 'earlier': 876, 'empty': 877, 'etc': 878, 'eve': 879, 'feels': 880, 'found': 881, 'frnds': 882, 'gone': 883, 'gym': 884, 'hold': 885, 'invited': 886, 'land': 887, 'maybe': 888, 'music': 889, 'oredi': 890, 'own': 891, 'prob': 892, 'ring': 893, 'seeing': 894, 'side': 895, 'sleeping': 896, 'smiling': 897, 'treat': 898, 'un': 899, 'w': 900, 'whole': 901, 'wot': 902, '#': 903, '08000839402': 904, '08000930705': 905, '2003': 906, 'Alright': 907, 'Also': 908, 'CASH': 909, 'Customer': 910, 'Does': 911, 'GOOD': 912, 'Go': 913, 'Let': 914, 'Life': 915, 'NICE': 916, 'OUT': 917, 'On': 918, 'Same': 919, 'Someone': 920, 'Stop': 921, 'TO': 922, 'Who': 923, 'Win': 924, 'With': 925, 'Yar': 926, 'Year': 927, 'across': 928, 'area': 929, 'available': 930, 'bout': 931, 'buying': 932, 'card': 933, 'carlos': 934, 'couple': 935, 'direct': 936, 'disturb': 937, 'dunno': 938, 'each': 939, 'entered': 940, 'ex': 941, 'felt': 942, 'film': 943, 'finally': 944, 'fr': 945, 'gal': 946, 'info': 947, 'knew': 948, 'leaves': 949, 'lucky': 950, 'mah': 951, 'mate': 952, 'mine': 953, 'mum': 954, 'ni8': 955, 'nothing': 956, 'numbers': 957, 'offers': 958, 'pic': 959, 'pics': 960, 'player': 961, 'point': 962, 'project': 963, 'redeemed': 964, 'second': 965, 'secret': 966, 'sell': 967, 'services': 968, 'simple': 969, 'smoke': 970, 'song': 971, 'sun': 972, 'ten': 973, 'thinks': 974, 'through': 975, 'tired': 976, 'tomo': 977, 'tones': 978, 'txts': 979, 'update': 980, 'used': 981, 'valued': 982, 'voice': 983, 'warm': 984, 'wrong': 985, '.....': 986, '0800': 987, '2004': 988, 'ALL': 989, 'ARE': 990, 'Abiola': 991, 'Cool': 992, 'Cost': 993, 'Cs': 994, 'Den': 995, 'Friendship': 996, 'GET': 997, 'Ill': 998, 'LIVE': 999, 'Like': 1000, 'MUSIC': 1001, 'Morning': 1002, 'NO': 1003, 'NTT': 1004, 'Nope': 1005, 'O': 1006, 'OK': 1007, 'Really': 1008, 'Row': 1009, 'Sony': 1010, 'Suite342/2Lands': 1011, 'TONE': 1012, 'Want': 1013, 'Watching': 1014, 'X': 1015, 'YOUR': 1016, 'anyway': 1017, 'bath': 1018, 'bathe': 1019, 'bb': 1020, 'beautiful': 1021, 'blue': 1022, 'bt': 1023, 'charged': 1024, 'checking': 1025, 'complimentary': 1026, 'copy': 1027, 'cum': 1028, 'decided': 1029, 'die': 1030, 'dude': 1031, 'em': 1032, 'ending': 1033, 'ends': 1034, 'exam': 1035, 'extra': 1036, 'father': 1037, 'final': 1038, 'girls': 1039, 'hungry': 1040, 'knw': 1041, 'least': 1042, 'link': 1043, 'log': 1044, 'lots': 1045, 'loved': 1046, 'march': 1047, 'match': 1048, 'months': 1049, 'mrng': 1050, 'neva': 1051, 'okay': 1052, 'operator': 1053, 'park': 1054, 'plus': 1055, 'poor': 1056, 'post': 1057, 'pub': 1058, 'reached': 1059, 'request': 1060, 'round': 1061, 'slow': 1062, 'somewhere': 1063, 'support': 1064, 'supposed': 1065, 'thank': 1066, 'thanx': 1067, 'wana': 1068, 'weeks': 1069, 'wonder': 1070, '%': 1071, '2,000': 1072, ':(': 1073, 'Always': 1074, 'Be': 1075, 'Boy': 1076, 'By': 1077, 'Caller': 1078, 'Chat': 1079, 'Club': 1080, 'Colleagues': 1081, 'D': 1082, 'DVD': 1083, 'Dude': 1084, 'Dun': 1085, 'GOD': 1086, 'HMV': 1087, 'Ha': 1088, 'Huh': 1089, 'I.': 1090, 'IF': 1091, 'IT': 1092, 'M.': 1093, 'Make': 1094, 'Maybe': 1095, 'Mm': 1096, 'Nah': 1097, 'Never': 1098, 'Of': 1099, 'Oops': 1100, 'Parents': 1101, 'Plus': 1102, 'Press': 1103, 'Rakhesh': 1104, 'S.': 1105, 'SO': 1106, 'Smile': 1107, 'TIME': 1108, 'Think': 1109, 'Tone': 1110, 'Ts&Cs': 1111, 'Video': 1112, 'Wife': 1113, 'Yep': 1114, 'ai': 1115, 'almost': 1116, 'ans': 1117, 'askd': 1118, 'awesome': 1119, 'b4': 1120, 'balance': 1121, 'bank': 1122, 'bid': 1123, 'blood': 1124, 'case': 1125, 'cell': 1126, 'comp': 1127, 'correct': 1128, 'country': 1129, 'coz': 1130, 'crave': 1131, 'credits': 1132, 'currently': 1133, 'cut': 1134, 'darlin': 1135, 'deep': 1136, 'different': 1137, 'din': 1138, 'dnt': 1139, 'enter': 1140, 'entitled': 1141, 'fone': 1142, 'friday': 1143, 'fucking': 1144, 'g': 1145, 'gave': 1146, 'gets': 1147, 'gr8': 1148, 'ha': 1149, 'hoping': 1150, 'hospital': 1151, 'huh': 1152, 'information': 1153, 'inside': 1154, 'insurance': 1155, 'kept': 1156, 'knows': 1157, 'laptop': 1158, 'lect': 1159, 'loads': 1160, 'lol': 1161, 'lost': 1162, 'lovely': 1163, 'luck': 1164, 'mayb': 1165, 'medical': 1166, 'member': 1167, 'men': 1168, 'miracle': 1169, 'mode': 1170, 'movies': 1171, 'mu': 1172, 'opt': 1173, 'page': 1174, 'paid': 1175, 'pizza': 1176, 'planned': 1177, 'players': 1178, 'poly': 1179, 'possible': 1180, 'promise': 1181, 'quick': 1182, 'reaching': 1183, 'reading': 1184, 'reason': 1185, 'remove': 1186, 'rental': 1187, 'representative': 1188, 'rest': 1189, 'road': 1190, 'rock': 1191, 'safe': 1192, 'sex': 1193, 'shower': 1194, 'sign': 1195, 'small': 1196, 'snow': 1197, 'sucks': 1198, 'swing': 1199, 'ta': 1200, 'talking': 1201, 'tel': 1202, 'their': 1203, 'tho': 1204, 'thru': 1205, 'tht': 1206, 'tough': 1207, 'txting': 1208, 'understand': 1209, 'via': 1210, 'voucher': 1211, 'weight': 1212, 'wen': 1213, 'woke': 1214, 'worries': 1215, 'write': 1216, 'yr': 1217, 'yrs': 1218, '–': 1219, '0870': 1220, '11': 1221, '20': 1222, '200': 1223, '20p': 1224, '25p': 1225, '2day': 1226, '900': 1227, '@': 1228, 'AGE': 1229, 'AND': 1230, 'Anyway': 1231, 'Awesome': 1232, 'BUT': 1233, 'Beautiful': 1234, 'Bluetooth': 1235, 'Buy': 1236, 'CD': 1237, 'Coz': 1238, 'DAY': 1239, 'Dad': 1240, 'Delivery': 1241, 'Digital': 1242, 'Dogging': 1243, 'Don': 1244, 'Every': 1245, 'FOR': 1246, 'Friends': 1247, 'Fuck': 1248, 'GOODMORNING': 1249, 'Give': 1250, 'Gr8': 1251, 'HAPPY': 1252, 'Hmm': 1253, 'ITS': 1254, 'Keep': 1255, 'Man': 1256, 'Melle': 1257, 'Miss': 1258, 'More': 1259, 'NOT': 1260, 'Need': 1261, 'Night': 1262, 'ONLY': 1263, 'One': 1264, 'POBOX': 1265, 'POBox': 1266, 'Pete': 1267, 'Phone': 1268, 'Plz': 1269, 'Probably': 1270, 'Q': 1271, 'Said': 1272, 'Say': 1273, 'Shall': 1274, 'Shopping': 1275, 'SiPix': 1276, 'Sunshine': 1277, 'Sure': 1278, 'THAT': 1279, 'TXT': 1280, 'Thk': 1281, 'Time': 1282, 'TnCs': 1283, 'W1J6HL': 1284, 'WANT': 1285, 'WAP': 1286, 'WORK': 1287, 'Wanna': 1288, 'World': 1289, 'against': 1290, 'aha': 1291, 'anymore': 1292, 'apartment': 1293, 'ar': 1294, 'ate': 1295, 'battery': 1296, 'booked': 1297, 'bother': 1298, 'box': 1299, 'chennai': 1300, 'comin': 1301, 'completely': 1302, 'credit': 1303, 'decide': 1304, 'discount': 1305, 'doctor': 1306, 'doin': 1307, 'drugs': 1308, 'during': 1309, 'eating': 1310, 'eg': 1311, 'everyone': 1312, 'figure': 1313, 'gas': 1314, 'giving': 1315, 'happening': 1316, 'heard': 1317, 'horny': 1318, 'hotel': 1319, 'however': 1320, 'hw': 1321, \"i'm\": 1322, 'i.ll': 1323, 'itself': 1324, 'kb': 1325, 'keeping': 1326, 'kind': 1327, 'laugh': 1328, 'learn': 1329, 'library': 1330, 'list': 1331, 'longer': 1332, 'matter': 1333, 'meh': 1334, 'met': 1335, 'mid': 1336, 'model': 1337, 'mr': 1338, 'msgs': 1339, 'muz': 1340, 'myself': 1341, 'needs': 1342, 'net': 1343, 'orchard': 1344, 'party': 1345, 'personal': 1346, 'planning': 1347, 'present': 1348, 'pussy': 1349, 'questions': 1350, 'rates': 1351, 'registered': 1352, 'replying': 1353, 'return': 1354, 'review': 1355, 'rply': 1356, 'rs': 1357, 'seen': 1358, 'self': 1359, 'sending': 1360, 'seriously': 1361, 'share': 1362, 'showing': 1363, 'sick': 1364, 'sim': 1365, 'sitting': 1366, 'slowly': 1367, 'sofa': 1368, 'sort': 1369, 'sound': 1370, 'south': 1371, 'specially': 1372, 'spent': 1373, 'stand': 1374, 'starting': 1375, 'study': 1376, 'style': 1377, 'system': 1378, 'teasing': 1379, 'towards': 1380, 'tuition': 1381, 'unlimited': 1382, 'usf': 1383, 'water': 1384, 'weekends': 1385, 'wife': 1386, 'winner': 1387, 'wondering': 1388, 'xx': 1389, 'yes': 1390, 'yijue': 1391, '08712300220': 1392, '12': 1393, '1327': 1394, '28': 1395, '2optout': 1396, '3.00': 1397, '3030': 1398, '40': 1399, '5WB': 1400, '5we': 1401, '82277': 1402, '85023': 1403, ':/': 1404, ';)': 1405, 'Actually': 1406, 'Ahmad': 1407, 'BABE': 1408, 'Bt': 1409, 'CDs': 1410, 'CR9': 1411, 'Callers': 1412, 'Callertune': 1413, 'Camcorder': 1414, 'Carlos': 1415, 'Croydon': 1416, 'DONE': 1417, 'Dload': 1418, 'Eh': 1419, 'F': 1420, 'FREEPHONE': 1421, 'First': 1422, 'Forgot': 1423, 'FreeMsg': 1424, 'Games': 1425, 'Gee': 1426, 'Goodmorning': 1427, 'HEART': 1428, 'HEY': 1429, 'HG': 1430, 'HI': 1431, 'HOW': 1432, 'Half': 1433, 'Help': 1434, 'Hmmm': 1435, 'Join': 1436, 'Kate': 1437, 'LDN': 1438, 'Later': 1439, 'Latest': 1440, 'Luv': 1441, 'Mins': 1442, 'OH': 1443, 'Person': 1444, 'Price': 1445, 'R*reveal': 1446, 'Ringtone': 1447, 'Rs': 1448, 'S': 1449, 'SP': 1450, 'SURPRISE': 1451, 'Service': 1452, 'Sweet': 1453, 'TEXT': 1454, 'TODAY': 1455, 'Thought': 1456, \"U've\": 1457, 'Valentines': 1458, 'Videophones': 1459, 'WELL': 1460, 'WHO': 1461, 'WILL': 1462, 'WOT': 1463, 'Welcome': 1464, 'Wen': 1465, 'Would': 1466, 'access': 1467, 'add': 1468, 'added': 1469, 'admirer': 1470, 'ahead': 1471, 'air': 1472, 'anybody': 1473, 'appreciate': 1474, 'ard': 1475, 'askin': 1476, 'asks': 1477, 'auction': 1478, 'awake': 1479, 'bedroom': 1480, 'belly': 1481, 'bugis': 1482, 'cafe': 1483, 'cake': 1484, 'callertune': 1485, 'campus': 1486, 'cancel': 1487, 'cartoon': 1488, 'catch': 1489, 'changed': 1490, 'checked': 1491, 'choose': 1492, 'cinema': 1493, 'clean': 1494, 'conditions': 1495, 'created': 1496, 'cry': 1497, 'current': 1498, 'daily': 1499, 'darren': 1500, 'dead': 1501, 'deal': 1502, 'definitely': 1503, 'derek': 1504, 'died': 1505, 'difficult': 1506, 'dropped': 1507, 'due': 1508, 'egg': 1509, 'ended': 1510, 'energy': 1511, 'envelope': 1512, 'excuse': 1513, 'experience': 1514, 'eyes': 1515, 'fact': 1516, 'fall': 1517, 'fancy': 1518, 'fantastic': 1519, 'fat': 1520, 'fb': 1521, 'fingers': 1522, 'five': 1523, 'fix': 1524, 'fixed': 1525, 'flights': 1526, 'following': 1527, 'forward': 1528, 'frens': 1529, 'frnd': 1530, 'fullonsms.com': 1531, 'gals': 1532, 'gap': 1533, 'ge': 1534, 'gettin': 1535, 'group': 1536, 'heavy': 1537, 'hello': 1538, 'hit': 1539, 'idea': 1540, 'informed': 1541, 'interested': 1542, 'internet': 1543, 'ish': 1544, 'java': 1545, 'jay': 1546, 'kick': 1547, 'kinda': 1548, 'la': 1549, 'lady': 1550, 'lazy': 1551, 'less': 1552, 'lessons': 1553, 'loan': 1554, 'logo': 1555, 'marry': 1556, 'matches': 1557, 'menu': 1558, 'mistake': 1559, 'mobiles': 1560, 'monday': 1561, 'mths': 1562, 'nokia': 1563, 'noline': 1564, 'normal': 1565, 'nxt': 1566, 'nyt': 1567, 'ones': 1568, 'orange': 1569, 'pass': 1570, 'photo': 1571, 'picked': 1572, 'plans': 1573, 'pleased': 1574, 'pray': 1575, 'realy': 1576, 'red': 1577, 'reference': 1578, 'regards': 1579, 'rent': 1580, 'rentl': 1581, 'revealed': 1582, 'searching': 1583, 'selection': 1584, 'selling': 1585, 'short': 1586, 'shuhui': 1587, 'sighs': 1588, 'site': 1589, 'slept': 1590, 'social': 1591, 'sounds': 1592, 'spend': 1593, 'spree': 1594, 'staying': 1595, 'std': 1596, 'store': 1597, 'studying': 1598, 'sunday': 1599, 'sunny': 1600, 'team': 1601, 'terms': 1602, 'th': 1603, 'thnk': 1604, 'torch': 1605, 'touch': 1606, 'training': 1607, 'trouble': 1608, 'truth': 1609, \"u're\": 1610, 'uncle': 1611, 'urself': 1612, 'using': 1613, 'usual': 1614, 'vary': 1615, 've': 1616, 'videochat': 1617, 'vl': 1618, 'walking': 1619, 'weather': 1620, 'weed': 1621, 'wishes': 1622, 'wkly': 1623, 'workin': 1624, 'www.getzed.co.uk': 1625, 'yahoo': 1626, 'yoga': 1627, 'zed': 1628})\n"
          ],
          "name": "stdout"
        }
      ]
    },
    {
      "cell_type": "code",
      "metadata": {
        "id": "ElbnYTgLSunc"
      },
      "source": [
        "#check whether cuda is available\n",
        "device = torch.device('cuda' if torch.cuda.is_available() else 'cpu')  \n",
        "device = \"cpu\"\n",
        "#set batch size\n",
        "BATCH_SIZE = 8\n",
        "\n",
        "#Load an iterator\n",
        "train_iterator, valid_iterator, test_iterator = data.BucketIterator.splits(\n",
        "    (train_data, valid_data, test_data), \n",
        "    batch_size = BATCH_SIZE,\n",
        "    sort_key = lambda x: len(x.text),\n",
        "    sort_within_batch=True,\n",
        "    device = device)"
      ],
      "execution_count": 10,
      "outputs": []
    },
    {
      "cell_type": "markdown",
      "metadata": {
        "id": "ZRl0lV4GejSO"
      },
      "source": [
        "La idea de implementar un embedding para las palabras es poder pasar de datos en texto a tensores vectoriales numéricos, esto permite expresar las palabras en un formato que les añada riqueza en su descripción semántica (haciendo que palabras similares tengan valores cercanos) y además las haga consumibles por un modelo de aprendizaje automático.\n",
        "\n",
        "En particular, GloVe no captura solamente las características estadísticas locales como Word2Vec, sino también las (Glo)bales para crear el (Ve)ctor deseado. Para lograr esto,  toma en cuenta relaciones semánticas locales, pero también deriva relaciones semánticas a partir de una matriz de co-ocurrencia, donde se indica qué tan probable es que una palabra aparezca en el contexto de otra. La gracia de GloVe es que puede expresar esta relación en un vector limpiamente con escasa pérdida de información."
      ]
    },
    {
      "cell_type": "markdown",
      "metadata": {
        "id": "6ZLQivWf4XHd"
      },
      "source": [
        "###Actividad 2"
      ]
    },
    {
      "cell_type": "code",
      "metadata": {
        "id": "9C5xjf0yTPQt"
      },
      "source": [
        "import torch.nn as nn\n",
        "\n",
        "class classifier(nn.Module):\n",
        "    \n",
        "    #define all the layers used in model\n",
        "    def __init__(self, vocab_size, embedding_dim, hidden_dim, output_dim, n_layers, \n",
        "                 bidirectional, dropout):\n",
        "        self.bidirectional = bidirectional\n",
        "        #Constructor\n",
        "        super().__init__()          \n",
        "        \n",
        "        # embedding layer (GloVe)\n",
        "        self.embedding = nn.Embedding(vocab_size, embedding_dim)\n",
        "        \n",
        "        # rnn layer\n",
        "        self.rnn = nn.RNN(embedding_dim, \n",
        "                           hidden_dim, \n",
        "                           num_layers=n_layers, \n",
        "                           bidirectional=bidirectional, \n",
        "                           dropout=dropout,\n",
        "                           batch_first=True)\n",
        "        \n",
        "        # dense layer 1\n",
        "        if self.bidirectional:\n",
        "          self.fc = nn.Linear(hidden_dim * 2, output_dim)\n",
        "        else:\n",
        "          self.fc = nn.Linear(hidden_dim, 60)\n",
        "        \n",
        "        # dense layer 2\n",
        "        self.act_intermediate = nn.ReLU()\n",
        "        self.fc2 = nn.Linear(60, output_dim)\n",
        "        \n",
        "        # activation function\n",
        "        # sigmoidal porque softmax da peores resultados\n",
        "        self.act = nn.Sigmoid()\n",
        "\n",
        "    def forward(self, text, text_lengths):\n",
        "        \n",
        "        #text = [batch size,sent_length]\n",
        "        embedded = self.embedding(text)\n",
        "        #embedded = [batch size, sent_len, emb dim]\n",
        "      \n",
        "        #packed sequence\n",
        "        packed_embedded = nn.utils.rnn.pack_padded_sequence(embedded, text_lengths,batch_first=True)\n",
        "        \n",
        "        #packed_output, (hidden, cell) = self.lstm(packed_embedded)\n",
        "        packed_output, hidden = self.rnn(packed_embedded)\n",
        "        #hidden = [batch size, num layers * num directions,hid dim]\n",
        "        #cell = [batch size, num layers * num directions,hid dim]\n",
        "        \n",
        "        if self.bidirectional:\n",
        "          #concat the final forward and backward hidden state\n",
        "          hidden = torch.cat((hidden[-2,:,:], hidden[-1,:,:]), dim = 1)\n",
        "                \n",
        "        #hidden = [batch size, hid dim * num directions]\n",
        "        dense_outputs = self.fc(hidden)\n",
        "        activated_outputs = self.act_intermediate(dense_outputs)\n",
        "        dense_outputs2 = self.fc2(activated_outputs)\n",
        "        #Final activation function\n",
        "        outputs = self.act(dense_outputs2)\n",
        "        \n",
        "        return outputs"
      ],
      "execution_count": 11,
      "outputs": []
    },
    {
      "cell_type": "code",
      "metadata": {
        "id": "H6wnquh-TVjN"
      },
      "source": [
        "#define hyperparameters\n",
        "size_of_vocab = len(TEXT.vocab)\n",
        "embedding_dim = 100\n",
        "num_hidden_nodes = 80\n",
        "num_output_nodes = 1\n",
        "num_layers = 1\n",
        "bidirection = False\n",
        "dropout = 0\n",
        "\n",
        "#instantiate the model\n",
        "model = classifier(size_of_vocab, embedding_dim, num_hidden_nodes, num_output_nodes, num_layers, \n",
        "                   bidirectional = bidirection, dropout = dropout)"
      ],
      "execution_count": 14,
      "outputs": []
    },
    {
      "cell_type": "code",
      "metadata": {
        "colab": {
          "base_uri": "https://localhost:8080/"
        },
        "id": "MsATQG_dTev1",
        "outputId": "4bc6e6a4-0c8d-47eb-e69c-3bd7aad69983"
      },
      "source": [
        "#architecture\n",
        "print(model)\n",
        "\n",
        "#No. of trianable parameters\n",
        "def count_parameters(model):\n",
        "    return sum(p.numel() for p in model.parameters() if p.requires_grad)\n",
        "    \n",
        "print(f'The model has {count_parameters(model):,} trainable parameters')\n",
        "\n",
        "#Initialize the pretrained embedding\n",
        "pretrained_embeddings = TEXT.vocab.vectors\n",
        "model.embedding.weight.data.copy_(pretrained_embeddings)\n",
        "\n",
        "print(pretrained_embeddings.shape)"
      ],
      "execution_count": 15,
      "outputs": [
        {
          "output_type": "stream",
          "text": [
            "classifier(\n",
            "  (embedding): Embedding(1629, 100)\n",
            "  (rnn): RNN(100, 80, batch_first=True)\n",
            "  (fc): Linear(in_features=80, out_features=60, bias=True)\n",
            "  (act_intermediate): ReLU()\n",
            "  (fc2): Linear(in_features=60, out_features=1, bias=True)\n",
            "  (act): Sigmoid()\n",
            ")\n",
            "The model has 182,381 trainable parameters\n",
            "torch.Size([1629, 100])\n"
          ],
          "name": "stdout"
        }
      ]
    },
    {
      "cell_type": "markdown",
      "metadata": {
        "id": "rCYKabwqDasq"
      },
      "source": [
        "El número de parámetros depende indirectamente del dataset utilizado, si usamos un dataset de texto muy grande y complejo, necesitaremos más dimensiones para obtener un buen embedding, lo que ser reflejará en la cantidad de parámetros de Wxh. Sin embargo, si se mantienen las dimensiones del embedding, la cantidad de parámetros no se verá afectada al cambiar de dataset.\n",
        "\n",
        "Entonces, podemos ver que se puede reducir la cantidad de parámetros de la red cambiando el embedding usado, por ejemplo si usamos GloVe con 50d (en vez de 100d), tendremos un tensor de 50 dimensiones para capturar las features de cada palabra, en vez de 100 dimensiones para cada palabra. Esto reducirá la cantidad de parámetros entrenables en W_xh, todo lo anterior sin alterar la dimensionalidad de la capa oculta h_t.\n"
      ]
    },
    {
      "cell_type": "code",
      "metadata": {
        "colab": {
          "base_uri": "https://localhost:8080/"
        },
        "id": "xGPs3bOV0ILT",
        "outputId": "1a28e4c5-7326-4485-c9cf-f803bb4c49fb"
      },
      "source": [
        "#define hyperparameters\n",
        "size_of_vocab = len(TEXT.vocab)\n",
        "embedding_dim = 100\n",
        "num_hidden_nodes = 120\n",
        "num_output_nodes = 1\n",
        "num_layers = 1\n",
        "bidirection = False\n",
        "dropout = 0\n",
        "\n",
        "#instantiate the new model\n",
        "new_model = classifier(size_of_vocab, embedding_dim, num_hidden_nodes, num_output_nodes, num_layers, \n",
        "                   bidirectional = bidirection, dropout = dropout)\n",
        "print(new_model)\n",
        "print(f'The new model has {count_parameters(new_model):,} trainable parameters')"
      ],
      "execution_count": 16,
      "outputs": [
        {
          "output_type": "stream",
          "text": [
            "classifier(\n",
            "  (embedding): Embedding(1629, 100)\n",
            "  (rnn): RNN(100, 120, batch_first=True)\n",
            "  (fc): Linear(in_features=120, out_features=60, bias=True)\n",
            "  (act_intermediate): ReLU()\n",
            "  (fc2): Linear(in_features=60, out_features=1, bias=True)\n",
            "  (act): Sigmoid()\n",
            ")\n",
            "The new model has 196,861 trainable parameters\n"
          ],
          "name": "stdout"
        }
      ]
    },
    {
      "cell_type": "markdown",
      "metadata": {
        "id": "SbJ8lzE00LJz"
      },
      "source": [
        "\n",
        "Al pasar de 80 a 120 en la dimension de la capa oculta h_t, vemos que la cantidad de parámetros pasa de 182.381 a 196.861, es decir, un aumento de 14.480 parámetros lo que es explicable teniendo en cuenta que un aumento en h_t implica incrementar la cantidad de parámetros para todas las transformaciones del modelo, es decir, para W_hx, W_hh y W_yh. Esto sin duda tiene considerables implicancias en el tamaño paramétrico del modelo."
      ]
    },
    {
      "cell_type": "markdown",
      "metadata": {
        "id": "PovXsINayrXr"
      },
      "source": [
        "###Actividad 3"
      ]
    },
    {
      "cell_type": "code",
      "metadata": {
        "id": "zYtTULlqTnzV"
      },
      "source": [
        "import torch.optim as optim\n",
        "\n",
        "#define optimizer and loss\n",
        "optimizer = optim.Adam(model.parameters())\n",
        "criterion = nn.BCELoss()\n",
        "\n",
        "#define metric\n",
        "def binary_accuracy(preds, y):\n",
        "    #round predictions to the closest integer\n",
        "    rounded_preds = torch.round(preds)\n",
        "    \n",
        "    correct = (rounded_preds == y).float() \n",
        "    acc = correct.sum() / len(correct)\n",
        "    return acc\n",
        "    \n",
        "#push to cuda if available\n",
        "print(\"curent device:\", device)\n",
        "model = model.to(device)\n",
        "criterion = criterion.to(device)"
      ],
      "execution_count": null,
      "outputs": []
    },
    {
      "cell_type": "code",
      "metadata": {
        "id": "kKqXlyQlT3xV"
      },
      "source": [
        "def train(model, iterator, optimizer, criterion):\n",
        "    \n",
        "    #initialize every epoch \n",
        "    epoch_loss = 0\n",
        "    epoch_acc = 0\n",
        "    \n",
        "    #set the model in training phase\n",
        "    model.train()  \n",
        "    \n",
        "    for batch in iterator:\n",
        "        \n",
        "        #resets the gradients after every batch\n",
        "        optimizer.zero_grad()   \n",
        "        \n",
        "        #retrieve text and no. of words\n",
        "        text, text_lengths = batch.text   \n",
        "        \n",
        "        #convert to 1D tensor\n",
        "        predictions = model(text, text_lengths).squeeze()  \n",
        "        \n",
        "        #compute the loss\n",
        "        loss = criterion(predictions, batch.label)        \n",
        "        \n",
        "        #compute the binary accuracy\n",
        "        acc = binary_accuracy(predictions, batch.label)   \n",
        "        \n",
        "        #backpropage the loss and compute the gradients\n",
        "        loss.backward()       \n",
        "        \n",
        "        #update the weights\n",
        "        optimizer.step()      \n",
        "        \n",
        "        #loss and accuracy\n",
        "        epoch_loss += loss.item()  \n",
        "        epoch_acc += acc.item()    \n",
        "        \n",
        "    return epoch_loss / len(iterator), epoch_acc / len(iterator)"
      ],
      "execution_count": 18,
      "outputs": []
    },
    {
      "cell_type": "code",
      "metadata": {
        "id": "Yoevj1w5UB0V"
      },
      "source": [
        "def evaluate(model, iterator, criterion):\n",
        "    \n",
        "    #initialize every epoch\n",
        "    epoch_loss = 0\n",
        "    epoch_acc = 0\n",
        "\n",
        "    #deactivating dropout layers\n",
        "    model.eval()\n",
        "    \n",
        "    #deactivates autograd\n",
        "    with torch.no_grad():\n",
        "    \n",
        "        for batch in iterator:\n",
        "            try:\n",
        "              #retrieve text and no. of words\n",
        "              text, text_lengths = batch.text\n",
        "              \n",
        "              #convert to 1d tensor\n",
        "              predictions = model(text, text_lengths).squeeze()\n",
        "              \n",
        "              #compute loss and accuracy\n",
        "              loss = criterion(predictions, batch.label)\n",
        "              acc = binary_accuracy(predictions, batch.label)\n",
        "              \n",
        "              #keep track of loss and accuracy\n",
        "              epoch_loss += loss.item()\n",
        "              epoch_acc += acc.item()\n",
        "            except Exception:\n",
        "              pass\n",
        "        \n",
        "    return epoch_loss / len(iterator), epoch_acc / len(iterator)"
      ],
      "execution_count": 19,
      "outputs": []
    },
    {
      "cell_type": "code",
      "metadata": {
        "colab": {
          "base_uri": "https://localhost:8080/"
        },
        "id": "ta9Ja0ARUFVF",
        "outputId": "e21316e5-60cf-48d6-fd00-279c38b8b522"
      },
      "source": [
        "N_EPOCHS = 10\n",
        "best_valid_loss = float('inf')\n",
        "\n",
        "val_acc_hist = []\n",
        "train_acc_hist = []\n",
        "val_loss_hist = []\n",
        "train_loss_hist = []\n",
        "for epoch in range(N_EPOCHS):\n",
        "     \n",
        "    #train the model\n",
        "    train_loss, train_acc = train(model, train_iterator, optimizer, criterion)\n",
        "    train_loss_hist.append(train_loss)\n",
        "    train_acc_hist.append(train_acc)\n",
        "    \n",
        "    #evaluate the model\n",
        "    valid_loss, valid_acc = evaluate(model, valid_iterator, criterion)\n",
        "    val_loss_hist.append(valid_loss)\n",
        "    val_acc_hist.append(valid_acc)\n",
        "    \n",
        "    #save the best model\n",
        "    if valid_loss < best_valid_loss:\n",
        "        best_valid_loss = valid_loss\n",
        "        #torch.save(model.state_dict(), 'saved_weights.pt')\n",
        "\n",
        "    print(\"Epoch:\", epoch + 1)\n",
        "    print(f'\\tTrain Loss: {train_loss:.3f} | Train Acc: {train_acc*100:.2f}%')\n",
        "    print(f'\\tVal. Loss: {valid_loss:.3f} |  Val. Acc: {valid_acc*100:.2f}%')"
      ],
      "execution_count": 248,
      "outputs": [
        {
          "output_type": "stream",
          "text": [
            "Epoch: 1\n",
            "\tTrain Loss: 0.240 | Train Acc: 91.61%\n",
            "\tVal. Loss: 0.117 |  Val. Acc: 96.88%\n",
            "Epoch: 2\n",
            "\tTrain Loss: 0.099 | Train Acc: 97.16%\n",
            "\tVal. Loss: 0.102 |  Val. Acc: 96.51%\n",
            "Epoch: 3\n",
            "\tTrain Loss: 0.090 | Train Acc: 97.52%\n",
            "\tVal. Loss: 0.071 |  Val. Acc: 97.72%\n",
            "Epoch: 4\n",
            "\tTrain Loss: 0.054 | Train Acc: 98.73%\n",
            "\tVal. Loss: 0.070 |  Val. Acc: 97.60%\n",
            "Epoch: 5\n",
            "\tTrain Loss: 0.044 | Train Acc: 98.92%\n",
            "\tVal. Loss: 0.066 |  Val. Acc: 98.08%\n",
            "Epoch: 6\n",
            "\tTrain Loss: 0.037 | Train Acc: 99.12%\n",
            "\tVal. Loss: 0.094 |  Val. Acc: 97.12%\n",
            "Epoch: 7\n",
            "\tTrain Loss: 0.032 | Train Acc: 99.33%\n",
            "\tVal. Loss: 0.103 |  Val. Acc: 97.24%\n",
            "Epoch: 8\n",
            "\tTrain Loss: 0.032 | Train Acc: 99.20%\n",
            "\tVal. Loss: 0.066 |  Val. Acc: 98.02%\n",
            "Epoch: 9\n",
            "\tTrain Loss: 0.022 | Train Acc: 99.48%\n",
            "\tVal. Loss: 0.078 |  Val. Acc: 96.69%\n",
            "Epoch: 10\n",
            "\tTrain Loss: 0.033 | Train Acc: 99.33%\n",
            "\tVal. Loss: 0.081 |  Val. Acc: 98.08%\n"
          ],
          "name": "stdout"
        }
      ]
    },
    {
      "cell_type": "code",
      "metadata": {
        "colab": {
          "base_uri": "https://localhost:8080/",
          "height": 573
        },
        "id": "mQBYpFaErEvS",
        "outputId": "b58a4b1d-b9d5-4591-889c-b3ae413625fe"
      },
      "source": [
        "# Plot Results\n",
        "import matplotlib.pyplot as plt\n",
        "import numpy as np\n",
        "\n",
        "val_acc_history = [h*100 for h in val_acc_hist]\n",
        "train_acc_history = [h*100 for h in train_acc_hist]\n",
        "\n",
        "plt.title(\"RNN: Accuracy vs. Epochs\")\n",
        "plt.xlabel(\"Epochs\")\n",
        "plt.ylabel(\"Accuracy (%)\")\n",
        "plt.plot(range(1,N_EPOCHS+1), val_acc_history, label=\"Validation\", color=\"purple\", linewidth=2)\n",
        "plt.plot(range(1,N_EPOCHS+1), train_acc_history, label=\"Training\", color=\"lightblue\", linewidth=2)\n",
        "plt.ylim((90,100))\n",
        "plt.xticks(np.arange(0, N_EPOCHS, 1))\n",
        "plt.legend()\n",
        "plt.show()\n",
        "\n",
        "val_loss_history = [h for h in val_loss_hist]\n",
        "train_loss_history = [h for h in train_loss_hist]\n",
        "\n",
        "plt.title(\"RNN: Loss vs. Epochs\")\n",
        "plt.xlabel(\"Epochs\")\n",
        "plt.ylabel(\"Loss\")\n",
        "plt.plot(range(1,N_EPOCHS+1), val_loss_history, label=\"Validation\", color=\"purple\", linewidth=2)\n",
        "plt.plot(range(1,N_EPOCHS+1), train_loss_history, label=\"Training\", color=\"lightblue\", linewidth=2)\n",
        "plt.ylim((0.0,0.5))\n",
        "plt.xticks(np.arange(0, N_EPOCHS, 1))\n",
        "plt.legend()\n",
        "plt.show()"
      ],
      "execution_count": 251,
      "outputs": [
        {
          "output_type": "display_data",
          "data": {
            "image/png": "[encoded data removed]",
            "text/plain": [
              "<Figure size 432x288 with 1 Axes>"
            ]
          },
          "metadata": {
            "tags": [],
            "needs_background": "light"
          }
        },
        {
          "output_type": "display_data",
          "data": {
            "image/png": "[encoded data removed]",
            "text/plain": [
              "<Figure size 432x288 with 1 Axes>"
            ]
          },
          "metadata": {
            "tags": [],
            "needs_background": "light"
          }
        }
      ]
    },
    {
      "cell_type": "markdown",
      "metadata": {
        "id": "Ml36kg2kyAR7"
      },
      "source": [
        "Podemos ver mediante los gráficos, que la configuración actual demuestra un rendimiento sobre el 98% para el set de entrenamiento y de validación, sin embargo, la pérdida del test de validación sube después de la época 5, mientras que la del test de entrenamiento sigue bajando, lo que indica un caso de overfitting."
      ]
    },
    {
      "cell_type": "code",
      "metadata": {
        "colab": {
          "base_uri": "https://localhost:8080/"
        },
        "id": "2Bst01O7vbpr",
        "outputId": "a76f1b78-505c-4a2d-f85c-97adcf63d552"
      },
      "source": [
        "_, test_accuracy = evaluate(model, test_iterator, criterion)\n",
        "print(\"Accuracy in Test set was: \", round(test_accuracy*100,2), \"%\")"
      ],
      "execution_count": 272,
      "outputs": [
        {
          "output_type": "stream",
          "text": [
            "Accuracy in Test set was:  97.64 %\n"
          ],
          "name": "stdout"
        }
      ]
    },
    {
      "cell_type": "markdown",
      "metadata": {
        "id": "-0YdooHg13Z0"
      },
      "source": [
        "De todas formas, vemos un rendimiento para el set de test de 97.64% , menos de un punto porcentual por debajo del test de validación, lo que demuestra que de todas formas se logró un alto poder de generalización para predecir si los mensajes de texto del dataset corresponden a *spamm* o no."
      ]
    },
    {
      "cell_type": "markdown",
      "metadata": {
        "id": "Zz3nMDI85Wut"
      },
      "source": [
        "###Actividad 4"
      ]
    },
    {
      "cell_type": "code",
      "metadata": {
        "id": "_ovWn8kW5Y01"
      },
      "source": [
        "import torch.nn as nn\n",
        "\n",
        "class classifier2(nn.Module):\n",
        "    \n",
        "    #define all the layers used in model\n",
        "    def __init__(self, vocab_size, embedding_dim, hidden_dim, output_dim, n_layers, \n",
        "                 bidirectional, dropout):\n",
        "        self.bidirectional = bidirectional\n",
        "        \n",
        "        #Constructor\n",
        "        super().__init__()          \n",
        "        \n",
        "        #embedding layer\n",
        "        self.embedding = nn.Embedding(vocab_size, embedding_dim)\n",
        "        \n",
        "        #lstm layer\n",
        "        self.lstm = nn.LSTM(embedding_dim, \n",
        "                           hidden_dim, \n",
        "                           num_layers=n_layers, \n",
        "                           bidirectional=bidirectional, \n",
        "                           dropout=dropout,\n",
        "                           batch_first=True)\n",
        "        \n",
        "        #dense layer\n",
        "        if self.bidirectional:\n",
        "          self.fc = nn.Linear(hidden_dim * 2, 60)\n",
        "        else:\n",
        "          self.fc = nn.Linear(hidden_dim, 60)\n",
        "\n",
        "        self.act0 = nn.ReLU(inplace=True)\n",
        "        self.fc2 = nn.Linear(60, output_dim)\n",
        "        \n",
        "        #activation function\n",
        "        self.act1 = nn.Sigmoid()\n",
        "        \n",
        "    def forward(self, text, text_lengths):\n",
        "        \n",
        "        #text = [batch size,sent_length]\n",
        "        embedded = self.embedding(text)\n",
        "        #embedded = [batch size, sent_len, emb dim]\n",
        "      \n",
        "        #packed sequence\n",
        "        packed_embedded = nn.utils.rnn.pack_padded_sequence(embedded, text_lengths,batch_first=True)\n",
        "        \n",
        "        packed_output, (hidden, cell) = self.lstm(packed_embedded)\n",
        "        #hidden = [batch size, num layers * num directions,hid dim]\n",
        "        #cell = [batch size, num layers * num directions,hid dim]\n",
        "        \n",
        "        if self.bidirectional:\n",
        "          #concat the final forward and backward hidden state\n",
        "          hidden = torch.cat((hidden[-2,:,:], hidden[-1,:,:]), dim = 1)\n",
        "                \n",
        "        #hidden = [batch size, hid dim * num directions]\n",
        "        x = self.fc(hidden)\n",
        "        x = self.act0(x)\n",
        "        x = self.fc2(x)\n",
        "        #Final activation function\n",
        "        outputs=self.act1(x)\n",
        "        \n",
        "        return outputs"
      ],
      "execution_count": 21,
      "outputs": []
    },
    {
      "cell_type": "code",
      "metadata": {
        "colab": {
          "base_uri": "https://localhost:8080/"
        },
        "id": "mtVPICu855zE",
        "outputId": "06221f1a-6383-41e2-9d2e-0aad1b2ef87a"
      },
      "source": [
        "#define hyperparameters\n",
        "size_of_vocab = len(TEXT.vocab)\n",
        "embedding_dim = 100\n",
        "num_hidden_nodes = 80\n",
        "num_output_nodes = 1\n",
        "num_layers = 1\n",
        "bidirection = False\n",
        "dropout = 0\n",
        "\n",
        "#instantiate the lstm model\n",
        "lstm_model = classifier2(size_of_vocab, embedding_dim, num_hidden_nodes, num_output_nodes, num_layers, \n",
        "                   bidirectional=bidirection, dropout=dropout)\n",
        "#architecture\n",
        "print(lstm_model)\n",
        "\n",
        "#No. of trianable parameters\n",
        "def count_parameters(model):\n",
        "    return sum(p.numel() for p in model.parameters() if p.requires_grad)\n",
        "    \n",
        "print(f'The model has {count_parameters(lstm_model):,} trainable parameters')\n",
        "\n",
        "#Initialize the pretrained embedding\n",
        "pretrained_embeddings = TEXT.vocab.vectors\n",
        "lstm_model.embedding.weight.data.copy_(pretrained_embeddings)"
      ],
      "execution_count": 24,
      "outputs": [
        {
          "output_type": "stream",
          "text": [
            "classifier2(\n",
            "  (embedding): Embedding(1629, 100)\n",
            "  (lstm): LSTM(100, 80, batch_first=True)\n",
            "  (fc): Linear(in_features=80, out_features=60, bias=True)\n",
            "  (act0): ReLU(inplace=True)\n",
            "  (fc2): Linear(in_features=60, out_features=1, bias=True)\n",
            "  (act1): Sigmoid()\n",
            ")\n",
            "The model has 226,061 trainable parameters\n"
          ],
          "name": "stdout"
        },
        {
          "output_type": "execute_result",
          "data": {
            "text/plain": [
              "tensor([[ 0.0000,  0.0000,  0.0000,  ...,  0.0000,  0.0000,  0.0000],\n",
              "        [ 0.0000,  0.0000,  0.0000,  ...,  0.0000,  0.0000,  0.0000],\n",
              "        [-0.3398,  0.2094,  0.4635,  ..., -0.2339,  0.4730, -0.0288],\n",
              "        ...,\n",
              "        [ 0.3196, -0.0119,  0.0098,  ..., -0.0504,  0.2983,  1.3323],\n",
              "        [ 0.5492,  0.1545, -0.6830,  ..., -1.2155,  0.5693,  1.0440],\n",
              "        [-0.2009, -0.1691, -0.3587,  ..., -0.3249, -0.3411,  0.2473]])"
            ]
          },
          "metadata": {
            "tags": []
          },
          "execution_count": 24
        }
      ]
    },
    {
      "cell_type": "code",
      "metadata": {
        "colab": {
          "base_uri": "https://localhost:8080/"
        },
        "id": "TDAU6_B75y0F",
        "outputId": "79f11349-a2be-4d92-e18d-fea76c6ad941"
      },
      "source": [
        "N_EPOCHS = 10\n",
        "best_valid_loss = float('inf')\n",
        "\n",
        "#define optimizer and loss\n",
        "optimizer = optim.Adam(lstm_model.parameters())\n",
        "criterion = nn.BCELoss()\n",
        "\n",
        "val_acc_hist = []\n",
        "train_acc_hist = []\n",
        "val_loss_hist = []\n",
        "train_loss_hist = []\n",
        "for epoch in range(N_EPOCHS):\n",
        "     \n",
        "    #train the lstm_model\n",
        "    train_loss, train_acc = train(lstm_model, train_iterator, optimizer, criterion)\n",
        "    train_loss_hist.append(train_loss)\n",
        "    train_acc_hist.append(train_acc)\n",
        "    \n",
        "    #evaluate the lstm_model\n",
        "    valid_loss, valid_acc = evaluate(lstm_model, valid_iterator, criterion)\n",
        "    val_loss_hist.append(valid_loss)\n",
        "    val_acc_hist.append(valid_acc)\n",
        "\n",
        "    print(\"Epoch:\", epoch + 1)\n",
        "    print(f'\\tTrain Loss: {train_loss:.3f} | Train Acc: {train_acc*100:.2f}%')\n",
        "    print(f'\\tVal. Loss: {valid_loss:.3f} |  Val. Acc: {valid_acc*100:.2f}%')"
      ],
      "execution_count": 25,
      "outputs": [
        {
          "output_type": "stream",
          "text": [
            "Epoch: 1\n",
            "\tTrain Loss: 0.195 | Train Acc: 93.21%\n",
            "\tVal. Loss: 0.112 |  Val. Acc: 96.13%\n",
            "Epoch: 2\n",
            "\tTrain Loss: 0.069 | Train Acc: 98.04%\n",
            "\tVal. Loss: 0.160 |  Val. Acc: 94.69%\n",
            "Epoch: 3\n",
            "\tTrain Loss: 0.042 | Train Acc: 98.86%\n",
            "\tVal. Loss: 0.047 |  Val. Acc: 97.84%\n",
            "Epoch: 4\n",
            "\tTrain Loss: 0.030 | Train Acc: 99.23%\n",
            "\tVal. Loss: 0.047 |  Val. Acc: 98.11%\n",
            "Epoch: 5\n",
            "\tTrain Loss: 0.027 | Train Acc: 99.25%\n",
            "\tVal. Loss: 0.056 |  Val. Acc: 97.93%\n",
            "Epoch: 6\n",
            "\tTrain Loss: 0.013 | Train Acc: 99.66%\n",
            "\tVal. Loss: 0.050 |  Val. Acc: 97.84%\n",
            "Epoch: 7\n",
            "\tTrain Loss: 0.018 | Train Acc: 99.46%\n",
            "\tVal. Loss: 0.074 |  Val. Acc: 97.57%\n",
            "Epoch: 8\n",
            "\tTrain Loss: 0.009 | Train Acc: 99.66%\n",
            "\tVal. Loss: 0.064 |  Val. Acc: 97.57%\n",
            "Epoch: 9\n",
            "\tTrain Loss: 0.007 | Train Acc: 99.74%\n",
            "\tVal. Loss: 0.098 |  Val. Acc: 97.84%\n",
            "Epoch: 10\n",
            "\tTrain Loss: 0.009 | Train Acc: 99.69%\n",
            "\tVal. Loss: 0.094 |  Val. Acc: 97.66%\n"
          ],
          "name": "stdout"
        }
      ]
    },
    {
      "cell_type": "code",
      "metadata": {
        "colab": {
          "base_uri": "https://localhost:8080/",
          "height": 573
        },
        "id": "uP_MYrfAFoio",
        "outputId": "1073b439-39a0-4cae-b604-62d8e6098b89"
      },
      "source": [
        "# Plot Results\n",
        "import matplotlib.pyplot as plt\n",
        "import numpy as np\n",
        "\n",
        "val_acc_history = [h*100 for h in val_acc_hist]\n",
        "train_acc_history = [h*100 for h in train_acc_hist]\n",
        "\n",
        "plt.title(\"RNN: Accuracy vs. Epochs\")\n",
        "plt.xlabel(\"Epochs\")\n",
        "plt.ylabel(\"Accuracy (%)\")\n",
        "plt.plot(range(1,N_EPOCHS+1), val_acc_history, label=\"Validation\", color=\"purple\", linewidth=2)\n",
        "plt.plot(range(1,N_EPOCHS+1), train_acc_history, label=\"Training\", color=\"lightblue\", linewidth=2)\n",
        "plt.ylim((90,100))\n",
        "plt.xticks(np.arange(0, N_EPOCHS, 1))\n",
        "plt.legend()\n",
        "plt.show()\n",
        "\n",
        "val_loss_history = [h for h in val_loss_hist]\n",
        "train_loss_history = [h for h in train_loss_hist]\n",
        "\n",
        "plt.title(\"RNN: Loss vs. Epochs\")\n",
        "plt.xlabel(\"Epochs\")\n",
        "plt.ylabel(\"Loss\")\n",
        "plt.plot(range(1,N_EPOCHS+1), val_loss_history, label=\"Validation\", color=\"purple\", linewidth=2)\n",
        "plt.plot(range(1,N_EPOCHS+1), train_loss_history, label=\"Training\", color=\"lightblue\", linewidth=2)\n",
        "plt.ylim((0.0,0.5))\n",
        "plt.xticks(np.arange(0, N_EPOCHS, 1))\n",
        "plt.legend()\n",
        "plt.show()"
      ],
      "execution_count": 27,
      "outputs": [
        {
          "output_type": "display_data",
          "data": {
            "image/png": "[encoded data removed]",
            "text/plain": [
              "<Figure size 432x288 with 1 Axes>"
            ]
          },
          "metadata": {
            "tags": [],
            "needs_background": "light"
          }
        },
        {
          "output_type": "display_data",
          "data": {
            "image/png": "[encoded data removed]",
            "text/plain": [
              "<Figure size 432x288 with 1 Axes>"
            ]
          },
          "metadata": {
            "tags": [],
            "needs_background": "light"
          }
        }
      ]
    },
    {
      "cell_type": "code",
      "metadata": {
        "colab": {
          "base_uri": "https://localhost:8080/"
        },
        "id": "afRy2qsl6n91",
        "outputId": "b5b8f856-7588-4464-9c93-8022c34e318b"
      },
      "source": [
        "_, test_accuracy = evaluate(model, test_iterator, criterion)\n",
        "print(\"Accuracy in Test set was: \", round(test_accuracy*100,2), \"%\")"
      ],
      "execution_count": 26,
      "outputs": [
        {
          "output_type": "stream",
          "text": [
            "Accuracy in Test set was:  85.14 %\n"
          ],
          "name": "stdout"
        }
      ]
    },
    {
      "cell_type": "markdown",
      "metadata": {
        "id": "PksSYPvHARDe"
      },
      "source": [
        "###Actividad 5"
      ]
    },
    {
      "cell_type": "code",
      "metadata": {
        "colab": {
          "base_uri": "https://localhost:8080/"
        },
        "id": "nbDNGzfBAQqe",
        "outputId": "d2354f4d-6a22-4c5c-8570-fff8cd24a4dd"
      },
      "source": [
        "#define hyperparameters\n",
        "size_of_vocab = len(TEXT.vocab)\n",
        "embedding_dim = 100\n",
        "num_hidden_nodes = 80\n",
        "num_output_nodes = 1\n",
        "num_layers = 2\n",
        "bidirection = False # set bidirection\n",
        "dropout = 0\n",
        "\n",
        "#define optimizer and loss\n",
        "optimizer = optim.Adam(model.parameters())\n",
        "criterion = nn.BCELoss()\n",
        "\n",
        "\n",
        "#instantiate the lstm model\n",
        "bi_rnn = classifier(size_of_vocab, embedding_dim, num_hidden_nodes, num_output_nodes, num_layers, \n",
        "                   bidirectional = bidirection, dropout = dropout)\n",
        "print(lstm_model)\n",
        "print(f'The new model has {count_parameters(lstm_model):,} trainable parameters')"
      ],
      "execution_count": 327,
      "outputs": [
        {
          "output_type": "stream",
          "text": [
            "classifier2(\n",
            "  (embedding): Embedding(2674, 100)\n",
            "  (lstm): LSTM(100, 80, batch_first=True)\n",
            "  (fc): Linear(in_features=80, out_features=60, bias=True)\n",
            "  (act0): ReLU(inplace=True)\n",
            "  (fc2): Linear(in_features=60, out_features=1, bias=True)\n",
            "  (act1): Sigmoid()\n",
            ")\n",
            "The new model has 330,561 trainable parameters\n"
          ],
          "name": "stdout"
        }
      ]
    },
    {
      "cell_type": "markdown",
      "metadata": {
        "id": "pUVwQo6eCcC6"
      },
      "source": [
        "##Referencias\n",
        "https://www.kaggle.com/anindya2906/glove6b\n",
        "\n",
        "https://www.analyticsvidhya.com/blog/2020/01/first-text-classification-in-pytorch/"
      ]
    }
  ]
}