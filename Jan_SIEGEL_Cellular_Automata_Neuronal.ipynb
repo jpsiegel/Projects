{
  "nbformat": 4,
  "nbformat_minor": 0,
  "metadata": {
    "colab": {
      "name": "Jan SIEGEL MOLLER - Ayudantia 4 Cellular Automata.ipynb",
      "provenance": [],
      "collapsed_sections": [],
      "include_colab_link": true
    },
    "kernelspec": {
      "display_name": "Python 3",
      "language": "python",
      "name": "python3"
    },
    "language_info": {
      "codemirror_mode": {
        "name": "ipython",
        "version": 3
      },
      "file_extension": ".py",
      "mimetype": "text/x-python",
      "name": "python",
      "nbconvert_exporter": "python",
      "pygments_lexer": "ipython3",
      "version": "3.7.4"
    }
  },
  "cells": [
    {
      "cell_type": "markdown",
      "metadata": {
        "id": "view-in-github",
        "colab_type": "text"
      },
      "source": [
        "<a href=\"https://colab.research.google.com/github/jpsiegel/Projects/blob/master/Jan_SIEGEL_Cellular_Automata_Neuronal.ipynb\" target=\"_parent\"><img src=\"https://colab.research.google.com/assets/colab-badge.svg\" alt=\"Open In Colab\"/></a>"
      ]
    },
    {
      "cell_type": "markdown",
      "metadata": {
        "colab_type": "text",
        "id": "zwG_cyOKg4P1"
      },
      "source": [
        "# Excitable Media CA"
      ]
    },
    {
      "cell_type": "markdown",
      "metadata": {
        "colab_type": "text",
        "id": "hkMDABRpg4GO"
      },
      "source": [
        "Ayudantia exercise from 14:00 to 23:59.\n",
        "\n",
        "The assistants will help you from 15:30 to 17:00.\n",
        "\n",
        "You can contact the assistants using zoom conference, alternatively you can mail the assistants at gsvidal@uc.cl and gnyanez@uc.cl\n",
        "\n",
        "To improve our question or problem understanding try to write a comment with it explaining your ideas, your good redaction and clarity will be appreciated. The ayudantes can see and modify this notebook, but be patients dont work instantly. Before asking you can save to be shure that we will see the same thing.\n",
        "\n",
        "Turn in your work when you finish.\n",
        "\n",
        "Good Luck, Have Fun ;)\n",
        "\n",
        "Note: use the scratch code that is below."
      ]
    },
    {
      "cell_type": "markdown",
      "metadata": {
        "id": "XZqVbrBcBg6W",
        "colab_type": "text"
      },
      "source": [
        "### Activities"
      ]
    },
    {
      "cell_type": "markdown",
      "metadata": {
        "colab_type": "text",
        "id": "Z6K2L86yg36z"
      },
      "source": [
        "Implement the excitable media CA in python (6 points), try these parameters:\n",
        "* $k = 20$, number of states\n",
        "* $x = $ number of excited neighbours\n",
        "* $q = \\frac{x}{4}$, probability of excitation"
      ]
    },
    {
      "cell_type": "code",
      "metadata": {
        "id": "arhPMYyAYn09",
        "colab_type": "code",
        "colab": {}
      },
      "source": [
        "import matplotlib\n",
        "from pylab import *\n",
        "from IPython import display\n",
        "import time"
      ],
      "execution_count": 0,
      "outputs": []
    },
    {
      "cell_type": "code",
      "metadata": {
        "colab_type": "code",
        "id": "_8Z4XaPzhLR5",
        "colab": {}
      },
      "source": [
        "n = 50 # size of space: n x n\n",
        "k = 20\n",
        "\n",
        "# Make an initial pattern 10x10 (here is a glider):\n",
        "initconfig = \\\n",
        "array([\\\n",
        "[0,0,0,0,0,0,0,0,0,0], \\\n",
        "[0,0,0,1,0,0,0,0,0,0], \\\n",
        "[0,0,0,1,0,0,1,0,0,0], \\\n",
        "[0,0,1,0,1,0,1,0,0,0], \\\n",
        "[0,0,1,0,1,0,1,0,0,0], \\\n",
        "[0,1,0,1,0,0,0,0,0,0], \\\n",
        "[0,0,1,0,1,0,0,0,0,0], \\\n",
        "[0,0,1,0,0,0,0,0,0,0], \\\n",
        "[0,0,0,0,0,0,0,0,0,0], \\\n",
        "[0,0,0,0,0,0,0,0,0,0] \\\n",
        "])\n",
        "\n",
        "def initialize():\n",
        "    global config, nextconfig\n",
        "    config = zeros([n, n])\n",
        "    #r = np.random.uniform(size=config.shape)\n",
        "    #config = 1 * (r<p)\n",
        "    config[25:35,25:35] = initconfig\n",
        "    nextconfig = zeros([n, n])\n",
        "    \n",
        "def observe(color_map=\"viridis\"):\n",
        "    global config, nextconfig\n",
        "    cla()\n",
        "    imshow(config, vmin = 0, vmax = k, cmap = color_map)\n",
        "\n",
        "def update():\n",
        "    global config, nextconfig\n",
        "\n",
        "    #iterate through grid\n",
        "    for x in range(n):\n",
        "        for y in range(n):\n",
        "            count = 0\n",
        "            central_value = config[x % n, y % n]\n",
        "\n",
        "            if central_value != 0: #this cell is only excitable if it's in state 0\n",
        "              #if it's not excitable, we just advance in state and skip neighbourhood check\n",
        "              if central_value + 1 <= k:\n",
        "                nextconfig[x, y] = central_value + 1\n",
        "              else:\n",
        "                nextconfig[x, y] = 0\n",
        "              continue\n",
        "\n",
        "            #cell is excitable, iterate through (x,y)'s moore neighbourhood\n",
        "            for dx in [-1, 0, 1]:\n",
        "                for dy in [-1, 0, 1]:\n",
        "                    if dx == 0 and dy == 0: #dont count central cell (outer totalistic)\n",
        "                      continue\n",
        "                    # % n makes it cross frontiers\n",
        "                    count += 1 if config[(x + dx) % n, (y + dy) % n] == 1 else 0  # we add to counter only if this neighbour is excited\n",
        "\n",
        "            nextconfig[x, y] = 1 if np.random.uniform(0, 1) <= (count/4) else 0 #estochastic excitement condition\n",
        "            #nextconfig[x, y] = 1 if count > 1 else 0 #deterministic excitement condition\n",
        "\n",
        "    config, nextconfig = nextconfig, config"
      ],
      "execution_count": 0,
      "outputs": []
    },
    {
      "cell_type": "code",
      "metadata": {
        "id": "Xr29Jh7EYuXl",
        "colab_type": "code",
        "colab": {}
      },
      "source": [
        "# Simulate and plot results\n",
        "initialize()\n",
        "for t in range(1000):\n",
        "    update()\n",
        "    observe('twilight_shifted')\n",
        "    display.clear_output(wait=True)\n",
        "    display.display(gcf())\n",
        "    time.sleep(0.1)\n",
        "    plt.close()\n",
        "plt.show()"
      ],
      "execution_count": 0,
      "outputs": []
    }
  ]
}