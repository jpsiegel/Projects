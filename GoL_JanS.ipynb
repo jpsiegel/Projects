{
  "nbformat": 4,
  "nbformat_minor": 0,
  "metadata": {
    "colab": {
      "name": "GoL_JanS.ipynb",
      "provenance": [],
      "authorship_tag": "ABX9TyNaahNVsiSaLdCeniZ1XCUx",
      "include_colab_link": true
    },
    "kernelspec": {
      "name": "python3",
      "display_name": "Python 3"
    }
  },
  "cells": [
    {
      "cell_type": "markdown",
      "metadata": {
        "id": "view-in-github",
        "colab_type": "text"
      },
      "source": [
        "<a href=\"https://colab.research.google.com/github/jpsiegel/Projects/blob/master/GoL_JanS.ipynb\" target=\"_parent\"><img src=\"https://colab.research.google.com/assets/colab-badge.svg\" alt=\"Open In Colab\"/></a>"
      ]
    },
    {
      "cell_type": "code",
      "metadata": {
        "id": "9DaayyEL1cX3",
        "colab_type": "code",
        "colab": {}
      },
      "source": [
        "import matplotlib\n",
        "from pylab import *\n",
        "from IPython import display\n",
        "import time"
      ],
      "execution_count": 0,
      "outputs": []
    },
    {
      "cell_type": "code",
      "metadata": {
        "id": "Foqov-T_1iwf",
        "colab_type": "code",
        "colab": {}
      },
      "source": [
        "n = 50 # size of space: n x n\n",
        "p = 3/8 # probability of initially cells\n",
        "\n",
        "# Make an initial pattern 10x10 (here is a glider):\n",
        "initconfig = \\\n",
        "array([\\\n",
        "[0,0,0,0,0,0,0,0,0,0], \\\n",
        "[0,0,0,0,0,0,0,0,0,0], \\\n",
        "[0,0,0,0,0,0,0,0,0,0], \\\n",
        "[0,0,0,0,1,0,0,0,0,0], \\\n",
        "[0,0,0,0,0,1,0,0,0,0], \\\n",
        "[0,0,0,1,1,1,0,0,0,0], \\\n",
        "[0,0,0,0,0,0,0,0,0,0], \\\n",
        "[0,0,0,0,0,0,0,0,0,0], \\\n",
        "[0,0,0,0,0,0,0,0,0,0], \\\n",
        "[0,0,0,0,0,0,0,0,0,0] \\\n",
        "])\n",
        "\n",
        "def initialize():\n",
        "    global config, nextconfig\n",
        "    config = zeros([n, n])\n",
        "    # r = np.random.uniform(size=config.shape)\n",
        "    # config = 1 * (r<p)\n",
        "    config[25:35,25:35] = initconfig\n",
        "    nextconfig = zeros([n, n])\n",
        "    \n",
        "def observe():\n",
        "    global config, nextconfig\n",
        "    cla()\n",
        "    imshow(config, vmin = 0, vmax = 1, cmap = cm.binary)\n",
        "\n",
        "def update():\n",
        "    global config, nextconfig\n",
        "    for x in range(n):\n",
        "        for y in range(n):\n",
        "            count = 0\n",
        "            central_value = config[x % n, y % n]\n",
        "            for dx in [-1, 0, 1]:\n",
        "                for dy in [-1, 0, 1]:\n",
        "                    if dx == 0 and dy == 0: #dont count central cell (outer totalistic)\n",
        "                      continue\n",
        "                    count += config[(x + dx) % n, (y + dy) % n]\n",
        "            if count == 3 and central_value == 0: #birth (lives)\n",
        "              nextconfig[x, y] = 1\n",
        "            elif count > 3 and central_value == 1: #overpopulation (dies)\n",
        "              nextconfig[x, y] = 0\n",
        "            elif count < 2 and central_value == 1: #underpopulation (dies)\n",
        "              nextconfig[x, y] = 0\n",
        "            else: #stasis (stays the same)\n",
        "              nextconfig[x, y] = central_value\n",
        "    config, nextconfig = nextconfig, config\n"
      ],
      "execution_count": 0,
      "outputs": []
    },
    {
      "cell_type": "code",
      "metadata": {
        "id": "2thR2w8aUnBw",
        "colab_type": "code",
        "colab": {
          "base_uri": "https://localhost:8080/",
          "height": 731
        },
        "outputId": "f943703f-d373-4884-85f5-421024c1ac01"
      },
      "source": [
        "# Simulate and plot results\n",
        "initialize()\n",
        "for t in range(100):\n",
        "    update()\n",
        "    observe()\n",
        "    display.clear_output(wait=True)\n",
        "    display.display(gcf())\n",
        "    time.sleep(0.1)\n",
        "    plt.close()\n",
        "plt.show()"
      ],
      "execution_count": 10,
      "outputs": [
        {
          "output_type": "display_data",
          "data": {
            "image/png": "[encoded data removed]",
            "text/plain": [
              "<Figure size 432x288 with 1 Axes>"
            ]
          },
          "metadata": {
            "tags": []
          }
        },
        {
          "output_type": "error",
          "ename": "KeyboardInterrupt",
          "evalue": "ignored",
          "traceback": [
            "\u001b[0;31m---------------------------------------------------------------------------\u001b[0m",
            "\u001b[0;31mKeyboardInterrupt\u001b[0m                         Traceback (most recent call last)",
            "\u001b[0;32m<ipython-input-10-dbe00ae4b25a>\u001b[0m in \u001b[0;36m<module>\u001b[0;34m()\u001b[0m\n\u001b[1;32m      5\u001b[0m     \u001b[0mdisplay\u001b[0m\u001b[0;34m.\u001b[0m\u001b[0mclear_output\u001b[0m\u001b[0;34m(\u001b[0m\u001b[0mwait\u001b[0m\u001b[0;34m=\u001b[0m\u001b[0;32mTrue\u001b[0m\u001b[0;34m)\u001b[0m\u001b[0;34m\u001b[0m\u001b[0;34m\u001b[0m\u001b[0m\n\u001b[1;32m      6\u001b[0m     \u001b[0mdisplay\u001b[0m\u001b[0;34m.\u001b[0m\u001b[0mdisplay\u001b[0m\u001b[0;34m(\u001b[0m\u001b[0mgcf\u001b[0m\u001b[0;34m(\u001b[0m\u001b[0;34m)\u001b[0m\u001b[0;34m)\u001b[0m\u001b[0;34m\u001b[0m\u001b[0;34m\u001b[0m\u001b[0m\n\u001b[0;32m----> 7\u001b[0;31m     \u001b[0mtime\u001b[0m\u001b[0;34m.\u001b[0m\u001b[0msleep\u001b[0m\u001b[0;34m(\u001b[0m\u001b[0;36m0.1\u001b[0m\u001b[0;34m)\u001b[0m\u001b[0;34m\u001b[0m\u001b[0;34m\u001b[0m\u001b[0m\n\u001b[0m\u001b[1;32m      8\u001b[0m     \u001b[0mplt\u001b[0m\u001b[0;34m.\u001b[0m\u001b[0mclose\u001b[0m\u001b[0;34m(\u001b[0m\u001b[0;34m)\u001b[0m\u001b[0;34m\u001b[0m\u001b[0;34m\u001b[0m\u001b[0m\n\u001b[1;32m      9\u001b[0m \u001b[0mplt\u001b[0m\u001b[0;34m.\u001b[0m\u001b[0mshow\u001b[0m\u001b[0;34m(\u001b[0m\u001b[0;34m)\u001b[0m\u001b[0;34m\u001b[0m\u001b[0;34m\u001b[0m\u001b[0m\n",
            "\u001b[0;31mKeyboardInterrupt\u001b[0m: "
          ]
        },
        {
          "output_type": "display_data",
          "data": {
            "image/png": "[encoded data removed]",
            "text/plain": [
              "<Figure size 432x288 with 1 Axes>"
            ]
          },
          "metadata": {
            "tags": []
          }
        }
      ]
    }
  ]
}