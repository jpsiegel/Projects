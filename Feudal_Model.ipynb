{
  "nbformat": 4,
  "nbformat_minor": 0,
  "metadata": {
    "colab": {
      "name": "Feudal Model.ipynb",
      "provenance": [],
      "authorship_tag": "ABX9TyMLwGagzbR/sJCJH9ad1Pax",
      "include_colab_link": true
    },
    "kernelspec": {
      "name": "python3",
      "display_name": "Python 3"
    }
  },
  "cells": [
    {
      "cell_type": "markdown",
      "metadata": {
        "id": "view-in-github",
        "colab_type": "text"
      },
      "source": [
        "<a href=\"https://colab.research.google.com/github/jpsiegel/Projects/blob/master/Feudal_Model.ipynb\" target=\"_parent\"><img src=\"https://colab.research.google.com/assets/colab-badge.svg\" alt=\"Open In Colab\"/></a>"
      ]
    },
    {
      "cell_type": "code",
      "metadata": {
        "id": "mYOUb7koPeXl",
        "colab_type": "code",
        "colab": {}
      },
      "source": [
        "import matplotlib\n",
        "from pylab import *\n",
        "from IPython import display\n",
        "import time\n",
        "import numpy as np"
      ],
      "execution_count": 0,
      "outputs": []
    },
    {
      "cell_type": "code",
      "metadata": {
        "id": "zE41zSbRSByN",
        "colab_type": "code",
        "colab": {}
      },
      "source": [
        "# Parameters\n",
        "\n",
        "vassal_grid_size = 4 # n x n\n",
        "lord_grid_size = vassal_grid_size - 1\n",
        "governor_grid_size = lord_grid_size - 1\n",
        "\n",
        "initial_army_level = 1\n",
        "initial_loyalty_value = 1\n",
        "army_growth_rate = 0.1\n",
        "loyalty_decay_rate = 0.01"
      ],
      "execution_count": 0,
      "outputs": []
    },
    {
      "cell_type": "code",
      "metadata": {
        "id": "uy2CZL8LP5I3",
        "colab_type": "code",
        "colab": {}
      },
      "source": [
        "# Classes\n",
        "\n",
        "\n",
        "class Vassal:  # Vasallo\n",
        "\n",
        "  id_ = 0\n",
        "\n",
        "  def __init__(self, initial_army_level, initial_loyalties_up):\n",
        "    self.id_ = Vassal.id_\n",
        "    self.army_value = initial_army_level\n",
        "    self.loyalties_up = initial_loyalties_up #dict: {L1: loyalty_value1, L2: l_v2}\n",
        "    Vassal.id_ += 1\n",
        "\n",
        "  def __repr__(self):\n",
        "    return \"Vassal{} loyalties_up:{}\".format(self.id_, self.loyalties_up)\n",
        "\n",
        "\n",
        "class Lord:  # Señor\n",
        "\n",
        "  id_ = 0\n",
        "\n",
        "  def __init__(self, initial_loyalties_up, initial_loyalties_down):\n",
        "    self.id_ = Lord.id_\n",
        "    self.loyalties_up = initial_loyalties_up  # dict: {G1: loyalty_value1, G2: l_v2}\n",
        "    self.loyalties_down = initial_loyalties_down  # dict: {V1: loyalty_value1, V2: l_v2}\n",
        "    Lord.id_ += 1\n",
        "    \n",
        "  def army_value(self):\n",
        "    \"\"\"Function to calculate army value of Lord given its loyalties down\"\"\"\n",
        "    pass\n",
        "\n",
        "  def __repr__(self):\n",
        "    return \"Lord{} loyalties_down:{}\".format(self.id_, self.loyalties_down)\n",
        "\n",
        "\n",
        "class Governor:  # Gobernador\n",
        "\n",
        "  id_ = 0\n",
        "\n",
        "  def __init__(self, initial_loyalties_down):\n",
        "    self.id_ = Governor.id_\n",
        "    self.loyalties_down = initial_loyalties_down  # dict: {L1: loyalty_value1, L2: l_v2}\n",
        "    Governor.id_ += 1\n",
        "    \n",
        "  def army_value(self):\n",
        "    \"\"\"Function to calculate army value of Governor given its loyalties down\"\"\"\n",
        "    pass\n",
        "\n",
        "  def __repr__(self):\n",
        "    return \"Governor{} loyalties_down:{}\".format(self.id_, self.loyalties_down)"
      ],
      "execution_count": 0,
      "outputs": []
    },
    {
      "cell_type": "code",
      "metadata": {
        "id": "TcNEjPdnmyBM",
        "colab_type": "code",
        "colab": {}
      },
      "source": [
        "#Auxiliar functions\n",
        "\n",
        "def connect_down(A, B, value=initial_loyalty_value):\n",
        "  \"\"\"Connects A down to B. A will have a loyalties_down pointing to B.\n",
        "  B will have a loyalties_up pointing to A\"\"\"\n",
        "  A.loyalties_down[B.id_] = value\n",
        "  B.loyalties_up[A.id_] = value"
      ],
      "execution_count": 0,
      "outputs": []
    },
    {
      "cell_type": "code",
      "metadata": {
        "id": "G5cXZv70PkKL",
        "colab_type": "code",
        "colab": {}
      },
      "source": [
        "def initialize():\n",
        "    global vassal_config, vassal_nextconfig, lord_config, lord_nextconfig, governor_config, governor_nextconfig\n",
        "\n",
        "    #initialize vassal level\n",
        "    vassal_config = np.zeros([vassal_grid_size, vassal_grid_size], dtype=type(Vassal(initial_army_level, {})))\n",
        "\n",
        "    for x in range(vassal_grid_size):\n",
        "      for y in range(vassal_grid_size):\n",
        "        vassal_config[x, y] = Vassal(initial_army_level, {})\n",
        "\n",
        "    vassal_nextconfig = np.zeros([vassal_grid_size, vassal_grid_size])\n",
        "\n",
        "    #initialize lord level\n",
        "    lord_config = np.zeros([lord_grid_size, lord_grid_size], dtype=type(Lord({}, {})))\n",
        "\n",
        "    for x in range(lord_grid_size):\n",
        "      for y in range(lord_grid_size):\n",
        "        lord_config[x, y] = Lord({}, {})\n",
        "\n",
        "    lord_nextconfig = np.zeros([lord_grid_size, lord_grid_size])\n",
        "\n",
        "    #initialize governor level\n",
        "    governor_config = np.zeros([governor_grid_size, governor_grid_size], dtype=type(Governor({})))\n",
        "\n",
        "    for x in range(governor_grid_size):\n",
        "      for y in range(governor_grid_size):\n",
        "        governor_config[x, y] = Governor({})\n",
        "\n",
        "    governor_nextconfig = np.zeros([governor_grid_size, governor_grid_size])\n",
        "\n",
        "    #connect all levels\n",
        "    for x in range(governor_grid_size):\n",
        "      for y in range(governor_grid_size):\n",
        "        connect_down(governor_config[x,y], lord_config[x, y])\n",
        "        connect_down(governor_config[x,y], lord_config[x+1, y+1])\n",
        "\n",
        "    for x in range(lord_grid_size):\n",
        "      for y in range(lord_grid_size):\n",
        "        connect_down(lord_config[x,y], vassal_config[x, y])\n",
        "        connect_down(lord_config[x,y], vassal_config[x+1, y+1])\n",
        "\n",
        "    print(\"Vassal Initial Config:\")\n",
        "    print(vassal_config)\n",
        "    print(\"\")\n",
        "    print(\"Lord Initial Config:\")\n",
        "    print(lord_config)\n",
        "    print(\"\")\n",
        "    print(\"Governor Initial Config:\")\n",
        "    print(governor_config)\n",
        "    print(\"\")\n",
        "########################################################################################################\n",
        "\n",
        "def observe(color_map=\"viridis\"):\n",
        "    global config, nextconfig\n",
        "    cla()\n",
        "    imshow(config, vmin = 0, vmax = 8, cmap = color_map)\n",
        "\n",
        "def update():\n",
        "    global config, nextconfig\n",
        "\n",
        "    #iterate through grid\n",
        "    for x in range(n):\n",
        "        for y in range(n):\n",
        "            count = 0\n",
        "            central_value = config[x % n, y % n]\n",
        "\n",
        "            if central_value != 0: #this cell is only excitable if it's in state 0\n",
        "              #if it's not excitable, we just advance in state and skip neighbourhood check\n",
        "              if central_value + 1 <= k:\n",
        "                nextconfig[x, y] = central_value + 1\n",
        "              else:\n",
        "                nextconfig[x, y] = 0\n",
        "              continue\n",
        "\n",
        "            #cell is excitable, iterate through (x,y)'s moore neighbourhood\n",
        "            for dx in [-1, 0, 1]:\n",
        "                for dy in [-1, 0, 1]:\n",
        "                    if dx == 0 and dy == 0: #dont count central cell (outer totalistic)\n",
        "                      continue\n",
        "                    # % n makes it cross frontiers\n",
        "                    count += 1 if config[(x + dx) % n, (y + dy) % n] == 1 else 0  # we add to counter only if this neighbour is excited\n",
        "\n",
        "            nextconfig[x, y] = 1 if np.random.uniform(0, 1) <= (count/4) else 0 #estochastic excitement condition\n",
        "            #nextconfig[x, y] = 1 if count > 1 else 0 #deterministic excitement condition\n",
        "\n",
        "    config, nextconfig = nextconfig, config"
      ],
      "execution_count": 0,
      "outputs": []
    },
    {
      "cell_type": "code",
      "metadata": {
        "id": "PeRVh8fwPoTk",
        "colab_type": "code",
        "colab": {
          "base_uri": "https://localhost:8080/",
          "height": 425
        },
        "outputId": "9db2a819-6434-4ec0-dcb0-d4a641d5e290"
      },
      "source": [
        "# Simulate and plot results\n",
        "initialize()\n",
        "#for t in range(1000):\n",
        "#    update()\n",
        "#    observe('twilight_shifted')\n",
        "#    display.clear_output(wait=True)\n",
        "#    display.display(gcf())\n",
        "#    time.sleep(0.1)\n",
        "#    plt.close()\n",
        "#plt.show()"
      ],
      "execution_count": 6,
      "outputs": [
        {
          "output_type": "stream",
          "text": [
            "Vassal Initial Config:\n",
            "[[Vassal1 loyalties_up:{1: 1} Vassal2 loyalties_up:{2: 1}\n",
            "  Vassal3 loyalties_up:{3: 1} Vassal4 loyalties_up:{}]\n",
            " [Vassal5 loyalties_up:{4: 1} Vassal6 loyalties_up:{1: 1, 5: 1}\n",
            "  Vassal7 loyalties_up:{2: 1, 6: 1} Vassal8 loyalties_up:{3: 1}]\n",
            " [Vassal9 loyalties_up:{7: 1} Vassal10 loyalties_up:{4: 1, 8: 1}\n",
            "  Vassal11 loyalties_up:{5: 1, 9: 1} Vassal12 loyalties_up:{6: 1}]\n",
            " [Vassal13 loyalties_up:{} Vassal14 loyalties_up:{7: 1}\n",
            "  Vassal15 loyalties_up:{8: 1} Vassal16 loyalties_up:{9: 1}]]\n",
            "\n",
            "Lord Initial Config:\n",
            "[[Lord1 loyalties_down:{1: 1, 6: 1} Lord2 loyalties_down:{2: 1, 7: 1}\n",
            "  Lord3 loyalties_down:{3: 1, 8: 1}]\n",
            " [Lord4 loyalties_down:{5: 1, 10: 1} Lord5 loyalties_down:{6: 1, 11: 1}\n",
            "  Lord6 loyalties_down:{7: 1, 12: 1}]\n",
            " [Lord7 loyalties_down:{9: 1, 14: 1} Lord8 loyalties_down:{10: 1, 15: 1}\n",
            "  Lord9 loyalties_down:{11: 1, 16: 1}]]\n",
            "\n",
            "Governor Initial Config:\n",
            "[[Governor1 loyalties_down:{1: 1, 5: 1}\n",
            "  Governor2 loyalties_down:{2: 1, 6: 1}]\n",
            " [Governor3 loyalties_down:{4: 1, 8: 1}\n",
            "  Governor4 loyalties_down:{5: 1, 9: 1}]]\n",
            "\n"
          ],
          "name": "stdout"
        }
      ]
    }
  ]
}