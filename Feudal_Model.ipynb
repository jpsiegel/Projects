{
  "nbformat": 4,
  "nbformat_minor": 0,
  "metadata": {
    "colab": {
      "name": "Feudal Model.ipynb",
      "provenance": [],
      "authorship_tag": "ABX9TyNKSLZ2Dq0yXj6Vp4KJwHTw",
      "include_colab_link": true
    },
    "kernelspec": {
      "name": "python3",
      "display_name": "Python 3"
    }
  },
  "cells": [
    {
      "cell_type": "markdown",
      "metadata": {
        "id": "view-in-github",
        "colab_type": "text"
      },
      "source": [
        "<a href=\"https://colab.research.google.com/github/jpsiegel/Projects/blob/master/Feudal_Model.ipynb\" target=\"_parent\"><img src=\"https://colab.research.google.com/assets/colab-badge.svg\" alt=\"Open In Colab\"/></a>"
      ]
    },
    {
      "cell_type": "markdown",
      "metadata": {
        "id": "PPv-WPDeHSok",
        "colab_type": "text"
      },
      "source": [
        "## Trello:\n",
        "\n",
        "### Done\n",
        "* Minimo viable visual **CHK**\n",
        "  * particionar matriz gobernador **CHK**\n",
        "  * particionar matriz señor **CHK**\n",
        "  * particionar matriz vasallo **CHK**\n",
        "  * Conectar el update **CHK**\n",
        "* Actualizar valores por etapa (loyalties y army) **CHK**\n",
        "  * Actualizar loyalties segun decay rate **CHK**\n",
        "  * Actualizar armies segun grow rate **CHK**\n",
        "* arreglar BUG: finds deben funcionar con config no con all_list **CHK**\n",
        "\n",
        "### To Do\n",
        "* Generar reglas\n",
        "  * segun army_value semi chk (craneada pero no implementada)\n",
        "    * vasallo ataca segun fuerza de neighbours: attack lowest army value neighbour if im the strongest of the neighbour (neighbour is all but self)\n",
        "    y si conquista le pasa su id a ese cuadro (que pasa con army value? adopta porcion? pierde otro par)\n",
        "  * segun loyalties\n",
        "  * mixtas?\n",
        "* Generar consecuencias:\n",
        "  * que pasa cuando ataca \n",
        "* Hacer funcion generadora de condiciones iniciales\n",
        "  * generar vasallos\n",
        "  * asignar algunos vasallos contiguos a señor\n",
        "  * asignar algunos señores contiguos a gobernador\n"
      ]
    },
    {
      "cell_type": "code",
      "metadata": {
        "id": "mYOUb7koPeXl",
        "colab_type": "code",
        "colab": {}
      },
      "source": [
        "import matplotlib\n",
        "from pylab import *\n",
        "from IPython import display\n",
        "import time\n",
        "import numpy as np\n",
        "from random import uniform"
      ],
      "execution_count": 0,
      "outputs": []
    },
    {
      "cell_type": "code",
      "metadata": {
        "id": "zE41zSbRSByN",
        "colab_type": "code",
        "colab": {}
      },
      "source": [
        "# Parameters\n",
        "\n",
        "vassal_grid_size = 5 # n x n\n",
        "lord_grid_size = vassal_grid_size - 2\n",
        "governor_grid_size = lord_grid_size - 1\n",
        "\n",
        "initial_army_level_min, initial_army_level_max = 0.1, 2  # starts low, [1, 10]\n",
        "initial_loyalty_value = 1.0 # starts at max, [0.0, 1.0]\n",
        "army_growth_rate = 0.1\n",
        "loyalty_decay_rate = 0.01"
      ],
      "execution_count": 0,
      "outputs": []
    },
    {
      "cell_type": "code",
      "metadata": {
        "id": "uy2CZL8LP5I3",
        "colab_type": "code",
        "colab": {}
      },
      "source": [
        "# Classes\n",
        "\n",
        "\n",
        "class Vassal:  # Vasallo\n",
        "\n",
        "  def __init__(self, id_, initial_army_level, initial_loyalties_up):\n",
        "    self.id_ = id_\n",
        "    self.army_value = initial_army_level\n",
        "    self.loyalties_up = initial_loyalties_up #dict: {L1: loyalty_value1, L2: l_v2}\n",
        "\n",
        "  def __repr__(self):\n",
        "    return \"Vassal{} a_v:{} l_up:{}\".format(self.id_, self.army_value, self.loyalties_up)\n",
        "\n",
        "\n",
        "class Lord:  # Señor\n",
        "\n",
        "  def __init__(self, id_, initial_loyalties_up, initial_loyalties_down):\n",
        "    self.id_ = id_\n",
        "    self.loyalties_up = initial_loyalties_up  # dict: {G1: loyalty_value1, G2: l_v2}\n",
        "    self.loyalties_down = initial_loyalties_down  # dict: {V1: loyalty_value1, V2: l_v2}\n",
        "    \n",
        "  def army_value(self):\n",
        "    \"\"\"Function to calculate army value of Lord given its loyalties down\"\"\"\n",
        "    pass\n",
        "\n",
        "  def __repr__(self):\n",
        "    return \"Lord{} l_down:{}\".format(self.id_, self.loyalties_down)\n",
        "\n",
        "\n",
        "class Governor:  # Gobernador\n",
        "\n",
        "  def __init__(self, id_, initial_loyalties_down):\n",
        "    self.id_ = id_\n",
        "    self.loyalties_down = initial_loyalties_down  # dict: {L1: loyalty_value1, L2: l_v2}\n",
        "    \n",
        "  def army_value(self):\n",
        "    \"\"\"Function to calculate army value of Governor given its loyalties down\"\"\"\n",
        "    pass\n",
        "\n",
        "  def __repr__(self):\n",
        "    return \"Governor{} l_down:{}\".format(self.id_, self.loyalties_down)"
      ],
      "execution_count": 0,
      "outputs": []
    },
    {
      "cell_type": "code",
      "metadata": {
        "id": "TcNEjPdnmyBM",
        "colab_type": "code",
        "colab": {}
      },
      "source": [
        "#Auxiliar functions\n",
        "\n",
        "def connect_down(A, B, value=initial_loyalty_value):\n",
        "  \"\"\"Connects A down to B. A will have a loyalties_down pointing to B.\n",
        "  B will have a loyalties_up pointing to A\"\"\"\n",
        "  A.loyalties_down[B.id_] = value\n",
        "  B.loyalties_up[A.id_] = value\n",
        "\n",
        "def connect_all():\n",
        "  \"\"\" Given a grid size, this generates random valid starting conditions for the connections\"\"\"\n",
        "  pass\n",
        "\n",
        "def print_connections(vassal_config, lord_config, governor_config):\n",
        "    print(\"Vassal Config:\")\n",
        "    print(vassal_config)\n",
        "    print(\"\")\n",
        "    print(\"Lord Config:\")\n",
        "    print(lord_config)\n",
        "    print(\"\")\n",
        "    print(\"Governor Config:\")\n",
        "    print(governor_config)\n",
        "    print(\"\")\n",
        "\n",
        "def find_lord_of_vassal(vassal):\n",
        "  \"\"\" Given a vassal object, returns the lord object connected with him \"\"\"\n",
        "  lord_id = list(vassal.loyalties_up.keys())[0]  # id of first lord connected\n",
        "  target_lord = None\n",
        "  for x in range(lord_grid_size):\n",
        "    for y in range(lord_grid_size):\n",
        "      if lord_config[x,y].id_ == lord_id:\n",
        "        target_lord = lord_config[x,y]\n",
        "        return target_lord\n",
        "  if target_lord == None:\n",
        "    raise ValueError(\"Vassal's lord not found in lord_config\")\n",
        "\n",
        "def find_governor_of_vassal(vassal):\n",
        "  \"\"\" Given a vassal object, returns the governor object connected with him through a lord\"\"\"\n",
        "  lord = find_lord_of_vassal(vassal)\n",
        "  governor_id = list(lord.loyalties_up.keys())[0]  # id of first governor connected\n",
        "  target_governor = None\n",
        "  for x in range(governor_grid_size):\n",
        "    for y in range(governor_grid_size):\n",
        "      if governor_config[x, y].id_ == governor_id:\n",
        "        target_governor = governor_config[x, y]\n",
        "        return target_governor\n",
        "  if target_governor == None:\n",
        "    raise ValueError(\"Vassal's governor not found in governor_config\")\n",
        "\n",
        "def find_vassal_by_id(attacker_id): #cuidao que este es con nextconfig\n",
        "  for x in range(vassal_grid_size):\n",
        "    for y in range(vassal_grid_size):\n",
        "      if attacker_id == vassal_nextconfig[x,y].id_:\n",
        "        return vassal_nextconfig[x,y]\n"
      ],
      "execution_count": 0,
      "outputs": []
    },
    {
      "cell_type": "code",
      "metadata": {
        "id": "G5cXZv70PkKL",
        "colab_type": "code",
        "colab": {}
      },
      "source": [
        "# backend\n",
        "\n",
        "def initialize():\n",
        "    global vassal_config, vassal_nextconfig, lord_config, lord_nextconfig, governor_config, governor_nextconfig, all_vassals, all_lords, all_governors\n",
        "\n",
        "\n",
        "    #initialize vassal level\n",
        "    vassal_config = np.zeros([vassal_grid_size, vassal_grid_size], dtype=type(Vassal(None, 1, {})))\n",
        "\n",
        "    id_counter = 1\n",
        "    for x in range(vassal_grid_size):\n",
        "      for y in range(vassal_grid_size):\n",
        "        initial_army_level = round(uniform(initial_army_level_min, initial_army_level_max), 3)\n",
        "        new_vassal = Vassal(id_counter, initial_army_level, {})\n",
        "        vassal_config[x, y] = new_vassal\n",
        "        id_counter += 1\n",
        "\n",
        "    vassal_nextconfig = np.zeros([vassal_grid_size, vassal_grid_size], dtype=type(Vassal(None, 1, {})))\n",
        "\n",
        "    #initialize lord level\n",
        "    lord_config = np.zeros([lord_grid_size, lord_grid_size], dtype=type(Lord(None, {}, {})))\n",
        "\n",
        "    id_counter = 1\n",
        "    for x in range(lord_grid_size):\n",
        "      for y in range(lord_grid_size):\n",
        "        new_lord = Lord(id_counter, {}, {})\n",
        "        lord_config[x, y] = new_lord\n",
        "        id_counter += 1\n",
        "\n",
        "    lord_nextconfig = np.zeros([lord_grid_size, lord_grid_size], dtype=type(Lord(None, {}, {})))\n",
        "\n",
        "    #initialize governor level\n",
        "    governor_config = np.zeros([governor_grid_size, governor_grid_size], dtype=type(Governor(None, {})))\n",
        "\n",
        "    id_counter = 1\n",
        "    for x in range(governor_grid_size):\n",
        "      for y in range(governor_grid_size):\n",
        "        new_governor = Governor(id_counter, {})\n",
        "        governor_config[x, y] = new_governor\n",
        "        id_counter += 1\n",
        "\n",
        "    governor_nextconfig = np.zeros([governor_grid_size, governor_grid_size], dtype=type(Governor(None, {})))\n",
        "\n",
        "    #connect all levels (random initial condition (WIP))\n",
        "    #connect_all()\n",
        "    \n",
        "    #connect all levels (deterministic initial condition)\n",
        "    #connect govs\n",
        "    #1st gov\n",
        "    connect_down(governor_config[0,0], lord_config[0, 0])\n",
        "    connect_down(governor_config[0,0], lord_config[1, 0])\n",
        "    #2nd gov\n",
        "    connect_down(governor_config[0,1], lord_config[0, 1])\n",
        "    connect_down(governor_config[0,1], lord_config[0, 2])\n",
        "    #3rd gov\n",
        "    connect_down(governor_config[1,0], lord_config[1, 1])\n",
        "    connect_down(governor_config[1,0], lord_config[1, 2])\n",
        "    connect_down(governor_config[1,0], lord_config[2, 2])\n",
        "    #4th gov\n",
        "    connect_down(governor_config[1,1], lord_config[2, 0])\n",
        "    connect_down(governor_config[1,1], lord_config[2, 1])\n",
        "    \n",
        "    #connect lords\n",
        "    #1st lord\n",
        "    connect_down(lord_config[0,0], vassal_config[0, 0])\n",
        "    connect_down(lord_config[0,0], vassal_config[1, 0])\n",
        "    connect_down(lord_config[0,0], vassal_config[0, 1])\n",
        "    #2do lord\n",
        "    connect_down(lord_config[0,1], vassal_config[0, 2])\n",
        "    connect_down(lord_config[0,1], vassal_config[1, 2])\n",
        "    connect_down(lord_config[0,1], vassal_config[0, 3])\n",
        "    #3rd lord\n",
        "    connect_down(lord_config[0,2], vassal_config[1, 3])\n",
        "    connect_down(lord_config[0,2], vassal_config[0, 4])\n",
        "    connect_down(lord_config[0,2], vassal_config[1, 4])\n",
        "    connect_down(lord_config[0,2], vassal_config[2, 4])\n",
        "    #4th lord\n",
        "    connect_down(lord_config[1,0], vassal_config[2, 0])\n",
        "    connect_down(lord_config[1,0], vassal_config[1, 1])\n",
        "    connect_down(lord_config[1,0], vassal_config[2, 1])\n",
        "    #5th lord\n",
        "    connect_down(lord_config[1,1], vassal_config[2, 2])\n",
        "    connect_down(lord_config[1,1], vassal_config[3, 2])\n",
        "    connect_down(lord_config[1,1], vassal_config[2, 3])\n",
        "    #6th lord\n",
        "    connect_down(lord_config[1,2], vassal_config[3, 3])\n",
        "    connect_down(lord_config[1,2], vassal_config[3, 4])\n",
        "    connect_down(lord_config[1,2], vassal_config[4, 4])\n",
        "    #7th lord\n",
        "    connect_down(lord_config[2,0], vassal_config[3, 0])\n",
        "    connect_down(lord_config[2,0], vassal_config[4, 0])\n",
        "    #8th lord\n",
        "    connect_down(lord_config[2,1], vassal_config[3, 1])\n",
        "    connect_down(lord_config[2,1], vassal_config[4, 1])\n",
        "    #9th lord\n",
        "    connect_down(lord_config[2,2], vassal_config[4, 2])\n",
        "    connect_down(lord_config[2,2], vassal_config[4, 3])\n",
        "\n",
        "    # print_connections(vassal_config, lord_config, governor_config)\n",
        "\n",
        "\n",
        "def observe(ca_level=\"lord\", color_map=\"viridis\"):\n",
        "    global vassal_config, vassal_nextconfig, lord_config, lord_nextconfig, governor_config, governor_nextconfig\n",
        "    cla()\n",
        "    if ca_level == \"vassal\":  # plot vassal level\n",
        "      aux_config = np.zeros([vassal_grid_size, vassal_grid_size])\n",
        "      for x in range(vassal_grid_size):\n",
        "        for y in range(vassal_grid_size):\n",
        "          aux_config[x,y] = vassal_config[x,y].id_ #cambia instancia por id\n",
        "      imshow(aux_config, vmin = 0, vmax = vassal_grid_size * vassal_grid_size, cmap = color_map)\n",
        "\n",
        "    if ca_level == \"lord\":  # plot lord level\n",
        "      aux_config = np.zeros([vassal_grid_size, vassal_grid_size])\n",
        "      for x in range(vassal_grid_size):\n",
        "        for y in range(vassal_grid_size):\n",
        "          aux_config[x,y] = find_lord_of_vassal(vassal_config[x,y]).id_  # cambia instancia de vassal por id del primer lord conectado\n",
        "      imshow(aux_config, vmin = 0, vmax = vassal_grid_size * vassal_grid_size, cmap = color_map)\n",
        "\n",
        "    if ca_level == \"governor\":  # plot governor level\n",
        "      aux_config = np.zeros([vassal_grid_size, vassal_grid_size])\n",
        "      for x in range(vassal_grid_size):\n",
        "        for y in range(vassal_grid_size):\n",
        "          aux_config[x,y] = find_governor_of_vassal(vassal_config[x,y]).id_  # cambia instancia de vassal por id del primer lord conectado\n",
        "      imshow(aux_config, vmin = 0, vmax = vassal_grid_size * vassal_grid_size, cmap = color_map)\n",
        "\n",
        "    #print_connections(vassal_config, lord_config, governor_config)\n",
        "\n",
        "def update():\n",
        "  \"\"\" First we update army_value and loyalties for all vassals/lords/govs, then we generate decisions/actions for gov,lord,vassal \"\"\"\n",
        "  global vassal_config, vassal_nextconfig, lord_config, lord_nextconfig, governor_config, governor_nextconfig\n",
        "\n",
        "  vassal_hitmap = {}  # {attacker_id: target_id}\n",
        "  # iterate through vassal grid\n",
        "  for x in range(vassal_grid_size):\n",
        "    for y in range(vassal_grid_size):\n",
        "      current_vassal = vassal_config[x, y]\n",
        "      updated_army_value = round(current_vassal.army_value * (1 + army_growth_rate), 3)  # in each step army value grows by army_growth_rate\n",
        "      updated_loyalties = {k: v * (1 - loyalty_decay_rate) for k, v in current_vassal.loyalties_up.items()}  # in each step loyalty decays by loyalty_decay_rate\n",
        "      vassal_nextconfig[x, y] = Vassal(current_vassal.id_, updated_army_value, updated_loyalties)\n",
        "\n",
        "      # iterate thorugh neighbourhood\n",
        "      neighbours_army_values = {}  # if it has the same neighbour more than once, values are added\n",
        "      for dx in [-1, 0, 1]:\n",
        "        for dy in [-1, 0, 1]:\n",
        "          try:\n",
        "            current_neighbour = vassal_config[x + dx, y + dy]\n",
        "            if current_neighbour.id_ != current_vassal.id_:  # skip if self\n",
        "              try:\n",
        "                neighbours_army_values[current_neighbour.id_] += current_neighbour.army_value\n",
        "              except KeyError: #first time entering value\n",
        "                neighbours_army_values[current_neighbour.id_] = current_neighbour.army_value\n",
        "          except IndexError:  # vassal is in border of map\n",
        "            continue\n",
        "      \n",
        "      if len(neighbours_army_values) > 0 and current_vassal.army_value >= max(neighbours_army_values.values()):  # if stronger than neighbours\n",
        "        target_vassal_id = min(neighbours_army_values.keys(), key=(lambda k: neighbours_army_values[k]))  # attacks weakest neighbour\n",
        "        vassal_hitmap[current_vassal.id_] = target_vassal_id\n",
        "  print(\"Hitmap\")\n",
        "  print(vassal_hitmap)\n",
        "  #raise ValueError\n",
        "  #after all attacks are checked (all vassals are in nextconfig)\n",
        "  for attacker_id, target_id in vassal_hitmap.items():\n",
        "    attacker = find_vassal_by_id(attacker_id)\n",
        "    try:\n",
        "      target = find_vassal_by_id(target_id) #ESTE target PODRIA NO SER SU VECINO!! solo otro con ese mismo id, podriamos retornar todos los que hagan match con ese id en el find\n",
        "      target.id_ = attacker_id\n",
        "      target.loyalties_up = attacker.loyalties_up #QUE ARMY VALUE TIENE EL ATACADO???\n",
        "    except AttributeError: #revisar esto, porque no lo ecnuentra? ya conquistado? ADEMAS: BUG: LOS ATAQUES CRUZAN FONTERAS DEL MAPA\n",
        "      pass\n",
        "\n",
        "  #iterate through lord grid\n",
        "  for x in range(lord_grid_size):\n",
        "    for y in range(lord_grid_size):\n",
        "      current_lord = lord_config[x, y]\n",
        "      updated_loyalties_up = {k: v * (1 - loyalty_decay_rate) for k, v in current_lord.loyalties_up.items()}  # in each step loyalty decays by loyalty_decay_rate\n",
        "      updated_loyalties_down = {k: v * (1 - loyalty_decay_rate) for k, v in current_lord.loyalties_down.items()}\n",
        "      lord_nextconfig[x, y] = Lord(current_lord.id_, updated_loyalties_up, updated_loyalties_down)\n",
        "\n",
        "  #iterate through governor grid\n",
        "  for x in range(governor_grid_size):\n",
        "    for y in range(governor_grid_size):\n",
        "      current_governor = governor_config[x, y]\n",
        "      updated_loyalties_down = {k: v * (1 - loyalty_decay_rate) for k, v in current_governor.loyalties_down.items()}\n",
        "      governor_nextconfig[x, y] = Governor(current_governor.id_, updated_loyalties_down)\n",
        "\n",
        "  \n",
        "\n",
        "  vassal_config, vassal_nextconfig = vassal_nextconfig, vassal_config\n",
        "  lord_config, lord_nextconfig = lord_nextconfig, lord_config\n",
        "  governor_config, governor_nextconfig = governor_nextconfig, governor_config"
      ],
      "execution_count": 0,
      "outputs": []
    },
    {
      "cell_type": "code",
      "metadata": {
        "id": "PeRVh8fwPoTk",
        "colab_type": "code",
        "outputId": "696a7532-7d35-49d0-9ec8-e26df7abadb9",
        "colab": {
          "base_uri": "https://localhost:8080/",
          "height": 1000
        }
      },
      "source": [
        "#main\n",
        "\n",
        "# Simulate and plot results\n",
        "initialize()\n",
        "observe(\"vassal\", \"viridis\")\n",
        "for t in range(10):\n",
        "    update()\n",
        "    observe(\"vassal\", \"viridis\")\n",
        "    #display.clear_output(wait=True)\n",
        "    #display.display(gcf())\n",
        "    #time.sleep(0.1)\n",
        "    #plt.close()\n",
        "    plt.show()"
      ],
      "execution_count": 6,
      "outputs": [
        {
          "output_type": "stream",
          "text": [
            "Hitmap\n",
            "{9: 5, 17: 23, 24: 19}\n"
          ],
          "name": "stdout"
        },
        {
          "output_type": "display_data",
          "data": {
            "image/png": "[encoded data removed]",
            "text/plain": [
              "<Figure size 432x288 with 1 Axes>"
            ]
          },
          "metadata": {
            "tags": [],
            "needs_background": "light"
          }
        },
        {
          "output_type": "stream",
          "text": [
            "Hitmap\n",
            "{9: 4, 17: 22, 24: 17}\n"
          ],
          "name": "stdout"
        },
        {
          "output_type": "display_data",
          "data": {
            "image/png": "[encoded data removed]",
            "text/plain": [
              "<Figure size 432x288 with 1 Axes>"
            ]
          },
          "metadata": {
            "tags": [],
            "needs_background": "light"
          }
        },
        {
          "output_type": "stream",
          "text": [
            "Hitmap\n",
            "{9: 3, 24: 17}\n"
          ],
          "name": "stdout"
        },
        {
          "output_type": "display_data",
          "data": {
            "image/png": "[encoded data removed]",
            "text/plain": [
              "<Figure size 432x288 with 1 Axes>"
            ]
          },
          "metadata": {
            "tags": [],
            "needs_background": "light"
          }
        },
        {
          "output_type": "stream",
          "text": [
            "Hitmap\n",
            "{9: 14, 24: 17}\n"
          ],
          "name": "stdout"
        },
        {
          "output_type": "display_data",
          "data": {
            "image/png": "[encoded data removed]",
            "text/plain": [
              "<Figure size 432x288 with 1 Axes>"
            ]
          },
          "metadata": {
            "tags": [],
            "needs_background": "light"
          }
        },
        {
          "output_type": "stream",
          "text": [
            "Hitmap\n",
            "{9: 8, 24: 25}\n"
          ],
          "name": "stdout"
        },
        {
          "output_type": "display_data",
          "data": {
            "image/png": "[encoded data removed]",
            "text/plain": [
              "<Figure size 432x288 with 1 Axes>"
            ]
          },
          "metadata": {
            "tags": [],
            "needs_background": "light"
          }
        },
        {
          "output_type": "stream",
          "text": [
            "Hitmap\n",
            "{9: 13, 24: 18}\n"
          ],
          "name": "stdout"
        },
        {
          "output_type": "display_data",
          "data": {
            "image/png": "[encoded data removed]",
            "text/plain": [
              "<Figure size 432x288 with 1 Axes>"
            ]
          },
          "metadata": {
            "tags": [],
            "needs_background": "light"
          }
        },
        {
          "output_type": "stream",
          "text": [
            "Hitmap\n",
            "{9: 10, 24: 20}\n"
          ],
          "name": "stdout"
        },
        {
          "output_type": "display_data",
          "data": {
            "image/png": "[encoded data removed]",
            "text/plain": [
              "<Figure size 432x288 with 1 Axes>"
            ]
          },
          "metadata": {
            "tags": [],
            "needs_background": "light"
          }
        },
        {
          "output_type": "stream",
          "text": [
            "Hitmap\n",
            "{9: 15, 24: 9}\n"
          ],
          "name": "stdout"
        },
        {
          "output_type": "display_data",
          "data": {
            "image/png": "[encoded data removed]",
            "text/plain": [
              "<Figure size 432x288 with 1 Axes>"
            ]
          },
          "metadata": {
            "tags": [],
            "needs_background": "light"
          }
        },
        {
          "output_type": "stream",
          "text": [
            "Hitmap\n",
            "{9: 24, 24: 11}\n"
          ],
          "name": "stdout"
        },
        {
          "output_type": "display_data",
          "data": {
            "image/png": "[encoded data removed]",
            "text/plain": [
              "<Figure size 432x288 with 1 Axes>"
            ]
          },
          "metadata": {
            "tags": [],
            "needs_background": "light"
          }
        },
        {
          "output_type": "stream",
          "text": [
            "Hitmap\n",
            "{24: 16}\n"
          ],
          "name": "stdout"
        },
        {
          "output_type": "display_data",
          "data": {
            "image/png": "[encoded data removed]",
            "text/plain": [
              "<Figure size 432x288 with 1 Axes>"
            ]
          },
          "metadata": {
            "tags": [],
            "needs_background": "light"
          }
        }
      ]
    }
  ]
}