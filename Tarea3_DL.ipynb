{
  "nbformat": 4,
  "nbformat_minor": 0,
  "metadata": {
    "colab": {
      "name": "Tarea3-DL.ipynb",
      "provenance": [],
      "collapsed_sections": [],
      "toc_visible": true,
      "authorship_tag": "ABX9TyMsr1ZeMQFAAceGHje3zjwj",
      "include_colab_link": true
    },
    "kernelspec": {
      "name": "python3",
      "display_name": "Python 3"
    },
    "language_info": {
      "name": "python"
    },
    "accelerator": "GPU"
  },
  "cells": [
    {
      "cell_type": "markdown",
      "metadata": {
        "id": "view-in-github",
        "colab_type": "text"
      },
      "source": [
        "<a href=\"https://colab.research.google.com/github/jpsiegel/Projects/blob/master/Tarea3_DL.ipynb\" target=\"_parent\"><img src=\"https://colab.research.google.com/assets/colab-badge.svg\" alt=\"Open In Colab\"/></a>"
      ]
    },
    {
      "cell_type": "markdown",
      "metadata": {
        "id": "K0ET622QKRj9"
      },
      "source": [
        "#Tarea 3 Jan P. Siegel - Deep Learning\n"
      ]
    },
    {
      "cell_type": "markdown",
      "metadata": {
        "id": "EARkwmAr12gB"
      },
      "source": [
        "##Allocate resources"
      ]
    },
    {
      "cell_type": "code",
      "metadata": {
        "id": "yumMEzxTJ1ue",
        "colab": {
          "base_uri": "https://localhost:8080/"
        },
        "outputId": "3ec4adf7-299c-46f9-b22d-1e23c9ff8360"
      },
      "source": [
        "!ln -sf /opt/bin/nvidia-smi /usr/bin/nvidia-smi\n",
        "!pip install gputil\n",
        "\n",
        "import os\n",
        "import GPUtil as GPU\n",
        "import psutil\n",
        "import humanize"
      ],
      "execution_count": 1,
      "outputs": [
        {
          "output_type": "stream",
          "text": [
            "Requirement already satisfied: gputil in /usr/local/lib/python3.7/dist-packages (1.4.0)\n"
          ],
          "name": "stdout"
        }
      ]
    },
    {
      "cell_type": "code",
      "metadata": {
        "colab": {
          "base_uri": "https://localhost:8080/"
        },
        "id": "L7ocfSQcd2bU",
        "outputId": "3b928931-f682-4a8c-bb00-15c7362c219f"
      },
      "source": [
        "GPUs = GPU.getGPUs()\n",
        "gpu = GPUs[0]  # Only one GPU on Colab and not guaranteed\n",
        "\n",
        "def printm():\n",
        "  process = psutil.Process(os.getpid())\n",
        "  print(\"RAM Free: \" + humanize.naturalsize(psutil.virtual_memory().available), \" | Used: \" + humanize.naturalsize(process.memory_info().rss))\n",
        "  print(\"VRAM Free: {0:.0f}MB | Used: {1:.0f}MB | Util {2:3.0f}% Total {3:.0f}MB\".format(gpu.memoryFree, gpu.memoryUsed, gpu.memoryUtil*100, gpu.memoryTotal))\n",
        "printm()"
      ],
      "execution_count": 2,
      "outputs": [
        {
          "output_type": "stream",
          "text": [
            "RAM Free: 12.7 GB  | Used: 118.2 MB\n",
            "VRAM Free: 15109MB | Used: 0MB | Util   0% Total 15109MB\n"
          ],
          "name": "stdout"
        }
      ]
    },
    {
      "cell_type": "code",
      "metadata": {
        "colab": {
          "base_uri": "https://localhost:8080/"
        },
        "id": "bvwy3-acKNKl",
        "outputId": "7881a024-ce95-4cb4-cb0a-c6d272544857"
      },
      "source": [
        "from google.colab import drive\n",
        "drive.mount('/content/drive')\n",
        "my_dir = \"/content/drive/MyDrive/DL\""
      ],
      "execution_count": 3,
      "outputs": [
        {
          "output_type": "stream",
          "text": [
            "Drive already mounted at /content/drive; to attempt to forcibly remount, call drive.mount(\"/content/drive\", force_remount=True).\n"
          ],
          "name": "stdout"
        }
      ]
    },
    {
      "cell_type": "code",
      "metadata": {
        "id": "IGA7PU9ejJdl"
      },
      "source": [
        "# Download Roms\n",
        "!wget http://www.atarimania.com/roms/Roms.rar > /dev/null\n",
        "# Decompresed files\n",
        "!unrar e Roms.rar > /dev/null\n",
        "!unzip 'ROMS.zip' > /dev/null\n",
        "# Add Roms folder to atary_py PATH\n",
        "!python -m atari_py.import_roms 'ROMS' > /dev/null\n",
        "# > /dev/null omits command output"
      ],
      "execution_count": null,
      "outputs": []
    },
    {
      "cell_type": "markdown",
      "metadata": {
        "id": "GoWNXSTZ1xux"
      },
      "source": [
        "##Preprocessing\n"
      ]
    },
    {
      "cell_type": "code",
      "metadata": {
        "id": "2WMiFXZSwGgD"
      },
      "source": [
        "import gym\n",
        "from gym import spaces\n",
        "import cv2\n",
        "\n",
        "# pasar a escala de grises y recortar imagen\n",
        "def _process_frame84(frame):\n",
        "    frame = cv2.cvtColor(frame, cv2.COLOR_RGB2GRAY)\n",
        "    frame = frame[:155,10:]\n",
        "    #x_t = cv2.resize(frame, (84, 84),  interpolation=cv2.INTER_LINEAR)\n",
        "    x_t = cv2.resize(frame, (84, 84),interpolation=cv2.INTER_AREA)\n",
        "    return x_t.astype(np.uint8)\n",
        "\n",
        "class ProcessFrame84(gym.Wrapper):\n",
        "    def __init__(self, env=None):\n",
        "        super(ProcessFrame84, self).__init__(env)\n",
        "        self.observation_space = spaces.Box(low=0, high=255, shape=(84, 84))\n",
        "\n",
        "    def step(self, action):\n",
        "        obs, reward, done, info = self.env.step(action)\n",
        "        return _process_frame84(obs), reward, done, info\n",
        "\n",
        "    def reset(self):\n",
        "        return _process_frame84(self.env.reset())"
      ],
      "execution_count": 5,
      "outputs": []
    },
    {
      "cell_type": "code",
      "metadata": {
        "colab": {
          "base_uri": "https://localhost:8080/",
          "height": 595
        },
        "id": "tqI3xgULw6nj",
        "outputId": "cb6d1339-4c3b-4297-f4f7-176995d5100a"
      },
      "source": [
        "import numpy as np\n",
        "import matplotlib.pyplot as plt\n",
        "import random\n",
        "from gym.wrappers import AtariPreprocessing\n",
        "from gym.wrappers import FrameStack\n",
        "\n",
        "#Create environment\n",
        "game = 'Enduro-v0'\n",
        "env = gym.make(game,frameskip=4) # saltamos de a 4 frames para acelerar entrenamiento\n",
        "\n",
        "# For reproducibility\n",
        "seed = 0\n",
        "env.seed(seed)\n",
        "\n",
        "obs = env.reset()\n",
        "\n",
        "plt.imshow(np.squeeze(obs))\n",
        "plt.title('Gym Enduro Interface')\n",
        "plt.show()\n",
        "\n",
        "env = ProcessFrame84(env) # pasamos el wrapper al enviroment\n",
        "env = FrameStack(env,num_stack=4) # un estado definido como el actual mas los 3 anteriores\n",
        "obs = env.reset()\n",
        "\n",
        "for _ in range(100):\n",
        "  action = random.randint(0,env.action_space.n-1) # seleccionar accion random\n",
        "  obs, reward, done, info = env.step(action)\n",
        "\n",
        "plt.figure()\n",
        "plt.subplot(2,2,1)\n",
        "plt.imshow(np.squeeze(np.array(obs)[0,:,:]),cmap='gray')\n",
        "plt.axis('off')\n",
        "plt.subplot(2,2,2)\n",
        "plt.imshow(np.squeeze(np.array(obs)[1,:,:]),cmap='gray')\n",
        "plt.axis('off')\n",
        "plt.subplot(2,2,3)\n",
        "plt.imshow(np.squeeze(np.array(obs)[2,:,:]),cmap='gray')\n",
        "plt.axis('off')\n",
        "plt.subplot(2,2,4)\n",
        "plt.imshow(np.squeeze(np.array(obs)[3,:,:]),cmap='gray')\n",
        "plt.axis('off')\n",
        "plt.tight_layout()\n",
        "plt.show()\n",
        "\n",
        "print(\"obs shape:\", obs.shape)\n",
        "print(\"actions:\", env.get_action_meanings(), \"amount:\", env.action_space.n)"
      ],
      "execution_count": 6,
      "outputs": [
        {
          "output_type": "display_data",
          "data": {
            "image/png": "[encoded data removed]",
            "text/plain": [
              "<Figure size 432x288 with 1 Axes>"
            ]
          },
          "metadata": {
            "tags": [],
            "needs_background": "light"
          }
        },
        {
          "output_type": "display_data",
          "data": {
            "image/png": "[encoded data removed]",
            "text/plain": [
              "<Figure size 432x288 with 4 Axes>"
            ]
          },
          "metadata": {
            "tags": [],
            "needs_background": "light"
          }
        },
        {
          "output_type": "stream",
          "text": [
            "obs shape: (4, 84, 84)\n",
            "actions: ['NOOP', 'FIRE', 'RIGHT', 'LEFT', 'DOWN', 'DOWNRIGHT', 'DOWNLEFT', 'RIGHTFIRE', 'LEFTFIRE'] amount: 9\n"
          ],
          "name": "stdout"
        }
      ]
    },
    {
      "cell_type": "markdown",
      "metadata": {
        "id": "Ev6wuPkDuJjL"
      },
      "source": [
        "### Actividad 1\n",
        "Definimos un estado como un stack de el frame actual, más los 3 frames anteriores, por lo que cada estado (que será el input de la red) corresponde a 4 pasos de Enduro. Esto es clave para que la red convolucional pueda tener una noción de velocidad del jugador y de los demás competidores. La velocidad solo puede obtenerse comparando posiciones en frames contiguas, lo cual es información indispensable para que un agente pueda aprender a jugar Enduro competentemente."
      ]
    },
    {
      "cell_type": "markdown",
      "metadata": {
        "id": "7m0YDMlXdjy7"
      },
      "source": [
        "### Fill replay memory"
      ]
    },
    {
      "cell_type": "code",
      "metadata": {
        "id": "tke1H0jD0Xfa"
      },
      "source": [
        "class ReplayMemory(object):\n",
        "\n",
        "    def __init__(self, capacity):\n",
        "        self.capacity = capacity\n",
        "        self.memory = [] # Can be a list a Deque or another type of list\n",
        "        self.next_replace_position = 0\n",
        "\n",
        "    def push(self, state, action, next_state, reward, done):\n",
        "        \"\"\"Saves a transition.\n",
        "        e.g. ('state', 'action', 'next_state', 'reward','done')\n",
        "        \"\"\"\n",
        "        memory_data = (state, action, next_state, reward, done)\n",
        "        if len(self) >= self.capacity:\n",
        "          self.memory[self.next_replace_position] = memory_data\n",
        "          self.next_replace_position += 1\n",
        "          if self.next_replace_position > self.capacity - 1:\n",
        "            self.next_replace_position = 0\n",
        "        else:\n",
        "          self.memory.append(memory_data)\n",
        "\n",
        "    def sample(self, batch_size):\n",
        "       \"\"\" Samples a transition with a defined batch size\"\"\"\n",
        "       sampled_tuples = random.sample(self.memory, batch_size) # list of tuples\n",
        "       sampled_states = []\n",
        "       sampled_actions = []\n",
        "       sampled_n_states = []\n",
        "       sampled_rewards = []\n",
        "       sampled_dones = []\n",
        "       for i in range(batch_size):\n",
        "         sampled_states.append(sampled_tuples[i][0])\n",
        "         sampled_actions.append(sampled_tuples[i][1])\n",
        "         sampled_n_states.append(sampled_tuples[i][2])\n",
        "         sampled_rewards.append(sampled_tuples[i][3])\n",
        "         sampled_dones.append(sampled_tuples[i][4])\n",
        "       return (sampled_states, sampled_actions, sampled_n_states, sampled_rewards, sampled_dones)\n",
        "      \n",
        "    def __len__(self):\n",
        "        return len(self.memory)"
      ],
      "execution_count": 7,
      "outputs": []
    },
    {
      "cell_type": "code",
      "metadata": {
        "id": "LDSeQ-3WddCU"
      },
      "source": [
        "memory_size = 500000\n",
        "replay_memory = ReplayMemory(memory_size)\n",
        "\n",
        "current_obs = env.reset()\n",
        "for _ in range(memory_size):\n",
        "  #print(_, replay_memory.next_replace_position, len(replay_memory))\n",
        "  action = random.randint(0,env.action_space.n-1) # seleccionar accion random\n",
        "  obs, reward, done, info = env.step(action)\n",
        "  replay_memory.push(current_obs, action, obs, reward, done)\n",
        "  current_obs = obs\n",
        "  if done: # si pierde partimos nuevo episodio\n",
        "    current_obs = env.reset()\n",
        "  else:\n",
        "    current_obs = obs"
      ],
      "execution_count": 8,
      "outputs": []
    },
    {
      "cell_type": "markdown",
      "metadata": {
        "id": "_GRfqj131q9x"
      },
      "source": [
        "##Model"
      ]
    },
    {
      "cell_type": "code",
      "metadata": {
        "id": "RD0EXVo_1FMy"
      },
      "source": [
        "import torch\n",
        "import torch.nn as nn\n",
        "import numpy as np\n",
        "\n",
        "class Dueling_DQN(nn.Module):\n",
        "    def __init__(self, in_channels, num_actions):\n",
        "        super(Dueling_DQN, self).__init__()\n",
        "        self.num_actions = num_actions\n",
        "        \n",
        "        self.conv1 = nn.Conv2d(in_channels=in_channels, out_channels=32, kernel_size=8, stride=4)\n",
        "        self.conv2 = nn.Conv2d(in_channels=32, out_channels=64, kernel_size=4, stride=2)\n",
        "        self.conv3 = nn.Conv2d(in_channels=64, out_channels=64, kernel_size=3, stride=1)\n",
        "\n",
        "        self.fc1_val = nn.Linear(in_features=7*7*64, out_features=512)\n",
        "        self.fc2_val = nn.Linear(in_features=512, out_features=1)\n",
        "\n",
        "        self.fc1_adv = nn.Linear(in_features=7*7*64, out_features=512)\n",
        "        self.fc2_adv = nn.Linear(in_features=512, out_features=num_actions)\n",
        "\n",
        "        self.relu = nn.ReLU()\n",
        "\n",
        "    def forward(self, x):\n",
        "      # X es un tensor (batch_size x 4 x 84 x 84) que representa un batch de stacks de estados\n",
        "      batch_size = x.size(0)\n",
        "\n",
        "      # forward pass red convolucional\n",
        "      x = self.relu(self.conv1(x))\n",
        "      x = self.relu(self.conv2(x))\n",
        "      x = self.relu(self.conv3(x))\n",
        "      x = torch.flatten(x, start_dim=1) # start_dim 1 para mantener separado el batch\n",
        "      #print(\"State embedding:\", x.shape, x)\n",
        "      \n",
        "      # forward pass rama fully-connected para V(s)\n",
        "      v_s = self.relu(self.fc1_val(x))\n",
        "      v_s = self.fc2_val(v_s).expand(batch_size, self.num_actions)\n",
        "      #print(\"V(s):\", v_s.shape, v_s)\n",
        "\n",
        "      # forward pass rama fully-connected para A(s,a)\n",
        "      adv = self.relu(self.fc1_adv(x))\n",
        "      adv = self.fc2_adv(adv)\n",
        "      #print(\"A(s,a):\", adv.shape, adv)\n",
        "      #print(\"mean A(s,a):\", torch.mean(adv, 1, keepdim=True).shape, torch.mean(adv, 1, keepdim=True))\n",
        "\n",
        "      # Calculo de Q(s,a) a partir de ecuacion (4)\n",
        "      Q_values = v_s + (adv - torch.mean(adv, 1, keepdim=True)) # testeado\n",
        "\n",
        "      return Q_values # batch_size x num_actions"
      ],
      "execution_count": 24,
      "outputs": []
    },
    {
      "cell_type": "markdown",
      "metadata": {
        "id": "i719vkMq1srh"
      },
      "source": [
        "##Training"
      ]
    },
    {
      "cell_type": "code",
      "metadata": {
        "id": "C77orgGvqGui"
      },
      "source": [
        "def exploration(total_steps):\n",
        "  \"\"\" retorna probabilidad de que explore con accion random \"\"\"\n",
        "  if total_steps >= 1000000:\n",
        "    epsilon = 0.1\n",
        "  else:\n",
        "    m = -0.9 / 1000000\n",
        "    n = 1\n",
        "    epsilon = m * total_steps + n\n",
        "  return epsilon"
      ],
      "execution_count": 25,
      "outputs": []
    },
    {
      "cell_type": "code",
      "metadata": {
        "id": "tv1TE3Vv3WsX"
      },
      "source": [
        "# Define parameters and instance NNs\n",
        "\n",
        "from torch import device\n",
        "import torch.optim as optim\n",
        "import torch.nn as nn\n",
        "\n",
        "device = device('cuda' if torch.cuda.is_available() else 'cpu')\n",
        "\n",
        "frame_history_len = 4 # Cantidad de frames de cada estado (definido en el pre-procesamiento)\n",
        "batch_size = 32\n",
        "gamma = 0.99 # Factor de descuento\n",
        "learning_starts = 50000 # Paso en que se comienza a utilizar la red para escoger acciones (siguiendo política e-greedy)\n",
        "learning_freq = 4 # Frecuencia de pasos en que se modifican los pesos (loss backprop) en la red Q\n",
        "target_update_freq = 10000 # Frecuencia en que se actualizan los pesos de la red target Q' (cada x backprops, updateo Q')\n",
        "LR = 0.00025 # Tasa de aprendizaje\n",
        "\n",
        "in_channels = frame_history_len\n",
        "input_shape = (84,84)\n",
        "num_actions = env.action_space.n\n",
        "\n",
        "# define Q target and Q \n",
        "Q = Dueling_DQN(in_channels, num_actions).to(device) # esta es la que de verdad quiero entrenar\n",
        "Q_target = Dueling_DQN(in_channels, num_actions).to(device) # para estabilidad, esta me entrega los labels\n",
        "\n",
        "# Optimizador, pueden elegir entre Adam o RMSProp\n",
        "optimizer = optim.Adam(Q.parameters(), lr=LR)\n",
        "\n",
        "LOG_EVERY_N_STEPS = 50000 # (Opcional) Frecuencia en la que se muestran resultados en consola\n",
        "STEPS_PER_EPOCH = 250000 # Pasos por época\n",
        "N_EPOCHS = 4 # Número de épocas"
      ],
      "execution_count": 26,
      "outputs": []
    },
    {
      "cell_type": "code",
      "metadata": {
        "id": "37rt28Z01owa",
        "colab": {
          "base_uri": "https://localhost:8080/",
          "height": 646
        },
        "outputId": "a8660513-f3c9-4104-c11b-5d15defab45e"
      },
      "source": [
        "from tqdm import tqdm\n",
        "from torch import tensor, no_grad\n",
        "\n",
        "# Load checkpoint: probablemente se quede sin memoria durante entrenamiento,\n",
        "# por eso hay que guardar checkpoint (pesos) en drive cada cierto tiempo\n",
        "# luego cargamos checkpoint, rellenamos memory buffer, y retomamos\n",
        "# pero el rellenado debe ser usando el modelo que tenemos hasta ahora! no random como el inicial\n",
        "\n",
        "# Reseteamos nuestro ambiente para empezar el entrenamiento\n",
        "last_obs = env.reset()\n",
        "current_reward = 0\n",
        "episodes_rewards = []\n",
        "backprops = 0\n",
        "for epoch in tqdm(range(N_EPOCHS),position=0,leave=True):\n",
        "  print(\" --- EPOCH: \", epoch, \" --- \")\n",
        "  for t in tqdm(range(STEPS_PER_EPOCH),position=0,leave=True):\n",
        "    \n",
        "    ### 1. Choose actions and update replay memory buffer\n",
        "    if t < learning_starts and epoch == 0:\n",
        "      action = np.random.randint(num_actions)\n",
        "    else:\n",
        "      # epsilon greedy exploration\n",
        "      sample = random.random()\n",
        "      total_steps = t + STEPS_PER_EPOCH * epoch # steps acumulados a traves de las epocas\n",
        "      threshold = exploration(total_steps)  # la funcion exploration permite calcular el threshold para la política e-greedy\n",
        "      if sample <= threshold:\n",
        "        action = np.random.randint(num_actions)\n",
        "      else:\n",
        "        with no_grad(): # no actualizamos gradientes pq estamos evaluando\n",
        "          # Selecciono la acción segun la red Q\n",
        "          all_q_values = Q(ACACACA) # falta pasarle last obs, pero en batch de 32, pasado a tensor y device, debe ser justo las 32 anteriores, pa mantenerse en contexto de juego!\n",
        "          action = ((all_q_values).data.max(1)[1])[0] # selecciono indice de mejor q_value\n",
        "\n",
        "    obs, reward, done, _ = env.step(action) # ejecuto accion seleccionada\n",
        "    replay_memory.push(last_obs, action, obs, reward, done) # actualizo experiencia en buffer\n",
        "    current_reward += reward\n",
        "    if done:\n",
        "      # Termino episodio!\n",
        "      obs = env.reset()\n",
        "      # Guardar reward acumulado del episodio\n",
        "      episodes_rewards.append(current_reward)\n",
        "      print(f\"Episode {len(episodes_rewards)} ended with reward: {current_reward}\")\n",
        "      current_reward = 0\n",
        "\n",
        "    # update last_obs\n",
        "    last_obs = obs\n",
        "\n",
        "    ### 2. Perform experience replay and train the network.\n",
        "    if (t > learning_starts and t % learning_freq == 0):\n",
        "      obs_t, act_t, next_obs, rew_t, done_mask = replay_memory.sample(batch_size) # esto me deja listas de largo batch size\n",
        "          \n",
        "      # Pasar los arreglos a tensores y al device actual\n",
        "      obs_t = tensor(obs_t).to(device)\n",
        "      act_t = tensor(act_t).to(device)\n",
        "      next_obs = tensor(next_obs).to(device)\n",
        "      rew_t = tensor(rew_t).to(device)\n",
        "      done_mask = tensor(done_mask).to(device)\n",
        "\n",
        "      # Normalizar tensores de entrada\n",
        "      obs_t = obs_t / 255.0\n",
        "      next_obs = next_obs / 255.0\n",
        "\n",
        "      # construir Y (labels)\n",
        "      with no_grad():\n",
        "        q_tp1_values = Q(next_obs)\n",
        "        _, a_prime = q_tp1_values.max(1) # selecciono la mejor accion para el estado siguiente\n",
        "        q_target_tp1_values = Q_target(next_obs)\n",
        "        q_target_s_a_prime = q_target_tp1_values.gather(1, a_prime.unsqueeze(1)).squeeze() # selecciono el q_value de la target network segun la mejor accion en el estado siguiente\n",
        "        # si termina en este episodio, los q_values de target son 0 y dejamos solo el reward\n",
        "        q_target_s_a_prime = (1 - done_mask.type(torch.float)) * q_target_s_a_prime \n",
        "        \n",
        "        y = rew_t + gamma * q_target_s_a_prime\n",
        "\n",
        "      ## Loss calculation\n",
        "      q_values = Q(obs_t)\n",
        "      q_s_a = q_values.gather(1, act_t.unsqueeze(1)).squeeze() # selecciono el q de cada accion\n",
        "      error = (y - q_s_a) ** 2\n",
        "      error = torch.mean(error.clamp(-1, 1)) # clipeamos para estabilidad\n",
        "\n",
        "      # backwards pass\n",
        "      optimizer.zero_grad()\n",
        "      error.backward()\n",
        "\n",
        "      # update\n",
        "      optimizer.step()\n",
        "      backprops += 1\n",
        "\n",
        "      # Actualizar pesos de red target (cada target_update_freq actualizaciones de los parámetros de Q)\n",
        "      if backprops % target_update_freq == 0:\n",
        "        Q_target.load_state_dict(Q.state_dict()) # copiamos pesos de Q a Qtarget\n",
        "    \n",
        "    if t % LOG_EVERY_N_STEPS == 0:\n",
        "      # Mostrar resultados actuales\n",
        "      # e.g. Mejor reward y promedio de ultimos 100 episodios\n",
        "      # entre otros.\n",
        "      pass\n",
        "\n",
        "    # Guardar modelo y resultados!\n",
        "    # importante si se les cierra el entrenamiento"
      ],
      "execution_count": 27,
      "outputs": [
        {
          "output_type": "stream",
          "text": [
            "  0%|          | 92/250000 [00:00<04:33, 912.63it/s]"
          ],
          "name": "stderr"
        },
        {
          "output_type": "stream",
          "text": [
            " --- EPOCH:  0  --- \n"
          ],
          "name": "stdout"
        },
        {
          "output_type": "stream",
          "text": [
            "  1%|▏         | 3460/250000 [00:04<05:03, 813.30it/s]"
          ],
          "name": "stderr"
        },
        {
          "output_type": "stream",
          "text": [
            "Episode 1 ended with reward: 0.0\n"
          ],
          "name": "stdout"
        },
        {
          "output_type": "stream",
          "text": [
            "  3%|▎         | 6809/250000 [00:08<04:52, 832.63it/s]"
          ],
          "name": "stderr"
        },
        {
          "output_type": "stream",
          "text": [
            "Episode 2 ended with reward: 0.0\n"
          ],
          "name": "stdout"
        },
        {
          "output_type": "stream",
          "text": [
            "  4%|▍         | 10133/250000 [00:12<04:46, 836.88it/s]"
          ],
          "name": "stderr"
        },
        {
          "output_type": "stream",
          "text": [
            "Episode 3 ended with reward: 0.0\n"
          ],
          "name": "stdout"
        },
        {
          "output_type": "stream",
          "text": [
            "  5%|▌         | 13419/250000 [00:15<04:46, 825.13it/s]"
          ],
          "name": "stderr"
        },
        {
          "output_type": "stream",
          "text": [
            "Episode 4 ended with reward: 0.0\n"
          ],
          "name": "stdout"
        },
        {
          "output_type": "stream",
          "text": [
            "  7%|▋         | 16726/250000 [00:19<04:45, 818.35it/s]"
          ],
          "name": "stderr"
        },
        {
          "output_type": "stream",
          "text": [
            "Episode 5 ended with reward: 0.0\n"
          ],
          "name": "stdout"
        },
        {
          "output_type": "stream",
          "text": [
            "  8%|▊         | 20095/250000 [00:23<04:39, 822.95it/s]"
          ],
          "name": "stderr"
        },
        {
          "output_type": "stream",
          "text": [
            "Episode 6 ended with reward: 0.0\n"
          ],
          "name": "stdout"
        },
        {
          "output_type": "stream",
          "text": [
            "  9%|▉         | 23404/250000 [00:27<04:30, 838.44it/s]"
          ],
          "name": "stderr"
        },
        {
          "output_type": "stream",
          "text": [
            "Episode 7 ended with reward: 0.0\n"
          ],
          "name": "stdout"
        },
        {
          "output_type": "stream",
          "text": [
            " 11%|█         | 26735/250000 [00:31<04:23, 846.82it/s]"
          ],
          "name": "stderr"
        },
        {
          "output_type": "stream",
          "text": [
            "Episode 8 ended with reward: 0.0\n"
          ],
          "name": "stdout"
        },
        {
          "output_type": "stream",
          "text": [
            " 12%|█▏        | 30081/250000 [00:35<04:26, 823.82it/s]"
          ],
          "name": "stderr"
        },
        {
          "output_type": "stream",
          "text": [
            "Episode 9 ended with reward: 0.0\n"
          ],
          "name": "stdout"
        },
        {
          "output_type": "stream",
          "text": [
            " 13%|█▎        | 33427/250000 [00:39<04:13, 854.29it/s]"
          ],
          "name": "stderr"
        },
        {
          "output_type": "stream",
          "text": [
            "Episode 10 ended with reward: 0.0\n"
          ],
          "name": "stdout"
        },
        {
          "output_type": "stream",
          "text": [
            " 15%|█▍        | 36767/250000 [00:43<04:10, 850.77it/s]"
          ],
          "name": "stderr"
        },
        {
          "output_type": "stream",
          "text": [
            "Episode 11 ended with reward: 0.0\n"
          ],
          "name": "stdout"
        },
        {
          "output_type": "stream",
          "text": [
            " 16%|█▌        | 40098/250000 [00:47<04:08, 845.64it/s]"
          ],
          "name": "stderr"
        },
        {
          "output_type": "stream",
          "text": [
            "Episode 12 ended with reward: 0.0\n"
          ],
          "name": "stdout"
        },
        {
          "output_type": "stream",
          "text": [
            " 17%|█▋        | 43379/250000 [00:50<04:01, 856.29it/s]"
          ],
          "name": "stderr"
        },
        {
          "output_type": "stream",
          "text": [
            "Episode 13 ended with reward: 0.0\n"
          ],
          "name": "stdout"
        },
        {
          "output_type": "stream",
          "text": [
            " 19%|█▊        | 46748/250000 [00:54<04:08, 817.51it/s]"
          ],
          "name": "stderr"
        },
        {
          "output_type": "stream",
          "text": [
            "Episode 14 ended with reward: 0.0\n"
          ],
          "name": "stdout"
        },
        {
          "output_type": "stream",
          "text": [
            " 20%|█▉        | 49999/250000 [00:58<03:58, 838.65it/s]"
          ],
          "name": "stderr"
        },
        {
          "output_type": "stream",
          "text": [
            "Episode 15 ended with reward: 0.0\n"
          ],
          "name": "stdout"
        },
        {
          "output_type": "error",
          "ename": "RuntimeError",
          "evalue": "ignored",
          "traceback": [
            "\u001b[0;31m---------------------------------------------------------------------------\u001b[0m",
            "\u001b[0;31mRuntimeError\u001b[0m                              Traceback (most recent call last)",
            "\u001b[0;32m<ipython-input-27-0a5fcf471370>\u001b[0m in \u001b[0;36m<module>\u001b[0;34m()\u001b[0m\n\u001b[1;32m     29\u001b[0m         \u001b[0;32mwith\u001b[0m \u001b[0mno_grad\u001b[0m\u001b[0;34m(\u001b[0m\u001b[0;34m)\u001b[0m\u001b[0;34m:\u001b[0m \u001b[0;31m# no actualizamos gradientes pq estamos evaluando\u001b[0m\u001b[0;34m\u001b[0m\u001b[0;34m\u001b[0m\u001b[0m\n\u001b[1;32m     30\u001b[0m           \u001b[0;31m# Selecciono la acción segun la red Q\u001b[0m\u001b[0;34m\u001b[0m\u001b[0;34m\u001b[0m\u001b[0;34m\u001b[0m\u001b[0m\n\u001b[0;32m---> 31\u001b[0;31m           \u001b[0mall_q_values\u001b[0m \u001b[0;34m=\u001b[0m \u001b[0mQ\u001b[0m\u001b[0;34m(\u001b[0m\u001b[0mtensor\u001b[0m\u001b[0;34m(\u001b[0m\u001b[0mlast_obs\u001b[0m\u001b[0;34m)\u001b[0m\u001b[0;34m.\u001b[0m\u001b[0mto\u001b[0m\u001b[0;34m(\u001b[0m\u001b[0mdevice\u001b[0m\u001b[0;34m)\u001b[0m\u001b[0;34m)\u001b[0m\u001b[0;34m\u001b[0m\u001b[0;34m\u001b[0m\u001b[0m\n\u001b[0m\u001b[1;32m     32\u001b[0m           \u001b[0maction\u001b[0m \u001b[0;34m=\u001b[0m \u001b[0;34m(\u001b[0m\u001b[0;34m(\u001b[0m\u001b[0mall_q_values\u001b[0m\u001b[0;34m)\u001b[0m\u001b[0;34m.\u001b[0m\u001b[0mdata\u001b[0m\u001b[0;34m.\u001b[0m\u001b[0mmax\u001b[0m\u001b[0;34m(\u001b[0m\u001b[0;36m1\u001b[0m\u001b[0;34m)\u001b[0m\u001b[0;34m[\u001b[0m\u001b[0;36m1\u001b[0m\u001b[0;34m]\u001b[0m\u001b[0;34m)\u001b[0m\u001b[0;34m[\u001b[0m\u001b[0;36m0\u001b[0m\u001b[0;34m]\u001b[0m \u001b[0;31m# selecciono indice de mejor q_value\u001b[0m\u001b[0;34m\u001b[0m\u001b[0;34m\u001b[0m\u001b[0m\n\u001b[1;32m     33\u001b[0m \u001b[0;34m\u001b[0m\u001b[0m\n",
            "\u001b[0;32m/usr/local/lib/python3.7/dist-packages/torch/nn/modules/module.py\u001b[0m in \u001b[0;36m_call_impl\u001b[0;34m(self, *input, **kwargs)\u001b[0m\n\u001b[1;32m   1049\u001b[0m         if not (self._backward_hooks or self._forward_hooks or self._forward_pre_hooks or _global_backward_hooks\n\u001b[1;32m   1050\u001b[0m                 or _global_forward_hooks or _global_forward_pre_hooks):\n\u001b[0;32m-> 1051\u001b[0;31m             \u001b[0;32mreturn\u001b[0m \u001b[0mforward_call\u001b[0m\u001b[0;34m(\u001b[0m\u001b[0;34m*\u001b[0m\u001b[0minput\u001b[0m\u001b[0;34m,\u001b[0m \u001b[0;34m**\u001b[0m\u001b[0mkwargs\u001b[0m\u001b[0;34m)\u001b[0m\u001b[0;34m\u001b[0m\u001b[0;34m\u001b[0m\u001b[0m\n\u001b[0m\u001b[1;32m   1052\u001b[0m         \u001b[0;31m# Do not call functions when jit is used\u001b[0m\u001b[0;34m\u001b[0m\u001b[0;34m\u001b[0m\u001b[0;34m\u001b[0m\u001b[0m\n\u001b[1;32m   1053\u001b[0m         \u001b[0mfull_backward_hooks\u001b[0m\u001b[0;34m,\u001b[0m \u001b[0mnon_full_backward_hooks\u001b[0m \u001b[0;34m=\u001b[0m \u001b[0;34m[\u001b[0m\u001b[0;34m]\u001b[0m\u001b[0;34m,\u001b[0m \u001b[0;34m[\u001b[0m\u001b[0;34m]\u001b[0m\u001b[0;34m\u001b[0m\u001b[0;34m\u001b[0m\u001b[0m\n",
            "\u001b[0;32m<ipython-input-24-3c23ed4ac28d>\u001b[0m in \u001b[0;36mforward\u001b[0;34m(self, x)\u001b[0m\n\u001b[1;32m     25\u001b[0m \u001b[0;34m\u001b[0m\u001b[0m\n\u001b[1;32m     26\u001b[0m       \u001b[0;31m# forward pass red convolucional\u001b[0m\u001b[0;34m\u001b[0m\u001b[0;34m\u001b[0m\u001b[0;34m\u001b[0m\u001b[0m\n\u001b[0;32m---> 27\u001b[0;31m       \u001b[0mx\u001b[0m \u001b[0;34m=\u001b[0m \u001b[0mself\u001b[0m\u001b[0;34m.\u001b[0m\u001b[0mrelu\u001b[0m\u001b[0;34m(\u001b[0m\u001b[0mself\u001b[0m\u001b[0;34m.\u001b[0m\u001b[0mconv1\u001b[0m\u001b[0;34m(\u001b[0m\u001b[0mx\u001b[0m\u001b[0;34m)\u001b[0m\u001b[0;34m)\u001b[0m\u001b[0;34m\u001b[0m\u001b[0;34m\u001b[0m\u001b[0m\n\u001b[0m\u001b[1;32m     28\u001b[0m       \u001b[0mx\u001b[0m \u001b[0;34m=\u001b[0m \u001b[0mself\u001b[0m\u001b[0;34m.\u001b[0m\u001b[0mrelu\u001b[0m\u001b[0;34m(\u001b[0m\u001b[0mself\u001b[0m\u001b[0;34m.\u001b[0m\u001b[0mconv2\u001b[0m\u001b[0;34m(\u001b[0m\u001b[0mx\u001b[0m\u001b[0;34m)\u001b[0m\u001b[0;34m)\u001b[0m\u001b[0;34m\u001b[0m\u001b[0;34m\u001b[0m\u001b[0m\n\u001b[1;32m     29\u001b[0m       \u001b[0mx\u001b[0m \u001b[0;34m=\u001b[0m \u001b[0mself\u001b[0m\u001b[0;34m.\u001b[0m\u001b[0mrelu\u001b[0m\u001b[0;34m(\u001b[0m\u001b[0mself\u001b[0m\u001b[0;34m.\u001b[0m\u001b[0mconv3\u001b[0m\u001b[0;34m(\u001b[0m\u001b[0mx\u001b[0m\u001b[0;34m)\u001b[0m\u001b[0;34m)\u001b[0m\u001b[0;34m\u001b[0m\u001b[0;34m\u001b[0m\u001b[0m\n",
            "\u001b[0;32m/usr/local/lib/python3.7/dist-packages/torch/nn/modules/module.py\u001b[0m in \u001b[0;36m_call_impl\u001b[0;34m(self, *input, **kwargs)\u001b[0m\n\u001b[1;32m   1049\u001b[0m         if not (self._backward_hooks or self._forward_hooks or self._forward_pre_hooks or _global_backward_hooks\n\u001b[1;32m   1050\u001b[0m                 or _global_forward_hooks or _global_forward_pre_hooks):\n\u001b[0;32m-> 1051\u001b[0;31m             \u001b[0;32mreturn\u001b[0m \u001b[0mforward_call\u001b[0m\u001b[0;34m(\u001b[0m\u001b[0;34m*\u001b[0m\u001b[0minput\u001b[0m\u001b[0;34m,\u001b[0m \u001b[0;34m**\u001b[0m\u001b[0mkwargs\u001b[0m\u001b[0;34m)\u001b[0m\u001b[0;34m\u001b[0m\u001b[0;34m\u001b[0m\u001b[0m\n\u001b[0m\u001b[1;32m   1052\u001b[0m         \u001b[0;31m# Do not call functions when jit is used\u001b[0m\u001b[0;34m\u001b[0m\u001b[0;34m\u001b[0m\u001b[0;34m\u001b[0m\u001b[0m\n\u001b[1;32m   1053\u001b[0m         \u001b[0mfull_backward_hooks\u001b[0m\u001b[0;34m,\u001b[0m \u001b[0mnon_full_backward_hooks\u001b[0m \u001b[0;34m=\u001b[0m \u001b[0;34m[\u001b[0m\u001b[0;34m]\u001b[0m\u001b[0;34m,\u001b[0m \u001b[0;34m[\u001b[0m\u001b[0;34m]\u001b[0m\u001b[0;34m\u001b[0m\u001b[0;34m\u001b[0m\u001b[0m\n",
            "\u001b[0;32m/usr/local/lib/python3.7/dist-packages/torch/nn/modules/conv.py\u001b[0m in \u001b[0;36mforward\u001b[0;34m(self, input)\u001b[0m\n\u001b[1;32m    441\u001b[0m \u001b[0;34m\u001b[0m\u001b[0m\n\u001b[1;32m    442\u001b[0m     \u001b[0;32mdef\u001b[0m \u001b[0mforward\u001b[0m\u001b[0;34m(\u001b[0m\u001b[0mself\u001b[0m\u001b[0;34m,\u001b[0m \u001b[0minput\u001b[0m\u001b[0;34m:\u001b[0m \u001b[0mTensor\u001b[0m\u001b[0;34m)\u001b[0m \u001b[0;34m->\u001b[0m \u001b[0mTensor\u001b[0m\u001b[0;34m:\u001b[0m\u001b[0;34m\u001b[0m\u001b[0;34m\u001b[0m\u001b[0m\n\u001b[0;32m--> 443\u001b[0;31m         \u001b[0;32mreturn\u001b[0m \u001b[0mself\u001b[0m\u001b[0;34m.\u001b[0m\u001b[0m_conv_forward\u001b[0m\u001b[0;34m(\u001b[0m\u001b[0minput\u001b[0m\u001b[0;34m,\u001b[0m \u001b[0mself\u001b[0m\u001b[0;34m.\u001b[0m\u001b[0mweight\u001b[0m\u001b[0;34m,\u001b[0m \u001b[0mself\u001b[0m\u001b[0;34m.\u001b[0m\u001b[0mbias\u001b[0m\u001b[0;34m)\u001b[0m\u001b[0;34m\u001b[0m\u001b[0;34m\u001b[0m\u001b[0m\n\u001b[0m\u001b[1;32m    444\u001b[0m \u001b[0;34m\u001b[0m\u001b[0m\n\u001b[1;32m    445\u001b[0m \u001b[0;32mclass\u001b[0m \u001b[0mConv3d\u001b[0m\u001b[0;34m(\u001b[0m\u001b[0m_ConvNd\u001b[0m\u001b[0;34m)\u001b[0m\u001b[0;34m:\u001b[0m\u001b[0;34m\u001b[0m\u001b[0;34m\u001b[0m\u001b[0m\n",
            "\u001b[0;32m/usr/local/lib/python3.7/dist-packages/torch/nn/modules/conv.py\u001b[0m in \u001b[0;36m_conv_forward\u001b[0;34m(self, input, weight, bias)\u001b[0m\n\u001b[1;32m    438\u001b[0m                             _pair(0), self.dilation, self.groups)\n\u001b[1;32m    439\u001b[0m         return F.conv2d(input, weight, bias, self.stride,\n\u001b[0;32m--> 440\u001b[0;31m                         self.padding, self.dilation, self.groups)\n\u001b[0m\u001b[1;32m    441\u001b[0m \u001b[0;34m\u001b[0m\u001b[0m\n\u001b[1;32m    442\u001b[0m     \u001b[0;32mdef\u001b[0m \u001b[0mforward\u001b[0m\u001b[0;34m(\u001b[0m\u001b[0mself\u001b[0m\u001b[0;34m,\u001b[0m \u001b[0minput\u001b[0m\u001b[0;34m:\u001b[0m \u001b[0mTensor\u001b[0m\u001b[0;34m)\u001b[0m \u001b[0;34m->\u001b[0m \u001b[0mTensor\u001b[0m\u001b[0;34m:\u001b[0m\u001b[0;34m\u001b[0m\u001b[0;34m\u001b[0m\u001b[0m\n",
            "\u001b[0;31mRuntimeError\u001b[0m: Expected 4-dimensional input for 4-dimensional weight [32, 4, 8, 8], but got 3-dimensional input of size [4, 84, 84] instead"
          ]
        }
      ]
    },
    {
      "cell_type": "markdown",
      "metadata": {
        "id": "R8utkgyN96dY"
      },
      "source": [
        "## Results"
      ]
    },
    {
      "cell_type": "code",
      "metadata": {
        "id": "nDFXLJCH99UX"
      },
      "source": [
        ""
      ],
      "execution_count": null,
      "outputs": []
    },
    {
      "cell_type": "markdown",
      "metadata": {
        "id": "ZGKiBwr299rv"
      },
      "source": [
        "###Testing visualization"
      ]
    },
    {
      "cell_type": "code",
      "metadata": {
        "id": "F4XKh9o1-CRo"
      },
      "source": [
        "import matplotlib.pyplot as plt\n",
        "import matplotlib.animation\n",
        "import numpy as np\n",
        "from IPython.display import HTML\n",
        "\n",
        "frames_show = frames[:300]\n",
        "\n",
        "plt.figure(figsize=(frames_show[0].shape[1] / 15.0, frames_show[0].shape[0] / 15.0), dpi = 72)\n",
        "patch = plt.imshow(frames_show[0],cmap='gray')\n",
        "plt.axis('off')\n",
        "animate = lambda i: patch.set_data(frames_show[i])\n",
        "ani = matplotlib.animation.FuncAnimation(plt.gcf(), animate, frames=len(frames_show), interval = 100)\n",
        "HTML(ani.to_jshtml())"
      ],
      "execution_count": null,
      "outputs": []
    }
  ]
}