{
  "nbformat": 4,
  "nbformat_minor": 0,
  "metadata": {
    "colab": {
      "name": "Tarea3-DL.ipynb",
      "provenance": [],
      "collapsed_sections": [],
      "toc_visible": true,
      "authorship_tag": "ABX9TyMMuKl7d/vTv/dutzoia885",
      "include_colab_link": true
    },
    "kernelspec": {
      "name": "python3",
      "display_name": "Python 3"
    },
    "language_info": {
      "name": "python"
    },
    "accelerator": "GPU"
  },
  "cells": [
    {
      "cell_type": "markdown",
      "metadata": {
        "id": "view-in-github",
        "colab_type": "text"
      },
      "source": [
        "<a href=\"https://colab.research.google.com/github/jpsiegel/Projects/blob/master/Tarea3_DL.ipynb\" target=\"_parent\"><img src=\"https://colab.research.google.com/assets/colab-badge.svg\" alt=\"Open In Colab\"/></a>"
      ]
    },
    {
      "cell_type": "markdown",
      "metadata": {
        "id": "K0ET622QKRj9"
      },
      "source": [
        "#Tarea 3 Jan P. Siegel - Deep Learning\n"
      ]
    },
    {
      "cell_type": "markdown",
      "metadata": {
        "id": "EARkwmAr12gB"
      },
      "source": [
        "##Allocate resources"
      ]
    },
    {
      "cell_type": "code",
      "metadata": {
        "id": "yumMEzxTJ1ue"
      },
      "source": [
        "!ln -sf /opt/bin/nvidia-smi /usr/bin/nvidia-smi\n",
        "!pip install gputil\n",
        "\n",
        "import os\n",
        "import GPUtil as GPU\n",
        "import psutil\n",
        "import humanize"
      ],
      "execution_count": null,
      "outputs": []
    },
    {
      "cell_type": "code",
      "metadata": {
        "colab": {
          "base_uri": "https://localhost:8080/"
        },
        "id": "L7ocfSQcd2bU",
        "outputId": "c92e3357-8509-43ba-a0ac-0c2803d1bebc"
      },
      "source": [
        "\n",
        "GPUs = GPU.getGPUs()\n",
        "gpu = GPUs[0]  # Only one GPU on Colab and not guaranteed\n",
        "\n",
        "def printm():\n",
        "  process = psutil.Process(os.getpid())\n",
        "  print(\"RAM Free: \" + humanize.naturalsize(psutil.virtual_memory().available), \" | Used: \" + humanize.naturalsize(process.memory_info().rss))\n",
        "  print(\"VRAM Free: {0:.0f}MB | Used: {1:.0f}MB | Util {2:3.0f}% Total {3:.0f}MB\".format(gpu.memoryFree, gpu.memoryUsed, gpu.memoryUtil*100, gpu.memoryTotal))\n",
        "printm()"
      ],
      "execution_count": 2,
      "outputs": [
        {
          "output_type": "stream",
          "text": [
            "RAM Free: 12.8 GB  | Used: 118.3 MB\n",
            "VRAM Free: 15109MB | Used: 0MB | Util   0% Total 15109MB\n"
          ],
          "name": "stdout"
        }
      ]
    },
    {
      "cell_type": "code",
      "metadata": {
        "colab": {
          "base_uri": "https://localhost:8080/"
        },
        "id": "bvwy3-acKNKl",
        "outputId": "1935ce49-a730-4675-b2ec-ad57c9289b53"
      },
      "source": [
        "from google.colab import drive\n",
        "drive.mount('/content/drive')\n",
        "my_dir = \"/content/drive/MyDrive/DL\""
      ],
      "execution_count": null,
      "outputs": [
        {
          "output_type": "stream",
          "text": [
            "Mounted at /content/drive\n"
          ],
          "name": "stdout"
        }
      ]
    },
    {
      "cell_type": "code",
      "metadata": {
        "colab": {
          "base_uri": "https://localhost:8080/"
        },
        "id": "IGA7PU9ejJdl",
        "outputId": "47bb024e-484f-4a7e-a47e-b4e276494942"
      },
      "source": [
        "# Download Roms\n",
        "!wget http://www.atarimania.com/roms/Roms.rar > /dev/null\n",
        "# Decompresed files\n",
        "!unrar e Roms.rar > /dev/null\n",
        "!unzip 'ROMS.zip' > /dev/null\n",
        "# Add Roms folder to atary_py PATH\n",
        "!python -m atari_py.import_roms 'ROMS' > /dev/null\n",
        "# > /dev/null omits command output"
      ],
      "execution_count": 3,
      "outputs": [
        {
          "output_type": "stream",
          "text": [
            "--2021-06-27 22:04:51--  http://www.atarimania.com/roms/Roms.rar\n",
            "Resolving www.atarimania.com (www.atarimania.com)... 195.154.81.199\n",
            "Connecting to www.atarimania.com (www.atarimania.com)|195.154.81.199|:80... connected.\n",
            "HTTP request sent, awaiting response... 200 OK\n",
            "Length: 11128004 (11M) [application/x-rar-compressed]\n",
            "Saving to: ‘Roms.rar’\n",
            "\n",
            "Roms.rar            100%[===================>]  10.61M   836KB/s    in 13s     \n",
            "\n",
            "2021-06-27 22:05:05 (807 KB/s) - ‘Roms.rar’ saved [11128004/11128004]\n",
            "\n"
          ],
          "name": "stdout"
        }
      ]
    },
    {
      "cell_type": "markdown",
      "metadata": {
        "id": "GoWNXSTZ1xux"
      },
      "source": [
        "##Preprocessing\n"
      ]
    },
    {
      "cell_type": "code",
      "metadata": {
        "id": "2WMiFXZSwGgD"
      },
      "source": [
        "import gym\n",
        "from gym import spaces\n",
        "import cv2\n",
        "\n",
        "# pasar a escala de grises y recortar imagen\n",
        "def _process_frame84(frame):\n",
        "    frame = cv2.cvtColor(frame, cv2.COLOR_RGB2GRAY)\n",
        "    frame = frame[:155,10:]\n",
        "    #x_t = cv2.resize(frame, (84, 84),  interpolation=cv2.INTER_LINEAR)\n",
        "    x_t = cv2.resize(frame, (84, 84),interpolation=cv2.INTER_AREA)\n",
        "    return x_t.astype(np.uint8)\n",
        "\n",
        "class ProcessFrame84(gym.Wrapper):\n",
        "    def __init__(self, env=None):\n",
        "        super(ProcessFrame84, self).__init__(env)\n",
        "        self.observation_space = spaces.Box(low=0, high=255, shape=(84, 84))\n",
        "\n",
        "    def step(self, action):\n",
        "        obs, reward, done, info = self.env.step(action)\n",
        "        return _process_frame84(obs), reward, done, info\n",
        "\n",
        "    def reset(self):\n",
        "        return _process_frame84(self.env.reset())"
      ],
      "execution_count": 5,
      "outputs": []
    },
    {
      "cell_type": "code",
      "metadata": {
        "colab": {
          "base_uri": "https://localhost:8080/",
          "height": 595
        },
        "id": "tqI3xgULw6nj",
        "outputId": "a960dc3a-4622-4fc2-fba6-b1022944fc7f"
      },
      "source": [
        "import numpy as np\n",
        "import matplotlib.pyplot as plt\n",
        "import random\n",
        "from gym.wrappers import AtariPreprocessing\n",
        "from gym.wrappers import FrameStack\n",
        "\n",
        "#Create environment\n",
        "game = 'Enduro-v0'\n",
        "env = gym.make(game,frameskip=4)\n",
        "\n",
        "# For reproducibility\n",
        "seed = 0\n",
        "env.seed(seed)\n",
        "\n",
        "obs = env.reset()\n",
        "\n",
        "plt.imshow(np.squeeze(obs))\n",
        "plt.title('Gym Enduro Interface')\n",
        "plt.show()\n",
        "\n",
        "env = ProcessFrame84(env) # pasamos el wrapper al enviroment\n",
        "env = FrameStack(env,num_stack=4) # un estado definido como el actual mas los 3 anteriores\n",
        "obs = env.reset()\n",
        "\n",
        "for _ in range(100):\n",
        "  action = random.randint(0,env.action_space.n-1) # seleccionar accion random\n",
        "  obs, reward, done, info = env.step(action)\n",
        "\n",
        "plt.figure()\n",
        "plt.subplot(2,2,1)\n",
        "plt.imshow(np.squeeze(np.array(obs)[0,:,:]),cmap='gray')\n",
        "plt.axis('off')\n",
        "plt.subplot(2,2,2)\n",
        "plt.imshow(np.squeeze(np.array(obs)[1,:,:]),cmap='gray')\n",
        "plt.axis('off')\n",
        "plt.subplot(2,2,3)\n",
        "plt.imshow(np.squeeze(np.array(obs)[2,:,:]),cmap='gray')\n",
        "plt.axis('off')\n",
        "plt.subplot(2,2,4)\n",
        "plt.imshow(np.squeeze(np.array(obs)[3,:,:]),cmap='gray')\n",
        "plt.axis('off')\n",
        "plt.tight_layout()\n",
        "plt.show()\n",
        "\n",
        "print(\"obs shape:\", obs.shape)\n",
        "print(\"actions:\", env.get_action_meanings(), \"amount:\", env.action_space.n)"
      ],
      "execution_count": 6,
      "outputs": [
        {
          "output_type": "display_data",
          "data": {
            "image/png": "[encoded data removed]",
            "text/plain": [
              "<Figure size 432x288 with 1 Axes>"
            ]
          },
          "metadata": {
            "tags": [],
            "needs_background": "light"
          }
        },
        {
          "output_type": "display_data",
          "data": {
            "image/png": "[encoded data removed]",
            "text/plain": [
              "<Figure size 432x288 with 4 Axes>"
            ]
          },
          "metadata": {
            "tags": [],
            "needs_background": "light"
          }
        },
        {
          "output_type": "stream",
          "text": [
            "obs shape: (4, 84, 84)\n",
            "actions: ['NOOP', 'FIRE', 'RIGHT', 'LEFT', 'DOWN', 'DOWNRIGHT', 'DOWNLEFT', 'RIGHTFIRE', 'LEFTFIRE'] amount: 9\n"
          ],
          "name": "stdout"
        }
      ]
    },
    {
      "cell_type": "markdown",
      "metadata": {
        "id": "7m0YDMlXdjy7"
      },
      "source": [
        "### Fill replay memory"
      ]
    },
    {
      "cell_type": "code",
      "metadata": {
        "id": "tke1H0jD0Xfa"
      },
      "source": [
        "class ReplayMemory(object):\n",
        "\n",
        "    def __init__(self, capacity):\n",
        "        self.capacity = capacity\n",
        "        self.memory = [] # Can be a list a Deque or another type of list\n",
        "        self.next_replace_position = 0\n",
        "\n",
        "    def push(self, state, action, next_state, reward, done):\n",
        "        \"\"\"Saves a transition.\n",
        "        e.g. ('state', 'action', 'next_state', 'reward','done')\n",
        "        \"\"\"\n",
        "        memory_data = (state, action, next_state, reward, done)\n",
        "        if len(self) >= self.capacity:\n",
        "          self.memory[self.next_replace_position] = memory_data\n",
        "          self.next_replace_position += 1\n",
        "          if self.next_replace_position > self.capacity - 1:\n",
        "            self.next_replace_position = 0\n",
        "        else:\n",
        "          self.memory.append(memory_data)\n",
        "\n",
        "    def sample(self, batch_size):\n",
        "       \"\"\" Samples a transition with a defined batch size\"\"\"\n",
        "       sampled_tuples = random.sample(self.memory, batch_size) # list of tuples\n",
        "       sampled_states = []\n",
        "       sampled_actions = []\n",
        "       sampled_n_states = []\n",
        "       sampled_rewards = []\n",
        "       sampled_dones = []\n",
        "       for i in range(batch_size):\n",
        "         sampled_states.append(sampled_tuples[i][0])\n",
        "         sampled_actions.append(sampled_tuples[i][1])\n",
        "         sampled_n_states.append(sampled_tuples[i][2])\n",
        "         sampled_rewards.append(sampled_tuples[i][3])\n",
        "         sampled_dones.append(sampled_tuples[i][4])\n",
        "       return (sampled_states, sampled_actions, sampled_n_states, sampled_rewards, sampled_dones)\n",
        "      \n",
        "    def __len__(self):\n",
        "        return len(self.memory)"
      ],
      "execution_count": 50,
      "outputs": []
    },
    {
      "cell_type": "code",
      "metadata": {
        "id": "LDSeQ-3WddCU"
      },
      "source": [
        "memory_size = 500000\n",
        "replay_memory = ReplayMemory(memory_size)\n",
        "\n",
        "current_obs = env.reset()\n",
        "for _ in range(memory_size):\n",
        "  #print(_, replay_memory.next_replace_position, len(replay_memory))\n",
        "  action = random.randint(0,env.action_space.n-1) # seleccionar accion random\n",
        "  obs, reward, done, info = env.step(action)\n",
        "  replay_memory.push(current_obs, action, obs, reward, done)\n",
        "  current_obs = obs\n",
        "  if done: # si pierde partimos nuevo episodio\n",
        "    current_obs = env.reset()\n",
        "  else:\n",
        "    current_obs = obs"
      ],
      "execution_count": 51,
      "outputs": []
    },
    {
      "cell_type": "code",
      "metadata": {
        "colab": {
          "base_uri": "https://localhost:8080/"
        },
        "id": "j9yWyD17D73t",
        "outputId": "a7ba626a-b37d-40e8-cae3-a3c201d44e1e"
      },
      "source": [
        "from torch import tensor, device\n",
        "device = device('cuda' if torch.cuda.is_available() else 'cpu')\n",
        "obs, _, _, _, _ = replay_memory.sample(2)\n",
        "print(obs)\n",
        "to_tensor = tensor(obs).to(device)\n",
        "print(to_tensor.shape) # batch_size x frames x size_h x size_w\n",
        "print(to_tensor.dtype, to_tensor.device)\n",
        "to_tensor = to_tensor/255 #normalizado\n",
        "print(to_tensor.dtype, to_tensor.device)"
      ],
      "execution_count": 79,
      "outputs": [
        {
          "output_type": "stream",
          "text": [
            "[<gym.wrappers.frame_stack.LazyFrames object at 0x7f57b0080590>, <gym.wrappers.frame_stack.LazyFrames object at 0x7f57b0080fb0>]\n",
            "torch.Size([2, 4, 84, 84])\n",
            "torch.uint8 cuda:0\n",
            "torch.float32 cuda:0\n"
          ],
          "name": "stdout"
        }
      ]
    },
    {
      "cell_type": "markdown",
      "metadata": {
        "id": "_GRfqj131q9x"
      },
      "source": [
        "##Model"
      ]
    },
    {
      "cell_type": "code",
      "metadata": {
        "id": "RD0EXVo_1FMy"
      },
      "source": [
        "import torch\n",
        "import torch.nn as nn\n",
        "import numpy as np\n",
        "\n",
        "class Dueling_DQN(nn.Module):\n",
        "    def __init__(self, in_channels, num_actions):\n",
        "        super(Dueling_DQN, self).__init__()\n",
        "        self.num_actions = num_actions\n",
        "        \n",
        "        self.conv1 = nn.Conv2d(in_channels=in_channels, out_channels=32, kernel_size=8, stride=4)\n",
        "        self.conv2 = nn.Conv2d(in_channels=32, out_channels=64, kernel_size=4, stride=2)\n",
        "        self.conv3 = nn.Conv2d(in_channels=64, out_channels=64, kernel_size=3, stride=1)\n",
        "\n",
        "        self.fc1_adv = nn.Linear(in_features=7*7*64, out_features=512)\n",
        "        self.fc1_val = nn.Linear(in_features=7*7*64, out_features=512)\n",
        "\n",
        "        self.fc2_adv = nn.Linear(in_features=512, out_features=num_actions)\n",
        "        self.fc2_val = nn.Linear(in_features=512, out_features=1)\n",
        "\n",
        "        self.relu = nn.ReLU()\n",
        "\n",
        "    def forward(self, x):\n",
        "\n",
        "        # TODO: forward pass red convolucional\n",
        "        \n",
        "        # TODO: forward pass rama fully-connected para V(s)\n",
        "        \n",
        "        # TODO: forward pass rama fully-connected para A(s,a)\n",
        "        \n",
        "        # TODO: Calculo de Q(s,a) a partir de ecuacion (4)\n",
        "\n",
        "        return Q_values"
      ],
      "execution_count": 28,
      "outputs": []
    },
    {
      "cell_type": "markdown",
      "metadata": {
        "id": "i719vkMq1srh"
      },
      "source": [
        "##Training"
      ]
    },
    {
      "cell_type": "code",
      "metadata": {
        "id": "C77orgGvqGui"
      },
      "source": [
        "def exploration(total_steps):\n",
        "  \"\"\" retorna probabilidad de que explore con accion random \"\"\"\n",
        "  if total_steps >= 1000000:\n",
        "    epsilon = 0.1\n",
        "  else:\n",
        "    m = -0.9 / 1000000\n",
        "    n = 1\n",
        "    epsilon = m * total_steps + n\n",
        "  return epsilon"
      ],
      "execution_count": 29,
      "outputs": []
    },
    {
      "cell_type": "code",
      "metadata": {
        "id": "tv1TE3Vv3WsX"
      },
      "source": [
        "# Define parameters and instance NNs\n",
        "\n",
        "from torch import device\n",
        "import torch.optim as optim\n",
        "import torch.nn as nn\n",
        "\n",
        "device = device('cuda' if torch.cuda.is_available() else 'cpu')\n",
        "\n",
        "frame_history_len = 4 # Cantidad de frames de cada estado (definido en el pre-procesamiento)\n",
        "batch_size = 32\n",
        "gamma = 0.99 # Factor de descuento\n",
        "learning_starts = 50000 # Paso en que se comienza a utilizar la red para escoger acciones (siguiendo política e-greedy)\n",
        "learning_freq = 4 # Frecuencia de pasos en que se modifican los pesos (loss backprop) en la red Q\n",
        "target_update_freq = 10000 # Frecuencia en que se actualizan los pesos de la red target Q' (cada x backprops, updateo Q')\n",
        "LR = 0.00025 # Tasa de aprendizaje\n",
        "\n",
        "in_channels = frame_history_len\n",
        "input_shape = (84,84)\n",
        "num_actions = env.action_space.n\n",
        "\n",
        "# define Q target and Q \n",
        "Q = Dueling_DQN(in_channels, num_actions).to(device) # esta es la que de verdad quiero entrenar\n",
        "Q_target = Dueling_DQN(in_channels, num_actions).to(device) # para estabilidad, esta me entrega los labels\n",
        "\n",
        "# Optimizador, pueden elegir entre Adam o RMSProp\n",
        "optimizer = optim.Adam(Q.parameters(), lr=LR)\n",
        "\n",
        "# Criterio de pérdida\n",
        "loss = nn.MSELoss()\n",
        "\n",
        "LOG_EVERY_N_STEPS = 50000 # (Opcional) Frecuencia en la que se muestran resultados en consola\n",
        "STEPS_PER_EPOCH = 250000 # Pasos por época\n",
        "N_EPOCHS = 20 # Número de épocas"
      ],
      "execution_count": 66,
      "outputs": []
    },
    {
      "cell_type": "code",
      "metadata": {
        "id": "37rt28Z01owa"
      },
      "source": [
        "from tqdm import tqdm\n",
        "from torch import tensor, no_grad\n",
        "\n",
        "# Load checkpoint: probablemente se quede sin memoria durante entrenamiento,\n",
        "# por eso hay que guardar checkpoint (pesos) en drive cada cierto tiempo\n",
        "# luego cargamos checkpoint, rellenamos memory buffer, y retomamos\n",
        "# pero el rellenado debe ser usando el modelo que tenemos hasta ahora! no random como el inicial\n",
        "\n",
        "# Reseteamos nuestro ambiente para empezar el entrenamiento\n",
        "last_obs = env.reset()\n",
        "for epoch in tqdm(range(N_EPOCHS),position=0,leave=True):\n",
        "  for t in tqdm(range(STEPS_PER_EPOCH),position=0,leave=True):\n",
        "    \n",
        "    ### 1. Before learning starts, choose actions and update replay memory buffer\n",
        "    if t < learning_starts:\n",
        "      action = np.random.randint(num_actions)\n",
        "    else:\n",
        "      # epsilon greedy exploration\n",
        "      sample = random.random()\n",
        "      total_steps = t + STEPS_PER_EPOCH * epoch # steps acumulados a traves de las epocas\n",
        "      threshold = exploration(total_steps)  # la funcion exploration permite calcular el threshold para la política e-greedy\n",
        "      if sample <= threshold:\n",
        "        action = np.random.randint(num_actions)\n",
        "      else:\n",
        "        with no_grad(): # no actualizamos gradientes pq estamos evaluando\n",
        "          # Selecciono la acción segun la red Q\n",
        "          # aca le hago un forward pass Q(last_obs) y saco el nro de accion que mayor valor que me retorna\n",
        "          pass\n",
        "\n",
        "    obs, reward, done, _ = env.step(action)\n",
        "\n",
        "    replay_memory.push(last_obs, action, obs, reward, done)\n",
        "    if done:\n",
        "      obs = env.reset()\n",
        "      # termino episodio!\n",
        "      # Guardar reward acumulado del episodio\n",
        "\n",
        "    # update last_obs\n",
        "    last_obs = obs\n",
        "\n",
        "    ### 2. Perform experience replay and train the network.\n",
        "    if (t > learning_starts and t % learning_freq == 0):\n",
        "      obs_t, act_t, next_obs, rew_t, done_mask = replay_memory.sample(batch_size) # esto me deja listas de largo batch size\n",
        "          \n",
        "      # Pasar los arreglos a tensores y al device actual\n",
        "      obs_t = tensor(obs_t).to(device)\n",
        "      act_t = tensor(act_t).to(device)\n",
        "      next_obs = tensor(next_obs).to(device)\n",
        "      rew_t = tensor(rew_t).to(device)\n",
        "      done_mask = tensor(done_mask).to(device)\n",
        "\n",
        "      # Normalizar tensores de entrada # HAY ALGO MAS QUE SEA TENSOR DE ENTRADA??\n",
        "      obs_t = obs_t/255\n",
        "\n",
        "      # input batches to networks\n",
        "      q_values = Q(obs_t)\n",
        "\n",
        "      # Loss calculation\n",
        "      #calcular labels, 1:13:00 y 1:23:00 de ayud\n",
        "\n",
        "      # backwards pass\n",
        "      optimizer.zero_grad()\n",
        "\n",
        "      loss.backward()\n",
        "      # update\n",
        "      optimizer.step()\n",
        "\n",
        "      # Actualizar pesos de red target (cada target_update_freq actualizaciones de los parámetros de Q)\n",
        "\n",
        "    \n",
        "    if t % LOG_EVERY_N_STEPS == 0:\n",
        "      # Mostrar resultados actuales\n",
        "      # e.g. Mejor reward y promedio de ultimos 100 episodios\n",
        "      # entre otros.\n",
        "      pass\n",
        "\n",
        "    # Guardar modelo y resultados!\n",
        "    # importante si se les cierra el entrenamiento"
      ],
      "execution_count": null,
      "outputs": []
    },
    {
      "cell_type": "markdown",
      "metadata": {
        "id": "R8utkgyN96dY"
      },
      "source": [
        "## Results"
      ]
    },
    {
      "cell_type": "code",
      "metadata": {
        "id": "nDFXLJCH99UX"
      },
      "source": [
        ""
      ],
      "execution_count": null,
      "outputs": []
    },
    {
      "cell_type": "markdown",
      "metadata": {
        "id": "ZGKiBwr299rv"
      },
      "source": [
        "###Testing visualization"
      ]
    },
    {
      "cell_type": "code",
      "metadata": {
        "id": "F4XKh9o1-CRo"
      },
      "source": [
        "import matplotlib.pyplot as plt\n",
        "import matplotlib.animation\n",
        "import numpy as np\n",
        "from IPython.display import HTML\n",
        "\n",
        "frames_show = frames[:300]\n",
        "\n",
        "plt.figure(figsize=(frames_show[0].shape[1] / 15.0, frames_show[0].shape[0] / 15.0), dpi = 72)\n",
        "patch = plt.imshow(frames_show[0],cmap='gray')\n",
        "plt.axis('off')\n",
        "animate = lambda i: patch.set_data(frames_show[i])\n",
        "ani = matplotlib.animation.FuncAnimation(plt.gcf(), animate, frames=len(frames_show), interval = 100)\n",
        "HTML(ani.to_jshtml())"
      ],
      "execution_count": null,
      "outputs": []
    }
  ]
}