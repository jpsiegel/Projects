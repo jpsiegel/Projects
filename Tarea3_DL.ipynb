{
  "nbformat": 4,
  "nbformat_minor": 0,
  "metadata": {
    "colab": {
      "name": "Tarea3-DL.ipynb",
      "provenance": [],
      "collapsed_sections": [],
      "authorship_tag": "ABX9TyNWtOLGhSN6U8+uHSmmIv/D",
      "include_colab_link": true
    },
    "kernelspec": {
      "name": "python3",
      "display_name": "Python 3"
    },
    "language_info": {
      "name": "python"
    },
    "accelerator": "GPU"
  },
  "cells": [
    {
      "cell_type": "markdown",
      "metadata": {
        "id": "view-in-github",
        "colab_type": "text"
      },
      "source": [
        "<a href=\"https://colab.research.google.com/github/jpsiegel/Projects/blob/master/Tarea3_DL.ipynb\" target=\"_parent\"><img src=\"https://colab.research.google.com/assets/colab-badge.svg\" alt=\"Open In Colab\"/></a>"
      ]
    },
    {
      "cell_type": "markdown",
      "metadata": {
        "id": "K0ET622QKRj9"
      },
      "source": [
        "#Tarea 3 Jan P. Siegel - Deep Learning\n"
      ]
    },
    {
      "cell_type": "markdown",
      "metadata": {
        "id": "EARkwmAr12gB"
      },
      "source": [
        "##Allocate resources"
      ]
    },
    {
      "cell_type": "code",
      "metadata": {
        "id": "yumMEzxTJ1ue"
      },
      "source": [
        "!ln -sf /opt/bin/nvidia-smi /usr/bin/nvidia-smi\n",
        "!pip install gputil\n",
        "\n",
        "import os\n",
        "import GPUtil as GPU\n",
        "import psutil\n",
        "import humanize"
      ],
      "execution_count": null,
      "outputs": []
    },
    {
      "cell_type": "code",
      "metadata": {
        "colab": {
          "base_uri": "https://localhost:8080/"
        },
        "id": "L7ocfSQcd2bU",
        "outputId": "6f639061-8ffd-48b2-e1e0-69efc6fb7b8c"
      },
      "source": [
        "def printm():\n",
        "  GPUs = GPU.getGPUs()\n",
        "  gpu = GPUs[0]  # Only one GPU on Colab and not guaranteed\n",
        "  process = psutil.Process(os.getpid())\n",
        "  print(\"RAM Free: \" + humanize.naturalsize(psutil.virtual_memory().available), \" | Used: \" + humanize.naturalsize(process.memory_info().rss))\n",
        "  print(\"VRAM Free: {0:.0f}MB | Used: {1:.0f}MB | Util {2:3.0f}% Total {3:.0f}MB\".format(gpu.memoryFree, gpu.memoryUsed, gpu.memoryUtil*100, gpu.memoryTotal))\n",
        "printm()"
      ],
      "execution_count": 2,
      "outputs": [
        {
          "output_type": "stream",
          "text": [
            "RAM Free: 12.8 GB  | Used: 118.1 MB\n",
            "VRAM Free: 16280MB | Used: 0MB | Util   0% Total 16280MB\n"
          ],
          "name": "stdout"
        }
      ]
    },
    {
      "cell_type": "code",
      "metadata": {
        "colab": {
          "base_uri": "https://localhost:8080/"
        },
        "id": "bvwy3-acKNKl",
        "outputId": "3f5b3b34-59c8-4773-ceab-375eea30a41d"
      },
      "source": [
        "from google.colab import drive\n",
        "drive.mount('/content/drive')\n",
        "my_dir = \"/content/drive/MyDrive/DL\""
      ],
      "execution_count": 3,
      "outputs": [
        {
          "output_type": "stream",
          "text": [
            "Mounted at /content/drive\n"
          ],
          "name": "stdout"
        }
      ]
    },
    {
      "cell_type": "code",
      "metadata": {
        "id": "IGA7PU9ejJdl"
      },
      "source": [
        "# Download Roms\n",
        "!wget http://www.atarimania.com/roms/Roms.rar > /dev/null\n",
        "# Decompresed files\n",
        "!unrar e Roms.rar > /dev/null\n",
        "!unzip 'ROMS.zip' > /dev/null\n",
        "# Add Roms folder to atary_py PATH\n",
        "!python -m atari_py.import_roms 'ROMS' > /dev/null\n",
        "# > /dev/null omits command output"
      ],
      "execution_count": null,
      "outputs": []
    },
    {
      "cell_type": "markdown",
      "metadata": {
        "id": "GoWNXSTZ1xux"
      },
      "source": [
        "##Preprocessing\n"
      ]
    },
    {
      "cell_type": "code",
      "metadata": {
        "id": "2WMiFXZSwGgD"
      },
      "source": [
        "import gym\n",
        "from gym import spaces\n",
        "import cv2\n",
        "\n",
        "# pasar a escala de grises y recortar imagen\n",
        "def _process_frame84(frame):\n",
        "    frame = cv2.cvtColor(frame, cv2.COLOR_RGB2GRAY)\n",
        "    frame = frame[:155,10:]\n",
        "    #x_t = cv2.resize(frame, (84, 84),  interpolation=cv2.INTER_LINEAR)\n",
        "    x_t = cv2.resize(frame, (84, 84),interpolation=cv2.INTER_AREA)\n",
        "    return x_t.astype(np.uint8)\n",
        "\n",
        "class ProcessFrame84(gym.Wrapper):\n",
        "    def __init__(self, env=None):\n",
        "        super(ProcessFrame84, self).__init__(env)\n",
        "        self.observation_space = spaces.Box(low=0, high=255, shape=(84, 84))\n",
        "\n",
        "    def step(self, action):\n",
        "        obs, reward, done, info = self.env.step(action)\n",
        "        return _process_frame84(obs), reward, done, info\n",
        "\n",
        "    def reset(self):\n",
        "        return _process_frame84(self.env.reset())"
      ],
      "execution_count": 5,
      "outputs": []
    },
    {
      "cell_type": "code",
      "metadata": {
        "colab": {
          "base_uri": "https://localhost:8080/",
          "height": 595
        },
        "id": "tqI3xgULw6nj",
        "outputId": "5317f824-2fa1-43dc-978c-b521499f8d30"
      },
      "source": [
        "import numpy as np\n",
        "import matplotlib.pyplot as plt\n",
        "import random\n",
        "from gym.wrappers import AtariPreprocessing\n",
        "from gym.wrappers import FrameStack\n",
        "\n",
        "#Create environment\n",
        "game = 'Enduro-v0'\n",
        "env = gym.make(game,frameskip=4) # saltamos de a 4 frames para acelerar entrenamiento\n",
        "\n",
        "# For reproducibility\n",
        "seed = 0\n",
        "env.seed(seed)\n",
        "\n",
        "obs = env.reset()\n",
        "\n",
        "plt.imshow(np.squeeze(obs))\n",
        "plt.title('Gym Enduro Interface')\n",
        "plt.show()\n",
        "\n",
        "env = ProcessFrame84(env) # pasamos el wrapper al enviroment\n",
        "env = FrameStack(env,num_stack=4) # un estado definido como el actual mas los 3 anteriores\n",
        "obs = env.reset()\n",
        "\n",
        "for _ in range(100):\n",
        "  action = random.randint(0,env.action_space.n-1) # seleccionar accion random\n",
        "  obs, reward, done, info = env.step(action)\n",
        "\n",
        "plt.figure()\n",
        "plt.subplot(2,2,1)\n",
        "plt.imshow(np.squeeze(np.array(obs)[0,:,:]),cmap='gray')\n",
        "plt.axis('off')\n",
        "plt.subplot(2,2,2)\n",
        "plt.imshow(np.squeeze(np.array(obs)[1,:,:]),cmap='gray')\n",
        "plt.axis('off')\n",
        "plt.subplot(2,2,3)\n",
        "plt.imshow(np.squeeze(np.array(obs)[2,:,:]),cmap='gray')\n",
        "plt.axis('off')\n",
        "plt.subplot(2,2,4)\n",
        "plt.imshow(np.squeeze(np.array(obs)[3,:,:]),cmap='gray')\n",
        "plt.axis('off')\n",
        "plt.tight_layout()\n",
        "plt.show()\n",
        "\n",
        "print(\"obs shape:\", obs.shape)\n",
        "print(\"actions:\", env.get_action_meanings(), \"amount:\", env.action_space.n)"
      ],
      "execution_count": 6,
      "outputs": [
        {
          "output_type": "display_data",
          "data": {
            "image/png": "[encoded data removed]",
            "text/plain": [
              "<Figure size 432x288 with 1 Axes>"
            ]
          },
          "metadata": {
            "tags": [],
            "needs_background": "light"
          }
        },
        {
          "output_type": "display_data",
          "data": {
            "image/png": "[encoded data removed]",
            "text/plain": [
              "<Figure size 432x288 with 4 Axes>"
            ]
          },
          "metadata": {
            "tags": [],
            "needs_background": "light"
          }
        },
        {
          "output_type": "stream",
          "text": [
            "obs shape: (4, 84, 84)\n",
            "actions: ['NOOP', 'FIRE', 'RIGHT', 'LEFT', 'DOWN', 'DOWNRIGHT', 'DOWNLEFT', 'RIGHTFIRE', 'LEFTFIRE'] amount: 9\n"
          ],
          "name": "stdout"
        }
      ]
    },
    {
      "cell_type": "markdown",
      "metadata": {
        "id": "Ev6wuPkDuJjL"
      },
      "source": [
        "### Actividad 1\n",
        "Definimos un estado como un stack de el frame actual, más los 3 frames anteriores, por lo que cada estado (que será el input de la red) corresponde a 4 pasos de Enduro. Esto es clave para que la red convolucional pueda tener una noción de velocidad del jugador y de los demás competidores. La velocidad solo puede obtenerse comparando posiciones en frames contiguas, lo cual es información indispensable para que un agente pueda aprender a jugar Enduro competentemente."
      ]
    },
    {
      "cell_type": "markdown",
      "metadata": {
        "id": "7m0YDMlXdjy7"
      },
      "source": [
        "### Fill replay memory"
      ]
    },
    {
      "cell_type": "code",
      "metadata": {
        "id": "tke1H0jD0Xfa"
      },
      "source": [
        "class ReplayMemory(object):\n",
        "\n",
        "    def __init__(self, capacity):\n",
        "        self.capacity = capacity\n",
        "        self.memory = [] # Can be a list a Deque or another type of list\n",
        "        self.next_replace_position = 0\n",
        "\n",
        "    def push(self, state, action, next_state, reward, done):\n",
        "        \"\"\"Saves a transition.\n",
        "        e.g. ('state', 'action', 'next_state', 'reward','done')\n",
        "        \"\"\"\n",
        "        memory_data = (state, action, next_state, reward, done)\n",
        "        if len(self) >= self.capacity:\n",
        "          self.memory[self.next_replace_position] = memory_data\n",
        "          self.next_replace_position += 1\n",
        "          if self.next_replace_position > self.capacity - 1:\n",
        "            self.next_replace_position = 0\n",
        "        else:\n",
        "          self.memory.append(memory_data)\n",
        "\n",
        "    def sample(self, batch_size):\n",
        "       \"\"\" Samples a transition with a defined batch size\"\"\"\n",
        "       sampled_tuples = random.sample(self.memory, batch_size) # list of tuples\n",
        "       zipped = tuple(zip(*sampled_tuples))\n",
        "       return zipped\n",
        "      \n",
        "    def __len__(self):\n",
        "        return len(self.memory)"
      ],
      "execution_count": 7,
      "outputs": []
    },
    {
      "cell_type": "code",
      "metadata": {
        "id": "LDSeQ-3WddCU",
        "colab": {
          "base_uri": "https://localhost:8080/"
        },
        "outputId": "a612e96a-2606-4aa2-c481-4978313998de"
      },
      "source": [
        "memory_size = 500000\n",
        "replay_memory = ReplayMemory(memory_size)\n",
        "loaded_model = False\n",
        "\n",
        "print(\"Filling random Replay Memory...\")\n",
        "current_obs = env.reset()\n",
        "for _ in range(memory_size):\n",
        "  if _ % 100000 == 0:\n",
        "    print(f\"{_}/{memory_size}\")\n",
        "  action = random.randint(0, env.action_space.n-1) # seleccionar accion random\n",
        "  obs, reward, done, info = env.step(action)\n",
        "  replay_memory.push(current_obs, action, obs, reward, done)\n",
        "  current_obs = obs\n",
        "  if done: # si pierde partimos nuevo episodio\n",
        "    current_obs = env.reset()\n",
        "\n",
        "print(\"Random Replay Memory Filled!, Resources:\")\n",
        "printm()"
      ],
      "execution_count": 8,
      "outputs": [
        {
          "output_type": "stream",
          "text": [
            "Filling random Replay Memory...\n",
            "0/500000\n",
            "100000/500000\n",
            "200000/500000\n",
            "300000/500000\n",
            "400000/500000\n",
            "Random Replay Memory Filled!, Resources:\n",
            "RAM Free: 8.3 GB  | Used: 4.6 GB\n",
            "VRAM Free: 16280MB | Used: 0MB | Util   0% Total 16280MB\n"
          ],
          "name": "stdout"
        }
      ]
    },
    {
      "cell_type": "markdown",
      "metadata": {
        "id": "_GRfqj131q9x"
      },
      "source": [
        "##Model"
      ]
    },
    {
      "cell_type": "markdown",
      "metadata": {
        "id": "S1dnwI3oI_QO"
      },
      "source": [
        "### Actividad 2\n",
        "Implementación en Pytorch de Dueling DQN"
      ]
    },
    {
      "cell_type": "code",
      "metadata": {
        "id": "RD0EXVo_1FMy"
      },
      "source": [
        "import torch\n",
        "import torch.nn as nn\n",
        "import numpy as np\n",
        "\n",
        "class Dueling_DQN(nn.Module):\n",
        "    def __init__(self, in_channels, num_actions):\n",
        "        super(Dueling_DQN, self).__init__()\n",
        "        self.num_actions = num_actions\n",
        "        \n",
        "        self.conv1 = nn.Conv2d(in_channels=in_channels, out_channels=32, kernel_size=8, stride=4)\n",
        "        self.conv2 = nn.Conv2d(in_channels=32, out_channels=64, kernel_size=4, stride=2)\n",
        "        self.conv3 = nn.Conv2d(in_channels=64, out_channels=64, kernel_size=3, stride=1)\n",
        "\n",
        "        self.fc1_val = nn.Linear(in_features=7*7*64, out_features=512)\n",
        "        self.fc2_val = nn.Linear(in_features=512, out_features=1)\n",
        "\n",
        "        self.fc1_adv = nn.Linear(in_features=7*7*64, out_features=512)\n",
        "        self.fc2_adv = nn.Linear(in_features=512, out_features=num_actions)\n",
        "\n",
        "        self.relu = nn.ReLU()\n",
        "\n",
        "    def forward(self, x):\n",
        "      # X es un tensor (batch_size x 4 x 84 x 84) que representa un batch de stacks de estados\n",
        "      batch_size = x.size(0)\n",
        "\n",
        "      # forward pass red convolucional\n",
        "      x = self.relu(self.conv1(x))\n",
        "      x = self.relu(self.conv2(x))\n",
        "      x = self.relu(self.conv3(x))\n",
        "      x = torch.flatten(x, start_dim=1) # start_dim 1 para mantener separado el batch\n",
        "      #print(\"State embedding:\", x.shape, x)\n",
        "      \n",
        "      # forward pass rama fully-connected para V(s)\n",
        "      v_s = self.relu(self.fc1_val(x))\n",
        "      v_s = self.fc2_val(v_s).expand(batch_size, self.num_actions)\n",
        "      #print(\"V(s):\", v_s.shape, v_s)\n",
        "\n",
        "      # forward pass rama fully-connected para A(s,a)\n",
        "      adv = self.relu(self.fc1_adv(x))\n",
        "      adv = self.fc2_adv(adv)\n",
        "      #print(\"A(s,a):\", adv.shape, adv)\n",
        "      #print(\"mean A(s,a):\", torch.mean(adv, 1, keepdim=True).shape, torch.mean(adv, 1, keepdim=True))\n",
        "\n",
        "      # Calculo de Q(s,a) a partir de ecuacion (4)\n",
        "      Q_values = v_s + (adv - torch.mean(adv, 1, keepdim=True)) # testeado\n",
        "\n",
        "      return Q_values # batch_size x num_actions"
      ],
      "execution_count": 9,
      "outputs": []
    },
    {
      "cell_type": "markdown",
      "metadata": {
        "id": "i719vkMq1srh"
      },
      "source": [
        "##Training"
      ]
    },
    {
      "cell_type": "code",
      "metadata": {
        "id": "C77orgGvqGui"
      },
      "source": [
        "def exploration(total_steps):\n",
        "  \"\"\" retorna probabilidad de que explore con accion random \"\"\"\n",
        "  if total_steps >= 1000000:\n",
        "    epsilon = 0.1\n",
        "  else:\n",
        "    m = -0.9 / 1000000\n",
        "    n = 1\n",
        "    epsilon = m * total_steps + n\n",
        "  return epsilon"
      ],
      "execution_count": 10,
      "outputs": []
    },
    {
      "cell_type": "code",
      "metadata": {
        "id": "tv1TE3Vv3WsX"
      },
      "source": [
        "# Define parameters and instance NNs\n",
        "\n",
        "from torch import device\n",
        "import torch.optim as optim\n",
        "import torch.nn as nn\n",
        "\n",
        "device = device('cuda' if torch.cuda.is_available() else 'cpu')\n",
        "\n",
        "frame_history_len = 4 # Cantidad de frames de cada estado (definido en el pre-procesamiento)\n",
        "batch_size = 32\n",
        "gamma = 0.95 # Factor de descuento\n",
        "learning_starts = 50000 # Paso en que se comienza a utilizar la red para escoger acciones (siguiendo política e-greedy)\n",
        "learning_freq = 4 # Frecuencia de pasos en que se modifican los pesos (loss backprop) en la red Q\n",
        "target_update_freq = 10000 # Frecuencia en que se actualizan los pesos de la red target Q' (cada x backprops, updateo Q')\n",
        "LR = 6.25 * (10**-5) # Tasa de aprendizaje 6.25×10−5\n",
        "\n",
        "in_channels = frame_history_len\n",
        "input_shape = (84,84)\n",
        "num_actions = env.action_space.n\n",
        "\n",
        "# define Q target and Q \n",
        "Q = Dueling_DQN(in_channels, num_actions).to(device) # esta es la que de verdad quiero entrenar\n",
        "Q_target = Dueling_DQN(in_channels, num_actions).to(device) # para estabilidad, esta me entrega los labels\n",
        "\n",
        "# Optimizador, pueden elegir entre Adam o RMSProp\n",
        "optimizer = optim.Adam(Q.parameters(), lr=LR)\n",
        "\n",
        "LOG_EVERY_N_STEPS = 50000 # (Opcional) Frecuencia en la que se muestran resultados en consola\n",
        "STEPS_PER_EPOCH = 100000 # Pasos por época\n",
        "N_EPOCHS = 50 # Número de épocas"
      ],
      "execution_count": 11,
      "outputs": []
    },
    {
      "cell_type": "code",
      "metadata": {
        "id": "qBw2hz7TVfIR"
      },
      "source": [
        "# Run only if continuing training of existing model\n",
        "\n",
        "import torch\n",
        "import numpy as np\n",
        "\n",
        "# load state dict and pass it to Q and Q_target\n",
        "model_save_path = my_dir + \"/DQN_model_X.pt\"\n",
        "Q.load_state_dict(torch.load(model_save_path, map_location=device))\n",
        "Q_target.load_state_dict(torch.load(model_save_path, map_location=device))\n",
        "optimizer = optim.Adam(Q.parameters(), lr=LR)\n",
        "loaded_model = True\n",
        "\n",
        "memory_size = 500000\n",
        "replay_memory = ReplayMemory(memory_size)\n",
        "\n",
        "print(\"Filling Replay Memory with pretrained DQN...\")\n",
        "current_obs = env.reset()\n",
        "for _ in range(memory_size):\n",
        "  if _ % 100000 == 0:\n",
        "    print(f\"{_}/{memory_size}\")\n",
        "    with torch.no_grad(): # no actualizamos gradientes pq estamos evaluando\n",
        "      # Seleccionar la acción segun la red Q\n",
        "      last_obs_tensor = torch.from_numpy(np.array(current_obs)).to(device) / 255.0 # pasamos a tensor y normalizamos\n",
        "      last_obs_tensor_batched = last_obs_tensor.unsqueeze(0).repeat(batch_size, 1, 1, 1) # last obs solo es 1 estado, pero necesitamos batch_size estados para la red\n",
        "      all_q_values = Q(last_obs_tensor_batched)\n",
        "      action = ((all_q_values).data.max(1)[1])[0].item() # selecciono indice de mejor q_value\n",
        "  obs, reward, done, info = env.step(action)\n",
        "  replay_memory.push(current_obs, action, obs, reward, done)\n",
        "  current_obs = obs\n",
        "  if done: # si pierde partimos nuevo episodio\n",
        "    current_obs = env.reset()\n",
        "\n",
        "print(\"Pretrained Replay Memory Filled!, Resources:\")\n",
        "printm()"
      ],
      "execution_count": null,
      "outputs": []
    },
    {
      "cell_type": "code",
      "metadata": {
        "id": "37rt28Z01owa",
        "colab": {
          "base_uri": "https://localhost:8080/"
        },
        "outputId": "cb75e169-cb9b-4ca1-afbf-46d71c2a525f"
      },
      "source": [
        "from tqdm import tqdm\n",
        "import torch\n",
        "import numpy as np\n",
        "import json\n",
        "\n",
        "if not loaded_model:\n",
        "  reward_history = {0: 0.0} # epoch: mean reward of last 100 episodes\n",
        "  error_history = {0: 0.0} # epoch: mean error\n",
        "else:\n",
        "  a_file = open(my_dir + \"/rewards.json\", \"r\")\n",
        "  reward_history = json.loads(a_file.read())\n",
        "  a_file.close()\n",
        "\n",
        "  b_file = open(my_dir + \"/errors.json\", \"r\")\n",
        "  error_history = json.loads(b_file.read())\n",
        "  b_file.close()\n",
        "\n",
        "last_obs = env.reset() # Reseteamos nuestro ambiente para empezar el entrenamiento\n",
        "current_reward = 0\n",
        "backprops = 0\n",
        "episodes_rewards = [0]\n",
        "errors = [0]\n",
        "\n",
        "for epoch in tqdm(range(N_EPOCHS),position=0,leave=True):\n",
        "  for t in tqdm(range(STEPS_PER_EPOCH),position=0,leave=True):\n",
        "    total_steps = t + STEPS_PER_EPOCH * epoch # steps acumulados a traves de las epocas\n",
        "    ### 1. Choose actions and update replay memory buffer\n",
        "    if t < learning_starts and epoch == 0:\n",
        "      action = np.random.randint(num_actions)\n",
        "    else:\n",
        "      # epsilon greedy exploration\n",
        "      sample = random.random()\n",
        "      threshold = exploration(total_steps)  # la funcion exploration permite calcular el threshold para la política e-greedy\n",
        "      if sample <= threshold:\n",
        "        action = np.random.randint(num_actions)\n",
        "      else:\n",
        "        with torch.no_grad(): # no actualizamos gradientes pq estamos evaluando\n",
        "          # Seleccionar la acción segun la red Q\n",
        "          last_obs_tensor = torch.from_numpy(np.array(last_obs)).to(device) / 255.0 # pasamos a tensor y normalizamos\n",
        "          last_obs_tensor_batched = last_obs_tensor.unsqueeze(0).repeat(batch_size, 1, 1, 1) # last obs solo es 1 estado, pero necesitamos batch_size estados para la red\n",
        "          all_q_values = Q(last_obs_tensor_batched)\n",
        "          action = ((all_q_values).data.max(1)[1])[0].item() # selecciono indice de mejor q_value\n",
        "\n",
        "    obs, reward, done, _ = env.step(action) # ejecuto accion seleccionada\n",
        "    replay_memory.push(last_obs, action, obs, reward, done) # actualizo experiencia en buffer\n",
        "    current_reward += reward\n",
        "    if done:\n",
        "      # Termino episodio!\n",
        "      obs = env.reset()\n",
        "      # Guardar reward acumulado del episodio\n",
        "      episodes_rewards.append(current_reward)\n",
        "      current_reward = 0\n",
        "\n",
        "    # update last_obs\n",
        "    last_obs = obs\n",
        "\n",
        "    ### 2. Perform experience replay and train the network.\n",
        "    if (t > learning_starts and t % learning_freq == 0):\n",
        "      obs_t, act_t, next_obs, rew_t, done_mask = replay_memory.sample(batch_size) # esto me deja listas de largo batch size\n",
        "      # Pasar los arreglos a tensores y al device actual\n",
        "      obs_t = torch.from_numpy(np.array(obs_t)).to(device)\n",
        "      act_t = torch.from_numpy(np.array(act_t)).to(device)\n",
        "      next_obs = torch.from_numpy(np.array(next_obs)).to(device)\n",
        "      rew_t = torch.from_numpy(np.array(rew_t)).to(device)\n",
        "      done_mask = torch.from_numpy(np.array(done_mask)).to(device)\n",
        "\n",
        "      # Normalizar tensores de entrada\n",
        "      obs_t = obs_t / 255.0\n",
        "      next_obs = next_obs / 255.0\n",
        "\n",
        "      # construir Y (labels)\n",
        "      with torch.no_grad(): # esto no debe ser parte del backprop, solo consigue los labels\n",
        "        q_tp1_values = Q(next_obs)\n",
        "        _, a_prime = q_tp1_values.max(1) # selecciono la mejor accion para el estado siguiente\n",
        "        q_target_tp1_values = Q_target(next_obs)\n",
        "        q_target_s_a_prime = q_target_tp1_values.gather(1, a_prime.unsqueeze(1)).squeeze() # selecciono el q_value de la target network segun la mejor accion en el estado siguiente\n",
        "        # si termina en este episodio, los q_values de target son 0 y dejamos solo el reward\n",
        "        q_target_s_a_prime = (1 - done_mask.type(torch.float)) * q_target_s_a_prime \n",
        "        \n",
        "        y = rew_t + gamma * q_target_s_a_prime\n",
        "\n",
        "      ## Loss calculation\n",
        "      q_values = Q(obs_t)\n",
        "      q_s_a = q_values.gather(1, act_t.unsqueeze(1)).squeeze() # selecciono el q de cada accion\n",
        "      error = (y - q_s_a) ** 2\n",
        "      error = torch.mean(error.clamp(0, 1)) # clipeamos para estabilidad\n",
        "      errors.append(error.item())\n",
        "\n",
        "      # backwards pass\n",
        "      optimizer.zero_grad()\n",
        "      error.backward()\n",
        "\n",
        "      # update\n",
        "      optimizer.step()\n",
        "      backprops += 1\n",
        "\n",
        "      # Actualizar pesos de red target (cada target_update_freq actualizaciones de los parámetros de Q')\n",
        "      if backprops % target_update_freq == 0:\n",
        "        #print(\"Copying model weights...\")\n",
        "        Q_target.load_state_dict(Q.state_dict()) # copiamos pesos de Q a Qtarget\n",
        "\n",
        "  mean_reward = np.mean(episodes_rewards[-100:]) if len(episodes_rewards) > 100 else sum(episodes_rewards) / len(episodes_rewards)\n",
        "  mean_error = np.mean(errors[-100:]) if len(errors) > 100 else sum(errors) / len(errors)\n",
        "  \n",
        "  # Epoch ends\n",
        "  print(\"\\nEpoch:\", epoch + 1)\n",
        "\n",
        "  # Save model and results\n",
        "  model_save_path = my_dir + \"/DQN_model_{}.pt\".format(epoch + 1)\n",
        "  torch.save(Q.state_dict(), model_save_path)\n",
        "\n",
        "  reward_history[epoch + 1] = mean_reward\n",
        "  error_history[epoch + 1] = mean_error\n",
        "\n",
        "  a_file = open(my_dir + \"/rewards.json\", \"w\")\n",
        "  json.dump(reward_history, a_file)\n",
        "  a_file.close()\n",
        "\n",
        "  b_file = open(my_dir + \"/errors.json\", \"w\")\n",
        "  json.dump(error_history, b_file)\n",
        "  b_file.close()\n",
        "\n",
        "  episodes_rewards = [] # reset\n",
        "  errors = [] # reset\n",
        "  print(\"Model and data saved!\")"
      ],
      "execution_count": 12,
      "outputs": [
        {
          "output_type": "stream",
          "text": [
            "100%|██████████| 100000/100000 [03:45<00:00, 444.44it/s]\n",
            "  0%|          | 81/100000 [00:00<02:03, 808.87it/s]"
          ],
          "name": "stderr"
        },
        {
          "output_type": "stream",
          "text": [
            "\n",
            "Epoch: 1\n",
            "Model and data saved!\n"
          ],
          "name": "stdout"
        },
        {
          "output_type": "stream",
          "text": [
            "100%|██████████| 100000/100000 [03:55<00:00, 424.91it/s]\n",
            "  0%|          | 79/100000 [00:00<02:07, 783.07it/s]"
          ],
          "name": "stderr"
        },
        {
          "output_type": "stream",
          "text": [
            "\n",
            "Epoch: 2\n",
            "Model and data saved!\n"
          ],
          "name": "stdout"
        },
        {
          "output_type": "stream",
          "text": [
            "100%|██████████| 100000/100000 [04:03<00:00, 410.96it/s]\n",
            "  0%|          | 69/100000 [00:00<02:25, 688.17it/s]"
          ],
          "name": "stderr"
        },
        {
          "output_type": "stream",
          "text": [
            "\n",
            "Epoch: 3\n",
            "Model and data saved!\n"
          ],
          "name": "stdout"
        },
        {
          "output_type": "stream",
          "text": [
            "100%|██████████| 100000/100000 [04:12<00:00, 395.62it/s]\n"
          ],
          "name": "stderr"
        },
        {
          "output_type": "stream",
          "text": [
            "\n",
            "Epoch: 4\n"
          ],
          "name": "stdout"
        },
        {
          "output_type": "stream",
          "text": [
            "  0%|          | 71/100000 [00:00<02:23, 698.54it/s]"
          ],
          "name": "stderr"
        },
        {
          "output_type": "stream",
          "text": [
            "Model and data saved!\n"
          ],
          "name": "stdout"
        },
        {
          "output_type": "stream",
          "text": [
            "100%|██████████| 100000/100000 [04:22<00:00, 381.15it/s]\n",
            "  0%|          | 62/100000 [00:00<02:41, 617.09it/s]"
          ],
          "name": "stderr"
        },
        {
          "output_type": "stream",
          "text": [
            "\n",
            "Epoch: 5\n",
            "Model and data saved!\n"
          ],
          "name": "stdout"
        },
        {
          "output_type": "stream",
          "text": [
            "100%|██████████| 100000/100000 [04:28<00:00, 373.00it/s]\n",
            "  0%|          | 64/100000 [00:00<02:36, 637.49it/s]"
          ],
          "name": "stderr"
        },
        {
          "output_type": "stream",
          "text": [
            "\n",
            "Epoch: 6\n",
            "Model and data saved!\n"
          ],
          "name": "stdout"
        },
        {
          "output_type": "stream",
          "text": [
            "100%|██████████| 100000/100000 [04:35<00:00, 362.72it/s]\n",
            "  0%|          | 60/100000 [00:00<02:47, 595.32it/s]"
          ],
          "name": "stderr"
        },
        {
          "output_type": "stream",
          "text": [
            "\n",
            "Epoch: 7\n",
            "Model and data saved!\n"
          ],
          "name": "stdout"
        },
        {
          "output_type": "stream",
          "text": [
            "100%|██████████| 100000/100000 [04:44<00:00, 351.63it/s]\n",
            "  0%|          | 59/100000 [00:00<02:52, 578.13it/s]"
          ],
          "name": "stderr"
        },
        {
          "output_type": "stream",
          "text": [
            "\n",
            "Epoch: 8\n",
            "Model and data saved!\n"
          ],
          "name": "stdout"
        },
        {
          "output_type": "stream",
          "text": [
            "100%|██████████| 100000/100000 [04:53<00:00, 340.78it/s]\n",
            "  0%|          | 50/100000 [00:00<03:20, 499.32it/s]"
          ],
          "name": "stderr"
        },
        {
          "output_type": "stream",
          "text": [
            "\n",
            "Epoch: 9\n",
            "Model and data saved!\n"
          ],
          "name": "stdout"
        },
        {
          "output_type": "stream",
          "text": [
            "100%|██████████| 100000/100000 [05:02<00:00, 330.82it/s]\n",
            "  0%|          | 50/100000 [00:00<03:22, 493.30it/s]"
          ],
          "name": "stderr"
        },
        {
          "output_type": "stream",
          "text": [
            "\n",
            "Epoch: 10\n",
            "Model and data saved!\n"
          ],
          "name": "stdout"
        },
        {
          "output_type": "stream",
          "text": [
            "100%|██████████| 100000/100000 [05:07<00:00, 325.72it/s]\n",
            "  0%|          | 52/100000 [00:00<03:14, 513.74it/s]"
          ],
          "name": "stderr"
        },
        {
          "output_type": "stream",
          "text": [
            "\n",
            "Epoch: 11\n",
            "Model and data saved!\n"
          ],
          "name": "stdout"
        },
        {
          "output_type": "stream",
          "text": [
            "100%|██████████| 100000/100000 [05:06<00:00, 325.74it/s]\n",
            "  0%|          | 50/100000 [00:00<03:23, 491.96it/s]"
          ],
          "name": "stderr"
        },
        {
          "output_type": "stream",
          "text": [
            "\n",
            "Epoch: 12\n",
            "Model and data saved!\n"
          ],
          "name": "stdout"
        },
        {
          "output_type": "stream",
          "text": [
            "100%|██████████| 100000/100000 [05:06<00:00, 326.25it/s]\n",
            "  0%|          | 54/100000 [00:00<03:07, 532.97it/s]"
          ],
          "name": "stderr"
        },
        {
          "output_type": "stream",
          "text": [
            "\n",
            "Epoch: 13\n",
            "Model and data saved!\n"
          ],
          "name": "stdout"
        },
        {
          "output_type": "stream",
          "text": [
            "100%|██████████| 100000/100000 [05:06<00:00, 325.78it/s]\n",
            " 28%|██▊       | 14/50 [1:04:31<3:00:43, 301.21s/it]"
          ],
          "name": "stderr"
        },
        {
          "output_type": "stream",
          "text": [
            "\n",
            "Epoch: 14\n",
            "Model and data saved!\n"
          ],
          "name": "stdout"
        },
        {
          "output_type": "stream",
          "text": [
            "100%|██████████| 100000/100000 [05:07<00:00, 325.66it/s]\n",
            "  0%|          | 50/100000 [00:00<03:22, 494.20it/s]"
          ],
          "name": "stderr"
        },
        {
          "output_type": "stream",
          "text": [
            "\n",
            "Epoch: 15\n",
            "Model and data saved!\n"
          ],
          "name": "stdout"
        },
        {
          "output_type": "stream",
          "text": [
            "100%|██████████| 100000/100000 [05:06<00:00, 325.92it/s]\n",
            "  0%|          | 51/100000 [00:00<03:17, 506.47it/s]"
          ],
          "name": "stderr"
        },
        {
          "output_type": "stream",
          "text": [
            "\n",
            "Epoch: 16\n",
            "Model and data saved!\n"
          ],
          "name": "stdout"
        },
        {
          "output_type": "stream",
          "text": [
            "100%|██████████| 100000/100000 [05:06<00:00, 326.16it/s]\n",
            "  0%|          | 51/100000 [00:00<03:17, 506.03it/s]"
          ],
          "name": "stderr"
        },
        {
          "output_type": "stream",
          "text": [
            "\n",
            "Epoch: 17\n",
            "Model and data saved!\n"
          ],
          "name": "stdout"
        },
        {
          "output_type": "stream",
          "text": [
            "100%|██████████| 100000/100000 [05:07<00:00, 325.70it/s]\n",
            "  0%|          | 54/100000 [00:00<03:06, 535.32it/s]"
          ],
          "name": "stderr"
        },
        {
          "output_type": "stream",
          "text": [
            "\n",
            "Epoch: 18\n",
            "Model and data saved!\n"
          ],
          "name": "stdout"
        },
        {
          "output_type": "stream",
          "text": [
            "100%|██████████| 100000/100000 [05:07<00:00, 325.44it/s]\n",
            "  0%|          | 52/100000 [00:00<03:13, 517.54it/s]"
          ],
          "name": "stderr"
        },
        {
          "output_type": "stream",
          "text": [
            "\n",
            "Epoch: 19\n",
            "Model and data saved!\n"
          ],
          "name": "stdout"
        },
        {
          "output_type": "stream",
          "text": [
            "100%|██████████| 100000/100000 [05:07<00:00, 325.66it/s]\n",
            "  0%|          | 48/100000 [00:00<03:29, 476.13it/s]"
          ],
          "name": "stderr"
        },
        {
          "output_type": "stream",
          "text": [
            "\n",
            "Epoch: 20\n",
            "Model and data saved!\n"
          ],
          "name": "stdout"
        },
        {
          "output_type": "stream",
          "text": [
            "100%|██████████| 100000/100000 [05:07<00:00, 324.84it/s]\n",
            "  0%|          | 49/100000 [00:00<03:26, 484.26it/s]"
          ],
          "name": "stderr"
        },
        {
          "output_type": "stream",
          "text": [
            "\n",
            "Epoch: 21\n",
            "Model and data saved!\n"
          ],
          "name": "stdout"
        },
        {
          "output_type": "stream",
          "text": [
            "100%|██████████| 100000/100000 [05:07<00:00, 325.23it/s]\n",
            "  0%|          | 50/100000 [00:00<03:22, 492.78it/s]"
          ],
          "name": "stderr"
        },
        {
          "output_type": "stream",
          "text": [
            "\n",
            "Epoch: 22\n",
            "Model and data saved!\n"
          ],
          "name": "stdout"
        },
        {
          "output_type": "stream",
          "text": [
            "100%|██████████| 100000/100000 [05:09<00:00, 322.84it/s]\n",
            "  0%|          | 50/100000 [00:00<03:21, 494.84it/s]"
          ],
          "name": "stderr"
        },
        {
          "output_type": "stream",
          "text": [
            "\n",
            "Epoch: 23\n",
            "Model and data saved!\n"
          ],
          "name": "stdout"
        },
        {
          "output_type": "stream",
          "text": [
            "100%|██████████| 100000/100000 [05:07<00:00, 325.30it/s]\n",
            "  0%|          | 50/100000 [00:00<03:20, 498.39it/s]"
          ],
          "name": "stderr"
        },
        {
          "output_type": "stream",
          "text": [
            "\n",
            "Epoch: 24\n",
            "Model and data saved!\n"
          ],
          "name": "stdout"
        },
        {
          "output_type": "stream",
          "text": [
            "100%|██████████| 100000/100000 [05:06<00:00, 326.07it/s]\n",
            "  0%|          | 48/100000 [00:00<03:30, 475.35it/s]"
          ],
          "name": "stderr"
        },
        {
          "output_type": "stream",
          "text": [
            "\n",
            "Epoch: 25\n",
            "Model and data saved!\n"
          ],
          "name": "stdout"
        },
        {
          "output_type": "stream",
          "text": [
            "100%|██████████| 100000/100000 [05:08<00:00, 324.07it/s]\n",
            "  0%|          | 0/100000 [00:00<?, ?it/s]"
          ],
          "name": "stderr"
        },
        {
          "output_type": "stream",
          "text": [
            "\n",
            "Epoch: 26\n",
            "Model and data saved!\n"
          ],
          "name": "stdout"
        },
        {
          "output_type": "stream",
          "text": [
            "100%|██████████| 100000/100000 [05:08<00:00, 324.58it/s]\n",
            "  0%|          | 52/100000 [00:00<03:12, 519.18it/s]"
          ],
          "name": "stderr"
        },
        {
          "output_type": "stream",
          "text": [
            "\n",
            "Epoch: 27\n",
            "Model and data saved!\n"
          ],
          "name": "stdout"
        },
        {
          "output_type": "stream",
          "text": [
            "100%|██████████| 100000/100000 [05:09<00:00, 323.50it/s]\n",
            "  0%|          | 53/100000 [00:00<03:09, 528.68it/s]"
          ],
          "name": "stderr"
        },
        {
          "output_type": "stream",
          "text": [
            "\n",
            "Epoch: 28\n",
            "Model and data saved!\n"
          ],
          "name": "stdout"
        },
        {
          "output_type": "stream",
          "text": [
            "100%|██████████| 100000/100000 [05:08<00:00, 323.63it/s]\n",
            "  0%|          | 53/100000 [00:00<03:09, 526.18it/s]"
          ],
          "name": "stderr"
        },
        {
          "output_type": "stream",
          "text": [
            "\n",
            "Epoch: 29\n",
            "Model and data saved!\n"
          ],
          "name": "stdout"
        },
        {
          "output_type": "stream",
          "text": [
            "100%|██████████| 100000/100000 [05:08<00:00, 324.19it/s]\n",
            "  0%|          | 49/100000 [00:00<03:25, 485.48it/s]"
          ],
          "name": "stderr"
        },
        {
          "output_type": "stream",
          "text": [
            "\n",
            "Epoch: 30\n",
            "Model and data saved!\n"
          ],
          "name": "stdout"
        },
        {
          "output_type": "stream",
          "text": [
            "100%|██████████| 100000/100000 [05:09<00:00, 323.12it/s]\n",
            "  0%|          | 51/100000 [00:00<03:16, 509.63it/s]"
          ],
          "name": "stderr"
        },
        {
          "output_type": "stream",
          "text": [
            "\n",
            "Epoch: 31\n",
            "Model and data saved!\n"
          ],
          "name": "stdout"
        },
        {
          "output_type": "stream",
          "text": [
            "100%|██████████| 100000/100000 [05:09<00:00, 323.30it/s]\n",
            "  0%|          | 48/100000 [00:00<03:29, 477.79it/s]"
          ],
          "name": "stderr"
        },
        {
          "output_type": "stream",
          "text": [
            "\n",
            "Epoch: 32\n",
            "Model and data saved!\n"
          ],
          "name": "stdout"
        },
        {
          "output_type": "stream",
          "text": [
            "100%|██████████| 100000/100000 [05:08<00:00, 324.12it/s]\n",
            "  0%|          | 52/100000 [00:00<03:13, 515.44it/s]"
          ],
          "name": "stderr"
        },
        {
          "output_type": "stream",
          "text": [
            "\n",
            "Epoch: 33\n",
            "Model and data saved!\n"
          ],
          "name": "stdout"
        },
        {
          "output_type": "stream",
          "text": [
            "100%|██████████| 100000/100000 [05:08<00:00, 324.50it/s]\n",
            "  0%|          | 50/100000 [00:00<03:23, 490.40it/s]"
          ],
          "name": "stderr"
        },
        {
          "output_type": "stream",
          "text": [
            "\n",
            "Epoch: 34\n",
            "Model and data saved!\n"
          ],
          "name": "stdout"
        },
        {
          "output_type": "stream",
          "text": [
            "100%|██████████| 100000/100000 [05:07<00:00, 324.98it/s]\n",
            "  0%|          | 51/100000 [00:00<03:19, 500.59it/s]"
          ],
          "name": "stderr"
        },
        {
          "output_type": "stream",
          "text": [
            "\n",
            "Epoch: 35\n",
            "Model and data saved!\n"
          ],
          "name": "stdout"
        },
        {
          "output_type": "stream",
          "text": [
            "100%|██████████| 100000/100000 [05:07<00:00, 324.86it/s]\n",
            "  0%|          | 52/100000 [00:00<03:13, 517.83it/s]"
          ],
          "name": "stderr"
        },
        {
          "output_type": "stream",
          "text": [
            "\n",
            "Epoch: 36\n",
            "Model and data saved!\n"
          ],
          "name": "stdout"
        },
        {
          "output_type": "stream",
          "text": [
            "100%|██████████| 100000/100000 [05:08<00:00, 324.66it/s]\n",
            "  0%|          | 0/100000 [00:00<?, ?it/s]"
          ],
          "name": "stderr"
        },
        {
          "output_type": "stream",
          "text": [
            "\n",
            "Epoch: 37\n",
            "Model and data saved!\n"
          ],
          "name": "stdout"
        },
        {
          "output_type": "stream",
          "text": [
            "100%|██████████| 100000/100000 [05:09<00:00, 323.56it/s]\n",
            "  0%|          | 49/100000 [00:00<03:25, 487.35it/s]"
          ],
          "name": "stderr"
        },
        {
          "output_type": "stream",
          "text": [
            "\n",
            "Epoch: 38\n",
            "Model and data saved!\n"
          ],
          "name": "stdout"
        },
        {
          "output_type": "stream",
          "text": [
            "100%|██████████| 100000/100000 [05:08<00:00, 323.69it/s]\n",
            "  0%|          | 49/100000 [00:00<03:24, 488.61it/s]"
          ],
          "name": "stderr"
        },
        {
          "output_type": "stream",
          "text": [
            "\n",
            "Epoch: 39\n",
            "Model and data saved!\n"
          ],
          "name": "stdout"
        },
        {
          "output_type": "stream",
          "text": [
            "100%|██████████| 100000/100000 [05:08<00:00, 324.42it/s]\n",
            "  0%|          | 51/100000 [00:00<03:17, 507.30it/s]"
          ],
          "name": "stderr"
        },
        {
          "output_type": "stream",
          "text": [
            "\n",
            "Epoch: 40\n",
            "Model and data saved!\n"
          ],
          "name": "stdout"
        },
        {
          "output_type": "stream",
          "text": [
            "100%|██████████| 100000/100000 [05:11<00:00, 321.34it/s]\n",
            "  0%|          | 52/100000 [00:00<03:16, 509.47it/s]"
          ],
          "name": "stderr"
        },
        {
          "output_type": "stream",
          "text": [
            "\n",
            "Epoch: 41\n",
            "Model and data saved!\n"
          ],
          "name": "stdout"
        },
        {
          "output_type": "stream",
          "text": [
            "100%|██████████| 100000/100000 [05:09<00:00, 322.86it/s]\n",
            "  0%|          | 48/100000 [00:00<03:31, 472.28it/s]"
          ],
          "name": "stderr"
        },
        {
          "output_type": "stream",
          "text": [
            "\n",
            "Epoch: 42\n",
            "Model and data saved!\n"
          ],
          "name": "stdout"
        },
        {
          "output_type": "stream",
          "text": [
            "100%|██████████| 100000/100000 [05:08<00:00, 324.51it/s]\n",
            "  0%|          | 51/100000 [00:00<03:19, 501.96it/s]"
          ],
          "name": "stderr"
        },
        {
          "output_type": "stream",
          "text": [
            "\n",
            "Epoch: 43\n",
            "Model and data saved!\n"
          ],
          "name": "stdout"
        },
        {
          "output_type": "stream",
          "text": [
            "100%|██████████| 100000/100000 [05:07<00:00, 324.70it/s]\n",
            "  0%|          | 51/100000 [00:00<03:16, 508.05it/s]"
          ],
          "name": "stderr"
        },
        {
          "output_type": "stream",
          "text": [
            "\n",
            "Epoch: 44\n",
            "Model and data saved!\n"
          ],
          "name": "stdout"
        },
        {
          "output_type": "stream",
          "text": [
            "100%|██████████| 100000/100000 [05:07<00:00, 325.02it/s]\n",
            "  0%|          | 51/100000 [00:00<03:18, 504.08it/s]"
          ],
          "name": "stderr"
        },
        {
          "output_type": "stream",
          "text": [
            "\n",
            "Epoch: 45\n",
            "Model and data saved!\n"
          ],
          "name": "stdout"
        },
        {
          "output_type": "stream",
          "text": [
            "100%|██████████| 100000/100000 [05:07<00:00, 324.92it/s]\n",
            "  0%|          | 50/100000 [00:00<03:22, 493.82it/s]"
          ],
          "name": "stderr"
        },
        {
          "output_type": "stream",
          "text": [
            "\n",
            "Epoch: 46\n",
            "Model and data saved!\n"
          ],
          "name": "stdout"
        },
        {
          "output_type": "stream",
          "text": [
            "100%|██████████| 100000/100000 [05:08<00:00, 324.33it/s]\n",
            "  0%|          | 51/100000 [00:00<03:19, 500.54it/s]"
          ],
          "name": "stderr"
        },
        {
          "output_type": "stream",
          "text": [
            "\n",
            "Epoch: 47\n",
            "Model and data saved!\n"
          ],
          "name": "stdout"
        },
        {
          "output_type": "stream",
          "text": [
            "100%|██████████| 100000/100000 [05:08<00:00, 324.50it/s]\n"
          ],
          "name": "stderr"
        },
        {
          "output_type": "stream",
          "text": [
            "\n",
            "Epoch: 48\n"
          ],
          "name": "stdout"
        },
        {
          "output_type": "stream",
          "text": [
            "  0%|          | 49/100000 [00:00<03:25, 486.98it/s]"
          ],
          "name": "stderr"
        },
        {
          "output_type": "stream",
          "text": [
            "Model and data saved!\n"
          ],
          "name": "stdout"
        },
        {
          "output_type": "stream",
          "text": [
            "100%|██████████| 100000/100000 [05:07<00:00, 324.76it/s]\n",
            "  0%|          | 49/100000 [00:00<03:25, 486.28it/s]"
          ],
          "name": "stderr"
        },
        {
          "output_type": "stream",
          "text": [
            "\n",
            "Epoch: 49\n",
            "Model and data saved!\n"
          ],
          "name": "stdout"
        },
        {
          "output_type": "stream",
          "text": [
            "100%|██████████| 100000/100000 [05:09<00:00, 323.18it/s]\n",
            "100%|██████████| 50/50 [4:09:30<00:00, 299.42s/it]"
          ],
          "name": "stderr"
        },
        {
          "output_type": "stream",
          "text": [
            "\n",
            "Epoch: 50\n",
            "Model and data saved!\n"
          ],
          "name": "stdout"
        },
        {
          "output_type": "stream",
          "text": [
            "\n"
          ],
          "name": "stderr"
        }
      ]
    },
    {
      "cell_type": "markdown",
      "metadata": {
        "id": "tcnU7aoQI3ue"
      },
      "source": [
        "### Actividad 3\n",
        "DQN vs DDQN ? y como se traduce en experiencia de juego de enduro\n",
        "\n",
        "\n",
        "\n",
        "### Actividad 4\n",
        "\n",
        "La ventaja de usar un buffer o Replay Memory, es para obtener mejores minibatches. En ausencia de un buffer de memoria, tenemos que hacer que el modelo juege algunas iteraciones (ej 32) para poder llenar un batch y hacer el forward pass por la red. Sin embargo, en este caso los 32 datos estarían muy correlacionados, puesto que vienen de una jugada contigua, lo que es un gran sesgo para el entrenamiento, ya que no es una muestra representativa de todos los estados posibles del entorno. Aquí entra la ventaja del buffer, de donde podemos recurrir a experiencias de jugadas anteriores y llenar un batch sampleando aleatoriamente de dicho buffer, logrando capturar la diversidad de estados para así tener una muestra representativa del problema para ajustar los pesos de la red.\n",
        "\n",
        "Por su parte, se usa un algoritmo ϵ-greedy dinámico, en el sentido que la probabilidad de tomar una accíon al azar comienza muy alta (100%) y va bajando linearmente a lo largo del entrenamiento hasta llegar a un 10%. \n",
        "Esto es para incorporar el concepto de explotación vs exploración dentro del \n",
        "entrenamiento: un agente que lleva poco actuando en el entorno, conoce pocas \n",
        "acciones realmente buenas, por lo que le conviene explorar nuevas opciones al azar para descubrir posibilidades inexploradas. Sin embargo, después de un tiempo el agente ya conoce mejor el entorno y cómo operar sobre él, por lo que conviene que ejecute sus mejores decisiones previas para explotar su conocimiento obtenido sobre el entorno. De esta forma hacemos que paulatinamente se pase de explorar el entorno, a explotar el conocimiento obtenido sobre el entorno.\n",
        "\n",
        "Es por esto que el buffer de memoria tendrá cada vez menos jugadas aleatorias, y cada vez más jugadas estimadas por la red. Esto actualiza la fuente de donde sampleamos nuestro batches de entrenamiento, por lo que lentamente comenzaremos a entrenar sobre la experiencia obtenida anteriormente.\n"
      ]
    },
    {
      "cell_type": "code",
      "metadata": {
        "colab": {
          "base_uri": "https://localhost:8080/"
        },
        "id": "bXM3Vf88J7kv",
        "outputId": "c2bc6793-5cbb-429c-e276-682cbe276680"
      },
      "source": [
        "import torch.nn as nn\n",
        "import torch.nn.functional as F\n",
        "\n",
        "class standard_DQN(nn.Module):\n",
        "    def __init__(self, in_channels, num_actions):\n",
        "        super(standard_DQN, self).__init__()\n",
        "        self.conv1 = nn.Conv2d(in_channels, 32, kernel_size=8, stride=4)\n",
        "        self.conv2 = nn.Conv2d(32, 64, kernel_size=4, stride=2)\n",
        "        self.conv3 = nn.Conv2d(64, 64, kernel_size=3, stride=1)\n",
        "        self.fc4 = nn.Linear(7*7*64, 512)\n",
        "        self.fc5 = nn.Linear(512, num_actions)\n",
        "\n",
        "    def forward(self, x):\n",
        "        x = F.relu(self.conv1(x))\n",
        "        x = F.relu(self.conv2(x))\n",
        "        x = F.relu(self.conv3(x))\n",
        "        x = F.relu(self.fc4(x.view(x.size(0), -1)))\n",
        "        return self.fc5(x)\n",
        "\n",
        "DQN = standard_DQN(4,9)\n",
        "DDQN = Dueling_DQN(4, 9)\n",
        "\n",
        "#No. of trianable parameters\n",
        "def count_parameters(model):\n",
        "    return sum(p.numel() for p in model.parameters() if p.requires_grad)\n",
        "    \n",
        "print(f'The standard DQN model has {count_parameters(DQN):,} trainable parameters')\n",
        "print(f'The Dueling DQN model has {count_parameters(DDQN):,} trainable parameters')"
      ],
      "execution_count": 61,
      "outputs": [
        {
          "output_type": "stream",
          "text": [
            "The standard DQN model has 1,688,745 trainable parameters\n",
            "The Dueling DQN model has 3,295,402 trainable parameters\n"
          ],
          "name": "stdout"
        }
      ]
    },
    {
      "cell_type": "markdown",
      "metadata": {
        "id": "0UECd4B6lznh"
      },
      "source": [
        "###Actividad 5\n",
        "Mediante esta función para contar los parámetros de un modelo, podemos observar que *Dueling DQN* usa casi el doble de los parámetros de una red normal. Lo cual tiene mucho sentido, puesto que la versión Dueling usa el mismo *backbone* convolucional, pero duplica las capas *fully connected* para poder tener una rama que calcule el valor del estado V(s) y otra que calcule el valor de la ventaja A(s,a). Siendo las *fully connected* las capas con mayor cantidad de parámetros, al duplicar la cantidad de estas capas, es de esperar que la cantidad de parámetros totales esté cercano al doble de una DQN standard."
      ]
    },
    {
      "cell_type": "markdown",
      "metadata": {
        "id": "uwATLfgiKbg-"
      },
      "source": [
        "### Actividad 6\n",
        "\n",
        "hiperparametros y puchas generales"
      ]
    },
    {
      "cell_type": "markdown",
      "metadata": {
        "id": "R8utkgyN96dY"
      },
      "source": [
        "## Results"
      ]
    },
    {
      "cell_type": "code",
      "metadata": {
        "id": "8lDh4HKJS9aL",
        "colab": {
          "base_uri": "https://localhost:8080/",
          "height": 303
        },
        "outputId": "1239ff78-14dd-44f6-dc09-eecf07a58024"
      },
      "source": [
        "import json\n",
        "import matplotlib.pyplot as plt\n",
        "import numpy as np\n",
        "\n",
        "# open saved reward history\n",
        "a_file = open(my_dir + \"/rewards.json\", \"r\")\n",
        "reward_history = json.loads(a_file.read())\n",
        "a_file.close()\n",
        "\n",
        "# sort for epochs and unpack\n",
        "reward_history_values = [int(n[1]) for n in sorted(reward_history.items(), key=lambda x: int(x[0]))]\n",
        "\n",
        "# plot \n",
        "plt.title(\"DDQN: Reward vs. Epochs\", fontdict={\"fontsize\": 17})\n",
        "plt.xlabel(\"Epochs\", fontdict={\"size\": 14})\n",
        "plt.ylabel(\"Reward\", fontdict={\"size\": 14})\n",
        "plt.plot(range(0, N_EPOCHS+1), reward_history_values, label=\"Reward\", color=\"gold\", linewidth=4)\n",
        "plt.ylim((0, max(reward_history_values) * 1.1))\n",
        "plt.xticks(np.arange(0, N_EPOCHS+1, 10))\n",
        "plt.show()"
      ],
      "execution_count": 56,
      "outputs": [
        {
          "output_type": "display_data",
          "data": {
            "image/png": "[encoded data removed]",
            "text/plain": [
              "<Figure size 432x288 with 1 Axes>"
            ]
          },
          "metadata": {
            "tags": [],
            "needs_background": "light"
          }
        }
      ]
    },
    {
      "cell_type": "markdown",
      "metadata": {
        "id": "A5AJf5H-Hr22"
      },
      "source": [
        "###Actividad 7\n",
        "En este gráfico podemos ver el progreso del entrenamiento, donde se mide el puntaje promedio obtenido en cada época. Este se calcula con los últimos 100 episodios de cada época, para obtener más datapoints consideré una epoca como 100.000 pasos y el entrenamiento duró 50 épocas.\n",
        "Observamos que inicialmente el *reward* se mantiene cercano a 0, porque todavía ocupa en su mayor parte pasos aleatorios dado por ϵ-greedy y cada episodio termina muy rápido. Luego, alrededor de la época 20 comienza a notarse su entrenamiento: hace más pasos propios por la politica ϵ-greedy y además el replay buffer contiene experiencias mejores que las inciales.\n",
        "También podemos notar la alta variabilidad de los modelos de aprendizaje reforzado profundo. A pesar de clippear el error y usar una red independiente para calcular los labels, alrededor de la época 25 y 35 vemos repentinos saltos en el *reward* obtenido."
      ]
    },
    {
      "cell_type": "markdown",
      "metadata": {
        "id": "ZGKiBwr299rv"
      },
      "source": [
        "###Testing visualization"
      ]
    },
    {
      "cell_type": "code",
      "metadata": {
        "id": "F4XKh9o1-CRo"
      },
      "source": [
        "# Not implemented\n",
        "\n",
        "import matplotlib.pyplot as plt\n",
        "import matplotlib.animation\n",
        "import numpy as np\n",
        "from IPython.display import HTML\n",
        "\n",
        "frames_show = frames[:300]\n",
        "\n",
        "plt.figure(figsize=(frames_show[0].shape[1] / 15.0, frames_show[0].shape[0] / 15.0), dpi = 72)\n",
        "patch = plt.imshow(frames_show[0],cmap='gray')\n",
        "plt.axis('off')\n",
        "animate = lambda i: patch.set_data(frames_show[i])\n",
        "ani = matplotlib.animation.FuncAnimation(plt.gcf(), animate, frames=len(frames_show), interval = 100)\n",
        "HTML(ani.to_jshtml())"
      ],
      "execution_count": null,
      "outputs": []
    },
    {
      "cell_type": "markdown",
      "metadata": {
        "id": "3rafiHtCKMI0"
      },
      "source": [
        "##Referencias\n",
        "\n",
        "1. *Mnih, V., Kavukcuoglu, K., Silver, D., Rusu, A. A., Veness, J., Bellemare, M. G., ...  Hassabis, D. (2015). Human-level control through Deep Reinforcement Learning. Nature, 518(7540), 529-533.*\n",
        "2. *Wang, Z., Schaul, T., Hessel, M., Hasselt, H., Lanctot, M.,   Freitas, N. (2016, June). Dueling Network Architectures for Deep Reinforcement Learning. In International conference on Machine Learning (pp. 1995-2003). PMLR.*\n",
        "\n",
        "Forward pass and training algorithm adapted from\n",
        "3. *Pytorch implementation of Human-level control through deep reinforcement learning by @transedward.         \n",
        "Available at: https://github.com/transedward/pytorch-dqn*\n",
        "4. *PyTorch implementation of Vanilla DQN, Double DQN, and Dueling DQN by @dxyang.         \n",
        " Available at: https://github.com/dxyang/DQN_pytorch*"
      ]
    }
  ]
}