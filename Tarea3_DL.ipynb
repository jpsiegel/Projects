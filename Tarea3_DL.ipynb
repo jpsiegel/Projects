{
  "nbformat": 4,
  "nbformat_minor": 0,
  "metadata": {
    "colab": {
      "name": "Tarea3-DL.ipynb",
      "provenance": [],
      "collapsed_sections": [],
      "authorship_tag": "ABX9TyPe/gjiesWBzxglm7ZMysFu",
      "include_colab_link": true
    },
    "kernelspec": {
      "name": "python3",
      "display_name": "Python 3"
    },
    "language_info": {
      "name": "python"
    },
    "accelerator": "GPU"
  },
  "cells": [
    {
      "cell_type": "markdown",
      "metadata": {
        "id": "view-in-github",
        "colab_type": "text"
      },
      "source": [
        "<a href=\"https://colab.research.google.com/github/jpsiegel/Projects/blob/master/Tarea3_DL.ipynb\" target=\"_parent\"><img src=\"https://colab.research.google.com/assets/colab-badge.svg\" alt=\"Open In Colab\"/></a>"
      ]
    },
    {
      "cell_type": "markdown",
      "metadata": {
        "id": "K0ET622QKRj9"
      },
      "source": [
        "#Tarea 3 Jan P. Siegel - Deep Learning\n"
      ]
    },
    {
      "cell_type": "markdown",
      "metadata": {
        "id": "EARkwmAr12gB"
      },
      "source": [
        "##Allocate resources"
      ]
    },
    {
      "cell_type": "code",
      "metadata": {
        "id": "yumMEzxTJ1ue",
        "colab": {
          "base_uri": "https://localhost:8080/"
        },
        "outputId": "c5d69717-1772-491f-c3de-37ca7ef48fa2"
      },
      "source": [
        "!ln -sf /opt/bin/nvidia-smi /usr/bin/nvidia-smi\n",
        "!pip install gputil\n",
        "\n",
        "import os\n",
        "import GPUtil as GPU\n",
        "import psutil\n",
        "import humanize"
      ],
      "execution_count": 1,
      "outputs": [
        {
          "output_type": "stream",
          "text": [
            "Requirement already satisfied: gputil in /usr/local/lib/python3.7/dist-packages (1.4.0)\n"
          ],
          "name": "stdout"
        }
      ]
    },
    {
      "cell_type": "code",
      "metadata": {
        "colab": {
          "base_uri": "https://localhost:8080/"
        },
        "id": "L7ocfSQcd2bU",
        "outputId": "a5ee29cb-d989-475a-cb9a-1133093e2ce1"
      },
      "source": [
        "GPUs = GPU.getGPUs()\n",
        "gpu = GPUs[0]  # Only one GPU on Colab and not guaranteed\n",
        "\n",
        "def printm():\n",
        "  process = psutil.Process(os.getpid())\n",
        "  print(\"RAM Free: \" + humanize.naturalsize(psutil.virtual_memory().available), \" | Used: \" + humanize.naturalsize(process.memory_info().rss))\n",
        "  print(\"VRAM Free: {0:.0f}MB | Used: {1:.0f}MB | Util {2:3.0f}% Total {3:.0f}MB\".format(gpu.memoryFree, gpu.memoryUsed, gpu.memoryUtil*100, gpu.memoryTotal))\n",
        "printm()"
      ],
      "execution_count": 2,
      "outputs": [
        {
          "output_type": "stream",
          "text": [
            "RAM Free: 12.7 GB  | Used: 118.4 MB\n",
            "VRAM Free: 15109MB | Used: 0MB | Util   0% Total 15109MB\n"
          ],
          "name": "stdout"
        }
      ]
    },
    {
      "cell_type": "code",
      "metadata": {
        "colab": {
          "base_uri": "https://localhost:8080/"
        },
        "id": "bvwy3-acKNKl",
        "outputId": "bfd7e06a-5e40-428c-ba73-e7fb73c3cbdc"
      },
      "source": [
        "from google.colab import drive\n",
        "drive.mount('/content/drive')\n",
        "my_dir = \"/content/drive/MyDrive/DL\""
      ],
      "execution_count": 3,
      "outputs": [
        {
          "output_type": "stream",
          "text": [
            "Drive already mounted at /content/drive; to attempt to forcibly remount, call drive.mount(\"/content/drive\", force_remount=True).\n"
          ],
          "name": "stdout"
        }
      ]
    },
    {
      "cell_type": "code",
      "metadata": {
        "id": "IGA7PU9ejJdl"
      },
      "source": [
        "# Download Roms\n",
        "!wget http://www.atarimania.com/roms/Roms.rar > /dev/null\n",
        "# Decompresed files\n",
        "!unrar e Roms.rar > /dev/null\n",
        "!unzip 'ROMS.zip' > /dev/null\n",
        "# Add Roms folder to atary_py PATH\n",
        "!python -m atari_py.import_roms 'ROMS' > /dev/null\n",
        "# > /dev/null omits command output"
      ],
      "execution_count": null,
      "outputs": []
    },
    {
      "cell_type": "markdown",
      "metadata": {
        "id": "GoWNXSTZ1xux"
      },
      "source": [
        "##Preprocessing\n"
      ]
    },
    {
      "cell_type": "code",
      "metadata": {
        "id": "2WMiFXZSwGgD"
      },
      "source": [
        "import gym\n",
        "from gym import spaces\n",
        "import cv2\n",
        "\n",
        "# pasar a escala de grises y recortar imagen\n",
        "def _process_frame84(frame):\n",
        "    frame = cv2.cvtColor(frame, cv2.COLOR_RGB2GRAY)\n",
        "    frame = frame[:155,10:]\n",
        "    #x_t = cv2.resize(frame, (84, 84),  interpolation=cv2.INTER_LINEAR)\n",
        "    x_t = cv2.resize(frame, (84, 84),interpolation=cv2.INTER_AREA)\n",
        "    return x_t.astype(np.uint8)\n",
        "\n",
        "class ProcessFrame84(gym.Wrapper):\n",
        "    def __init__(self, env=None):\n",
        "        super(ProcessFrame84, self).__init__(env)\n",
        "        self.observation_space = spaces.Box(low=0, high=255, shape=(84, 84))\n",
        "\n",
        "    def step(self, action):\n",
        "        obs, reward, done, info = self.env.step(action)\n",
        "        return _process_frame84(obs), reward, done, info\n",
        "\n",
        "    def reset(self):\n",
        "        return _process_frame84(self.env.reset())"
      ],
      "execution_count": 24,
      "outputs": []
    },
    {
      "cell_type": "code",
      "metadata": {
        "colab": {
          "base_uri": "https://localhost:8080/",
          "height": 595
        },
        "id": "tqI3xgULw6nj",
        "outputId": "29d9d1ce-56e1-400d-a5c3-0b18deb05f29"
      },
      "source": [
        "import numpy as np\n",
        "import matplotlib.pyplot as plt\n",
        "import random\n",
        "from gym.wrappers import AtariPreprocessing\n",
        "from gym.wrappers import FrameStack\n",
        "\n",
        "#Create environment\n",
        "game = 'Enduro-v0'\n",
        "env = gym.make(game,frameskip=4) # saltamos de a 4 frames para acelerar entrenamiento\n",
        "\n",
        "# For reproducibility\n",
        "seed = 0\n",
        "env.seed(seed)\n",
        "\n",
        "obs = env.reset()\n",
        "\n",
        "plt.imshow(np.squeeze(obs))\n",
        "plt.title('Gym Enduro Interface')\n",
        "plt.show()\n",
        "\n",
        "env = ProcessFrame84(env) # pasamos el wrapper al enviroment\n",
        "env = FrameStack(env,num_stack=4) # un estado definido como el actual mas los 3 anteriores\n",
        "obs = env.reset()\n",
        "\n",
        "for _ in range(100):\n",
        "  action = random.randint(0,env.action_space.n-1) # seleccionar accion random\n",
        "  obs, reward, done, info = env.step(action)\n",
        "\n",
        "plt.figure()\n",
        "plt.subplot(2,2,1)\n",
        "plt.imshow(np.squeeze(np.array(obs)[0,:,:]),cmap='gray')\n",
        "plt.axis('off')\n",
        "plt.subplot(2,2,2)\n",
        "plt.imshow(np.squeeze(np.array(obs)[1,:,:]),cmap='gray')\n",
        "plt.axis('off')\n",
        "plt.subplot(2,2,3)\n",
        "plt.imshow(np.squeeze(np.array(obs)[2,:,:]),cmap='gray')\n",
        "plt.axis('off')\n",
        "plt.subplot(2,2,4)\n",
        "plt.imshow(np.squeeze(np.array(obs)[3,:,:]),cmap='gray')\n",
        "plt.axis('off')\n",
        "plt.tight_layout()\n",
        "plt.show()\n",
        "\n",
        "print(\"obs shape:\", obs.shape)\n",
        "print(\"actions:\", env.get_action_meanings(), \"amount:\", env.action_space.n)"
      ],
      "execution_count": 25,
      "outputs": [
        {
          "output_type": "display_data",
          "data": {
            "image/png": "[encoded data removed]",
            "text/plain": [
              "<Figure size 432x288 with 1 Axes>"
            ]
          },
          "metadata": {
            "tags": [],
            "needs_background": "light"
          }
        },
        {
          "output_type": "display_data",
          "data": {
            "image/png": "[encoded data removed]",
            "text/plain": [
              "<Figure size 432x288 with 4 Axes>"
            ]
          },
          "metadata": {
            "tags": [],
            "needs_background": "light"
          }
        },
        {
          "output_type": "stream",
          "text": [
            "obs shape: (4, 84, 84)\n",
            "actions: ['NOOP', 'FIRE', 'RIGHT', 'LEFT', 'DOWN', 'DOWNRIGHT', 'DOWNLEFT', 'RIGHTFIRE', 'LEFTFIRE'] amount: 9\n"
          ],
          "name": "stdout"
        }
      ]
    },
    {
      "cell_type": "markdown",
      "metadata": {
        "id": "Ev6wuPkDuJjL"
      },
      "source": [
        "### Actividad 1\n",
        "Definimos un estado como un stack de el frame actual, más los 3 frames anteriores, por lo que cada estado (que será el input de la red) corresponde a 4 pasos de Enduro. Esto es clave para que la red convolucional pueda tener una noción de velocidad del jugador y de los demás competidores. La velocidad solo puede obtenerse comparando posiciones en frames contiguas, lo cual es información indispensable para que un agente pueda aprender a jugar Enduro competentemente."
      ]
    },
    {
      "cell_type": "markdown",
      "metadata": {
        "id": "7m0YDMlXdjy7"
      },
      "source": [
        "### Fill replay memory"
      ]
    },
    {
      "cell_type": "code",
      "metadata": {
        "id": "tke1H0jD0Xfa"
      },
      "source": [
        "class ReplayMemory(object):\n",
        "\n",
        "    def __init__(self, capacity):\n",
        "        self.capacity = capacity\n",
        "        self.memory = [] # Can be a list a Deque or another type of list\n",
        "        self.next_replace_position = 0\n",
        "\n",
        "    def push(self, state, action, next_state, reward, done):\n",
        "        \"\"\"Saves a transition.\n",
        "        e.g. ('state', 'action', 'next_state', 'reward','done')\n",
        "        \"\"\"\n",
        "        memory_data = (state, action, next_state, reward, done)\n",
        "        if len(self) >= self.capacity:\n",
        "          self.memory[self.next_replace_position] = memory_data\n",
        "          self.next_replace_position += 1\n",
        "          if self.next_replace_position > self.capacity - 1:\n",
        "            self.next_replace_position = 0\n",
        "        else:\n",
        "          self.memory.append(memory_data)\n",
        "\n",
        "    def sample(self, batch_size):\n",
        "       \"\"\" Samples a transition with a defined batch size\"\"\"\n",
        "       sampled_tuples = random.sample(self.memory, batch_size) # list of tuples\n",
        "       zipped = tuple(zip(*sampled_tuples))\n",
        "       return zipped\n",
        "      \n",
        "    def __len__(self):\n",
        "        return len(self.memory)"
      ],
      "execution_count": 26,
      "outputs": []
    },
    {
      "cell_type": "code",
      "metadata": {
        "id": "LDSeQ-3WddCU",
        "colab": {
          "base_uri": "https://localhost:8080/"
        },
        "outputId": "d0558d08-679e-433a-bd02-bca3c2c38c20"
      },
      "source": [
        "memory_size = 500000\n",
        "replay_memory = ReplayMemory(memory_size)\n",
        "\n",
        "print(\"Filling Replay Memory...\")\n",
        "current_obs = env.reset()\n",
        "for _ in range(memory_size):\n",
        "  if _ % 100000 == 0:\n",
        "    print(f\"{_}/{memory_size}\")\n",
        "  #print(_, replay_memory.next_replace_position, len(replay_memory))\n",
        "  action = random.randint(0,env.action_space.n-1) # seleccionar accion random\n",
        "  obs, reward, done, info = env.step(action)\n",
        "  replay_memory.push(current_obs, action, obs, reward, done)\n",
        "  current_obs = obs\n",
        "  if done: # si pierde partimos nuevo episodio\n",
        "    current_obs = env.reset()\n",
        "  else:\n",
        "    current_obs = obs\n",
        "print(\"Memory Filled!, Space taken:\")\n",
        "printm()"
      ],
      "execution_count": 27,
      "outputs": [
        {
          "output_type": "stream",
          "text": [
            "Filling Replay Memory...\n",
            "0/500000\n",
            "100000/500000\n",
            "200000/500000\n",
            "300000/500000\n",
            "400000/500000\n",
            "Memory Filled!, Space taken:\n",
            "RAM Free: 10.7 GB  | Used: 7.7 GB\n",
            "VRAM Free: 15109MB | Used: 0MB | Util   0% Total 15109MB\n"
          ],
          "name": "stdout"
        }
      ]
    },
    {
      "cell_type": "code",
      "metadata": {
        "colab": {
          "base_uri": "https://localhost:8080/"
        },
        "id": "RdzeHmvO7HZ4",
        "outputId": "4b4a6069-2088-4aba-c8d2-702dcb7feab2"
      },
      "source": [
        "a = tensor(4).item()\n",
        "print(a)"
      ],
      "execution_count": 23,
      "outputs": [
        {
          "output_type": "stream",
          "text": [
            "4\n"
          ],
          "name": "stdout"
        }
      ]
    },
    {
      "cell_type": "markdown",
      "metadata": {
        "id": "_GRfqj131q9x"
      },
      "source": [
        "##Model"
      ]
    },
    {
      "cell_type": "code",
      "metadata": {
        "id": "RD0EXVo_1FMy"
      },
      "source": [
        "import torch\n",
        "import torch.nn as nn\n",
        "import numpy as np\n",
        "\n",
        "class Dueling_DQN(nn.Module):\n",
        "    def __init__(self, in_channels, num_actions):\n",
        "        super(Dueling_DQN, self).__init__()\n",
        "        self.num_actions = num_actions\n",
        "        \n",
        "        self.conv1 = nn.Conv2d(in_channels=in_channels, out_channels=32, kernel_size=8, stride=4)\n",
        "        self.conv2 = nn.Conv2d(in_channels=32, out_channels=64, kernel_size=4, stride=2)\n",
        "        self.conv3 = nn.Conv2d(in_channels=64, out_channels=64, kernel_size=3, stride=1)\n",
        "\n",
        "        self.fc1_val = nn.Linear(in_features=7*7*64, out_features=512)\n",
        "        self.fc2_val = nn.Linear(in_features=512, out_features=1)\n",
        "\n",
        "        self.fc1_adv = nn.Linear(in_features=7*7*64, out_features=512)\n",
        "        self.fc2_adv = nn.Linear(in_features=512, out_features=num_actions)\n",
        "\n",
        "        self.relu = nn.ReLU()\n",
        "\n",
        "    def forward(self, x):\n",
        "      # X es un tensor (batch_size x 4 x 84 x 84) que representa un batch de stacks de estados\n",
        "      batch_size = x.size(0)\n",
        "\n",
        "      # forward pass red convolucional\n",
        "      x = self.relu(self.conv1(x))\n",
        "      x = self.relu(self.conv2(x))\n",
        "      x = self.relu(self.conv3(x))\n",
        "      x = torch.flatten(x, start_dim=1) # start_dim 1 para mantener separado el batch\n",
        "      #print(\"State embedding:\", x.shape, x)\n",
        "      \n",
        "      # forward pass rama fully-connected para V(s)\n",
        "      v_s = self.relu(self.fc1_val(x))\n",
        "      v_s = self.fc2_val(v_s).expand(batch_size, self.num_actions)\n",
        "      #print(\"V(s):\", v_s.shape, v_s)\n",
        "\n",
        "      # forward pass rama fully-connected para A(s,a)\n",
        "      adv = self.relu(self.fc1_adv(x))\n",
        "      adv = self.fc2_adv(adv)\n",
        "      #print(\"A(s,a):\", adv.shape, adv)\n",
        "      #print(\"mean A(s,a):\", torch.mean(adv, 1, keepdim=True).shape, torch.mean(adv, 1, keepdim=True))\n",
        "\n",
        "      # Calculo de Q(s,a) a partir de ecuacion (4)\n",
        "      Q_values = v_s + (adv - torch.mean(adv, 1, keepdim=True)) # testeado\n",
        "\n",
        "      return Q_values # batch_size x num_actions"
      ],
      "execution_count": 28,
      "outputs": []
    },
    {
      "cell_type": "markdown",
      "metadata": {
        "id": "i719vkMq1srh"
      },
      "source": [
        "##Training"
      ]
    },
    {
      "cell_type": "code",
      "metadata": {
        "id": "C77orgGvqGui"
      },
      "source": [
        "def exploration(total_steps):\n",
        "  \"\"\" retorna probabilidad de que explore con accion random \"\"\"\n",
        "  if total_steps >= 1000000:\n",
        "    epsilon = 0.1\n",
        "  else:\n",
        "    m = -0.9 / 1000000\n",
        "    n = 1\n",
        "    epsilon = m * total_steps + n\n",
        "  return epsilon"
      ],
      "execution_count": 29,
      "outputs": []
    },
    {
      "cell_type": "code",
      "metadata": {
        "id": "tv1TE3Vv3WsX"
      },
      "source": [
        "# Define parameters and instance NNs\n",
        "\n",
        "from torch import device\n",
        "import torch.optim as optim\n",
        "import torch.nn as nn\n",
        "\n",
        "device = device('cuda' if torch.cuda.is_available() else 'cpu')\n",
        "\n",
        "frame_history_len = 4 # Cantidad de frames de cada estado (definido en el pre-procesamiento)\n",
        "batch_size = 32\n",
        "gamma = 0.99 # Factor de descuento\n",
        "learning_starts = 50000 # Paso en que se comienza a utilizar la red para escoger acciones (siguiendo política e-greedy)\n",
        "learning_freq = 4 # Frecuencia de pasos en que se modifican los pesos (loss backprop) en la red Q\n",
        "target_update_freq = 10000 # Frecuencia en que se actualizan los pesos de la red target Q' (cada x backprops, updateo Q')\n",
        "LR = 0.00025 # Tasa de aprendizaje\n",
        "\n",
        "in_channels = frame_history_len\n",
        "input_shape = (84,84)\n",
        "num_actions = env.action_space.n\n",
        "\n",
        "# define Q target and Q \n",
        "Q = Dueling_DQN(in_channels, num_actions).to(device) # esta es la que de verdad quiero entrenar\n",
        "Q_target = Dueling_DQN(in_channels, num_actions).to(device) # para estabilidad, esta me entrega los labels\n",
        "\n",
        "# Optimizador, pueden elegir entre Adam o RMSProp\n",
        "optimizer = optim.Adam(Q.parameters(), lr=LR)\n",
        "\n",
        "LOG_EVERY_N_STEPS = 50000 # (Opcional) Frecuencia en la que se muestran resultados en consola\n",
        "STEPS_PER_EPOCH = 250000 # Pasos por época\n",
        "N_EPOCHS = 10 # Número de épocas"
      ],
      "execution_count": 30,
      "outputs": []
    },
    {
      "cell_type": "code",
      "metadata": {
        "id": "37rt28Z01owa",
        "colab": {
          "base_uri": "https://localhost:8080/",
          "height": 1000
        },
        "outputId": "a1034274-7a95-4a6f-d0d9-35a4ee97c961"
      },
      "source": [
        "from tqdm import tqdm\n",
        "from torch import tensor, no_grad\n",
        "import numpy as np\n",
        "\n",
        "# Load checkpoint: probablemente se quede sin memoria durante entrenamiento,\n",
        "# por eso hay que guardar checkpoint (pesos) en drive cada cierto tiempo\n",
        "# luego cargamos checkpoint, rellenamos memory buffer, y retomamos\n",
        "# pero el rellenado debe ser usando el modelo que tenemos hasta ahora! no random como el inicial\n",
        "\n",
        "# Reseteamos nuestro ambiente para empezar el entrenamiento\n",
        "last_obs = env.reset()\n",
        "current_reward = 0\n",
        "backprops = 0\n",
        "episodes_rewards = []\n",
        "epsilon_history = []\n",
        "error_history = []\n",
        "\n",
        "for epoch in tqdm(range(N_EPOCHS),position=0,leave=True):\n",
        "  for t in tqdm(range(STEPS_PER_EPOCH),position=0,leave=True):\n",
        "    total_steps = t + STEPS_PER_EPOCH * epoch # steps acumulados a traves de las epocas\n",
        "    ### 1. Choose actions and update replay memory buffer\n",
        "    if t < learning_starts and epoch == 0:\n",
        "      action = np.random.randint(num_actions)\n",
        "    else:\n",
        "      # epsilon greedy exploration\n",
        "      sample = random.random()\n",
        "      threshold = exploration(total_steps)  # la funcion exploration permite calcular el threshold para la política e-greedy\n",
        "      epsilon_history.append(threshold)\n",
        "      if sample <= threshold:\n",
        "        action = np.random.randint(num_actions)\n",
        "      else:\n",
        "        with no_grad(): # no actualizamos gradientes pq estamos evaluando\n",
        "          # Seleccionar la acción segun la red Q\n",
        "          last_obs_tensor = torch.from_numpy(np.array(last_obs)).to(device) / 255.0 # pasamos a tensor y normalizamos\n",
        "          last_obs_tensor_batched = last_obs_tensor.unsqueeze(0).repeat(batch_size, 1, 1, 1) # last obs solo es 1 estado, pero necesitamos batch_size estados para la red\n",
        "          all_q_values = Q(last_obs_tensor_batched)\n",
        "          action = ((all_q_values).data.max(1)[1])[0].item() # selecciono indice de mejor q_value\n",
        "\n",
        "    obs, reward, done, _ = env.step(action) # ejecuto accion seleccionada\n",
        "    replay_memory.push(last_obs, action, obs, reward, done) # actualizo experiencia en buffer\n",
        "    current_reward += reward\n",
        "    if done:\n",
        "      # Termino episodio!\n",
        "      obs = env.reset()\n",
        "      # Guardar reward acumulado del episodio\n",
        "      episodes_rewards.append(current_reward)\n",
        "      current_reward = 0\n",
        "\n",
        "    # update last_obs\n",
        "    last_obs = obs\n",
        "\n",
        "    ### 2. Perform experience replay and train the network.\n",
        "    if (t > learning_starts and t % learning_freq == 0):\n",
        "      obs_t, act_t, next_obs, rew_t, done_mask = replay_memory.sample(batch_size) # esto me deja listas de largo batch size\n",
        "      # Pasar los arreglos a tensores y al device actual\n",
        "      obs_t = torch.from_numpy(np.array(obs_t)).to(device)\n",
        "      act_t = torch.from_numpy(np.array(act_t)).to(device)\n",
        "      next_obs = torch.from_numpy(np.array(next_obs)).to(device)\n",
        "      rew_t = torch.from_numpy(np.array(rew_t)).to(device)\n",
        "      done_mask = torch.from_numpy(np.array(done_mask)).to(device)\n",
        "\n",
        "      # Normalizar tensores de entrada\n",
        "      obs_t = obs_t / 255.0\n",
        "      next_obs = next_obs / 255.0\n",
        "\n",
        "      # construir Y (labels)\n",
        "      with no_grad(): # esto no debe ser parte del backprop, solo consigue los labels\n",
        "        q_tp1_values = Q(next_obs)\n",
        "        _, a_prime = q_tp1_values.max(1) # selecciono la mejor accion para el estado siguiente\n",
        "        q_target_tp1_values = Q_target(next_obs)\n",
        "        q_target_s_a_prime = q_target_tp1_values.gather(1, a_prime.unsqueeze(1)).squeeze() # selecciono el q_value de la target network segun la mejor accion en el estado siguiente\n",
        "        # si termina en este episodio, los q_values de target son 0 y dejamos solo el reward\n",
        "        q_target_s_a_prime = (1 - done_mask.type(torch.float)) * q_target_s_a_prime \n",
        "        \n",
        "        y = rew_t + gamma * q_target_s_a_prime\n",
        "\n",
        "      ## Loss calculation\n",
        "      q_values = Q(obs_t)\n",
        "      q_s_a = q_values.gather(1, act_t.unsqueeze(1)).squeeze() # selecciono el q de cada accion\n",
        "      error = (y - q_s_a) ** 2\n",
        "      error = torch.mean(error.clamp(-1, 1)) # clipeamos para estabilidad\n",
        "      error_history.append(error)\n",
        "\n",
        "      # backwards pass\n",
        "      optimizer.zero_grad()\n",
        "      error.backward()\n",
        "\n",
        "      # update\n",
        "      optimizer.step()\n",
        "      backprops += 1\n",
        "\n",
        "      # Actualizar pesos de red target (cada target_update_freq actualizaciones de los parámetros de Q)\n",
        "      if backprops % target_update_freq == 0:\n",
        "        print(\"Copying model wieghts...\")\n",
        "        Q_target.load_state_dict(Q.state_dict()) # copiamos pesos de Q a Qtarget\n",
        "    \n",
        "    if t % LOG_EVERY_N_STEPS == 0:\n",
        "      print(\"\\nEpoch:\", epoch + 1)\n",
        "      print(\"Current steps:\", t, \"Total Steps:\", total_steps)\n",
        "      try:\n",
        "        print(\"Last 5 rewards:\", episodes_rewards[-5:])\n",
        "      except IndexError:\n",
        "        print(\"Not enough rewards\")\n",
        "      try:\n",
        "        print(\"Last 5 epsilons:\", epsilon_history[-5:])\n",
        "      except IndexError:\n",
        "        print(\"Not enough epsilons\")\n",
        "      try:\n",
        "        print(\"Last 5 errors:\", error_history[-5:])\n",
        "      except IndexError:\n",
        "        print(\"Not enough errors\")\n",
        "      printm()\n",
        "      # Mostrar resultados actuales\n",
        "      # e.g. Mejor reward y promedio de ultimos 100 episodios\n",
        "      # entre otros.\n",
        "  model_save_path = my_dir + \"/DQN_model{}.pt\".format(epoch)\n",
        "  torch.save(Q.state_dict(), model_save_path)    \n",
        "\n",
        "    # Guardar modelo y resultados!\n",
        "    # importante si se les cierra el entrenamiento"
      ],
      "execution_count": 31,
      "outputs": [
        {
          "output_type": "stream",
          "text": [
            "  0%|          | 182/250000 [00:00<04:36, 904.70it/s]"
          ],
          "name": "stderr"
        },
        {
          "output_type": "stream",
          "text": [
            "\n",
            "Epoch: 1\n",
            "Current steps: 0 Total Steps: 0\n",
            "Last 5 rewards: []\n",
            "Last 5 epsilons: []\n",
            "Last 5 errors: []\n",
            "RAM Free: 10.7 GB  | Used: 7.7 GB\n",
            "VRAM Free: 15109MB | Used: 0MB | Util   0% Total 15109MB\n"
          ],
          "name": "stdout"
        },
        {
          "output_type": "stream",
          "text": [
            " 20%|██        | 50031/250000 [00:54<04:19, 771.22it/s]"
          ],
          "name": "stderr"
        },
        {
          "output_type": "stream",
          "text": [
            "\n",
            "Epoch: 1\n",
            "Current steps: 50000 Total Steps: 50000\n",
            "Last 5 rewards: [0.0, 0.0, 0.0, 0.0, 0.0]\n",
            "Last 5 epsilons: [0.955]\n",
            "Last 5 errors: []\n",
            "RAM Free: 10.7 GB  | Used: 7.7 GB\n",
            "VRAM Free: 15109MB | Used: 0MB | Util   0% Total 15109MB\n"
          ],
          "name": "stdout"
        },
        {
          "output_type": "stream",
          "text": [
            " 36%|███▌      | 90037/250000 [03:01<08:42, 306.19it/s]"
          ],
          "name": "stderr"
        },
        {
          "output_type": "stream",
          "text": [
            "Copying model wieghts...\n"
          ],
          "name": "stdout"
        },
        {
          "output_type": "stream",
          "text": [
            " 40%|████      | 100056/250000 [03:34<08:07, 307.76it/s]"
          ],
          "name": "stderr"
        },
        {
          "output_type": "stream",
          "text": [
            "\n",
            "Epoch: 1\n",
            "Current steps: 100000 Total Steps: 100000\n",
            "Last 5 rewards: [0.0, 0.0, 0.0, 0.0, 0.0]\n",
            "Last 5 epsilons: [0.9100036, 0.9100026999999999, 0.9100018, 0.9100009, 0.91]\n",
            "Last 5 errors: [tensor(5.0542e-07, device='cuda:0', dtype=torch.float64,\n",
            "       grad_fn=<MeanBackward0>), tensor(4.2453e-07, device='cuda:0', dtype=torch.float64,\n",
            "       grad_fn=<MeanBackward0>), tensor(3.8949e-07, device='cuda:0', dtype=torch.float64,\n",
            "       grad_fn=<MeanBackward0>), tensor(4.6644e-07, device='cuda:0', dtype=torch.float64,\n",
            "       grad_fn=<MeanBackward0>), tensor(5.0048e-07, device='cuda:0', dtype=torch.float64,\n",
            "       grad_fn=<MeanBackward0>)]\n",
            "RAM Free: 10.6 GB  | Used: 8.0 GB\n",
            "VRAM Free: 15109MB | Used: 0MB | Util   0% Total 15109MB\n"
          ],
          "name": "stdout"
        },
        {
          "output_type": "stream",
          "text": [
            " 52%|█████▏    | 130045/250000 [05:11<06:33, 305.14it/s]"
          ],
          "name": "stderr"
        },
        {
          "output_type": "stream",
          "text": [
            "Copying model wieghts...\n"
          ],
          "name": "stdout"
        },
        {
          "output_type": "stream",
          "text": [
            " 60%|██████    | 150047/250000 [06:16<05:32, 300.80it/s]"
          ],
          "name": "stderr"
        },
        {
          "output_type": "stream",
          "text": [
            "\n",
            "Epoch: 1\n",
            "Current steps: 150000 Total Steps: 150000\n",
            "Last 5 rewards: [0.0, 0.0, 0.0, 0.0, 0.0]\n",
            "Last 5 epsilons: [0.8650036, 0.8650027, 0.8650017999999999, 0.8650009, 0.865]\n",
            "Last 5 errors: [tensor(2.2542e-08, device='cuda:0', dtype=torch.float64,\n",
            "       grad_fn=<MeanBackward0>), tensor(9.4088e-09, device='cuda:0', dtype=torch.float64,\n",
            "       grad_fn=<MeanBackward0>), tensor(4.4403e-09, device='cuda:0', dtype=torch.float64,\n",
            "       grad_fn=<MeanBackward0>), tensor(4.0095e-09, device='cuda:0', dtype=torch.float64,\n",
            "       grad_fn=<MeanBackward0>), tensor(1.3219e-08, device='cuda:0', dtype=torch.float64,\n",
            "       grad_fn=<MeanBackward0>)]\n",
            "RAM Free: 10.6 GB  | Used: 8.2 GB\n",
            "VRAM Free: 15109MB | Used: 0MB | Util   0% Total 15109MB\n"
          ],
          "name": "stdout"
        },
        {
          "output_type": "stream",
          "text": [
            " 68%|██████▊   | 170049/250000 [07:23<04:26, 300.51it/s]"
          ],
          "name": "stderr"
        },
        {
          "output_type": "stream",
          "text": [
            "Copying model wieghts...\n"
          ],
          "name": "stdout"
        },
        {
          "output_type": "stream",
          "text": [
            " 80%|████████  | 200049/250000 [09:03<02:58, 279.81it/s]"
          ],
          "name": "stderr"
        },
        {
          "output_type": "stream",
          "text": [
            "\n",
            "Epoch: 1\n",
            "Current steps: 200000 Total Steps: 200000\n",
            "Last 5 rewards: [0.0, 0.0, 0.0, 0.0, 0.0]\n",
            "Last 5 epsilons: [0.8200035999999999, 0.8200027, 0.8200018, 0.8200008999999999, 0.82]\n",
            "Last 5 errors: [tensor(3.1488e-08, device='cuda:0', dtype=torch.float64,\n",
            "       grad_fn=<MeanBackward0>), tensor(1.9118e-08, device='cuda:0', dtype=torch.float64,\n",
            "       grad_fn=<MeanBackward0>), tensor(1.5854e-08, device='cuda:0', dtype=torch.float64,\n",
            "       grad_fn=<MeanBackward0>), tensor(7.3721e-09, device='cuda:0', dtype=torch.float64,\n",
            "       grad_fn=<MeanBackward0>), tensor(8.2863e-09, device='cuda:0', dtype=torch.float64,\n",
            "       grad_fn=<MeanBackward0>)]\n",
            "RAM Free: 10.6 GB  | Used: 8.5 GB\n",
            "VRAM Free: 15109MB | Used: 0MB | Util   0% Total 15109MB\n"
          ],
          "name": "stdout"
        },
        {
          "output_type": "stream",
          "text": [
            " 84%|████████▍ | 210049/250000 [09:37<02:15, 295.85it/s]"
          ],
          "name": "stderr"
        },
        {
          "output_type": "stream",
          "text": [
            "Copying model wieghts...\n"
          ],
          "name": "stdout"
        },
        {
          "output_type": "stream",
          "text": [
            "100%|██████████| 250000/250000 [11:53<00:00, 350.41it/s]\n",
            "  0%|          | 140/250000 [00:00<06:16, 662.78it/s]"
          ],
          "name": "stderr"
        },
        {
          "output_type": "stream",
          "text": [
            "\n",
            "Epoch: 2\n",
            "Current steps: 0 Total Steps: 250000\n",
            "Last 5 rewards: [0.0, 0.0, 0.0, 0.0, 0.0]\n",
            "Last 5 epsilons: [0.7750036, 0.7750026999999999, 0.7750018, 0.7750009, 0.775]\n",
            "Last 5 errors: [tensor(2.5575e-08, device='cuda:0', dtype=torch.float64,\n",
            "       grad_fn=<MeanBackward0>), tensor(4.0117e-08, device='cuda:0', dtype=torch.float64,\n",
            "       grad_fn=<MeanBackward0>), tensor(3.6808e-08, device='cuda:0', dtype=torch.float64,\n",
            "       grad_fn=<MeanBackward0>), tensor(1.4818e-08, device='cuda:0', dtype=torch.float64,\n",
            "       grad_fn=<MeanBackward0>), tensor(2.2223e-08, device='cuda:0', dtype=torch.float64,\n",
            "       grad_fn=<MeanBackward0>)]\n",
            "RAM Free: 10.6 GB  | Used: 8.8 GB\n",
            "VRAM Free: 15109MB | Used: 0MB | Util   0% Total 15109MB\n"
          ],
          "name": "stdout"
        },
        {
          "output_type": "stream",
          "text": [
            " 20%|██        | 50001/250000 [01:12<05:14, 635.55it/s]"
          ],
          "name": "stderr"
        },
        {
          "output_type": "stream",
          "text": [
            "\n",
            "Epoch: 2\n",
            "Current steps: 50000 Total Steps: 300000\n",
            "Last 5 rewards: [0.0, 0.0, 0.0, 0.0, 0.0]\n",
            "Last 5 epsilons: [0.7300036, 0.7300027, 0.7300017999999999, 0.7300009000000001, 0.73]\n",
            "Last 5 errors: [tensor(2.5575e-08, device='cuda:0', dtype=torch.float64,\n",
            "       grad_fn=<MeanBackward0>), tensor(4.0117e-08, device='cuda:0', dtype=torch.float64,\n",
            "       grad_fn=<MeanBackward0>), tensor(3.6808e-08, device='cuda:0', dtype=torch.float64,\n",
            "       grad_fn=<MeanBackward0>), tensor(1.4818e-08, device='cuda:0', dtype=torch.float64,\n",
            "       grad_fn=<MeanBackward0>), tensor(2.2223e-08, device='cuda:0', dtype=torch.float64,\n",
            "       grad_fn=<MeanBackward0>)]\n",
            "RAM Free: 10.6 GB  | Used: 8.8 GB\n",
            "VRAM Free: 15109MB | Used: 0MB | Util   0% Total 15109MB\n",
            "Copying model wieghts...\n"
          ],
          "name": "stdout"
        },
        {
          "output_type": "stream",
          "text": [
            " 36%|███▌      | 90056/250000 [03:32<09:31, 280.11it/s]"
          ],
          "name": "stderr"
        },
        {
          "output_type": "stream",
          "text": [
            "Copying model wieghts...\n"
          ],
          "name": "stdout"
        },
        {
          "output_type": "stream",
          "text": [
            " 40%|████      | 100049/250000 [04:07<08:47, 284.15it/s]"
          ],
          "name": "stderr"
        },
        {
          "output_type": "stream",
          "text": [
            "\n",
            "Epoch: 2\n",
            "Current steps: 100000 Total Steps: 350000\n",
            "Last 5 rewards: [0.0, 0.0, 0.0, 0.0, 0.0]\n",
            "Last 5 epsilons: [0.6850035999999999, 0.6850027, 0.6850018, 0.6850008999999999, 0.685]\n",
            "Last 5 errors: [tensor(3.9240e-08, device='cuda:0', dtype=torch.float64,\n",
            "       grad_fn=<MeanBackward0>), tensor(7.9430e-08, device='cuda:0', dtype=torch.float64,\n",
            "       grad_fn=<MeanBackward0>), tensor(8.9903e-08, device='cuda:0', dtype=torch.float64,\n",
            "       grad_fn=<MeanBackward0>), tensor(1.0758e-07, device='cuda:0', dtype=torch.float64,\n",
            "       grad_fn=<MeanBackward0>), tensor(8.6700e-08, device='cuda:0', dtype=torch.float64,\n",
            "       grad_fn=<MeanBackward0>)]\n",
            "RAM Free: 10.5 GB  | Used: 9.0 GB\n",
            "VRAM Free: 15109MB | Used: 0MB | Util   0% Total 15109MB\n"
          ],
          "name": "stdout"
        },
        {
          "output_type": "stream",
          "text": [
            " 52%|█████▏    | 130037/250000 [05:52<07:10, 278.63it/s]"
          ],
          "name": "stderr"
        },
        {
          "output_type": "stream",
          "text": [
            "Copying model wieghts...\n"
          ],
          "name": "stdout"
        },
        {
          "output_type": "stream",
          "text": [
            " 60%|██████    | 150041/250000 [07:03<06:08, 271.33it/s]"
          ],
          "name": "stderr"
        },
        {
          "output_type": "stream",
          "text": [
            "\n",
            "Epoch: 2\n",
            "Current steps: 150000 Total Steps: 400000\n",
            "Last 5 rewards: [0.0, 0.0, 0.0, 0.0, 0.0]\n",
            "Last 5 epsilons: [0.6400036, 0.6400026999999999, 0.6400018, 0.6400009, 0.6399999999999999]\n",
            "Last 5 errors: [tensor(4.7482e-08, device='cuda:0', dtype=torch.float64,\n",
            "       grad_fn=<MeanBackward0>), tensor(4.3531e-08, device='cuda:0', dtype=torch.float64,\n",
            "       grad_fn=<MeanBackward0>), tensor(3.5979e-08, device='cuda:0', dtype=torch.float64,\n",
            "       grad_fn=<MeanBackward0>), tensor(2.8169e-08, device='cuda:0', dtype=torch.float64,\n",
            "       grad_fn=<MeanBackward0>), tensor(3.4467e-08, device='cuda:0', dtype=torch.float64,\n",
            "       grad_fn=<MeanBackward0>)]\n",
            "RAM Free: 10.5 GB  | Used: 9.3 GB\n",
            "VRAM Free: 15109MB | Used: 0MB | Util   0% Total 15109MB\n"
          ],
          "name": "stdout"
        },
        {
          "output_type": "stream",
          "text": [
            " 68%|██████▊   | 170048/250000 [08:14<04:38, 286.63it/s]"
          ],
          "name": "stderr"
        },
        {
          "output_type": "stream",
          "text": [
            "Copying model wieghts...\n"
          ],
          "name": "stdout"
        },
        {
          "output_type": "stream",
          "text": [
            " 80%|████████  | 200047/250000 [10:03<03:13, 258.31it/s]"
          ],
          "name": "stderr"
        },
        {
          "output_type": "stream",
          "text": [
            "\n",
            "Epoch: 2\n",
            "Current steps: 200000 Total Steps: 450000\n",
            "Last 5 rewards: [0.0, 0.0, 0.0, 0.0, 0.0]\n",
            "Last 5 epsilons: [0.5950036, 0.5950027, 0.5950017999999999, 0.5950008999999999, 0.595]\n",
            "Last 5 errors: [tensor(6.3654e-09, device='cuda:0', dtype=torch.float64,\n",
            "       grad_fn=<MeanBackward0>), tensor(1.3391e-08, device='cuda:0', dtype=torch.float64,\n",
            "       grad_fn=<MeanBackward0>), tensor(1.3489e-08, device='cuda:0', dtype=torch.float64,\n",
            "       grad_fn=<MeanBackward0>), tensor(4.5501e-08, device='cuda:0', dtype=torch.float64,\n",
            "       grad_fn=<MeanBackward0>), tensor(2.5212e-08, device='cuda:0', dtype=torch.float64,\n",
            "       grad_fn=<MeanBackward0>)]\n",
            "RAM Free: 10.5 GB  | Used: 9.6 GB\n",
            "VRAM Free: 15109MB | Used: 0MB | Util   0% Total 15109MB\n"
          ],
          "name": "stdout"
        },
        {
          "output_type": "stream",
          "text": [
            " 84%|████████▍ | 210045/250000 [10:40<02:25, 273.86it/s]"
          ],
          "name": "stderr"
        },
        {
          "output_type": "stream",
          "text": [
            "Copying model wieghts...\n"
          ],
          "name": "stdout"
        },
        {
          "output_type": "stream",
          "text": [
            "100%|██████████| 250000/250000 [13:06<00:00, 317.92it/s]\n",
            "  0%|          | 125/250000 [00:00<06:49, 609.54it/s]"
          ],
          "name": "stderr"
        },
        {
          "output_type": "stream",
          "text": [
            "\n",
            "Epoch: 3\n",
            "Current steps: 0 Total Steps: 500000\n",
            "Last 5 rewards: [0.0, 0.0, 0.0, 0.0, 0.0]\n",
            "Last 5 epsilons: [0.5500035999999999, 0.5500027, 0.5500018, 0.5500008999999999, 0.55]\n",
            "Last 5 errors: [tensor(3.7195e-09, device='cuda:0', dtype=torch.float64,\n",
            "       grad_fn=<MeanBackward0>), tensor(1.7447e-09, device='cuda:0', dtype=torch.float64,\n",
            "       grad_fn=<MeanBackward0>), tensor(5.6007e-10, device='cuda:0', dtype=torch.float64,\n",
            "       grad_fn=<MeanBackward0>), tensor(7.7152e-11, device='cuda:0', dtype=torch.float64,\n",
            "       grad_fn=<MeanBackward0>), tensor(1.5209e-10, device='cuda:0', dtype=torch.float64,\n",
            "       grad_fn=<MeanBackward0>)]\n",
            "RAM Free: 10.5 GB  | Used: 9.8 GB\n",
            "VRAM Free: 15109MB | Used: 0MB | Util   0% Total 15109MB\n"
          ],
          "name": "stdout"
        },
        {
          "output_type": "stream",
          "text": [
            " 20%|██        | 50027/250000 [01:24<06:56, 480.49it/s]"
          ],
          "name": "stderr"
        },
        {
          "output_type": "stream",
          "text": [
            "\n",
            "Epoch: 3\n",
            "Current steps: 50000 Total Steps: 550000\n",
            "Last 5 rewards: [0.0, 0.0, 0.0, 0.0, 0.0]\n",
            "Last 5 epsilons: [0.5050036, 0.5050026999999999, 0.5050018, 0.5050009, 0.5049999999999999]\n",
            "Last 5 errors: [tensor(3.7195e-09, device='cuda:0', dtype=torch.float64,\n",
            "       grad_fn=<MeanBackward0>), tensor(1.7447e-09, device='cuda:0', dtype=torch.float64,\n",
            "       grad_fn=<MeanBackward0>), tensor(5.6007e-10, device='cuda:0', dtype=torch.float64,\n",
            "       grad_fn=<MeanBackward0>), tensor(7.7152e-11, device='cuda:0', dtype=torch.float64,\n",
            "       grad_fn=<MeanBackward0>), tensor(1.5209e-10, device='cuda:0', dtype=torch.float64,\n",
            "       grad_fn=<MeanBackward0>)]\n",
            "RAM Free: 10.5 GB  | Used: 9.9 GB\n",
            "VRAM Free: 15109MB | Used: 0MB | Util   0% Total 15109MB\n",
            "Copying model wieghts...\n"
          ],
          "name": "stdout"
        },
        {
          "output_type": "stream",
          "text": [
            " 36%|███▌      | 90053/250000 [03:52<09:58, 267.45it/s]"
          ],
          "name": "stderr"
        },
        {
          "output_type": "stream",
          "text": [
            "Copying model wieghts...\n"
          ],
          "name": "stdout"
        },
        {
          "output_type": "stream",
          "text": [
            " 40%|████      | 100033/250000 [04:29<09:17, 268.98it/s]"
          ],
          "name": "stderr"
        },
        {
          "output_type": "stream",
          "text": [
            "\n",
            "Epoch: 3\n",
            "Current steps: 100000 Total Steps: 600000\n",
            "Last 5 rewards: [0.0, 0.0, 0.0, 0.0, 0.0]\n",
            "Last 5 epsilons: [0.46000359999999996, 0.4600027, 0.4600018, 0.46000089999999993, 0.45999999999999996]\n",
            "Last 5 errors: [tensor(3.4409e-10, device='cuda:0', dtype=torch.float64,\n",
            "       grad_fn=<MeanBackward0>), tensor(6.4525e-10, device='cuda:0', dtype=torch.float64,\n",
            "       grad_fn=<MeanBackward0>), tensor(6.4206e-10, device='cuda:0', dtype=torch.float64,\n",
            "       grad_fn=<MeanBackward0>), tensor(7.6292e-10, device='cuda:0', dtype=torch.float64,\n",
            "       grad_fn=<MeanBackward0>), tensor(8.0934e-09, device='cuda:0', dtype=torch.float64,\n",
            "       grad_fn=<MeanBackward0>)]\n",
            "RAM Free: 10.4 GB  | Used: 10.1 GB\n",
            "VRAM Free: 15109MB | Used: 0MB | Util   0% Total 15109MB\n"
          ],
          "name": "stdout"
        },
        {
          "output_type": "stream",
          "text": [
            " 52%|█████▏    | 130061/250000 [06:21<07:26, 268.75it/s]"
          ],
          "name": "stderr"
        },
        {
          "output_type": "stream",
          "text": [
            "Copying model wieghts...\n"
          ],
          "name": "stdout"
        },
        {
          "output_type": "stream",
          "text": [
            " 60%|██████    | 150029/250000 [07:35<06:19, 263.50it/s]"
          ],
          "name": "stderr"
        },
        {
          "output_type": "stream",
          "text": [
            "\n",
            "Epoch: 3\n",
            "Current steps: 150000 Total Steps: 650000\n",
            "Last 5 rewards: [0.0, 0.0, 0.0, 0.0, 0.0]\n",
            "Last 5 epsilons: [0.4150035999999999, 0.41500269999999995, 0.4150018, 0.4150009, 0.4149999999999999]\n",
            "Last 5 errors: [tensor(9.9929e-10, device='cuda:0', dtype=torch.float64,\n",
            "       grad_fn=<MeanBackward0>), tensor(4.7736e-10, device='cuda:0', dtype=torch.float64,\n",
            "       grad_fn=<MeanBackward0>), tensor(6.5489e-10, device='cuda:0', dtype=torch.float64,\n",
            "       grad_fn=<MeanBackward0>), tensor(1.0091e-09, device='cuda:0', dtype=torch.float64,\n",
            "       grad_fn=<MeanBackward0>), tensor(9.0631e-10, device='cuda:0', dtype=torch.float64,\n",
            "       grad_fn=<MeanBackward0>)]\n",
            "RAM Free: 10.4 GB  | Used: 10.4 GB\n",
            "VRAM Free: 15109MB | Used: 0MB | Util   0% Total 15109MB\n"
          ],
          "name": "stdout"
        },
        {
          "output_type": "stream",
          "text": [
            " 68%|██████▊   | 170051/250000 [08:51<04:54, 271.57it/s]"
          ],
          "name": "stderr"
        },
        {
          "output_type": "stream",
          "text": [
            "Copying model wieghts...\n"
          ],
          "name": "stdout"
        },
        {
          "output_type": "stream",
          "text": [
            " 80%|████████  | 200041/250000 [10:45<03:16, 254.18it/s]"
          ],
          "name": "stderr"
        },
        {
          "output_type": "stream",
          "text": [
            "\n",
            "Epoch: 3\n",
            "Current steps: 200000 Total Steps: 700000\n",
            "Last 5 rewards: [0.0, 2.0, 2.0, 9.0, 0.0]\n",
            "Last 5 epsilons: [0.3700036, 0.3700026999999999, 0.37000179999999994, 0.37000089999999997, 0.37]\n",
            "Last 5 errors: [tensor(5.6966e-06, device='cuda:0', dtype=torch.float64,\n",
            "       grad_fn=<MeanBackward0>), tensor(6.1078e-06, device='cuda:0', dtype=torch.float64,\n",
            "       grad_fn=<MeanBackward0>), tensor(4.3081e-06, device='cuda:0', dtype=torch.float64,\n",
            "       grad_fn=<MeanBackward0>), tensor(2.6540e-06, device='cuda:0', dtype=torch.float64,\n",
            "       grad_fn=<MeanBackward0>), tensor(2.7514e-06, device='cuda:0', dtype=torch.float64,\n",
            "       grad_fn=<MeanBackward0>)]\n",
            "RAM Free: 10.4 GB  | Used: 10.7 GB\n",
            "VRAM Free: 15109MB | Used: 0MB | Util   0% Total 15109MB\n"
          ],
          "name": "stdout"
        },
        {
          "output_type": "stream",
          "text": [
            " 84%|████████▍ | 210057/250000 [11:23<02:31, 264.37it/s]"
          ],
          "name": "stderr"
        },
        {
          "output_type": "stream",
          "text": [
            "Copying model wieghts...\n"
          ],
          "name": "stdout"
        },
        {
          "output_type": "stream",
          "text": [
            "100%|██████████| 250000/250000 [13:55<00:00, 299.23it/s]\n",
            "  0%|          | 116/250000 [00:00<07:19, 568.36it/s]"
          ],
          "name": "stderr"
        },
        {
          "output_type": "stream",
          "text": [
            "\n",
            "Epoch: 4\n",
            "Current steps: 0 Total Steps: 750000\n",
            "Last 5 rewards: [0.0, 0.0, 0.0, 1.0, 1.0]\n",
            "Last 5 epsilons: [0.32500359999999995, 0.3250027, 0.3250017999999999, 0.3250008999999999, 0.32499999999999996]\n",
            "Last 5 errors: [tensor(0.0313, device='cuda:0', dtype=torch.float64, grad_fn=<MeanBackward0>), tensor(5.5566e-06, device='cuda:0', dtype=torch.float64,\n",
            "       grad_fn=<MeanBackward0>), tensor(9.2691e-06, device='cuda:0', dtype=torch.float64,\n",
            "       grad_fn=<MeanBackward0>), tensor(5.4411e-06, device='cuda:0', dtype=torch.float64,\n",
            "       grad_fn=<MeanBackward0>), tensor(1.0467e-05, device='cuda:0', dtype=torch.float64,\n",
            "       grad_fn=<MeanBackward0>)]\n",
            "RAM Free: 10.4 GB  | Used: 10.9 GB\n",
            "VRAM Free: 15109MB | Used: 0MB | Util   0% Total 15109MB\n"
          ],
          "name": "stdout"
        },
        {
          "output_type": "stream",
          "text": [
            " 20%|██        | 50016/250000 [01:37<07:15, 458.76it/s]"
          ],
          "name": "stderr"
        },
        {
          "output_type": "stream",
          "text": [
            "\n",
            "Epoch: 4\n",
            "Current steps: 50000 Total Steps: 800000\n",
            "Last 5 rewards: [0.0, 0.0, 0.0, 0.0, 0.0]\n",
            "Last 5 epsilons: [0.2800035999999999, 0.28000269999999994, 0.28000179999999997, 0.2800009, 0.2799999999999999]\n",
            "Last 5 errors: [tensor(0.0313, device='cuda:0', dtype=torch.float64, grad_fn=<MeanBackward0>), tensor(5.5566e-06, device='cuda:0', dtype=torch.float64,\n",
            "       grad_fn=<MeanBackward0>), tensor(9.2691e-06, device='cuda:0', dtype=torch.float64,\n",
            "       grad_fn=<MeanBackward0>), tensor(5.4411e-06, device='cuda:0', dtype=torch.float64,\n",
            "       grad_fn=<MeanBackward0>), tensor(1.0467e-05, device='cuda:0', dtype=torch.float64,\n",
            "       grad_fn=<MeanBackward0>)]\n",
            "RAM Free: 10.4 GB  | Used: 10.9 GB\n",
            "VRAM Free: 15109MB | Used: 0MB | Util   0% Total 15109MB\n",
            "Copying model wieghts...\n"
          ],
          "name": "stdout"
        },
        {
          "output_type": "stream",
          "text": [
            " 36%|███▌      | 90049/250000 [04:13<10:32, 253.03it/s]"
          ],
          "name": "stderr"
        },
        {
          "output_type": "stream",
          "text": [
            "Copying model wieghts...\n"
          ],
          "name": "stdout"
        },
        {
          "output_type": "stream",
          "text": [
            " 40%|████      | 100027/250000 [04:52<10:14, 244.13it/s]"
          ],
          "name": "stderr"
        },
        {
          "output_type": "stream",
          "text": [
            "\n",
            "Epoch: 4\n",
            "Current steps: 100000 Total Steps: 850000\n",
            "Last 5 rewards: [0.0, 0.0, 0.0, 0.0, 0.0]\n",
            "Last 5 epsilons: [0.23500359999999998, 0.2350026999999999, 0.23500179999999993, 0.23500089999999996, 0.235]\n",
            "Last 5 errors: [tensor(4.5268e-06, device='cuda:0', dtype=torch.float64,\n",
            "       grad_fn=<MeanBackward0>), tensor(7.8606e-06, device='cuda:0', dtype=torch.float64,\n",
            "       grad_fn=<MeanBackward0>), tensor(4.1602e-06, device='cuda:0', dtype=torch.float64,\n",
            "       grad_fn=<MeanBackward0>), tensor(1.0483e-05, device='cuda:0', dtype=torch.float64,\n",
            "       grad_fn=<MeanBackward0>), tensor(7.4516e-06, device='cuda:0', dtype=torch.float64,\n",
            "       grad_fn=<MeanBackward0>)]\n",
            "RAM Free: 9.4 GB  | Used: 11.2 GB\n",
            "VRAM Free: 15109MB | Used: 0MB | Util   0% Total 15109MB\n"
          ],
          "name": "stdout"
        },
        {
          "output_type": "stream",
          "text": [
            " 52%|█████▏    | 130041/250000 [06:50<07:55, 252.13it/s]"
          ],
          "name": "stderr"
        },
        {
          "output_type": "stream",
          "text": [
            "Copying model wieghts...\n"
          ],
          "name": "stdout"
        },
        {
          "output_type": "stream",
          "text": [
            " 60%|██████    | 150024/250000 [08:10<06:32, 254.97it/s]"
          ],
          "name": "stderr"
        },
        {
          "output_type": "stream",
          "text": [
            "\n",
            "Epoch: 4\n",
            "Current steps: 150000 Total Steps: 900000\n",
            "Last 5 rewards: [0.0, 1.0, 4.0, 30.0, 0.0]\n",
            "Last 5 epsilons: [0.19000359999999994, 0.19000269999999997, 0.1900017999999999, 0.19000089999999992, 0.18999999999999995]\n",
            "Last 5 errors: [tensor(0.0313, device='cuda:0', dtype=torch.float64, grad_fn=<MeanBackward0>), tensor(6.4222e-06, device='cuda:0', dtype=torch.float64,\n",
            "       grad_fn=<MeanBackward0>), tensor(1.5284e-05, device='cuda:0', dtype=torch.float64,\n",
            "       grad_fn=<MeanBackward0>), tensor(1.3863e-05, device='cuda:0', dtype=torch.float64,\n",
            "       grad_fn=<MeanBackward0>), tensor(1.4462e-05, device='cuda:0', dtype=torch.float64,\n",
            "       grad_fn=<MeanBackward0>)]\n",
            "RAM Free: 9.4 GB  | Used: 11.5 GB\n",
            "VRAM Free: 15109MB | Used: 0MB | Util   0% Total 15109MB\n"
          ],
          "name": "stdout"
        },
        {
          "output_type": "stream",
          "text": [
            " 68%|██████▊   | 170055/250000 [09:30<05:17, 252.15it/s]"
          ],
          "name": "stderr"
        },
        {
          "output_type": "stream",
          "text": [
            "Copying model wieghts...\n"
          ],
          "name": "stdout"
        },
        {
          "output_type": "stream",
          "text": [
            " 80%|████████  | 200029/250000 [11:30<03:18, 251.13it/s]"
          ],
          "name": "stderr"
        },
        {
          "output_type": "stream",
          "text": [
            "\n",
            "Epoch: 4\n",
            "Current steps: 200000 Total Steps: 950000\n",
            "Last 5 rewards: [16.0, 0.0, 2.0, 16.0, 3.0]\n",
            "Last 5 epsilons: [0.1450035999999999, 0.14500269999999993, 0.14500179999999996, 0.1450009, 0.1449999999999999]\n",
            "Last 5 errors: [tensor(0.0002, device='cuda:0', dtype=torch.float64, grad_fn=<MeanBackward0>), tensor(0.0001, device='cuda:0', dtype=torch.float64, grad_fn=<MeanBackward0>), tensor(0.0298, device='cuda:0', dtype=torch.float64, grad_fn=<MeanBackward0>), tensor(0.0002, device='cuda:0', dtype=torch.float64, grad_fn=<MeanBackward0>), tensor(0.0298, device='cuda:0', dtype=torch.float64, grad_fn=<MeanBackward0>)]\n",
            "RAM Free: 9.4 GB  | Used: 11.7 GB\n",
            "VRAM Free: 15109MB | Used: 0MB | Util   0% Total 15109MB\n"
          ],
          "name": "stdout"
        },
        {
          "output_type": "stream",
          "text": [
            " 84%|████████▍ | 210064/250000 [12:10<02:38, 252.27it/s]"
          ],
          "name": "stderr"
        },
        {
          "output_type": "stream",
          "text": [
            "Copying model wieghts...\n"
          ],
          "name": "stdout"
        },
        {
          "output_type": "stream",
          "text": [
            "100%|██████████| 250000/250000 [14:52<00:00, 280.22it/s]\n",
            "  0%|          | 107/250000 [00:00<08:04, 516.18it/s]"
          ],
          "name": "stderr"
        },
        {
          "output_type": "stream",
          "text": [
            "\n",
            "Epoch: 5\n",
            "Current steps: 0 Total Steps: 1000000\n",
            "Last 5 rewards: [13.0, 23.0, 14.0, 7.0, 18.0]\n",
            "Last 5 epsilons: [0.10000359999999997, 0.10000269999999989, 0.10000179999999992, 0.10000089999999995, 0.1]\n",
            "Last 5 errors: [tensor(0.0001, device='cuda:0', dtype=torch.float64, grad_fn=<MeanBackward0>), tensor(0.0302, device='cuda:0', dtype=torch.float64, grad_fn=<MeanBackward0>), tensor(0.0302, device='cuda:0', dtype=torch.float64, grad_fn=<MeanBackward0>), tensor(0.0626, device='cuda:0', dtype=torch.float64, grad_fn=<MeanBackward0>), tensor(0.0302, device='cuda:0', dtype=torch.float64, grad_fn=<MeanBackward0>)]\n",
            "RAM Free: 8.5 GB  | Used: 12.0 GB\n",
            "VRAM Free: 15109MB | Used: 0MB | Util   0% Total 15109MB\n"
          ],
          "name": "stdout"
        },
        {
          "output_type": "stream",
          "text": [
            " 20%|██        | 50003/250000 [01:48<07:36, 437.69it/s]"
          ],
          "name": "stderr"
        },
        {
          "output_type": "stream",
          "text": [
            "\n",
            "Epoch: 5\n",
            "Current steps: 50000 Total Steps: 1050000\n",
            "Last 5 rewards: [4.0, 29.0, 8.0, 22.0, 10.0]\n",
            "Last 5 epsilons: [0.1, 0.1, 0.1, 0.1, 0.1]\n",
            "Last 5 errors: [tensor(0.0001, device='cuda:0', dtype=torch.float64, grad_fn=<MeanBackward0>), tensor(0.0302, device='cuda:0', dtype=torch.float64, grad_fn=<MeanBackward0>), tensor(0.0302, device='cuda:0', dtype=torch.float64, grad_fn=<MeanBackward0>), tensor(0.0626, device='cuda:0', dtype=torch.float64, grad_fn=<MeanBackward0>), tensor(0.0302, device='cuda:0', dtype=torch.float64, grad_fn=<MeanBackward0>)]\n",
            "RAM Free: 8.5 GB  | Used: 12.0 GB\n",
            "VRAM Free: 15109MB | Used: 0MB | Util   0% Total 15109MB\n",
            "Copying model wieghts...\n"
          ],
          "name": "stdout"
        },
        {
          "output_type": "stream",
          "text": [
            " 36%|███▌      | 90056/250000 [04:31<10:40, 249.62it/s]"
          ],
          "name": "stderr"
        },
        {
          "output_type": "stream",
          "text": [
            "Copying model wieghts...\n"
          ],
          "name": "stdout"
        },
        {
          "output_type": "stream",
          "text": [
            " 40%|████      | 100029/250000 [05:12<10:18, 242.39it/s]"
          ],
          "name": "stderr"
        },
        {
          "output_type": "stream",
          "text": [
            "\n",
            "Epoch: 5\n",
            "Current steps: 100000 Total Steps: 1100000\n",
            "Last 5 rewards: [21.0, 16.0, 11.0, 40.0, 11.0]\n",
            "Last 5 epsilons: [0.1, 0.1, 0.1, 0.1, 0.1]\n",
            "Last 5 errors: [tensor(0.0003, device='cuda:0', dtype=torch.float64, grad_fn=<MeanBackward0>), tensor(0.0300, device='cuda:0', dtype=torch.float64, grad_fn=<MeanBackward0>), tensor(0.0003, device='cuda:0', dtype=torch.float64, grad_fn=<MeanBackward0>), tensor(0.0315, device='cuda:0', dtype=torch.float64, grad_fn=<MeanBackward0>), tensor(0.0940, device='cuda:0', dtype=torch.float64, grad_fn=<MeanBackward0>)]\n",
            "RAM Free: 7.3 GB  | Used: 12.3 GB\n",
            "VRAM Free: 15109MB | Used: 0MB | Util   0% Total 15109MB\n"
          ],
          "name": "stdout"
        },
        {
          "output_type": "stream",
          "text": [
            " 52%|█████▏    | 130049/250000 [07:15<08:07, 246.06it/s]"
          ],
          "name": "stderr"
        },
        {
          "output_type": "stream",
          "text": [
            "Copying model wieghts...\n"
          ],
          "name": "stdout"
        },
        {
          "output_type": "stream",
          "text": [
            " 60%|██████    | 150036/250000 [08:36<06:48, 244.98it/s]"
          ],
          "name": "stderr"
        },
        {
          "output_type": "stream",
          "text": [
            "\n",
            "Epoch: 5\n",
            "Current steps: 150000 Total Steps: 1150000\n",
            "Last 5 rewards: [28.0, 6.0, 14.0, 7.0, 24.0]\n",
            "Last 5 epsilons: [0.1, 0.1, 0.1, 0.1, 0.1]\n",
            "Last 5 errors: [tensor(0.0922, device='cuda:0', dtype=torch.float64, grad_fn=<MeanBackward0>), tensor(0.0003, device='cuda:0', dtype=torch.float64, grad_fn=<MeanBackward0>), tensor(0.0315, device='cuda:0', dtype=torch.float64, grad_fn=<MeanBackward0>), tensor(0.0301, device='cuda:0', dtype=torch.float64, grad_fn=<MeanBackward0>), tensor(0.0003, device='cuda:0', dtype=torch.float64, grad_fn=<MeanBackward0>)]\n",
            "RAM Free: 2.6 GB  | Used: 12.4 GB\n",
            "VRAM Free: 15109MB | Used: 0MB | Util   0% Total 15109MB\n"
          ],
          "name": "stdout"
        },
        {
          "output_type": "stream",
          "text": [
            " 68%|██████▊   | 170053/250000 [09:57<05:24, 246.27it/s]"
          ],
          "name": "stderr"
        },
        {
          "output_type": "stream",
          "text": [
            "Copying model wieghts...\n"
          ],
          "name": "stdout"
        },
        {
          "output_type": "stream",
          "text": [
            " 80%|████████  | 200041/250000 [11:59<03:29, 238.80it/s]"
          ],
          "name": "stderr"
        },
        {
          "output_type": "stream",
          "text": [
            "\n",
            "Epoch: 5\n",
            "Current steps: 200000 Total Steps: 1200000\n",
            "Last 5 rewards: [11.0, 46.0, 32.0, 28.0, 43.0]\n",
            "Last 5 epsilons: [0.1, 0.1, 0.1, 0.1, 0.1]\n",
            "Last 5 errors: [tensor(0.0005, device='cuda:0', dtype=torch.float64, grad_fn=<MeanBackward0>), tensor(0.0227, device='cuda:0', dtype=torch.float64, grad_fn=<MeanBackward0>), tensor(0.0005, device='cuda:0', dtype=torch.float64, grad_fn=<MeanBackward0>), tensor(0.1237, device='cuda:0', dtype=torch.float64, grad_fn=<MeanBackward0>), tensor(0.0627, device='cuda:0', dtype=torch.float64, grad_fn=<MeanBackward0>)]\n",
            "RAM Free: 1.6 GB  | Used: 12.4 GB\n",
            "VRAM Free: 15109MB | Used: 0MB | Util   0% Total 15109MB\n"
          ],
          "name": "stdout"
        },
        {
          "output_type": "stream",
          "text": [
            " 84%|████████▍ | 210060/250000 [12:40<02:48, 237.27it/s]"
          ],
          "name": "stderr"
        },
        {
          "output_type": "stream",
          "text": [
            "Copying model wieghts...\n"
          ],
          "name": "stdout"
        },
        {
          "output_type": "stream",
          "text": [
            " 84%|████████▍ | 211222/250000 [21:36<129:39:21, 12.04s/it]"
          ],
          "name": "stderr"
        },
        {
          "output_type": "error",
          "ename": "KeyboardInterrupt",
          "evalue": "ignored",
          "traceback": [
            "\u001b[0;31m---------------------------------------------------------------------------\u001b[0m",
            "\u001b[0;31mKeyboardInterrupt\u001b[0m                         Traceback (most recent call last)",
            "\u001b[0;32m<ipython-input-31-144acfe7dd93>\u001b[0m in \u001b[0;36m<module>\u001b[0;34m()\u001b[0m\n\u001b[1;32m     32\u001b[0m         \u001b[0;32mwith\u001b[0m \u001b[0mno_grad\u001b[0m\u001b[0;34m(\u001b[0m\u001b[0;34m)\u001b[0m\u001b[0;34m:\u001b[0m \u001b[0;31m# no actualizamos gradientes pq estamos evaluando\u001b[0m\u001b[0;34m\u001b[0m\u001b[0;34m\u001b[0m\u001b[0m\n\u001b[1;32m     33\u001b[0m           \u001b[0;31m# Seleccionar la acción segun la red Q\u001b[0m\u001b[0;34m\u001b[0m\u001b[0;34m\u001b[0m\u001b[0;34m\u001b[0m\u001b[0m\n\u001b[0;32m---> 34\u001b[0;31m           \u001b[0mlast_obs_tensor\u001b[0m \u001b[0;34m=\u001b[0m \u001b[0mtorch\u001b[0m\u001b[0;34m.\u001b[0m\u001b[0mfrom_numpy\u001b[0m\u001b[0;34m(\u001b[0m\u001b[0mnp\u001b[0m\u001b[0;34m.\u001b[0m\u001b[0marray\u001b[0m\u001b[0;34m(\u001b[0m\u001b[0mlast_obs\u001b[0m\u001b[0;34m)\u001b[0m\u001b[0;34m)\u001b[0m\u001b[0;34m.\u001b[0m\u001b[0mto\u001b[0m\u001b[0;34m(\u001b[0m\u001b[0mdevice\u001b[0m\u001b[0;34m)\u001b[0m \u001b[0;34m/\u001b[0m \u001b[0;36m255.0\u001b[0m \u001b[0;31m# pasamos a tensor y normalizamos\u001b[0m\u001b[0;34m\u001b[0m\u001b[0;34m\u001b[0m\u001b[0m\n\u001b[0m\u001b[1;32m     35\u001b[0m           \u001b[0mlast_obs_tensor_batched\u001b[0m \u001b[0;34m=\u001b[0m \u001b[0mlast_obs_tensor\u001b[0m\u001b[0;34m.\u001b[0m\u001b[0munsqueeze\u001b[0m\u001b[0;34m(\u001b[0m\u001b[0;36m0\u001b[0m\u001b[0;34m)\u001b[0m\u001b[0;34m.\u001b[0m\u001b[0mrepeat\u001b[0m\u001b[0;34m(\u001b[0m\u001b[0mbatch_size\u001b[0m\u001b[0;34m,\u001b[0m \u001b[0;36m1\u001b[0m\u001b[0;34m,\u001b[0m \u001b[0;36m1\u001b[0m\u001b[0;34m,\u001b[0m \u001b[0;36m1\u001b[0m\u001b[0;34m)\u001b[0m \u001b[0;31m# last obs solo es 1 estado, pero necesitamos batch_size estados para la red\u001b[0m\u001b[0;34m\u001b[0m\u001b[0;34m\u001b[0m\u001b[0m\n\u001b[1;32m     36\u001b[0m           \u001b[0mall_q_values\u001b[0m \u001b[0;34m=\u001b[0m \u001b[0mQ\u001b[0m\u001b[0;34m(\u001b[0m\u001b[0mlast_obs_tensor_batched\u001b[0m\u001b[0;34m)\u001b[0m\u001b[0;34m\u001b[0m\u001b[0;34m\u001b[0m\u001b[0m\n",
            "\u001b[0;31mKeyboardInterrupt\u001b[0m: "
          ]
        }
      ]
    },
    {
      "cell_type": "markdown",
      "metadata": {
        "id": "R8utkgyN96dY"
      },
      "source": [
        "## Results"
      ]
    },
    {
      "cell_type": "code",
      "metadata": {
        "id": "8lDh4HKJS9aL"
      },
      "source": [
        ""
      ],
      "execution_count": null,
      "outputs": []
    },
    {
      "cell_type": "markdown",
      "metadata": {
        "id": "ZGKiBwr299rv"
      },
      "source": [
        "###Testing visualization"
      ]
    },
    {
      "cell_type": "code",
      "metadata": {
        "id": "F4XKh9o1-CRo"
      },
      "source": [
        "import matplotlib.pyplot as plt\n",
        "import matplotlib.animation\n",
        "import numpy as np\n",
        "from IPython.display import HTML\n",
        "\n",
        "frames_show = frames[:300]\n",
        "\n",
        "plt.figure(figsize=(frames_show[0].shape[1] / 15.0, frames_show[0].shape[0] / 15.0), dpi = 72)\n",
        "patch = plt.imshow(frames_show[0],cmap='gray')\n",
        "plt.axis('off')\n",
        "animate = lambda i: patch.set_data(frames_show[i])\n",
        "ani = matplotlib.animation.FuncAnimation(plt.gcf(), animate, frames=len(frames_show), interval = 100)\n",
        "HTML(ani.to_jshtml())"
      ],
      "execution_count": null,
      "outputs": []
    }
  ]
}