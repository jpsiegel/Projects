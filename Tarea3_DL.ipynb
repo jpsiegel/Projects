{
  "nbformat": 4,
  "nbformat_minor": 0,
  "metadata": {
    "colab": {
      "name": "Tarea3-DL.ipynb",
      "provenance": [],
      "collapsed_sections": [],
      "authorship_tag": "ABX9TyOHRTh3zKbHrCW2v/aKJQjn",
      "include_colab_link": true
    },
    "kernelspec": {
      "name": "python3",
      "display_name": "Python 3"
    },
    "language_info": {
      "name": "python"
    },
    "accelerator": "GPU"
  },
  "cells": [
    {
      "cell_type": "markdown",
      "metadata": {
        "id": "view-in-github",
        "colab_type": "text"
      },
      "source": [
        "<a href=\"https://colab.research.google.com/github/jpsiegel/Projects/blob/master/Tarea3_DL.ipynb\" target=\"_parent\"><img src=\"https://colab.research.google.com/assets/colab-badge.svg\" alt=\"Open In Colab\"/></a>"
      ]
    },
    {
      "cell_type": "markdown",
      "metadata": {
        "id": "K0ET622QKRj9"
      },
      "source": [
        "#Tarea 3 Jan P. Siegel - Deep Learning\n"
      ]
    },
    {
      "cell_type": "markdown",
      "metadata": {
        "id": "EARkwmAr12gB"
      },
      "source": [
        "###Allocate resources"
      ]
    },
    {
      "cell_type": "code",
      "metadata": {
        "id": "yumMEzxTJ1ue",
        "colab": {
          "base_uri": "https://localhost:8080/"
        },
        "outputId": "7cca289a-eca0-4bc3-bc76-5cafc02d4099"
      },
      "source": [
        "!ln -sf /opt/bin/nvidia-smi /usr/bin/nvidia-smi\n",
        "!pip install gputil\n",
        "\n",
        "import os\n",
        "import GPUtil as GPU\n",
        "import psutil\n",
        "import humanize\n",
        "\n",
        "GPUs = GPU.getGPUs()\n",
        "gpu = GPUs[0]  # Only one GPU on Colab and not guaranteed\n",
        "\n",
        "def printm():\n",
        "  process = psutil.Process(os.getpid())\n",
        "  print(\"RAM Free: \" + humanize.naturalsize(psutil.virtual_memory().available), \" | Used: \" + humanize.naturalsize(process.memory_info().rss))\n",
        "  print(\"VRAM Free: {0:.0f}MB | Used: {1:.0f}MB | Util {2:3.0f}% Total {3:.0f}MB\".format(gpu.memoryFree, gpu.memoryUsed, gpu.memoryUtil*100, gpu.memoryTotal))\n",
        "printm()\n"
      ],
      "execution_count": 2,
      "outputs": [
        {
          "output_type": "stream",
          "text": [
            "Requirement already satisfied: gputil in /usr/local/lib/python3.7/dist-packages (1.4.0)\n",
            "RAM Free: 12.8 GB  | Used: 120.5 MB\n",
            "VRAM Free: 15109MB | Used: 0MB | Util   0% Total 15109MB\n"
          ],
          "name": "stdout"
        }
      ]
    },
    {
      "cell_type": "code",
      "metadata": {
        "colab": {
          "base_uri": "https://localhost:8080/"
        },
        "id": "bvwy3-acKNKl",
        "outputId": "1935ce49-a730-4675-b2ec-ad57c9289b53"
      },
      "source": [
        "from google.colab import drive\n",
        "drive.mount('/content/drive')\n",
        "my_dir = \"/content/drive/MyDrive/DL\""
      ],
      "execution_count": null,
      "outputs": [
        {
          "output_type": "stream",
          "text": [
            "Mounted at /content/drive\n"
          ],
          "name": "stdout"
        }
      ]
    },
    {
      "cell_type": "code",
      "metadata": {
        "colab": {
          "base_uri": "https://localhost:8080/"
        },
        "id": "IGA7PU9ejJdl",
        "outputId": "11002d38-966b-4a42-936c-0f39539d28e7"
      },
      "source": [
        "# Download Roms\n",
        "!wget http://www.atarimania.com/roms/Roms.rar > /dev/null\n",
        "# Decompresed files\n",
        "!unrar e Roms.rar > /dev/null\n",
        "!unzip 'ROMS.zip' > /dev/null\n",
        "# Add Roms folder to atary_py PATH\n",
        "!python -m atari_py.import_roms 'ROMS' > /dev/null\n",
        "# > /dev/null omits command output"
      ],
      "execution_count": 3,
      "outputs": [
        {
          "output_type": "stream",
          "text": [
            "--2021-06-24 20:38:44--  http://www.atarimania.com/roms/Roms.rar\n",
            "Resolving www.atarimania.com (www.atarimania.com)... 195.154.81.199\n",
            "Connecting to www.atarimania.com (www.atarimania.com)|195.154.81.199|:80... connected.\n",
            "HTTP request sent, awaiting response... 200 OK\n",
            "Length: 11128004 (11M) [application/x-rar-compressed]\n",
            "Saving to: ‘Roms.rar’\n",
            "\n",
            "Roms.rar            100%[===================>]  10.61M   471KB/s    in 24s     \n",
            "\n",
            "2021-06-24 20:39:08 (457 KB/s) - ‘Roms.rar’ saved [11128004/11128004]\n",
            "\n"
          ],
          "name": "stdout"
        }
      ]
    },
    {
      "cell_type": "markdown",
      "metadata": {
        "id": "GoWNXSTZ1xux"
      },
      "source": [
        "###Preprocessing\n"
      ]
    },
    {
      "cell_type": "code",
      "metadata": {
        "id": "2WMiFXZSwGgD"
      },
      "source": [
        "import gym\n",
        "from gym import spaces\n",
        "import cv2\n",
        "\n",
        "# pasar a escala de grises y recortar imagen\n",
        "def _process_frame84(frame):\n",
        "    frame = cv2.cvtColor(frame, cv2.COLOR_RGB2GRAY)\n",
        "    frame = frame[:155,10:]\n",
        "    #x_t = cv2.resize(frame, (84, 84),  interpolation=cv2.INTER_LINEAR)\n",
        "    x_t = cv2.resize(frame, (84, 84),interpolation=cv2.INTER_AREA)\n",
        "    return x_t.astype(np.uint8)\n",
        "\n",
        "class ProcessFrame84(gym.Wrapper):\n",
        "    def __init__(self, env=None):\n",
        "        super(ProcessFrame84, self).__init__(env)\n",
        "        self.observation_space = spaces.Box(low=0, high=255, shape=(84, 84))\n",
        "\n",
        "    def step(self, action):\n",
        "        obs, reward, done, info = self.env.step(action)\n",
        "        return _process_frame84(obs), reward, done, info\n",
        "\n",
        "    def reset(self):\n",
        "        return _process_frame84(self.env.reset())"
      ],
      "execution_count": 4,
      "outputs": []
    },
    {
      "cell_type": "code",
      "metadata": {
        "colab": {
          "base_uri": "https://localhost:8080/",
          "height": 595
        },
        "id": "tqI3xgULw6nj",
        "outputId": "974d6458-cc0b-4965-bee3-45dce10103f5"
      },
      "source": [
        "import numpy as np\n",
        "import matplotlib.pyplot as plt\n",
        "import random\n",
        "from gym.wrappers import AtariPreprocessing\n",
        "from gym.wrappers import FrameStack\n",
        "\n",
        "#Create environment\n",
        "game = 'Enduro-v0'\n",
        "env = gym.make(game,frameskip=4)\n",
        "\n",
        "# For reproducibility\n",
        "seed = 0\n",
        "env.seed(seed)\n",
        "\n",
        "obs = env.reset()\n",
        "\n",
        "plt.imshow(np.squeeze(obs))\n",
        "plt.title('Gym Enduro Interface')\n",
        "plt.show()\n",
        "\n",
        "env = ProcessFrame84(env) # pasamos el wrapper al enviroment\n",
        "env = FrameStack(env,num_stack=4) # un estado definido como el actual mas los 3 anteriores\n",
        "obs = env.reset()\n",
        "\n",
        "for _ in range(100):\n",
        "  action = random.randint(0,env.action_space.n-1)\n",
        "  obs, reward, done, info = env.step(action)\n",
        "\n",
        "plt.figure()\n",
        "plt.subplot(2,2,1)\n",
        "plt.imshow(np.squeeze(np.array(obs)[0,:,:]),cmap='gray')\n",
        "plt.axis('off')\n",
        "plt.subplot(2,2,2)\n",
        "plt.imshow(np.squeeze(np.array(obs)[1,:,:]),cmap='gray')\n",
        "plt.axis('off')\n",
        "plt.subplot(2,2,3)\n",
        "plt.imshow(np.squeeze(np.array(obs)[2,:,:]),cmap='gray')\n",
        "plt.axis('off')\n",
        "plt.subplot(2,2,4)\n",
        "plt.imshow(np.squeeze(np.array(obs)[3,:,:]),cmap='gray')\n",
        "plt.axis('off')\n",
        "plt.tight_layout()\n",
        "plt.show()\n",
        "\n",
        "print(\"obs shape:\", obs.shape)\n",
        "print(\"actions:\", env.get_action_meanings(), \"amount:\", env.action_space.n)"
      ],
      "execution_count": 16,
      "outputs": [
        {
          "output_type": "display_data",
          "data": {
            "image/png": "[encoded data removed]",
            "text/plain": [
              "<Figure size 432x288 with 1 Axes>"
            ]
          },
          "metadata": {
            "tags": [],
            "needs_background": "light"
          }
        },
        {
          "output_type": "display_data",
          "data": {
            "image/png": "[encoded data removed]",
            "text/plain": [
              "<Figure size 432x288 with 4 Axes>"
            ]
          },
          "metadata": {
            "tags": [],
            "needs_background": "light"
          }
        },
        {
          "output_type": "stream",
          "text": [
            "obs shape: (4, 84, 84)\n",
            "actions: ['NOOP', 'FIRE', 'RIGHT', 'LEFT', 'DOWN', 'DOWNRIGHT', 'DOWNLEFT', 'RIGHTFIRE', 'LEFTFIRE'] amount: 9\n"
          ],
          "name": "stdout"
        }
      ]
    },
    {
      "cell_type": "code",
      "metadata": {
        "id": "tke1H0jD0Xfa"
      },
      "source": [
        "class ReplayMemory(object):\n",
        "\n",
        "    def __init__(self, capacity):\n",
        "        self.capacity = capacity\n",
        "        self.memory = [] # Can be a list a Deque or another type of list\n",
        "\n",
        "    def push(self, state, action, next_state, reward, done):\n",
        "        \"\"\"Saves a transition.\n",
        "        e.g. ('state', 'action', 'next_state', 'reward','done')\n",
        "        \"\"\"\n",
        "        memory_data = (state, action, next_state, reward, done)\n",
        "        self.memory.append(memory_data)\n",
        "\n",
        "    def sample(self, batch_size):\n",
        "       \"\"\" Samples a transition with a defined batch size\"\"\"\n",
        "       return random.sample(self.memory, batch_size)\n",
        "\n",
        "    def __len__(self):\n",
        "        return len(self.memory)"
      ],
      "execution_count": 21,
      "outputs": []
    },
    {
      "cell_type": "markdown",
      "metadata": {
        "id": "_GRfqj131q9x"
      },
      "source": [
        "###Model"
      ]
    },
    {
      "cell_type": "code",
      "metadata": {
        "id": "RD0EXVo_1FMy"
      },
      "source": [
        "import torch\n",
        "import torch.nn as nn\n",
        "import numpy as np\n",
        "\n",
        "class Dueling_DQN(nn.Module):\n",
        "    def __init__(self, in_channels, num_actions):\n",
        "        super(Dueling_DQN, self).__init__()\n",
        "        self.num_actions = num_actions\n",
        "        \n",
        "        self.conv1 = nn.Conv2d(in_channels=in_channels, out_channels=32, kernel_size=8, stride=4)\n",
        "        self.conv2 = nn.Conv2d(in_channels=32, out_channels=64, kernel_size=4, stride=2)\n",
        "        self.conv3 = nn.Conv2d(in_channels=64, out_channels=64, kernel_size=3, stride=1)\n",
        "\n",
        "        self.fc1_adv = nn.Linear(in_features=7*7*64, out_features=512)\n",
        "        self.fc1_val = nn.Linear(in_features=7*7*64, out_features=512)\n",
        "\n",
        "        self.fc2_adv = nn.Linear(in_features=512, out_features=num_actions)\n",
        "        self.fc2_val = nn.Linear(in_features=512, out_features=1)\n",
        "\n",
        "        self.relu = nn.ReLU()\n",
        "\n",
        "    def forward(self, x):\n",
        "\n",
        "        # TODO: forward pass red convolucional\n",
        "        \n",
        "        # TODO: forward pass rama fully-connected para V(s)\n",
        "        \n",
        "        # TODO: forward pass rama fully-connected para A(s,a)\n",
        "        \n",
        "        # TODO: Calculo de Q(s,a) a partir de ecuacion (4)\n",
        "\n",
        "        return Q_values"
      ],
      "execution_count": 22,
      "outputs": []
    },
    {
      "cell_type": "markdown",
      "metadata": {
        "id": "i719vkMq1srh"
      },
      "source": [
        "###Training"
      ]
    },
    {
      "cell_type": "code",
      "metadata": {
        "id": "37rt28Z01owa"
      },
      "source": [
        "import torch.optim as optim\n",
        "from tqdm import tqdm\n",
        "\n",
        "device = torch.device('cuda' if torch.cuda.is_available() else 'cpu')\n",
        "\n",
        "replay_buffer_size=500_000\n",
        "batch_size = 32\n",
        "gamma = 0.99 # Discounted return\n",
        "learning_starts = 50000 # Paso en que se comienza a utilizar la red para escoger acciones (siguiendo política e-greedy)\n",
        "learning_freq = 4 # Frecuencia de pasos en que se ejecuta una propagación error (loss) en la red\n",
        "frame_history_len = 4 # Cantidad de frames de cada estado (definido en el pre-procesamiento)\n",
        "target_update_freq=10000 # Frecuencia en que se actualizan los pesos de la red target\n",
        "LR = 0.00025 # Tasa de aprendizaje\n",
        "\n",
        "in_channels = frame_history_len\n",
        "input_shape = (84,84)\n",
        "num_actions = env.action_space.n\n",
        "\n",
        "# define Q target and Q \n",
        "Q = Dueling_DQN(in_channels, num_actions).to(device)\n",
        "Q_target = Dueling_DQN(in_channels, num_actions).to(device)\n",
        "\n",
        "# Optimizador, pueden elegir entre Adam o RMSProp\n",
        "\n",
        "# Criterio de pérdida\n",
        "\n",
        "# Creamos nuestra memoria de estados\n",
        "replay_memory = ReplayMemory(replay_buffer_size)\n",
        "\n",
        "LOG_EVERY_N_STEPS = 50_000 # (Opcional) Frecuencia en la que se muestran resultados en consola\n",
        "STEPS_PER_EPOCH = 250_000 # Pasos por época\n",
        "N_EPOCHS = 20 # Número de épocas\n",
        "\n",
        "# Load checkpoint\n",
        "\n",
        "# Reseteamos nuestro ambiente para empezar el entrenamiento\n",
        "last_obs = env.reset()\n",
        "for epoch in tqdm(range(N_EPOCHS),position=0,leave=True):\n",
        "  for t in tqdm(range(STEPS_PER_EPOCH),position=0,leave=True):\n",
        "    #1. before learning starts, choose actions randomly\n",
        "    if t < learning_starts:\n",
        "      action = np.random.randint(num_actions)\n",
        "    else:\n",
        "      # epsilon greedy exploration\n",
        "      sample = random.random()\n",
        "      # la funcion exploration permite calcular el threshold para la política e-greedy\n",
        "      threshold = exploration(t) \n",
        "      if sample > threshold:\n",
        "        with torch.no_grad():\n",
        "          # Calculo de la acción con la red Q\n",
        "          pass\n",
        "      else:\n",
        "        action = np.random.randint(num_actions)\n",
        "\n",
        "    obs, reward, done, info = env.step(action)\n",
        "\n",
        "    replay_memory.push(last_obs, action, obs, reward, done)\n",
        "    if done:\n",
        "      obs = env.reset()\n",
        "      # Guardar reward acumulado del episodio\n",
        "\n",
        "    # update last_obs\n",
        "    last_obs = obs\n",
        "\n",
        "\n",
        "    ### 2. Perform experience replay and train the network.\n",
        "    if (t > learning_starts and t % learning_freq == 0):\n",
        "      obs_t, act_t, rew_t, next_obs, done_mask = replay_memory.sample(batch_size)\n",
        "          \n",
        "      # Pasar los arreglos a tensores y al device actual\n",
        "      # No olviden normalizar sus tensores de entrada\n",
        "\n",
        "      # input batches to networks\n",
        "      q_values = Q(obs_t)\n",
        "\n",
        "      # Loss calculation\n",
        "\n",
        "      # backwards pass\n",
        "      optimizer.zero_grad()\n",
        "\n",
        "      loss.backward()\n",
        "      # update\n",
        "      optimizer.step()\n",
        "\n",
        "      # Actualizar pesos de red target (cada target_update_freq actualizaciones de los parámetros de Q)\n",
        "\n",
        "    \n",
        "    if t % LOG_EVERY_N_STEPS == 0:\n",
        "      # Mostrar resultados actuales\n",
        "      # e.g. Mejor reward y promedio de ultimos 100 episodios\n",
        "      # entre otros.\n",
        "      pass\n",
        "\n",
        "    # Guardar modelo y resultados!\n",
        "    # importante si se les cierra el entrenamiento"
      ],
      "execution_count": null,
      "outputs": []
    }
  ]
}